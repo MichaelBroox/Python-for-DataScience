{
 "cells": [
  {
   "cell_type": "markdown",
   "metadata": {},
   "source": [
    "# Plotly and Cufflinks"
   ]
  },
  {
   "cell_type": "markdown",
   "metadata": {},
   "source": [
    "Plotly is a library that allows you to create interactive plots that you can use in dashboards or websites (you can save them as html files or static images).\n",
    "\n",
    "## Installation\n",
    "\n",
    "In order for this all to work, you'll need to install plotly and cufflinks to call plots directly off of a pandas dataframe. These libraries are not currently available through **conda** but are available through **pip**. Install the libraries at your command line/terminal using:\n",
    "\n",
    "    pip install plotly\n",
    "    pip install cufflinks\n",
    "\n",
    "** NOTE: Make sure you only have one installation of Python on your computer when you do this, otherwise the installation may not work. **\n",
    "\n",
    "## Imports and Set-up"
   ]
  },
  {
   "cell_type": "code",
   "execution_count": 1,
   "metadata": {},
   "outputs": [],
   "source": [
    "import pandas as pd\n",
    "import numpy as np\n",
    "%matplotlib inline"
   ]
  },
  {
   "cell_type": "code",
   "execution_count": 2,
   "metadata": {},
   "outputs": [
    {
     "name": "stdout",
     "output_type": "stream",
     "text": [
      "4.5.2\n"
     ]
    }
   ],
   "source": [
    "from plotly import __version__\n",
    "from plotly.offline import download_plotlyjs, init_notebook_mode, plot, iplot\n",
    "\n",
    "print(__version__) # requires version >= 1.9.0"
   ]
  },
  {
   "cell_type": "code",
   "execution_count": 3,
   "metadata": {},
   "outputs": [],
   "source": [
    "import cufflinks as cf"
   ]
  },
  {
   "cell_type": "code",
   "execution_count": 4,
   "metadata": {},
   "outputs": [
    {
     "data": {
      "text/html": [
       "        <script type=\"text/javascript\">\n",
       "        window.PlotlyConfig = {MathJaxConfig: 'local'};\n",
       "        if (window.MathJax) {MathJax.Hub.Config({SVG: {font: \"STIX-Web\"}});}\n",
       "        if (typeof require !== 'undefined') {\n",
       "        require.undef(\"plotly\");\n",
       "        requirejs.config({\n",
       "            paths: {\n",
       "                'plotly': ['https://cdn.plot.ly/plotly-latest.min']\n",
       "            }\n",
       "        });\n",
       "        require(['plotly'], function(Plotly) {\n",
       "            window._Plotly = Plotly;\n",
       "        });\n",
       "        }\n",
       "        </script>\n",
       "        "
      ]
     },
     "metadata": {},
     "output_type": "display_data"
    }
   ],
   "source": [
    "# For Notebooks\n",
    "init_notebook_mode(connected=True)"
   ]
  },
  {
   "cell_type": "code",
   "execution_count": 5,
   "metadata": {},
   "outputs": [
    {
     "data": {
      "text/html": [
       "        <script type=\"text/javascript\">\n",
       "        window.PlotlyConfig = {MathJaxConfig: 'local'};\n",
       "        if (window.MathJax) {MathJax.Hub.Config({SVG: {font: \"STIX-Web\"}});}\n",
       "        if (typeof require !== 'undefined') {\n",
       "        require.undef(\"plotly\");\n",
       "        requirejs.config({\n",
       "            paths: {\n",
       "                'plotly': ['https://cdn.plot.ly/plotly-latest.min']\n",
       "            }\n",
       "        });\n",
       "        require(['plotly'], function(Plotly) {\n",
       "            window._Plotly = Plotly;\n",
       "        });\n",
       "        }\n",
       "        </script>\n",
       "        "
      ]
     },
     "metadata": {},
     "output_type": "display_data"
    }
   ],
   "source": [
    "# For offline use\n",
    "cf.go_offline()"
   ]
  },
  {
   "cell_type": "markdown",
   "metadata": {},
   "source": [
    "### Fake Data"
   ]
  },
  {
   "cell_type": "code",
   "execution_count": 6,
   "metadata": {},
   "outputs": [],
   "source": [
    "df = pd.DataFrame(np.random.randn(100,4),columns='A B C D'.split())"
   ]
  },
  {
   "cell_type": "code",
   "execution_count": 7,
   "metadata": {},
   "outputs": [
    {
     "data": {
      "text/html": [
       "<div>\n",
       "<style scoped>\n",
       "    .dataframe tbody tr th:only-of-type {\n",
       "        vertical-align: middle;\n",
       "    }\n",
       "\n",
       "    .dataframe tbody tr th {\n",
       "        vertical-align: top;\n",
       "    }\n",
       "\n",
       "    .dataframe thead th {\n",
       "        text-align: right;\n",
       "    }\n",
       "</style>\n",
       "<table border=\"1\" class=\"dataframe\">\n",
       "  <thead>\n",
       "    <tr style=\"text-align: right;\">\n",
       "      <th></th>\n",
       "      <th>A</th>\n",
       "      <th>B</th>\n",
       "      <th>C</th>\n",
       "      <th>D</th>\n",
       "    </tr>\n",
       "  </thead>\n",
       "  <tbody>\n",
       "    <tr>\n",
       "      <th>0</th>\n",
       "      <td>0.815435</td>\n",
       "      <td>-0.680845</td>\n",
       "      <td>-0.198610</td>\n",
       "      <td>-0.219907</td>\n",
       "    </tr>\n",
       "    <tr>\n",
       "      <th>1</th>\n",
       "      <td>1.645262</td>\n",
       "      <td>0.608634</td>\n",
       "      <td>0.615562</td>\n",
       "      <td>-0.049690</td>\n",
       "    </tr>\n",
       "    <tr>\n",
       "      <th>2</th>\n",
       "      <td>1.453781</td>\n",
       "      <td>1.729468</td>\n",
       "      <td>1.287290</td>\n",
       "      <td>1.874692</td>\n",
       "    </tr>\n",
       "    <tr>\n",
       "      <th>3</th>\n",
       "      <td>0.101042</td>\n",
       "      <td>1.482987</td>\n",
       "      <td>1.419489</td>\n",
       "      <td>-0.834438</td>\n",
       "    </tr>\n",
       "    <tr>\n",
       "      <th>4</th>\n",
       "      <td>0.565627</td>\n",
       "      <td>1.198098</td>\n",
       "      <td>-0.985902</td>\n",
       "      <td>-2.130683</td>\n",
       "    </tr>\n",
       "  </tbody>\n",
       "</table>\n",
       "</div>"
      ],
      "text/plain": [
       "          A         B         C         D\n",
       "0  0.815435 -0.680845 -0.198610 -0.219907\n",
       "1  1.645262  0.608634  0.615562 -0.049690\n",
       "2  1.453781  1.729468  1.287290  1.874692\n",
       "3  0.101042  1.482987  1.419489 -0.834438\n",
       "4  0.565627  1.198098 -0.985902 -2.130683"
      ]
     },
     "execution_count": 7,
     "metadata": {},
     "output_type": "execute_result"
    }
   ],
   "source": [
    "df.head()"
   ]
  },
  {
   "cell_type": "code",
   "execution_count": 8,
   "metadata": {},
   "outputs": [],
   "source": [
    "df2 = pd.DataFrame({'Category':['A','B','C'],'Values':[32,43,50]})"
   ]
  },
  {
   "cell_type": "code",
   "execution_count": 9,
   "metadata": {},
   "outputs": [
    {
     "data": {
      "text/html": [
       "<div>\n",
       "<style scoped>\n",
       "    .dataframe tbody tr th:only-of-type {\n",
       "        vertical-align: middle;\n",
       "    }\n",
       "\n",
       "    .dataframe tbody tr th {\n",
       "        vertical-align: top;\n",
       "    }\n",
       "\n",
       "    .dataframe thead th {\n",
       "        text-align: right;\n",
       "    }\n",
       "</style>\n",
       "<table border=\"1\" class=\"dataframe\">\n",
       "  <thead>\n",
       "    <tr style=\"text-align: right;\">\n",
       "      <th></th>\n",
       "      <th>Category</th>\n",
       "      <th>Values</th>\n",
       "    </tr>\n",
       "  </thead>\n",
       "  <tbody>\n",
       "    <tr>\n",
       "      <th>0</th>\n",
       "      <td>A</td>\n",
       "      <td>32</td>\n",
       "    </tr>\n",
       "    <tr>\n",
       "      <th>1</th>\n",
       "      <td>B</td>\n",
       "      <td>43</td>\n",
       "    </tr>\n",
       "    <tr>\n",
       "      <th>2</th>\n",
       "      <td>C</td>\n",
       "      <td>50</td>\n",
       "    </tr>\n",
       "  </tbody>\n",
       "</table>\n",
       "</div>"
      ],
      "text/plain": [
       "  Category  Values\n",
       "0        A      32\n",
       "1        B      43\n",
       "2        C      50"
      ]
     },
     "execution_count": 9,
     "metadata": {},
     "output_type": "execute_result"
    }
   ],
   "source": [
    "df2.head()"
   ]
  },
  {
   "cell_type": "markdown",
   "metadata": {},
   "source": [
    "## Using Cufflinks and iplot()\n",
    "\n",
    "* scatter\n",
    "* bar\n",
    "* box\n",
    "* spread\n",
    "* ratio\n",
    "* heatmap\n",
    "* surface\n",
    "* histogram\n",
    "* bubble"
   ]
  },
  {
   "cell_type": "markdown",
   "metadata": {},
   "source": [
    "## Scatter"
   ]
  },
  {
   "cell_type": "code",
   "execution_count": 10,
   "metadata": {},
   "outputs": [
    {
     "data": {
      "application/vnd.plotly.v1+json": {
       "config": {
        "linkText": "Export to plot.ly",
        "plotlyServerURL": "https://plot.ly",
        "showLink": true
       },
       "data": [
        {
         "line": {
          "color": "rgba(255, 153, 51, 1.0)",
          "dash": "solid",
          "shape": "linear",
          "width": 1.3
         },
         "marker": {
          "size": 10,
          "symbol": "circle"
         },
         "mode": "markers",
         "name": "B",
         "text": "",
         "type": "scatter",
         "x": [
          0.8154349543945048,
          1.6452615952148095,
          1.4537812287057956,
          0.10104178737084112,
          0.5656271670462576,
          -0.25532938206558614,
          -0.4325104653515167,
          1.410127965092189,
          1.1470488251728317,
          0.657072548948607,
          0.03982381590751122,
          -0.21945492705686911,
          -0.42813566220156773,
          0.06912887060307056,
          0.48019535501818067,
          0.7335677864552974,
          1.0413248888755484,
          -0.5834104170250821,
          1.4848271676888816,
          0.7826869752115855,
          -0.39749806587397724,
          -0.4027652996072739,
          0.11747667683869219,
          1.238907705657658,
          1.0712834977929915,
          -1.7600443375466999,
          -1.3937101578182822,
          -1.3249680614763732,
          -1.0077691729223197,
          -0.7584747658795038,
          0.5724593892766379,
          1.5492788163962405,
          -1.0910998243990073,
          1.4290362767631684,
          -3.01125804668789,
          -0.2356489680791908,
          -0.3116139523330637,
          -0.9183548126980127,
          0.7923927375118476,
          -1.5804414859407747,
          0.7733345351849514,
          -1.6465243274195123,
          0.27138733583592134,
          -0.19599767388768868,
          0.08106265270112785,
          0.06469965591392358,
          -0.43539719559085543,
          1.5156592705706176,
          0.38031968497822216,
          -1.5324652462793011,
          -1.3962548417854277,
          -1.4663549169819599,
          1.9896722879077047,
          -0.7717337568947867,
          -1.13236110225189,
          -1.983359999513528,
          1.2842340509586827,
          -2.0291627701880537,
          -0.48903035521972266,
          -0.5663571786022973,
          -1.4787610440318093,
          -1.3673892416503333,
          0.27523611036305795,
          0.3501442071324475,
          1.235531610348585,
          0.1314814665497779,
          0.07079226273988824,
          0.6346690086353665,
          1.6029044452742762,
          0.7958708765295324,
          -0.25947577521444265,
          0.5375822712081678,
          0.2677775263639807,
          1.2943918451644172,
          -1.6438371037085036,
          0.37032225334665586,
          0.6780896656500484,
          -1.1068649644088242,
          0.4849669680836155,
          -0.7702270297591995,
          -0.1956237096802853,
          -0.409540567007104,
          0.9543777747548079,
          0.0715623984057711,
          0.4120689159764619,
          -0.9477583953020565,
          -1.2988864592853377,
          2.134583178546349,
          0.6607329716768912,
          0.5860135769330493,
          -0.30059906687024285,
          0.10162323095318798,
          0.8690560540307614,
          -1.469999613146916,
          -0.8016006773462353,
          0.7391997728218646,
          -0.29700677585812657,
          0.3977489712256264,
          1.308580860583779,
          0.8677685903326755
         ],
         "y": [
          -0.6808447835617709,
          0.6086340681502943,
          1.7294677222632684,
          1.4829871712031955,
          1.1980976114694604,
          1.0795709221769332,
          -2.047286648226565,
          -1.515872438409646,
          0.11471042412393548,
          0.019125214933381172,
          -0.29828557402151373,
          0.6678947909266109,
          0.5106155584983674,
          0.7647578163776658,
          1.8476202168111207,
          1.565461666184497,
          0.2644348097255944,
          -0.15408202979369123,
          -2.618397980162209,
          1.1561649742011062,
          -0.10410162246810392,
          -1.1033110243512538,
          -0.27424587213996177,
          0.08080606289820692,
          -1.0284610964640115,
          1.150848640078469,
          -0.25638096017062206,
          -1.3452740294819456,
          -0.8726175451755096,
          -0.2579052619972397,
          -0.7474841473560414,
          0.8216094650234528,
          -0.4691579203738452,
          -1.0209429509692105,
          -0.40491326209742795,
          1.2208179000282928,
          0.5494620131503947,
          -0.7068872181482015,
          -0.3339529855897427,
          -0.35773835515151436,
          0.30747456293859887,
          -1.7462557392925255,
          -2.3433306042719826,
          -0.5574714680621268,
          0.7125922057087234,
          0.709555785308249,
          1.5876508083553502,
          -1.0557115951468214,
          0.42056797157878995,
          -1.6991616216509176,
          0.7039003209473632,
          0.14454012533595098,
          1.352757377147084,
          -0.6035879623453446,
          0.7274800691249542,
          -0.8983221928954063,
          0.7011998235137612,
          -1.0469207731767092,
          -0.21650716957079683,
          -0.2288275245869777,
          0.9993381258043659,
          -1.2311548841515694,
          -0.5274804076228069,
          -0.6877047486831002,
          0.20934430042105764,
          1.2564779849253123,
          0.3294673953075221,
          1.255900250776616,
          -0.5193008892325174,
          -0.06741165979455997,
          -1.0834021867660262,
          1.1335311403921011,
          0.7801861037662863,
          -0.2996263227805359,
          0.7451519159275286,
          -0.8027114457470523,
          1.2942954747888622,
          -0.2632261742274699,
          1.5242870545704912,
          -0.9063535187405944,
          0.07134433670959506,
          -0.4579896341837586,
          0.7652378935287566,
          -1.3013707444167233,
          0.9578139607872342,
          -0.43515395155639264,
          0.44700821446023037,
          0.3154919434012009,
          -1.3843643663770469,
          -0.3963047121461804,
          -1.1195850187543466,
          -0.6162495255049156,
          -0.16047808659235244,
          -0.35823082603392176,
          -2.83004813388019,
          0.39142399755480306,
          0.744533277886588,
          1.4980898982513313,
          -0.619242852250382,
          -0.4117319533653246
         ]
        }
       ],
       "layout": {
        "legend": {
         "bgcolor": "#F5F6F9",
         "font": {
          "color": "#4D5663"
         }
        },
        "paper_bgcolor": "#F5F6F9",
        "plot_bgcolor": "#F5F6F9",
        "template": {
         "data": {
          "bar": [
           {
            "error_x": {
             "color": "#2a3f5f"
            },
            "error_y": {
             "color": "#2a3f5f"
            },
            "marker": {
             "line": {
              "color": "#E5ECF6",
              "width": 0.5
             }
            },
            "type": "bar"
           }
          ],
          "barpolar": [
           {
            "marker": {
             "line": {
              "color": "#E5ECF6",
              "width": 0.5
             }
            },
            "type": "barpolar"
           }
          ],
          "carpet": [
           {
            "aaxis": {
             "endlinecolor": "#2a3f5f",
             "gridcolor": "white",
             "linecolor": "white",
             "minorgridcolor": "white",
             "startlinecolor": "#2a3f5f"
            },
            "baxis": {
             "endlinecolor": "#2a3f5f",
             "gridcolor": "white",
             "linecolor": "white",
             "minorgridcolor": "white",
             "startlinecolor": "#2a3f5f"
            },
            "type": "carpet"
           }
          ],
          "choropleth": [
           {
            "colorbar": {
             "outlinewidth": 0,
             "ticks": ""
            },
            "type": "choropleth"
           }
          ],
          "contour": [
           {
            "colorbar": {
             "outlinewidth": 0,
             "ticks": ""
            },
            "colorscale": [
             [
              0,
              "#0d0887"
             ],
             [
              0.1111111111111111,
              "#46039f"
             ],
             [
              0.2222222222222222,
              "#7201a8"
             ],
             [
              0.3333333333333333,
              "#9c179e"
             ],
             [
              0.4444444444444444,
              "#bd3786"
             ],
             [
              0.5555555555555556,
              "#d8576b"
             ],
             [
              0.6666666666666666,
              "#ed7953"
             ],
             [
              0.7777777777777778,
              "#fb9f3a"
             ],
             [
              0.8888888888888888,
              "#fdca26"
             ],
             [
              1,
              "#f0f921"
             ]
            ],
            "type": "contour"
           }
          ],
          "contourcarpet": [
           {
            "colorbar": {
             "outlinewidth": 0,
             "ticks": ""
            },
            "type": "contourcarpet"
           }
          ],
          "heatmap": [
           {
            "colorbar": {
             "outlinewidth": 0,
             "ticks": ""
            },
            "colorscale": [
             [
              0,
              "#0d0887"
             ],
             [
              0.1111111111111111,
              "#46039f"
             ],
             [
              0.2222222222222222,
              "#7201a8"
             ],
             [
              0.3333333333333333,
              "#9c179e"
             ],
             [
              0.4444444444444444,
              "#bd3786"
             ],
             [
              0.5555555555555556,
              "#d8576b"
             ],
             [
              0.6666666666666666,
              "#ed7953"
             ],
             [
              0.7777777777777778,
              "#fb9f3a"
             ],
             [
              0.8888888888888888,
              "#fdca26"
             ],
             [
              1,
              "#f0f921"
             ]
            ],
            "type": "heatmap"
           }
          ],
          "heatmapgl": [
           {
            "colorbar": {
             "outlinewidth": 0,
             "ticks": ""
            },
            "colorscale": [
             [
              0,
              "#0d0887"
             ],
             [
              0.1111111111111111,
              "#46039f"
             ],
             [
              0.2222222222222222,
              "#7201a8"
             ],
             [
              0.3333333333333333,
              "#9c179e"
             ],
             [
              0.4444444444444444,
              "#bd3786"
             ],
             [
              0.5555555555555556,
              "#d8576b"
             ],
             [
              0.6666666666666666,
              "#ed7953"
             ],
             [
              0.7777777777777778,
              "#fb9f3a"
             ],
             [
              0.8888888888888888,
              "#fdca26"
             ],
             [
              1,
              "#f0f921"
             ]
            ],
            "type": "heatmapgl"
           }
          ],
          "histogram": [
           {
            "marker": {
             "colorbar": {
              "outlinewidth": 0,
              "ticks": ""
             }
            },
            "type": "histogram"
           }
          ],
          "histogram2d": [
           {
            "colorbar": {
             "outlinewidth": 0,
             "ticks": ""
            },
            "colorscale": [
             [
              0,
              "#0d0887"
             ],
             [
              0.1111111111111111,
              "#46039f"
             ],
             [
              0.2222222222222222,
              "#7201a8"
             ],
             [
              0.3333333333333333,
              "#9c179e"
             ],
             [
              0.4444444444444444,
              "#bd3786"
             ],
             [
              0.5555555555555556,
              "#d8576b"
             ],
             [
              0.6666666666666666,
              "#ed7953"
             ],
             [
              0.7777777777777778,
              "#fb9f3a"
             ],
             [
              0.8888888888888888,
              "#fdca26"
             ],
             [
              1,
              "#f0f921"
             ]
            ],
            "type": "histogram2d"
           }
          ],
          "histogram2dcontour": [
           {
            "colorbar": {
             "outlinewidth": 0,
             "ticks": ""
            },
            "colorscale": [
             [
              0,
              "#0d0887"
             ],
             [
              0.1111111111111111,
              "#46039f"
             ],
             [
              0.2222222222222222,
              "#7201a8"
             ],
             [
              0.3333333333333333,
              "#9c179e"
             ],
             [
              0.4444444444444444,
              "#bd3786"
             ],
             [
              0.5555555555555556,
              "#d8576b"
             ],
             [
              0.6666666666666666,
              "#ed7953"
             ],
             [
              0.7777777777777778,
              "#fb9f3a"
             ],
             [
              0.8888888888888888,
              "#fdca26"
             ],
             [
              1,
              "#f0f921"
             ]
            ],
            "type": "histogram2dcontour"
           }
          ],
          "mesh3d": [
           {
            "colorbar": {
             "outlinewidth": 0,
             "ticks": ""
            },
            "type": "mesh3d"
           }
          ],
          "parcoords": [
           {
            "line": {
             "colorbar": {
              "outlinewidth": 0,
              "ticks": ""
             }
            },
            "type": "parcoords"
           }
          ],
          "pie": [
           {
            "automargin": true,
            "type": "pie"
           }
          ],
          "scatter": [
           {
            "marker": {
             "colorbar": {
              "outlinewidth": 0,
              "ticks": ""
             }
            },
            "type": "scatter"
           }
          ],
          "scatter3d": [
           {
            "line": {
             "colorbar": {
              "outlinewidth": 0,
              "ticks": ""
             }
            },
            "marker": {
             "colorbar": {
              "outlinewidth": 0,
              "ticks": ""
             }
            },
            "type": "scatter3d"
           }
          ],
          "scattercarpet": [
           {
            "marker": {
             "colorbar": {
              "outlinewidth": 0,
              "ticks": ""
             }
            },
            "type": "scattercarpet"
           }
          ],
          "scattergeo": [
           {
            "marker": {
             "colorbar": {
              "outlinewidth": 0,
              "ticks": ""
             }
            },
            "type": "scattergeo"
           }
          ],
          "scattergl": [
           {
            "marker": {
             "colorbar": {
              "outlinewidth": 0,
              "ticks": ""
             }
            },
            "type": "scattergl"
           }
          ],
          "scattermapbox": [
           {
            "marker": {
             "colorbar": {
              "outlinewidth": 0,
              "ticks": ""
             }
            },
            "type": "scattermapbox"
           }
          ],
          "scatterpolar": [
           {
            "marker": {
             "colorbar": {
              "outlinewidth": 0,
              "ticks": ""
             }
            },
            "type": "scatterpolar"
           }
          ],
          "scatterpolargl": [
           {
            "marker": {
             "colorbar": {
              "outlinewidth": 0,
              "ticks": ""
             }
            },
            "type": "scatterpolargl"
           }
          ],
          "scatterternary": [
           {
            "marker": {
             "colorbar": {
              "outlinewidth": 0,
              "ticks": ""
             }
            },
            "type": "scatterternary"
           }
          ],
          "surface": [
           {
            "colorbar": {
             "outlinewidth": 0,
             "ticks": ""
            },
            "colorscale": [
             [
              0,
              "#0d0887"
             ],
             [
              0.1111111111111111,
              "#46039f"
             ],
             [
              0.2222222222222222,
              "#7201a8"
             ],
             [
              0.3333333333333333,
              "#9c179e"
             ],
             [
              0.4444444444444444,
              "#bd3786"
             ],
             [
              0.5555555555555556,
              "#d8576b"
             ],
             [
              0.6666666666666666,
              "#ed7953"
             ],
             [
              0.7777777777777778,
              "#fb9f3a"
             ],
             [
              0.8888888888888888,
              "#fdca26"
             ],
             [
              1,
              "#f0f921"
             ]
            ],
            "type": "surface"
           }
          ],
          "table": [
           {
            "cells": {
             "fill": {
              "color": "#EBF0F8"
             },
             "line": {
              "color": "white"
             }
            },
            "header": {
             "fill": {
              "color": "#C8D4E3"
             },
             "line": {
              "color": "white"
             }
            },
            "type": "table"
           }
          ]
         },
         "layout": {
          "annotationdefaults": {
           "arrowcolor": "#2a3f5f",
           "arrowhead": 0,
           "arrowwidth": 1
          },
          "coloraxis": {
           "colorbar": {
            "outlinewidth": 0,
            "ticks": ""
           }
          },
          "colorscale": {
           "diverging": [
            [
             0,
             "#8e0152"
            ],
            [
             0.1,
             "#c51b7d"
            ],
            [
             0.2,
             "#de77ae"
            ],
            [
             0.3,
             "#f1b6da"
            ],
            [
             0.4,
             "#fde0ef"
            ],
            [
             0.5,
             "#f7f7f7"
            ],
            [
             0.6,
             "#e6f5d0"
            ],
            [
             0.7,
             "#b8e186"
            ],
            [
             0.8,
             "#7fbc41"
            ],
            [
             0.9,
             "#4d9221"
            ],
            [
             1,
             "#276419"
            ]
           ],
           "sequential": [
            [
             0,
             "#0d0887"
            ],
            [
             0.1111111111111111,
             "#46039f"
            ],
            [
             0.2222222222222222,
             "#7201a8"
            ],
            [
             0.3333333333333333,
             "#9c179e"
            ],
            [
             0.4444444444444444,
             "#bd3786"
            ],
            [
             0.5555555555555556,
             "#d8576b"
            ],
            [
             0.6666666666666666,
             "#ed7953"
            ],
            [
             0.7777777777777778,
             "#fb9f3a"
            ],
            [
             0.8888888888888888,
             "#fdca26"
            ],
            [
             1,
             "#f0f921"
            ]
           ],
           "sequentialminus": [
            [
             0,
             "#0d0887"
            ],
            [
             0.1111111111111111,
             "#46039f"
            ],
            [
             0.2222222222222222,
             "#7201a8"
            ],
            [
             0.3333333333333333,
             "#9c179e"
            ],
            [
             0.4444444444444444,
             "#bd3786"
            ],
            [
             0.5555555555555556,
             "#d8576b"
            ],
            [
             0.6666666666666666,
             "#ed7953"
            ],
            [
             0.7777777777777778,
             "#fb9f3a"
            ],
            [
             0.8888888888888888,
             "#fdca26"
            ],
            [
             1,
             "#f0f921"
            ]
           ]
          },
          "colorway": [
           "#636efa",
           "#EF553B",
           "#00cc96",
           "#ab63fa",
           "#FFA15A",
           "#19d3f3",
           "#FF6692",
           "#B6E880",
           "#FF97FF",
           "#FECB52"
          ],
          "font": {
           "color": "#2a3f5f"
          },
          "geo": {
           "bgcolor": "white",
           "lakecolor": "white",
           "landcolor": "#E5ECF6",
           "showlakes": true,
           "showland": true,
           "subunitcolor": "white"
          },
          "hoverlabel": {
           "align": "left"
          },
          "hovermode": "closest",
          "mapbox": {
           "style": "light"
          },
          "paper_bgcolor": "white",
          "plot_bgcolor": "#E5ECF6",
          "polar": {
           "angularaxis": {
            "gridcolor": "white",
            "linecolor": "white",
            "ticks": ""
           },
           "bgcolor": "#E5ECF6",
           "radialaxis": {
            "gridcolor": "white",
            "linecolor": "white",
            "ticks": ""
           }
          },
          "scene": {
           "xaxis": {
            "backgroundcolor": "#E5ECF6",
            "gridcolor": "white",
            "gridwidth": 2,
            "linecolor": "white",
            "showbackground": true,
            "ticks": "",
            "zerolinecolor": "white"
           },
           "yaxis": {
            "backgroundcolor": "#E5ECF6",
            "gridcolor": "white",
            "gridwidth": 2,
            "linecolor": "white",
            "showbackground": true,
            "ticks": "",
            "zerolinecolor": "white"
           },
           "zaxis": {
            "backgroundcolor": "#E5ECF6",
            "gridcolor": "white",
            "gridwidth": 2,
            "linecolor": "white",
            "showbackground": true,
            "ticks": "",
            "zerolinecolor": "white"
           }
          },
          "shapedefaults": {
           "line": {
            "color": "#2a3f5f"
           }
          },
          "ternary": {
           "aaxis": {
            "gridcolor": "white",
            "linecolor": "white",
            "ticks": ""
           },
           "baxis": {
            "gridcolor": "white",
            "linecolor": "white",
            "ticks": ""
           },
           "bgcolor": "#E5ECF6",
           "caxis": {
            "gridcolor": "white",
            "linecolor": "white",
            "ticks": ""
           }
          },
          "title": {
           "x": 0.05
          },
          "xaxis": {
           "automargin": true,
           "gridcolor": "white",
           "linecolor": "white",
           "ticks": "",
           "title": {
            "standoff": 15
           },
           "zerolinecolor": "white",
           "zerolinewidth": 2
          },
          "yaxis": {
           "automargin": true,
           "gridcolor": "white",
           "linecolor": "white",
           "ticks": "",
           "title": {
            "standoff": 15
           },
           "zerolinecolor": "white",
           "zerolinewidth": 2
          }
         }
        },
        "title": {
         "font": {
          "color": "#4D5663"
         }
        },
        "xaxis": {
         "gridcolor": "#E1E5ED",
         "showgrid": true,
         "tickfont": {
          "color": "#4D5663"
         },
         "title": {
          "font": {
           "color": "#4D5663"
          },
          "text": ""
         },
         "zerolinecolor": "#E1E5ED"
        },
        "yaxis": {
         "gridcolor": "#E1E5ED",
         "showgrid": true,
         "tickfont": {
          "color": "#4D5663"
         },
         "title": {
          "font": {
           "color": "#4D5663"
          },
          "text": ""
         },
         "zerolinecolor": "#E1E5ED"
        }
       }
      },
      "text/html": [
       "<div>\n",
       "        \n",
       "        \n",
       "            <div id=\"a22e629a-224c-453f-ab17-69cfdbac9cc3\" class=\"plotly-graph-div\" style=\"height:525px; width:100%;\"></div>\n",
       "            <script type=\"text/javascript\">\n",
       "                require([\"plotly\"], function(Plotly) {\n",
       "                    window.PLOTLYENV=window.PLOTLYENV || {};\n",
       "                    window.PLOTLYENV.BASE_URL='https://plot.ly';\n",
       "                    \n",
       "                if (document.getElementById(\"a22e629a-224c-453f-ab17-69cfdbac9cc3\")) {\n",
       "                    Plotly.newPlot(\n",
       "                        'a22e629a-224c-453f-ab17-69cfdbac9cc3',\n",
       "                        [{\"line\": {\"color\": \"rgba(255, 153, 51, 1.0)\", \"dash\": \"solid\", \"shape\": \"linear\", \"width\": 1.3}, \"marker\": {\"size\": 10, \"symbol\": \"circle\"}, \"mode\": \"markers\", \"name\": \"B\", \"text\": \"\", \"type\": \"scatter\", \"x\": [0.8154349543945048, 1.6452615952148095, 1.4537812287057956, 0.10104178737084112, 0.5656271670462576, -0.25532938206558614, -0.4325104653515167, 1.410127965092189, 1.1470488251728317, 0.657072548948607, 0.03982381590751122, -0.21945492705686911, -0.42813566220156773, 0.06912887060307056, 0.48019535501818067, 0.7335677864552974, 1.0413248888755484, -0.5834104170250821, 1.4848271676888816, 0.7826869752115855, -0.39749806587397724, -0.4027652996072739, 0.11747667683869219, 1.238907705657658, 1.0712834977929915, -1.7600443375466999, -1.3937101578182822, -1.3249680614763732, -1.0077691729223197, -0.7584747658795038, 0.5724593892766379, 1.5492788163962405, -1.0910998243990073, 1.4290362767631684, -3.01125804668789, -0.2356489680791908, -0.3116139523330637, -0.9183548126980127, 0.7923927375118476, -1.5804414859407747, 0.7733345351849514, -1.6465243274195123, 0.27138733583592134, -0.19599767388768868, 0.08106265270112785, 0.06469965591392358, -0.43539719559085543, 1.5156592705706176, 0.38031968497822216, -1.5324652462793011, -1.3962548417854277, -1.4663549169819599, 1.9896722879077047, -0.7717337568947867, -1.13236110225189, -1.983359999513528, 1.2842340509586827, -2.0291627701880537, -0.48903035521972266, -0.5663571786022973, -1.4787610440318093, -1.3673892416503333, 0.27523611036305795, 0.3501442071324475, 1.235531610348585, 0.1314814665497779, 0.07079226273988824, 0.6346690086353665, 1.6029044452742762, 0.7958708765295324, -0.25947577521444265, 0.5375822712081678, 0.2677775263639807, 1.2943918451644172, -1.6438371037085036, 0.37032225334665586, 0.6780896656500484, -1.1068649644088242, 0.4849669680836155, -0.7702270297591995, -0.1956237096802853, -0.409540567007104, 0.9543777747548079, 0.0715623984057711, 0.4120689159764619, -0.9477583953020565, -1.2988864592853377, 2.134583178546349, 0.6607329716768912, 0.5860135769330493, -0.30059906687024285, 0.10162323095318798, 0.8690560540307614, -1.469999613146916, -0.8016006773462353, 0.7391997728218646, -0.29700677585812657, 0.3977489712256264, 1.308580860583779, 0.8677685903326755], \"y\": [-0.6808447835617709, 0.6086340681502943, 1.7294677222632684, 1.4829871712031955, 1.1980976114694604, 1.0795709221769332, -2.047286648226565, -1.515872438409646, 0.11471042412393548, 0.019125214933381172, -0.29828557402151373, 0.6678947909266109, 0.5106155584983674, 0.7647578163776658, 1.8476202168111207, 1.565461666184497, 0.2644348097255944, -0.15408202979369123, -2.618397980162209, 1.1561649742011062, -0.10410162246810392, -1.1033110243512538, -0.27424587213996177, 0.08080606289820692, -1.0284610964640115, 1.150848640078469, -0.25638096017062206, -1.3452740294819456, -0.8726175451755096, -0.2579052619972397, -0.7474841473560414, 0.8216094650234528, -0.4691579203738452, -1.0209429509692105, -0.40491326209742795, 1.2208179000282928, 0.5494620131503947, -0.7068872181482015, -0.3339529855897427, -0.35773835515151436, 0.30747456293859887, -1.7462557392925255, -2.3433306042719826, -0.5574714680621268, 0.7125922057087234, 0.709555785308249, 1.5876508083553502, -1.0557115951468214, 0.42056797157878995, -1.6991616216509176, 0.7039003209473632, 0.14454012533595098, 1.352757377147084, -0.6035879623453446, 0.7274800691249542, -0.8983221928954063, 0.7011998235137612, -1.0469207731767092, -0.21650716957079683, -0.2288275245869777, 0.9993381258043659, -1.2311548841515694, -0.5274804076228069, -0.6877047486831002, 0.20934430042105764, 1.2564779849253123, 0.3294673953075221, 1.255900250776616, -0.5193008892325174, -0.06741165979455997, -1.0834021867660262, 1.1335311403921011, 0.7801861037662863, -0.2996263227805359, 0.7451519159275286, -0.8027114457470523, 1.2942954747888622, -0.2632261742274699, 1.5242870545704912, -0.9063535187405944, 0.07134433670959506, -0.4579896341837586, 0.7652378935287566, -1.3013707444167233, 0.9578139607872342, -0.43515395155639264, 0.44700821446023037, 0.3154919434012009, -1.3843643663770469, -0.3963047121461804, -1.1195850187543466, -0.6162495255049156, -0.16047808659235244, -0.35823082603392176, -2.83004813388019, 0.39142399755480306, 0.744533277886588, 1.4980898982513313, -0.619242852250382, -0.4117319533653246]}],\n",
       "                        {\"legend\": {\"bgcolor\": \"#F5F6F9\", \"font\": {\"color\": \"#4D5663\"}}, \"paper_bgcolor\": \"#F5F6F9\", \"plot_bgcolor\": \"#F5F6F9\", \"template\": {\"data\": {\"bar\": [{\"error_x\": {\"color\": \"#2a3f5f\"}, \"error_y\": {\"color\": \"#2a3f5f\"}, \"marker\": {\"line\": {\"color\": \"#E5ECF6\", \"width\": 0.5}}, \"type\": \"bar\"}], \"barpolar\": [{\"marker\": {\"line\": {\"color\": \"#E5ECF6\", \"width\": 0.5}}, \"type\": \"barpolar\"}], \"carpet\": [{\"aaxis\": {\"endlinecolor\": \"#2a3f5f\", \"gridcolor\": \"white\", \"linecolor\": \"white\", \"minorgridcolor\": \"white\", \"startlinecolor\": \"#2a3f5f\"}, \"baxis\": {\"endlinecolor\": \"#2a3f5f\", \"gridcolor\": \"white\", \"linecolor\": \"white\", \"minorgridcolor\": \"white\", \"startlinecolor\": \"#2a3f5f\"}, \"type\": \"carpet\"}], \"choropleth\": [{\"colorbar\": {\"outlinewidth\": 0, \"ticks\": \"\"}, \"type\": \"choropleth\"}], \"contour\": [{\"colorbar\": {\"outlinewidth\": 0, \"ticks\": \"\"}, \"colorscale\": [[0.0, \"#0d0887\"], [0.1111111111111111, \"#46039f\"], [0.2222222222222222, \"#7201a8\"], [0.3333333333333333, \"#9c179e\"], [0.4444444444444444, \"#bd3786\"], [0.5555555555555556, \"#d8576b\"], [0.6666666666666666, \"#ed7953\"], [0.7777777777777778, \"#fb9f3a\"], [0.8888888888888888, \"#fdca26\"], [1.0, \"#f0f921\"]], \"type\": \"contour\"}], \"contourcarpet\": [{\"colorbar\": {\"outlinewidth\": 0, \"ticks\": \"\"}, \"type\": \"contourcarpet\"}], \"heatmap\": [{\"colorbar\": {\"outlinewidth\": 0, \"ticks\": \"\"}, \"colorscale\": [[0.0, \"#0d0887\"], [0.1111111111111111, \"#46039f\"], [0.2222222222222222, \"#7201a8\"], [0.3333333333333333, \"#9c179e\"], [0.4444444444444444, \"#bd3786\"], [0.5555555555555556, \"#d8576b\"], [0.6666666666666666, \"#ed7953\"], [0.7777777777777778, \"#fb9f3a\"], [0.8888888888888888, \"#fdca26\"], [1.0, \"#f0f921\"]], \"type\": \"heatmap\"}], \"heatmapgl\": [{\"colorbar\": {\"outlinewidth\": 0, \"ticks\": \"\"}, \"colorscale\": [[0.0, \"#0d0887\"], [0.1111111111111111, \"#46039f\"], [0.2222222222222222, \"#7201a8\"], [0.3333333333333333, \"#9c179e\"], [0.4444444444444444, \"#bd3786\"], [0.5555555555555556, \"#d8576b\"], [0.6666666666666666, \"#ed7953\"], [0.7777777777777778, \"#fb9f3a\"], [0.8888888888888888, \"#fdca26\"], [1.0, \"#f0f921\"]], \"type\": \"heatmapgl\"}], \"histogram\": [{\"marker\": {\"colorbar\": {\"outlinewidth\": 0, \"ticks\": \"\"}}, \"type\": \"histogram\"}], \"histogram2d\": [{\"colorbar\": {\"outlinewidth\": 0, \"ticks\": \"\"}, \"colorscale\": [[0.0, \"#0d0887\"], [0.1111111111111111, \"#46039f\"], [0.2222222222222222, \"#7201a8\"], [0.3333333333333333, \"#9c179e\"], [0.4444444444444444, \"#bd3786\"], [0.5555555555555556, \"#d8576b\"], [0.6666666666666666, \"#ed7953\"], [0.7777777777777778, \"#fb9f3a\"], [0.8888888888888888, \"#fdca26\"], [1.0, \"#f0f921\"]], \"type\": \"histogram2d\"}], \"histogram2dcontour\": [{\"colorbar\": {\"outlinewidth\": 0, \"ticks\": \"\"}, \"colorscale\": [[0.0, \"#0d0887\"], [0.1111111111111111, \"#46039f\"], [0.2222222222222222, \"#7201a8\"], [0.3333333333333333, \"#9c179e\"], [0.4444444444444444, \"#bd3786\"], [0.5555555555555556, \"#d8576b\"], [0.6666666666666666, \"#ed7953\"], [0.7777777777777778, \"#fb9f3a\"], [0.8888888888888888, \"#fdca26\"], [1.0, \"#f0f921\"]], \"type\": \"histogram2dcontour\"}], \"mesh3d\": [{\"colorbar\": {\"outlinewidth\": 0, \"ticks\": \"\"}, \"type\": \"mesh3d\"}], \"parcoords\": [{\"line\": {\"colorbar\": {\"outlinewidth\": 0, \"ticks\": \"\"}}, \"type\": \"parcoords\"}], \"pie\": [{\"automargin\": true, \"type\": \"pie\"}], \"scatter\": [{\"marker\": {\"colorbar\": {\"outlinewidth\": 0, \"ticks\": \"\"}}, \"type\": \"scatter\"}], \"scatter3d\": [{\"line\": {\"colorbar\": {\"outlinewidth\": 0, \"ticks\": \"\"}}, \"marker\": {\"colorbar\": {\"outlinewidth\": 0, \"ticks\": \"\"}}, \"type\": \"scatter3d\"}], \"scattercarpet\": [{\"marker\": {\"colorbar\": {\"outlinewidth\": 0, \"ticks\": \"\"}}, \"type\": \"scattercarpet\"}], \"scattergeo\": [{\"marker\": {\"colorbar\": {\"outlinewidth\": 0, \"ticks\": \"\"}}, \"type\": \"scattergeo\"}], \"scattergl\": [{\"marker\": {\"colorbar\": {\"outlinewidth\": 0, \"ticks\": \"\"}}, \"type\": \"scattergl\"}], \"scattermapbox\": [{\"marker\": {\"colorbar\": {\"outlinewidth\": 0, \"ticks\": \"\"}}, \"type\": \"scattermapbox\"}], \"scatterpolar\": [{\"marker\": {\"colorbar\": {\"outlinewidth\": 0, \"ticks\": \"\"}}, \"type\": \"scatterpolar\"}], \"scatterpolargl\": [{\"marker\": {\"colorbar\": {\"outlinewidth\": 0, \"ticks\": \"\"}}, \"type\": \"scatterpolargl\"}], \"scatterternary\": [{\"marker\": {\"colorbar\": {\"outlinewidth\": 0, \"ticks\": \"\"}}, \"type\": \"scatterternary\"}], \"surface\": [{\"colorbar\": {\"outlinewidth\": 0, \"ticks\": \"\"}, \"colorscale\": [[0.0, \"#0d0887\"], [0.1111111111111111, \"#46039f\"], [0.2222222222222222, \"#7201a8\"], [0.3333333333333333, \"#9c179e\"], [0.4444444444444444, \"#bd3786\"], [0.5555555555555556, \"#d8576b\"], [0.6666666666666666, \"#ed7953\"], [0.7777777777777778, \"#fb9f3a\"], [0.8888888888888888, \"#fdca26\"], [1.0, \"#f0f921\"]], \"type\": \"surface\"}], \"table\": [{\"cells\": {\"fill\": {\"color\": \"#EBF0F8\"}, \"line\": {\"color\": \"white\"}}, \"header\": {\"fill\": {\"color\": \"#C8D4E3\"}, \"line\": {\"color\": \"white\"}}, \"type\": \"table\"}]}, \"layout\": {\"annotationdefaults\": {\"arrowcolor\": \"#2a3f5f\", \"arrowhead\": 0, \"arrowwidth\": 1}, \"coloraxis\": {\"colorbar\": {\"outlinewidth\": 0, \"ticks\": \"\"}}, \"colorscale\": {\"diverging\": [[0, \"#8e0152\"], [0.1, \"#c51b7d\"], [0.2, \"#de77ae\"], [0.3, \"#f1b6da\"], [0.4, \"#fde0ef\"], [0.5, \"#f7f7f7\"], [0.6, \"#e6f5d0\"], [0.7, \"#b8e186\"], [0.8, \"#7fbc41\"], [0.9, \"#4d9221\"], [1, \"#276419\"]], \"sequential\": [[0.0, \"#0d0887\"], [0.1111111111111111, \"#46039f\"], [0.2222222222222222, \"#7201a8\"], [0.3333333333333333, \"#9c179e\"], [0.4444444444444444, \"#bd3786\"], [0.5555555555555556, \"#d8576b\"], [0.6666666666666666, \"#ed7953\"], [0.7777777777777778, \"#fb9f3a\"], [0.8888888888888888, \"#fdca26\"], [1.0, \"#f0f921\"]], \"sequentialminus\": [[0.0, \"#0d0887\"], [0.1111111111111111, \"#46039f\"], [0.2222222222222222, \"#7201a8\"], [0.3333333333333333, \"#9c179e\"], [0.4444444444444444, \"#bd3786\"], [0.5555555555555556, \"#d8576b\"], [0.6666666666666666, \"#ed7953\"], [0.7777777777777778, \"#fb9f3a\"], [0.8888888888888888, \"#fdca26\"], [1.0, \"#f0f921\"]]}, \"colorway\": [\"#636efa\", \"#EF553B\", \"#00cc96\", \"#ab63fa\", \"#FFA15A\", \"#19d3f3\", \"#FF6692\", \"#B6E880\", \"#FF97FF\", \"#FECB52\"], \"font\": {\"color\": \"#2a3f5f\"}, \"geo\": {\"bgcolor\": \"white\", \"lakecolor\": \"white\", \"landcolor\": \"#E5ECF6\", \"showlakes\": true, \"showland\": true, \"subunitcolor\": \"white\"}, \"hoverlabel\": {\"align\": \"left\"}, \"hovermode\": \"closest\", \"mapbox\": {\"style\": \"light\"}, \"paper_bgcolor\": \"white\", \"plot_bgcolor\": \"#E5ECF6\", \"polar\": {\"angularaxis\": {\"gridcolor\": \"white\", \"linecolor\": \"white\", \"ticks\": \"\"}, \"bgcolor\": \"#E5ECF6\", \"radialaxis\": {\"gridcolor\": \"white\", \"linecolor\": \"white\", \"ticks\": \"\"}}, \"scene\": {\"xaxis\": {\"backgroundcolor\": \"#E5ECF6\", \"gridcolor\": \"white\", \"gridwidth\": 2, \"linecolor\": \"white\", \"showbackground\": true, \"ticks\": \"\", \"zerolinecolor\": \"white\"}, \"yaxis\": {\"backgroundcolor\": \"#E5ECF6\", \"gridcolor\": \"white\", \"gridwidth\": 2, \"linecolor\": \"white\", \"showbackground\": true, \"ticks\": \"\", \"zerolinecolor\": \"white\"}, \"zaxis\": {\"backgroundcolor\": \"#E5ECF6\", \"gridcolor\": \"white\", \"gridwidth\": 2, \"linecolor\": \"white\", \"showbackground\": true, \"ticks\": \"\", \"zerolinecolor\": \"white\"}}, \"shapedefaults\": {\"line\": {\"color\": \"#2a3f5f\"}}, \"ternary\": {\"aaxis\": {\"gridcolor\": \"white\", \"linecolor\": \"white\", \"ticks\": \"\"}, \"baxis\": {\"gridcolor\": \"white\", \"linecolor\": \"white\", \"ticks\": \"\"}, \"bgcolor\": \"#E5ECF6\", \"caxis\": {\"gridcolor\": \"white\", \"linecolor\": \"white\", \"ticks\": \"\"}}, \"title\": {\"x\": 0.05}, \"xaxis\": {\"automargin\": true, \"gridcolor\": \"white\", \"linecolor\": \"white\", \"ticks\": \"\", \"title\": {\"standoff\": 15}, \"zerolinecolor\": \"white\", \"zerolinewidth\": 2}, \"yaxis\": {\"automargin\": true, \"gridcolor\": \"white\", \"linecolor\": \"white\", \"ticks\": \"\", \"title\": {\"standoff\": 15}, \"zerolinecolor\": \"white\", \"zerolinewidth\": 2}}}, \"title\": {\"font\": {\"color\": \"#4D5663\"}}, \"xaxis\": {\"gridcolor\": \"#E1E5ED\", \"showgrid\": true, \"tickfont\": {\"color\": \"#4D5663\"}, \"title\": {\"font\": {\"color\": \"#4D5663\"}, \"text\": \"\"}, \"zerolinecolor\": \"#E1E5ED\"}, \"yaxis\": {\"gridcolor\": \"#E1E5ED\", \"showgrid\": true, \"tickfont\": {\"color\": \"#4D5663\"}, \"title\": {\"font\": {\"color\": \"#4D5663\"}, \"text\": \"\"}, \"zerolinecolor\": \"#E1E5ED\"}},\n",
       "                        {\"showLink\": true, \"linkText\": \"Export to plot.ly\", \"plotlyServerURL\": \"https://plot.ly\", \"responsive\": true}\n",
       "                    ).then(function(){\n",
       "                            \n",
       "var gd = document.getElementById('a22e629a-224c-453f-ab17-69cfdbac9cc3');\n",
       "var x = new MutationObserver(function (mutations, observer) {{\n",
       "        var display = window.getComputedStyle(gd).display;\n",
       "        if (!display || display === 'none') {{\n",
       "            console.log([gd, 'removed!']);\n",
       "            Plotly.purge(gd);\n",
       "            observer.disconnect();\n",
       "        }}\n",
       "}});\n",
       "\n",
       "// Listen for the removal of the full notebook cells\n",
       "var notebookContainer = gd.closest('#notebook-container');\n",
       "if (notebookContainer) {{\n",
       "    x.observe(notebookContainer, {childList: true});\n",
       "}}\n",
       "\n",
       "// Listen for the clearing of the current output cell\n",
       "var outputEl = gd.closest('.output');\n",
       "if (outputEl) {{\n",
       "    x.observe(outputEl, {childList: true});\n",
       "}}\n",
       "\n",
       "                        })\n",
       "                };\n",
       "                });\n",
       "            </script>\n",
       "        </div>"
      ]
     },
     "metadata": {},
     "output_type": "display_data"
    }
   ],
   "source": [
    "df.iplot(kind='scatter',x='A',y='B',mode='markers',size=10)"
   ]
  },
  {
   "cell_type": "markdown",
   "metadata": {},
   "source": [
    "## Bar Plots"
   ]
  },
  {
   "cell_type": "code",
   "execution_count": 11,
   "metadata": {},
   "outputs": [
    {
     "data": {
      "application/vnd.plotly.v1+json": {
       "config": {
        "linkText": "Export to plot.ly",
        "plotlyServerURL": "https://plot.ly",
        "showLink": true
       },
       "data": [
        {
         "marker": {
          "color": "rgba(255, 153, 51, 0.6)",
          "line": {
           "color": "rgba(255, 153, 51, 1.0)",
           "width": 1
          }
         },
         "name": "Values",
         "orientation": "v",
         "text": "",
         "type": "bar",
         "x": [
          "A",
          "B",
          "C"
         ],
         "y": [
          32,
          43,
          50
         ]
        }
       ],
       "layout": {
        "legend": {
         "bgcolor": "#F5F6F9",
         "font": {
          "color": "#4D5663"
         }
        },
        "paper_bgcolor": "#F5F6F9",
        "plot_bgcolor": "#F5F6F9",
        "template": {
         "data": {
          "bar": [
           {
            "error_x": {
             "color": "#2a3f5f"
            },
            "error_y": {
             "color": "#2a3f5f"
            },
            "marker": {
             "line": {
              "color": "#E5ECF6",
              "width": 0.5
             }
            },
            "type": "bar"
           }
          ],
          "barpolar": [
           {
            "marker": {
             "line": {
              "color": "#E5ECF6",
              "width": 0.5
             }
            },
            "type": "barpolar"
           }
          ],
          "carpet": [
           {
            "aaxis": {
             "endlinecolor": "#2a3f5f",
             "gridcolor": "white",
             "linecolor": "white",
             "minorgridcolor": "white",
             "startlinecolor": "#2a3f5f"
            },
            "baxis": {
             "endlinecolor": "#2a3f5f",
             "gridcolor": "white",
             "linecolor": "white",
             "minorgridcolor": "white",
             "startlinecolor": "#2a3f5f"
            },
            "type": "carpet"
           }
          ],
          "choropleth": [
           {
            "colorbar": {
             "outlinewidth": 0,
             "ticks": ""
            },
            "type": "choropleth"
           }
          ],
          "contour": [
           {
            "colorbar": {
             "outlinewidth": 0,
             "ticks": ""
            },
            "colorscale": [
             [
              0,
              "#0d0887"
             ],
             [
              0.1111111111111111,
              "#46039f"
             ],
             [
              0.2222222222222222,
              "#7201a8"
             ],
             [
              0.3333333333333333,
              "#9c179e"
             ],
             [
              0.4444444444444444,
              "#bd3786"
             ],
             [
              0.5555555555555556,
              "#d8576b"
             ],
             [
              0.6666666666666666,
              "#ed7953"
             ],
             [
              0.7777777777777778,
              "#fb9f3a"
             ],
             [
              0.8888888888888888,
              "#fdca26"
             ],
             [
              1,
              "#f0f921"
             ]
            ],
            "type": "contour"
           }
          ],
          "contourcarpet": [
           {
            "colorbar": {
             "outlinewidth": 0,
             "ticks": ""
            },
            "type": "contourcarpet"
           }
          ],
          "heatmap": [
           {
            "colorbar": {
             "outlinewidth": 0,
             "ticks": ""
            },
            "colorscale": [
             [
              0,
              "#0d0887"
             ],
             [
              0.1111111111111111,
              "#46039f"
             ],
             [
              0.2222222222222222,
              "#7201a8"
             ],
             [
              0.3333333333333333,
              "#9c179e"
             ],
             [
              0.4444444444444444,
              "#bd3786"
             ],
             [
              0.5555555555555556,
              "#d8576b"
             ],
             [
              0.6666666666666666,
              "#ed7953"
             ],
             [
              0.7777777777777778,
              "#fb9f3a"
             ],
             [
              0.8888888888888888,
              "#fdca26"
             ],
             [
              1,
              "#f0f921"
             ]
            ],
            "type": "heatmap"
           }
          ],
          "heatmapgl": [
           {
            "colorbar": {
             "outlinewidth": 0,
             "ticks": ""
            },
            "colorscale": [
             [
              0,
              "#0d0887"
             ],
             [
              0.1111111111111111,
              "#46039f"
             ],
             [
              0.2222222222222222,
              "#7201a8"
             ],
             [
              0.3333333333333333,
              "#9c179e"
             ],
             [
              0.4444444444444444,
              "#bd3786"
             ],
             [
              0.5555555555555556,
              "#d8576b"
             ],
             [
              0.6666666666666666,
              "#ed7953"
             ],
             [
              0.7777777777777778,
              "#fb9f3a"
             ],
             [
              0.8888888888888888,
              "#fdca26"
             ],
             [
              1,
              "#f0f921"
             ]
            ],
            "type": "heatmapgl"
           }
          ],
          "histogram": [
           {
            "marker": {
             "colorbar": {
              "outlinewidth": 0,
              "ticks": ""
             }
            },
            "type": "histogram"
           }
          ],
          "histogram2d": [
           {
            "colorbar": {
             "outlinewidth": 0,
             "ticks": ""
            },
            "colorscale": [
             [
              0,
              "#0d0887"
             ],
             [
              0.1111111111111111,
              "#46039f"
             ],
             [
              0.2222222222222222,
              "#7201a8"
             ],
             [
              0.3333333333333333,
              "#9c179e"
             ],
             [
              0.4444444444444444,
              "#bd3786"
             ],
             [
              0.5555555555555556,
              "#d8576b"
             ],
             [
              0.6666666666666666,
              "#ed7953"
             ],
             [
              0.7777777777777778,
              "#fb9f3a"
             ],
             [
              0.8888888888888888,
              "#fdca26"
             ],
             [
              1,
              "#f0f921"
             ]
            ],
            "type": "histogram2d"
           }
          ],
          "histogram2dcontour": [
           {
            "colorbar": {
             "outlinewidth": 0,
             "ticks": ""
            },
            "colorscale": [
             [
              0,
              "#0d0887"
             ],
             [
              0.1111111111111111,
              "#46039f"
             ],
             [
              0.2222222222222222,
              "#7201a8"
             ],
             [
              0.3333333333333333,
              "#9c179e"
             ],
             [
              0.4444444444444444,
              "#bd3786"
             ],
             [
              0.5555555555555556,
              "#d8576b"
             ],
             [
              0.6666666666666666,
              "#ed7953"
             ],
             [
              0.7777777777777778,
              "#fb9f3a"
             ],
             [
              0.8888888888888888,
              "#fdca26"
             ],
             [
              1,
              "#f0f921"
             ]
            ],
            "type": "histogram2dcontour"
           }
          ],
          "mesh3d": [
           {
            "colorbar": {
             "outlinewidth": 0,
             "ticks": ""
            },
            "type": "mesh3d"
           }
          ],
          "parcoords": [
           {
            "line": {
             "colorbar": {
              "outlinewidth": 0,
              "ticks": ""
             }
            },
            "type": "parcoords"
           }
          ],
          "pie": [
           {
            "automargin": true,
            "type": "pie"
           }
          ],
          "scatter": [
           {
            "marker": {
             "colorbar": {
              "outlinewidth": 0,
              "ticks": ""
             }
            },
            "type": "scatter"
           }
          ],
          "scatter3d": [
           {
            "line": {
             "colorbar": {
              "outlinewidth": 0,
              "ticks": ""
             }
            },
            "marker": {
             "colorbar": {
              "outlinewidth": 0,
              "ticks": ""
             }
            },
            "type": "scatter3d"
           }
          ],
          "scattercarpet": [
           {
            "marker": {
             "colorbar": {
              "outlinewidth": 0,
              "ticks": ""
             }
            },
            "type": "scattercarpet"
           }
          ],
          "scattergeo": [
           {
            "marker": {
             "colorbar": {
              "outlinewidth": 0,
              "ticks": ""
             }
            },
            "type": "scattergeo"
           }
          ],
          "scattergl": [
           {
            "marker": {
             "colorbar": {
              "outlinewidth": 0,
              "ticks": ""
             }
            },
            "type": "scattergl"
           }
          ],
          "scattermapbox": [
           {
            "marker": {
             "colorbar": {
              "outlinewidth": 0,
              "ticks": ""
             }
            },
            "type": "scattermapbox"
           }
          ],
          "scatterpolar": [
           {
            "marker": {
             "colorbar": {
              "outlinewidth": 0,
              "ticks": ""
             }
            },
            "type": "scatterpolar"
           }
          ],
          "scatterpolargl": [
           {
            "marker": {
             "colorbar": {
              "outlinewidth": 0,
              "ticks": ""
             }
            },
            "type": "scatterpolargl"
           }
          ],
          "scatterternary": [
           {
            "marker": {
             "colorbar": {
              "outlinewidth": 0,
              "ticks": ""
             }
            },
            "type": "scatterternary"
           }
          ],
          "surface": [
           {
            "colorbar": {
             "outlinewidth": 0,
             "ticks": ""
            },
            "colorscale": [
             [
              0,
              "#0d0887"
             ],
             [
              0.1111111111111111,
              "#46039f"
             ],
             [
              0.2222222222222222,
              "#7201a8"
             ],
             [
              0.3333333333333333,
              "#9c179e"
             ],
             [
              0.4444444444444444,
              "#bd3786"
             ],
             [
              0.5555555555555556,
              "#d8576b"
             ],
             [
              0.6666666666666666,
              "#ed7953"
             ],
             [
              0.7777777777777778,
              "#fb9f3a"
             ],
             [
              0.8888888888888888,
              "#fdca26"
             ],
             [
              1,
              "#f0f921"
             ]
            ],
            "type": "surface"
           }
          ],
          "table": [
           {
            "cells": {
             "fill": {
              "color": "#EBF0F8"
             },
             "line": {
              "color": "white"
             }
            },
            "header": {
             "fill": {
              "color": "#C8D4E3"
             },
             "line": {
              "color": "white"
             }
            },
            "type": "table"
           }
          ]
         },
         "layout": {
          "annotationdefaults": {
           "arrowcolor": "#2a3f5f",
           "arrowhead": 0,
           "arrowwidth": 1
          },
          "coloraxis": {
           "colorbar": {
            "outlinewidth": 0,
            "ticks": ""
           }
          },
          "colorscale": {
           "diverging": [
            [
             0,
             "#8e0152"
            ],
            [
             0.1,
             "#c51b7d"
            ],
            [
             0.2,
             "#de77ae"
            ],
            [
             0.3,
             "#f1b6da"
            ],
            [
             0.4,
             "#fde0ef"
            ],
            [
             0.5,
             "#f7f7f7"
            ],
            [
             0.6,
             "#e6f5d0"
            ],
            [
             0.7,
             "#b8e186"
            ],
            [
             0.8,
             "#7fbc41"
            ],
            [
             0.9,
             "#4d9221"
            ],
            [
             1,
             "#276419"
            ]
           ],
           "sequential": [
            [
             0,
             "#0d0887"
            ],
            [
             0.1111111111111111,
             "#46039f"
            ],
            [
             0.2222222222222222,
             "#7201a8"
            ],
            [
             0.3333333333333333,
             "#9c179e"
            ],
            [
             0.4444444444444444,
             "#bd3786"
            ],
            [
             0.5555555555555556,
             "#d8576b"
            ],
            [
             0.6666666666666666,
             "#ed7953"
            ],
            [
             0.7777777777777778,
             "#fb9f3a"
            ],
            [
             0.8888888888888888,
             "#fdca26"
            ],
            [
             1,
             "#f0f921"
            ]
           ],
           "sequentialminus": [
            [
             0,
             "#0d0887"
            ],
            [
             0.1111111111111111,
             "#46039f"
            ],
            [
             0.2222222222222222,
             "#7201a8"
            ],
            [
             0.3333333333333333,
             "#9c179e"
            ],
            [
             0.4444444444444444,
             "#bd3786"
            ],
            [
             0.5555555555555556,
             "#d8576b"
            ],
            [
             0.6666666666666666,
             "#ed7953"
            ],
            [
             0.7777777777777778,
             "#fb9f3a"
            ],
            [
             0.8888888888888888,
             "#fdca26"
            ],
            [
             1,
             "#f0f921"
            ]
           ]
          },
          "colorway": [
           "#636efa",
           "#EF553B",
           "#00cc96",
           "#ab63fa",
           "#FFA15A",
           "#19d3f3",
           "#FF6692",
           "#B6E880",
           "#FF97FF",
           "#FECB52"
          ],
          "font": {
           "color": "#2a3f5f"
          },
          "geo": {
           "bgcolor": "white",
           "lakecolor": "white",
           "landcolor": "#E5ECF6",
           "showlakes": true,
           "showland": true,
           "subunitcolor": "white"
          },
          "hoverlabel": {
           "align": "left"
          },
          "hovermode": "closest",
          "mapbox": {
           "style": "light"
          },
          "paper_bgcolor": "white",
          "plot_bgcolor": "#E5ECF6",
          "polar": {
           "angularaxis": {
            "gridcolor": "white",
            "linecolor": "white",
            "ticks": ""
           },
           "bgcolor": "#E5ECF6",
           "radialaxis": {
            "gridcolor": "white",
            "linecolor": "white",
            "ticks": ""
           }
          },
          "scene": {
           "xaxis": {
            "backgroundcolor": "#E5ECF6",
            "gridcolor": "white",
            "gridwidth": 2,
            "linecolor": "white",
            "showbackground": true,
            "ticks": "",
            "zerolinecolor": "white"
           },
           "yaxis": {
            "backgroundcolor": "#E5ECF6",
            "gridcolor": "white",
            "gridwidth": 2,
            "linecolor": "white",
            "showbackground": true,
            "ticks": "",
            "zerolinecolor": "white"
           },
           "zaxis": {
            "backgroundcolor": "#E5ECF6",
            "gridcolor": "white",
            "gridwidth": 2,
            "linecolor": "white",
            "showbackground": true,
            "ticks": "",
            "zerolinecolor": "white"
           }
          },
          "shapedefaults": {
           "line": {
            "color": "#2a3f5f"
           }
          },
          "ternary": {
           "aaxis": {
            "gridcolor": "white",
            "linecolor": "white",
            "ticks": ""
           },
           "baxis": {
            "gridcolor": "white",
            "linecolor": "white",
            "ticks": ""
           },
           "bgcolor": "#E5ECF6",
           "caxis": {
            "gridcolor": "white",
            "linecolor": "white",
            "ticks": ""
           }
          },
          "title": {
           "x": 0.05
          },
          "xaxis": {
           "automargin": true,
           "gridcolor": "white",
           "linecolor": "white",
           "ticks": "",
           "title": {
            "standoff": 15
           },
           "zerolinecolor": "white",
           "zerolinewidth": 2
          },
          "yaxis": {
           "automargin": true,
           "gridcolor": "white",
           "linecolor": "white",
           "ticks": "",
           "title": {
            "standoff": 15
           },
           "zerolinecolor": "white",
           "zerolinewidth": 2
          }
         }
        },
        "title": {
         "font": {
          "color": "#4D5663"
         }
        },
        "xaxis": {
         "gridcolor": "#E1E5ED",
         "showgrid": true,
         "tickfont": {
          "color": "#4D5663"
         },
         "title": {
          "font": {
           "color": "#4D5663"
          },
          "text": ""
         },
         "zerolinecolor": "#E1E5ED"
        },
        "yaxis": {
         "gridcolor": "#E1E5ED",
         "showgrid": true,
         "tickfont": {
          "color": "#4D5663"
         },
         "title": {
          "font": {
           "color": "#4D5663"
          },
          "text": ""
         },
         "zerolinecolor": "#E1E5ED"
        }
       }
      },
      "text/html": [
       "<div>\n",
       "        \n",
       "        \n",
       "            <div id=\"24b5657f-c483-4633-9a97-2c4d7089f5dc\" class=\"plotly-graph-div\" style=\"height:525px; width:100%;\"></div>\n",
       "            <script type=\"text/javascript\">\n",
       "                require([\"plotly\"], function(Plotly) {\n",
       "                    window.PLOTLYENV=window.PLOTLYENV || {};\n",
       "                    window.PLOTLYENV.BASE_URL='https://plot.ly';\n",
       "                    \n",
       "                if (document.getElementById(\"24b5657f-c483-4633-9a97-2c4d7089f5dc\")) {\n",
       "                    Plotly.newPlot(\n",
       "                        '24b5657f-c483-4633-9a97-2c4d7089f5dc',\n",
       "                        [{\"marker\": {\"color\": \"rgba(255, 153, 51, 0.6)\", \"line\": {\"color\": \"rgba(255, 153, 51, 1.0)\", \"width\": 1}}, \"name\": \"Values\", \"orientation\": \"v\", \"text\": \"\", \"type\": \"bar\", \"x\": [\"A\", \"B\", \"C\"], \"y\": [32, 43, 50]}],\n",
       "                        {\"legend\": {\"bgcolor\": \"#F5F6F9\", \"font\": {\"color\": \"#4D5663\"}}, \"paper_bgcolor\": \"#F5F6F9\", \"plot_bgcolor\": \"#F5F6F9\", \"template\": {\"data\": {\"bar\": [{\"error_x\": {\"color\": \"#2a3f5f\"}, \"error_y\": {\"color\": \"#2a3f5f\"}, \"marker\": {\"line\": {\"color\": \"#E5ECF6\", \"width\": 0.5}}, \"type\": \"bar\"}], \"barpolar\": [{\"marker\": {\"line\": {\"color\": \"#E5ECF6\", \"width\": 0.5}}, \"type\": \"barpolar\"}], \"carpet\": [{\"aaxis\": {\"endlinecolor\": \"#2a3f5f\", \"gridcolor\": \"white\", \"linecolor\": \"white\", \"minorgridcolor\": \"white\", \"startlinecolor\": \"#2a3f5f\"}, \"baxis\": {\"endlinecolor\": \"#2a3f5f\", \"gridcolor\": \"white\", \"linecolor\": \"white\", \"minorgridcolor\": \"white\", \"startlinecolor\": \"#2a3f5f\"}, \"type\": \"carpet\"}], \"choropleth\": [{\"colorbar\": {\"outlinewidth\": 0, \"ticks\": \"\"}, \"type\": \"choropleth\"}], \"contour\": [{\"colorbar\": {\"outlinewidth\": 0, \"ticks\": \"\"}, \"colorscale\": [[0.0, \"#0d0887\"], [0.1111111111111111, \"#46039f\"], [0.2222222222222222, \"#7201a8\"], [0.3333333333333333, \"#9c179e\"], [0.4444444444444444, \"#bd3786\"], [0.5555555555555556, \"#d8576b\"], [0.6666666666666666, \"#ed7953\"], [0.7777777777777778, \"#fb9f3a\"], [0.8888888888888888, \"#fdca26\"], [1.0, \"#f0f921\"]], \"type\": \"contour\"}], \"contourcarpet\": [{\"colorbar\": {\"outlinewidth\": 0, \"ticks\": \"\"}, \"type\": \"contourcarpet\"}], \"heatmap\": [{\"colorbar\": {\"outlinewidth\": 0, \"ticks\": \"\"}, \"colorscale\": [[0.0, \"#0d0887\"], [0.1111111111111111, \"#46039f\"], [0.2222222222222222, \"#7201a8\"], [0.3333333333333333, \"#9c179e\"], [0.4444444444444444, \"#bd3786\"], [0.5555555555555556, \"#d8576b\"], [0.6666666666666666, \"#ed7953\"], [0.7777777777777778, \"#fb9f3a\"], [0.8888888888888888, \"#fdca26\"], [1.0, \"#f0f921\"]], \"type\": \"heatmap\"}], \"heatmapgl\": [{\"colorbar\": {\"outlinewidth\": 0, \"ticks\": \"\"}, \"colorscale\": [[0.0, \"#0d0887\"], [0.1111111111111111, \"#46039f\"], [0.2222222222222222, \"#7201a8\"], [0.3333333333333333, \"#9c179e\"], [0.4444444444444444, \"#bd3786\"], [0.5555555555555556, \"#d8576b\"], [0.6666666666666666, \"#ed7953\"], [0.7777777777777778, \"#fb9f3a\"], [0.8888888888888888, \"#fdca26\"], [1.0, \"#f0f921\"]], \"type\": \"heatmapgl\"}], \"histogram\": [{\"marker\": {\"colorbar\": {\"outlinewidth\": 0, \"ticks\": \"\"}}, \"type\": \"histogram\"}], \"histogram2d\": [{\"colorbar\": {\"outlinewidth\": 0, \"ticks\": \"\"}, \"colorscale\": [[0.0, \"#0d0887\"], [0.1111111111111111, \"#46039f\"], [0.2222222222222222, \"#7201a8\"], [0.3333333333333333, \"#9c179e\"], [0.4444444444444444, \"#bd3786\"], [0.5555555555555556, \"#d8576b\"], [0.6666666666666666, \"#ed7953\"], [0.7777777777777778, \"#fb9f3a\"], [0.8888888888888888, \"#fdca26\"], [1.0, \"#f0f921\"]], \"type\": \"histogram2d\"}], \"histogram2dcontour\": [{\"colorbar\": {\"outlinewidth\": 0, \"ticks\": \"\"}, \"colorscale\": [[0.0, \"#0d0887\"], [0.1111111111111111, \"#46039f\"], [0.2222222222222222, \"#7201a8\"], [0.3333333333333333, \"#9c179e\"], [0.4444444444444444, \"#bd3786\"], [0.5555555555555556, \"#d8576b\"], [0.6666666666666666, \"#ed7953\"], [0.7777777777777778, \"#fb9f3a\"], [0.8888888888888888, \"#fdca26\"], [1.0, \"#f0f921\"]], \"type\": \"histogram2dcontour\"}], \"mesh3d\": [{\"colorbar\": {\"outlinewidth\": 0, \"ticks\": \"\"}, \"type\": \"mesh3d\"}], \"parcoords\": [{\"line\": {\"colorbar\": {\"outlinewidth\": 0, \"ticks\": \"\"}}, \"type\": \"parcoords\"}], \"pie\": [{\"automargin\": true, \"type\": \"pie\"}], \"scatter\": [{\"marker\": {\"colorbar\": {\"outlinewidth\": 0, \"ticks\": \"\"}}, \"type\": \"scatter\"}], \"scatter3d\": [{\"line\": {\"colorbar\": {\"outlinewidth\": 0, \"ticks\": \"\"}}, \"marker\": {\"colorbar\": {\"outlinewidth\": 0, \"ticks\": \"\"}}, \"type\": \"scatter3d\"}], \"scattercarpet\": [{\"marker\": {\"colorbar\": {\"outlinewidth\": 0, \"ticks\": \"\"}}, \"type\": \"scattercarpet\"}], \"scattergeo\": [{\"marker\": {\"colorbar\": {\"outlinewidth\": 0, \"ticks\": \"\"}}, \"type\": \"scattergeo\"}], \"scattergl\": [{\"marker\": {\"colorbar\": {\"outlinewidth\": 0, \"ticks\": \"\"}}, \"type\": \"scattergl\"}], \"scattermapbox\": [{\"marker\": {\"colorbar\": {\"outlinewidth\": 0, \"ticks\": \"\"}}, \"type\": \"scattermapbox\"}], \"scatterpolar\": [{\"marker\": {\"colorbar\": {\"outlinewidth\": 0, \"ticks\": \"\"}}, \"type\": \"scatterpolar\"}], \"scatterpolargl\": [{\"marker\": {\"colorbar\": {\"outlinewidth\": 0, \"ticks\": \"\"}}, \"type\": \"scatterpolargl\"}], \"scatterternary\": [{\"marker\": {\"colorbar\": {\"outlinewidth\": 0, \"ticks\": \"\"}}, \"type\": \"scatterternary\"}], \"surface\": [{\"colorbar\": {\"outlinewidth\": 0, \"ticks\": \"\"}, \"colorscale\": [[0.0, \"#0d0887\"], [0.1111111111111111, \"#46039f\"], [0.2222222222222222, \"#7201a8\"], [0.3333333333333333, \"#9c179e\"], [0.4444444444444444, \"#bd3786\"], [0.5555555555555556, \"#d8576b\"], [0.6666666666666666, \"#ed7953\"], [0.7777777777777778, \"#fb9f3a\"], [0.8888888888888888, \"#fdca26\"], [1.0, \"#f0f921\"]], \"type\": \"surface\"}], \"table\": [{\"cells\": {\"fill\": {\"color\": \"#EBF0F8\"}, \"line\": {\"color\": \"white\"}}, \"header\": {\"fill\": {\"color\": \"#C8D4E3\"}, \"line\": {\"color\": \"white\"}}, \"type\": \"table\"}]}, \"layout\": {\"annotationdefaults\": {\"arrowcolor\": \"#2a3f5f\", \"arrowhead\": 0, \"arrowwidth\": 1}, \"coloraxis\": {\"colorbar\": {\"outlinewidth\": 0, \"ticks\": \"\"}}, \"colorscale\": {\"diverging\": [[0, \"#8e0152\"], [0.1, \"#c51b7d\"], [0.2, \"#de77ae\"], [0.3, \"#f1b6da\"], [0.4, \"#fde0ef\"], [0.5, \"#f7f7f7\"], [0.6, \"#e6f5d0\"], [0.7, \"#b8e186\"], [0.8, \"#7fbc41\"], [0.9, \"#4d9221\"], [1, \"#276419\"]], \"sequential\": [[0.0, \"#0d0887\"], [0.1111111111111111, \"#46039f\"], [0.2222222222222222, \"#7201a8\"], [0.3333333333333333, \"#9c179e\"], [0.4444444444444444, \"#bd3786\"], [0.5555555555555556, \"#d8576b\"], [0.6666666666666666, \"#ed7953\"], [0.7777777777777778, \"#fb9f3a\"], [0.8888888888888888, \"#fdca26\"], [1.0, \"#f0f921\"]], \"sequentialminus\": [[0.0, \"#0d0887\"], [0.1111111111111111, \"#46039f\"], [0.2222222222222222, \"#7201a8\"], [0.3333333333333333, \"#9c179e\"], [0.4444444444444444, \"#bd3786\"], [0.5555555555555556, \"#d8576b\"], [0.6666666666666666, \"#ed7953\"], [0.7777777777777778, \"#fb9f3a\"], [0.8888888888888888, \"#fdca26\"], [1.0, \"#f0f921\"]]}, \"colorway\": [\"#636efa\", \"#EF553B\", \"#00cc96\", \"#ab63fa\", \"#FFA15A\", \"#19d3f3\", \"#FF6692\", \"#B6E880\", \"#FF97FF\", \"#FECB52\"], \"font\": {\"color\": \"#2a3f5f\"}, \"geo\": {\"bgcolor\": \"white\", \"lakecolor\": \"white\", \"landcolor\": \"#E5ECF6\", \"showlakes\": true, \"showland\": true, \"subunitcolor\": \"white\"}, \"hoverlabel\": {\"align\": \"left\"}, \"hovermode\": \"closest\", \"mapbox\": {\"style\": \"light\"}, \"paper_bgcolor\": \"white\", \"plot_bgcolor\": \"#E5ECF6\", \"polar\": {\"angularaxis\": {\"gridcolor\": \"white\", \"linecolor\": \"white\", \"ticks\": \"\"}, \"bgcolor\": \"#E5ECF6\", \"radialaxis\": {\"gridcolor\": \"white\", \"linecolor\": \"white\", \"ticks\": \"\"}}, \"scene\": {\"xaxis\": {\"backgroundcolor\": \"#E5ECF6\", \"gridcolor\": \"white\", \"gridwidth\": 2, \"linecolor\": \"white\", \"showbackground\": true, \"ticks\": \"\", \"zerolinecolor\": \"white\"}, \"yaxis\": {\"backgroundcolor\": \"#E5ECF6\", \"gridcolor\": \"white\", \"gridwidth\": 2, \"linecolor\": \"white\", \"showbackground\": true, \"ticks\": \"\", \"zerolinecolor\": \"white\"}, \"zaxis\": {\"backgroundcolor\": \"#E5ECF6\", \"gridcolor\": \"white\", \"gridwidth\": 2, \"linecolor\": \"white\", \"showbackground\": true, \"ticks\": \"\", \"zerolinecolor\": \"white\"}}, \"shapedefaults\": {\"line\": {\"color\": \"#2a3f5f\"}}, \"ternary\": {\"aaxis\": {\"gridcolor\": \"white\", \"linecolor\": \"white\", \"ticks\": \"\"}, \"baxis\": {\"gridcolor\": \"white\", \"linecolor\": \"white\", \"ticks\": \"\"}, \"bgcolor\": \"#E5ECF6\", \"caxis\": {\"gridcolor\": \"white\", \"linecolor\": \"white\", \"ticks\": \"\"}}, \"title\": {\"x\": 0.05}, \"xaxis\": {\"automargin\": true, \"gridcolor\": \"white\", \"linecolor\": \"white\", \"ticks\": \"\", \"title\": {\"standoff\": 15}, \"zerolinecolor\": \"white\", \"zerolinewidth\": 2}, \"yaxis\": {\"automargin\": true, \"gridcolor\": \"white\", \"linecolor\": \"white\", \"ticks\": \"\", \"title\": {\"standoff\": 15}, \"zerolinecolor\": \"white\", \"zerolinewidth\": 2}}}, \"title\": {\"font\": {\"color\": \"#4D5663\"}}, \"xaxis\": {\"gridcolor\": \"#E1E5ED\", \"showgrid\": true, \"tickfont\": {\"color\": \"#4D5663\"}, \"title\": {\"font\": {\"color\": \"#4D5663\"}, \"text\": \"\"}, \"zerolinecolor\": \"#E1E5ED\"}, \"yaxis\": {\"gridcolor\": \"#E1E5ED\", \"showgrid\": true, \"tickfont\": {\"color\": \"#4D5663\"}, \"title\": {\"font\": {\"color\": \"#4D5663\"}, \"text\": \"\"}, \"zerolinecolor\": \"#E1E5ED\"}},\n",
       "                        {\"showLink\": true, \"linkText\": \"Export to plot.ly\", \"plotlyServerURL\": \"https://plot.ly\", \"responsive\": true}\n",
       "                    ).then(function(){\n",
       "                            \n",
       "var gd = document.getElementById('24b5657f-c483-4633-9a97-2c4d7089f5dc');\n",
       "var x = new MutationObserver(function (mutations, observer) {{\n",
       "        var display = window.getComputedStyle(gd).display;\n",
       "        if (!display || display === 'none') {{\n",
       "            console.log([gd, 'removed!']);\n",
       "            Plotly.purge(gd);\n",
       "            observer.disconnect();\n",
       "        }}\n",
       "}});\n",
       "\n",
       "// Listen for the removal of the full notebook cells\n",
       "var notebookContainer = gd.closest('#notebook-container');\n",
       "if (notebookContainer) {{\n",
       "    x.observe(notebookContainer, {childList: true});\n",
       "}}\n",
       "\n",
       "// Listen for the clearing of the current output cell\n",
       "var outputEl = gd.closest('.output');\n",
       "if (outputEl) {{\n",
       "    x.observe(outputEl, {childList: true});\n",
       "}}\n",
       "\n",
       "                        })\n",
       "                };\n",
       "                });\n",
       "            </script>\n",
       "        </div>"
      ]
     },
     "metadata": {},
     "output_type": "display_data"
    }
   ],
   "source": [
    "df2.iplot(kind='bar',x='Category',y='Values')"
   ]
  },
  {
   "cell_type": "code",
   "execution_count": 12,
   "metadata": {},
   "outputs": [
    {
     "data": {
      "application/vnd.plotly.v1+json": {
       "config": {
        "linkText": "Export to plot.ly",
        "plotlyServerURL": "https://plot.ly",
        "showLink": true
       },
       "data": [
        {
         "marker": {
          "color": "rgba(255, 153, 51, 0.6)",
          "line": {
           "color": "rgba(255, 153, 51, 1.0)",
           "width": 1
          }
         },
         "name": "None",
         "orientation": "v",
         "text": "",
         "type": "bar",
         "x": [
          "A",
          "B",
          "C",
          "D"
         ],
         "y": [
          100,
          100,
          100,
          100
         ]
        }
       ],
       "layout": {
        "legend": {
         "bgcolor": "#F5F6F9",
         "font": {
          "color": "#4D5663"
         }
        },
        "paper_bgcolor": "#F5F6F9",
        "plot_bgcolor": "#F5F6F9",
        "template": {
         "data": {
          "bar": [
           {
            "error_x": {
             "color": "#2a3f5f"
            },
            "error_y": {
             "color": "#2a3f5f"
            },
            "marker": {
             "line": {
              "color": "#E5ECF6",
              "width": 0.5
             }
            },
            "type": "bar"
           }
          ],
          "barpolar": [
           {
            "marker": {
             "line": {
              "color": "#E5ECF6",
              "width": 0.5
             }
            },
            "type": "barpolar"
           }
          ],
          "carpet": [
           {
            "aaxis": {
             "endlinecolor": "#2a3f5f",
             "gridcolor": "white",
             "linecolor": "white",
             "minorgridcolor": "white",
             "startlinecolor": "#2a3f5f"
            },
            "baxis": {
             "endlinecolor": "#2a3f5f",
             "gridcolor": "white",
             "linecolor": "white",
             "minorgridcolor": "white",
             "startlinecolor": "#2a3f5f"
            },
            "type": "carpet"
           }
          ],
          "choropleth": [
           {
            "colorbar": {
             "outlinewidth": 0,
             "ticks": ""
            },
            "type": "choropleth"
           }
          ],
          "contour": [
           {
            "colorbar": {
             "outlinewidth": 0,
             "ticks": ""
            },
            "colorscale": [
             [
              0,
              "#0d0887"
             ],
             [
              0.1111111111111111,
              "#46039f"
             ],
             [
              0.2222222222222222,
              "#7201a8"
             ],
             [
              0.3333333333333333,
              "#9c179e"
             ],
             [
              0.4444444444444444,
              "#bd3786"
             ],
             [
              0.5555555555555556,
              "#d8576b"
             ],
             [
              0.6666666666666666,
              "#ed7953"
             ],
             [
              0.7777777777777778,
              "#fb9f3a"
             ],
             [
              0.8888888888888888,
              "#fdca26"
             ],
             [
              1,
              "#f0f921"
             ]
            ],
            "type": "contour"
           }
          ],
          "contourcarpet": [
           {
            "colorbar": {
             "outlinewidth": 0,
             "ticks": ""
            },
            "type": "contourcarpet"
           }
          ],
          "heatmap": [
           {
            "colorbar": {
             "outlinewidth": 0,
             "ticks": ""
            },
            "colorscale": [
             [
              0,
              "#0d0887"
             ],
             [
              0.1111111111111111,
              "#46039f"
             ],
             [
              0.2222222222222222,
              "#7201a8"
             ],
             [
              0.3333333333333333,
              "#9c179e"
             ],
             [
              0.4444444444444444,
              "#bd3786"
             ],
             [
              0.5555555555555556,
              "#d8576b"
             ],
             [
              0.6666666666666666,
              "#ed7953"
             ],
             [
              0.7777777777777778,
              "#fb9f3a"
             ],
             [
              0.8888888888888888,
              "#fdca26"
             ],
             [
              1,
              "#f0f921"
             ]
            ],
            "type": "heatmap"
           }
          ],
          "heatmapgl": [
           {
            "colorbar": {
             "outlinewidth": 0,
             "ticks": ""
            },
            "colorscale": [
             [
              0,
              "#0d0887"
             ],
             [
              0.1111111111111111,
              "#46039f"
             ],
             [
              0.2222222222222222,
              "#7201a8"
             ],
             [
              0.3333333333333333,
              "#9c179e"
             ],
             [
              0.4444444444444444,
              "#bd3786"
             ],
             [
              0.5555555555555556,
              "#d8576b"
             ],
             [
              0.6666666666666666,
              "#ed7953"
             ],
             [
              0.7777777777777778,
              "#fb9f3a"
             ],
             [
              0.8888888888888888,
              "#fdca26"
             ],
             [
              1,
              "#f0f921"
             ]
            ],
            "type": "heatmapgl"
           }
          ],
          "histogram": [
           {
            "marker": {
             "colorbar": {
              "outlinewidth": 0,
              "ticks": ""
             }
            },
            "type": "histogram"
           }
          ],
          "histogram2d": [
           {
            "colorbar": {
             "outlinewidth": 0,
             "ticks": ""
            },
            "colorscale": [
             [
              0,
              "#0d0887"
             ],
             [
              0.1111111111111111,
              "#46039f"
             ],
             [
              0.2222222222222222,
              "#7201a8"
             ],
             [
              0.3333333333333333,
              "#9c179e"
             ],
             [
              0.4444444444444444,
              "#bd3786"
             ],
             [
              0.5555555555555556,
              "#d8576b"
             ],
             [
              0.6666666666666666,
              "#ed7953"
             ],
             [
              0.7777777777777778,
              "#fb9f3a"
             ],
             [
              0.8888888888888888,
              "#fdca26"
             ],
             [
              1,
              "#f0f921"
             ]
            ],
            "type": "histogram2d"
           }
          ],
          "histogram2dcontour": [
           {
            "colorbar": {
             "outlinewidth": 0,
             "ticks": ""
            },
            "colorscale": [
             [
              0,
              "#0d0887"
             ],
             [
              0.1111111111111111,
              "#46039f"
             ],
             [
              0.2222222222222222,
              "#7201a8"
             ],
             [
              0.3333333333333333,
              "#9c179e"
             ],
             [
              0.4444444444444444,
              "#bd3786"
             ],
             [
              0.5555555555555556,
              "#d8576b"
             ],
             [
              0.6666666666666666,
              "#ed7953"
             ],
             [
              0.7777777777777778,
              "#fb9f3a"
             ],
             [
              0.8888888888888888,
              "#fdca26"
             ],
             [
              1,
              "#f0f921"
             ]
            ],
            "type": "histogram2dcontour"
           }
          ],
          "mesh3d": [
           {
            "colorbar": {
             "outlinewidth": 0,
             "ticks": ""
            },
            "type": "mesh3d"
           }
          ],
          "parcoords": [
           {
            "line": {
             "colorbar": {
              "outlinewidth": 0,
              "ticks": ""
             }
            },
            "type": "parcoords"
           }
          ],
          "pie": [
           {
            "automargin": true,
            "type": "pie"
           }
          ],
          "scatter": [
           {
            "marker": {
             "colorbar": {
              "outlinewidth": 0,
              "ticks": ""
             }
            },
            "type": "scatter"
           }
          ],
          "scatter3d": [
           {
            "line": {
             "colorbar": {
              "outlinewidth": 0,
              "ticks": ""
             }
            },
            "marker": {
             "colorbar": {
              "outlinewidth": 0,
              "ticks": ""
             }
            },
            "type": "scatter3d"
           }
          ],
          "scattercarpet": [
           {
            "marker": {
             "colorbar": {
              "outlinewidth": 0,
              "ticks": ""
             }
            },
            "type": "scattercarpet"
           }
          ],
          "scattergeo": [
           {
            "marker": {
             "colorbar": {
              "outlinewidth": 0,
              "ticks": ""
             }
            },
            "type": "scattergeo"
           }
          ],
          "scattergl": [
           {
            "marker": {
             "colorbar": {
              "outlinewidth": 0,
              "ticks": ""
             }
            },
            "type": "scattergl"
           }
          ],
          "scattermapbox": [
           {
            "marker": {
             "colorbar": {
              "outlinewidth": 0,
              "ticks": ""
             }
            },
            "type": "scattermapbox"
           }
          ],
          "scatterpolar": [
           {
            "marker": {
             "colorbar": {
              "outlinewidth": 0,
              "ticks": ""
             }
            },
            "type": "scatterpolar"
           }
          ],
          "scatterpolargl": [
           {
            "marker": {
             "colorbar": {
              "outlinewidth": 0,
              "ticks": ""
             }
            },
            "type": "scatterpolargl"
           }
          ],
          "scatterternary": [
           {
            "marker": {
             "colorbar": {
              "outlinewidth": 0,
              "ticks": ""
             }
            },
            "type": "scatterternary"
           }
          ],
          "surface": [
           {
            "colorbar": {
             "outlinewidth": 0,
             "ticks": ""
            },
            "colorscale": [
             [
              0,
              "#0d0887"
             ],
             [
              0.1111111111111111,
              "#46039f"
             ],
             [
              0.2222222222222222,
              "#7201a8"
             ],
             [
              0.3333333333333333,
              "#9c179e"
             ],
             [
              0.4444444444444444,
              "#bd3786"
             ],
             [
              0.5555555555555556,
              "#d8576b"
             ],
             [
              0.6666666666666666,
              "#ed7953"
             ],
             [
              0.7777777777777778,
              "#fb9f3a"
             ],
             [
              0.8888888888888888,
              "#fdca26"
             ],
             [
              1,
              "#f0f921"
             ]
            ],
            "type": "surface"
           }
          ],
          "table": [
           {
            "cells": {
             "fill": {
              "color": "#EBF0F8"
             },
             "line": {
              "color": "white"
             }
            },
            "header": {
             "fill": {
              "color": "#C8D4E3"
             },
             "line": {
              "color": "white"
             }
            },
            "type": "table"
           }
          ]
         },
         "layout": {
          "annotationdefaults": {
           "arrowcolor": "#2a3f5f",
           "arrowhead": 0,
           "arrowwidth": 1
          },
          "coloraxis": {
           "colorbar": {
            "outlinewidth": 0,
            "ticks": ""
           }
          },
          "colorscale": {
           "diverging": [
            [
             0,
             "#8e0152"
            ],
            [
             0.1,
             "#c51b7d"
            ],
            [
             0.2,
             "#de77ae"
            ],
            [
             0.3,
             "#f1b6da"
            ],
            [
             0.4,
             "#fde0ef"
            ],
            [
             0.5,
             "#f7f7f7"
            ],
            [
             0.6,
             "#e6f5d0"
            ],
            [
             0.7,
             "#b8e186"
            ],
            [
             0.8,
             "#7fbc41"
            ],
            [
             0.9,
             "#4d9221"
            ],
            [
             1,
             "#276419"
            ]
           ],
           "sequential": [
            [
             0,
             "#0d0887"
            ],
            [
             0.1111111111111111,
             "#46039f"
            ],
            [
             0.2222222222222222,
             "#7201a8"
            ],
            [
             0.3333333333333333,
             "#9c179e"
            ],
            [
             0.4444444444444444,
             "#bd3786"
            ],
            [
             0.5555555555555556,
             "#d8576b"
            ],
            [
             0.6666666666666666,
             "#ed7953"
            ],
            [
             0.7777777777777778,
             "#fb9f3a"
            ],
            [
             0.8888888888888888,
             "#fdca26"
            ],
            [
             1,
             "#f0f921"
            ]
           ],
           "sequentialminus": [
            [
             0,
             "#0d0887"
            ],
            [
             0.1111111111111111,
             "#46039f"
            ],
            [
             0.2222222222222222,
             "#7201a8"
            ],
            [
             0.3333333333333333,
             "#9c179e"
            ],
            [
             0.4444444444444444,
             "#bd3786"
            ],
            [
             0.5555555555555556,
             "#d8576b"
            ],
            [
             0.6666666666666666,
             "#ed7953"
            ],
            [
             0.7777777777777778,
             "#fb9f3a"
            ],
            [
             0.8888888888888888,
             "#fdca26"
            ],
            [
             1,
             "#f0f921"
            ]
           ]
          },
          "colorway": [
           "#636efa",
           "#EF553B",
           "#00cc96",
           "#ab63fa",
           "#FFA15A",
           "#19d3f3",
           "#FF6692",
           "#B6E880",
           "#FF97FF",
           "#FECB52"
          ],
          "font": {
           "color": "#2a3f5f"
          },
          "geo": {
           "bgcolor": "white",
           "lakecolor": "white",
           "landcolor": "#E5ECF6",
           "showlakes": true,
           "showland": true,
           "subunitcolor": "white"
          },
          "hoverlabel": {
           "align": "left"
          },
          "hovermode": "closest",
          "mapbox": {
           "style": "light"
          },
          "paper_bgcolor": "white",
          "plot_bgcolor": "#E5ECF6",
          "polar": {
           "angularaxis": {
            "gridcolor": "white",
            "linecolor": "white",
            "ticks": ""
           },
           "bgcolor": "#E5ECF6",
           "radialaxis": {
            "gridcolor": "white",
            "linecolor": "white",
            "ticks": ""
           }
          },
          "scene": {
           "xaxis": {
            "backgroundcolor": "#E5ECF6",
            "gridcolor": "white",
            "gridwidth": 2,
            "linecolor": "white",
            "showbackground": true,
            "ticks": "",
            "zerolinecolor": "white"
           },
           "yaxis": {
            "backgroundcolor": "#E5ECF6",
            "gridcolor": "white",
            "gridwidth": 2,
            "linecolor": "white",
            "showbackground": true,
            "ticks": "",
            "zerolinecolor": "white"
           },
           "zaxis": {
            "backgroundcolor": "#E5ECF6",
            "gridcolor": "white",
            "gridwidth": 2,
            "linecolor": "white",
            "showbackground": true,
            "ticks": "",
            "zerolinecolor": "white"
           }
          },
          "shapedefaults": {
           "line": {
            "color": "#2a3f5f"
           }
          },
          "ternary": {
           "aaxis": {
            "gridcolor": "white",
            "linecolor": "white",
            "ticks": ""
           },
           "baxis": {
            "gridcolor": "white",
            "linecolor": "white",
            "ticks": ""
           },
           "bgcolor": "#E5ECF6",
           "caxis": {
            "gridcolor": "white",
            "linecolor": "white",
            "ticks": ""
           }
          },
          "title": {
           "x": 0.05
          },
          "xaxis": {
           "automargin": true,
           "gridcolor": "white",
           "linecolor": "white",
           "ticks": "",
           "title": {
            "standoff": 15
           },
           "zerolinecolor": "white",
           "zerolinewidth": 2
          },
          "yaxis": {
           "automargin": true,
           "gridcolor": "white",
           "linecolor": "white",
           "ticks": "",
           "title": {
            "standoff": 15
           },
           "zerolinecolor": "white",
           "zerolinewidth": 2
          }
         }
        },
        "title": {
         "font": {
          "color": "#4D5663"
         }
        },
        "xaxis": {
         "gridcolor": "#E1E5ED",
         "showgrid": true,
         "tickfont": {
          "color": "#4D5663"
         },
         "title": {
          "font": {
           "color": "#4D5663"
          },
          "text": ""
         },
         "zerolinecolor": "#E1E5ED"
        },
        "yaxis": {
         "gridcolor": "#E1E5ED",
         "showgrid": true,
         "tickfont": {
          "color": "#4D5663"
         },
         "title": {
          "font": {
           "color": "#4D5663"
          },
          "text": ""
         },
         "zerolinecolor": "#E1E5ED"
        }
       }
      },
      "text/html": [
       "<div>\n",
       "        \n",
       "        \n",
       "            <div id=\"407c506e-cae0-4d87-aeb5-31d99b1315a9\" class=\"plotly-graph-div\" style=\"height:525px; width:100%;\"></div>\n",
       "            <script type=\"text/javascript\">\n",
       "                require([\"plotly\"], function(Plotly) {\n",
       "                    window.PLOTLYENV=window.PLOTLYENV || {};\n",
       "                    window.PLOTLYENV.BASE_URL='https://plot.ly';\n",
       "                    \n",
       "                if (document.getElementById(\"407c506e-cae0-4d87-aeb5-31d99b1315a9\")) {\n",
       "                    Plotly.newPlot(\n",
       "                        '407c506e-cae0-4d87-aeb5-31d99b1315a9',\n",
       "                        [{\"marker\": {\"color\": \"rgba(255, 153, 51, 0.6)\", \"line\": {\"color\": \"rgba(255, 153, 51, 1.0)\", \"width\": 1}}, \"name\": \"None\", \"orientation\": \"v\", \"text\": \"\", \"type\": \"bar\", \"x\": [\"A\", \"B\", \"C\", \"D\"], \"y\": [100, 100, 100, 100]}],\n",
       "                        {\"legend\": {\"bgcolor\": \"#F5F6F9\", \"font\": {\"color\": \"#4D5663\"}}, \"paper_bgcolor\": \"#F5F6F9\", \"plot_bgcolor\": \"#F5F6F9\", \"template\": {\"data\": {\"bar\": [{\"error_x\": {\"color\": \"#2a3f5f\"}, \"error_y\": {\"color\": \"#2a3f5f\"}, \"marker\": {\"line\": {\"color\": \"#E5ECF6\", \"width\": 0.5}}, \"type\": \"bar\"}], \"barpolar\": [{\"marker\": {\"line\": {\"color\": \"#E5ECF6\", \"width\": 0.5}}, \"type\": \"barpolar\"}], \"carpet\": [{\"aaxis\": {\"endlinecolor\": \"#2a3f5f\", \"gridcolor\": \"white\", \"linecolor\": \"white\", \"minorgridcolor\": \"white\", \"startlinecolor\": \"#2a3f5f\"}, \"baxis\": {\"endlinecolor\": \"#2a3f5f\", \"gridcolor\": \"white\", \"linecolor\": \"white\", \"minorgridcolor\": \"white\", \"startlinecolor\": \"#2a3f5f\"}, \"type\": \"carpet\"}], \"choropleth\": [{\"colorbar\": {\"outlinewidth\": 0, \"ticks\": \"\"}, \"type\": \"choropleth\"}], \"contour\": [{\"colorbar\": {\"outlinewidth\": 0, \"ticks\": \"\"}, \"colorscale\": [[0.0, \"#0d0887\"], [0.1111111111111111, \"#46039f\"], [0.2222222222222222, \"#7201a8\"], [0.3333333333333333, \"#9c179e\"], [0.4444444444444444, \"#bd3786\"], [0.5555555555555556, \"#d8576b\"], [0.6666666666666666, \"#ed7953\"], [0.7777777777777778, \"#fb9f3a\"], [0.8888888888888888, \"#fdca26\"], [1.0, \"#f0f921\"]], \"type\": \"contour\"}], \"contourcarpet\": [{\"colorbar\": {\"outlinewidth\": 0, \"ticks\": \"\"}, \"type\": \"contourcarpet\"}], \"heatmap\": [{\"colorbar\": {\"outlinewidth\": 0, \"ticks\": \"\"}, \"colorscale\": [[0.0, \"#0d0887\"], [0.1111111111111111, \"#46039f\"], [0.2222222222222222, \"#7201a8\"], [0.3333333333333333, \"#9c179e\"], [0.4444444444444444, \"#bd3786\"], [0.5555555555555556, \"#d8576b\"], [0.6666666666666666, \"#ed7953\"], [0.7777777777777778, \"#fb9f3a\"], [0.8888888888888888, \"#fdca26\"], [1.0, \"#f0f921\"]], \"type\": \"heatmap\"}], \"heatmapgl\": [{\"colorbar\": {\"outlinewidth\": 0, \"ticks\": \"\"}, \"colorscale\": [[0.0, \"#0d0887\"], [0.1111111111111111, \"#46039f\"], [0.2222222222222222, \"#7201a8\"], [0.3333333333333333, \"#9c179e\"], [0.4444444444444444, \"#bd3786\"], [0.5555555555555556, \"#d8576b\"], [0.6666666666666666, \"#ed7953\"], [0.7777777777777778, \"#fb9f3a\"], [0.8888888888888888, \"#fdca26\"], [1.0, \"#f0f921\"]], \"type\": \"heatmapgl\"}], \"histogram\": [{\"marker\": {\"colorbar\": {\"outlinewidth\": 0, \"ticks\": \"\"}}, \"type\": \"histogram\"}], \"histogram2d\": [{\"colorbar\": {\"outlinewidth\": 0, \"ticks\": \"\"}, \"colorscale\": [[0.0, \"#0d0887\"], [0.1111111111111111, \"#46039f\"], [0.2222222222222222, \"#7201a8\"], [0.3333333333333333, \"#9c179e\"], [0.4444444444444444, \"#bd3786\"], [0.5555555555555556, \"#d8576b\"], [0.6666666666666666, \"#ed7953\"], [0.7777777777777778, \"#fb9f3a\"], [0.8888888888888888, \"#fdca26\"], [1.0, \"#f0f921\"]], \"type\": \"histogram2d\"}], \"histogram2dcontour\": [{\"colorbar\": {\"outlinewidth\": 0, \"ticks\": \"\"}, \"colorscale\": [[0.0, \"#0d0887\"], [0.1111111111111111, \"#46039f\"], [0.2222222222222222, \"#7201a8\"], [0.3333333333333333, \"#9c179e\"], [0.4444444444444444, \"#bd3786\"], [0.5555555555555556, \"#d8576b\"], [0.6666666666666666, \"#ed7953\"], [0.7777777777777778, \"#fb9f3a\"], [0.8888888888888888, \"#fdca26\"], [1.0, \"#f0f921\"]], \"type\": \"histogram2dcontour\"}], \"mesh3d\": [{\"colorbar\": {\"outlinewidth\": 0, \"ticks\": \"\"}, \"type\": \"mesh3d\"}], \"parcoords\": [{\"line\": {\"colorbar\": {\"outlinewidth\": 0, \"ticks\": \"\"}}, \"type\": \"parcoords\"}], \"pie\": [{\"automargin\": true, \"type\": \"pie\"}], \"scatter\": [{\"marker\": {\"colorbar\": {\"outlinewidth\": 0, \"ticks\": \"\"}}, \"type\": \"scatter\"}], \"scatter3d\": [{\"line\": {\"colorbar\": {\"outlinewidth\": 0, \"ticks\": \"\"}}, \"marker\": {\"colorbar\": {\"outlinewidth\": 0, \"ticks\": \"\"}}, \"type\": \"scatter3d\"}], \"scattercarpet\": [{\"marker\": {\"colorbar\": {\"outlinewidth\": 0, \"ticks\": \"\"}}, \"type\": \"scattercarpet\"}], \"scattergeo\": [{\"marker\": {\"colorbar\": {\"outlinewidth\": 0, \"ticks\": \"\"}}, \"type\": \"scattergeo\"}], \"scattergl\": [{\"marker\": {\"colorbar\": {\"outlinewidth\": 0, \"ticks\": \"\"}}, \"type\": \"scattergl\"}], \"scattermapbox\": [{\"marker\": {\"colorbar\": {\"outlinewidth\": 0, \"ticks\": \"\"}}, \"type\": \"scattermapbox\"}], \"scatterpolar\": [{\"marker\": {\"colorbar\": {\"outlinewidth\": 0, \"ticks\": \"\"}}, \"type\": \"scatterpolar\"}], \"scatterpolargl\": [{\"marker\": {\"colorbar\": {\"outlinewidth\": 0, \"ticks\": \"\"}}, \"type\": \"scatterpolargl\"}], \"scatterternary\": [{\"marker\": {\"colorbar\": {\"outlinewidth\": 0, \"ticks\": \"\"}}, \"type\": \"scatterternary\"}], \"surface\": [{\"colorbar\": {\"outlinewidth\": 0, \"ticks\": \"\"}, \"colorscale\": [[0.0, \"#0d0887\"], [0.1111111111111111, \"#46039f\"], [0.2222222222222222, \"#7201a8\"], [0.3333333333333333, \"#9c179e\"], [0.4444444444444444, \"#bd3786\"], [0.5555555555555556, \"#d8576b\"], [0.6666666666666666, \"#ed7953\"], [0.7777777777777778, \"#fb9f3a\"], [0.8888888888888888, \"#fdca26\"], [1.0, \"#f0f921\"]], \"type\": \"surface\"}], \"table\": [{\"cells\": {\"fill\": {\"color\": \"#EBF0F8\"}, \"line\": {\"color\": \"white\"}}, \"header\": {\"fill\": {\"color\": \"#C8D4E3\"}, \"line\": {\"color\": \"white\"}}, \"type\": \"table\"}]}, \"layout\": {\"annotationdefaults\": {\"arrowcolor\": \"#2a3f5f\", \"arrowhead\": 0, \"arrowwidth\": 1}, \"coloraxis\": {\"colorbar\": {\"outlinewidth\": 0, \"ticks\": \"\"}}, \"colorscale\": {\"diverging\": [[0, \"#8e0152\"], [0.1, \"#c51b7d\"], [0.2, \"#de77ae\"], [0.3, \"#f1b6da\"], [0.4, \"#fde0ef\"], [0.5, \"#f7f7f7\"], [0.6, \"#e6f5d0\"], [0.7, \"#b8e186\"], [0.8, \"#7fbc41\"], [0.9, \"#4d9221\"], [1, \"#276419\"]], \"sequential\": [[0.0, \"#0d0887\"], [0.1111111111111111, \"#46039f\"], [0.2222222222222222, \"#7201a8\"], [0.3333333333333333, \"#9c179e\"], [0.4444444444444444, \"#bd3786\"], [0.5555555555555556, \"#d8576b\"], [0.6666666666666666, \"#ed7953\"], [0.7777777777777778, \"#fb9f3a\"], [0.8888888888888888, \"#fdca26\"], [1.0, \"#f0f921\"]], \"sequentialminus\": [[0.0, \"#0d0887\"], [0.1111111111111111, \"#46039f\"], [0.2222222222222222, \"#7201a8\"], [0.3333333333333333, \"#9c179e\"], [0.4444444444444444, \"#bd3786\"], [0.5555555555555556, \"#d8576b\"], [0.6666666666666666, \"#ed7953\"], [0.7777777777777778, \"#fb9f3a\"], [0.8888888888888888, \"#fdca26\"], [1.0, \"#f0f921\"]]}, \"colorway\": [\"#636efa\", \"#EF553B\", \"#00cc96\", \"#ab63fa\", \"#FFA15A\", \"#19d3f3\", \"#FF6692\", \"#B6E880\", \"#FF97FF\", \"#FECB52\"], \"font\": {\"color\": \"#2a3f5f\"}, \"geo\": {\"bgcolor\": \"white\", \"lakecolor\": \"white\", \"landcolor\": \"#E5ECF6\", \"showlakes\": true, \"showland\": true, \"subunitcolor\": \"white\"}, \"hoverlabel\": {\"align\": \"left\"}, \"hovermode\": \"closest\", \"mapbox\": {\"style\": \"light\"}, \"paper_bgcolor\": \"white\", \"plot_bgcolor\": \"#E5ECF6\", \"polar\": {\"angularaxis\": {\"gridcolor\": \"white\", \"linecolor\": \"white\", \"ticks\": \"\"}, \"bgcolor\": \"#E5ECF6\", \"radialaxis\": {\"gridcolor\": \"white\", \"linecolor\": \"white\", \"ticks\": \"\"}}, \"scene\": {\"xaxis\": {\"backgroundcolor\": \"#E5ECF6\", \"gridcolor\": \"white\", \"gridwidth\": 2, \"linecolor\": \"white\", \"showbackground\": true, \"ticks\": \"\", \"zerolinecolor\": \"white\"}, \"yaxis\": {\"backgroundcolor\": \"#E5ECF6\", \"gridcolor\": \"white\", \"gridwidth\": 2, \"linecolor\": \"white\", \"showbackground\": true, \"ticks\": \"\", \"zerolinecolor\": \"white\"}, \"zaxis\": {\"backgroundcolor\": \"#E5ECF6\", \"gridcolor\": \"white\", \"gridwidth\": 2, \"linecolor\": \"white\", \"showbackground\": true, \"ticks\": \"\", \"zerolinecolor\": \"white\"}}, \"shapedefaults\": {\"line\": {\"color\": \"#2a3f5f\"}}, \"ternary\": {\"aaxis\": {\"gridcolor\": \"white\", \"linecolor\": \"white\", \"ticks\": \"\"}, \"baxis\": {\"gridcolor\": \"white\", \"linecolor\": \"white\", \"ticks\": \"\"}, \"bgcolor\": \"#E5ECF6\", \"caxis\": {\"gridcolor\": \"white\", \"linecolor\": \"white\", \"ticks\": \"\"}}, \"title\": {\"x\": 0.05}, \"xaxis\": {\"automargin\": true, \"gridcolor\": \"white\", \"linecolor\": \"white\", \"ticks\": \"\", \"title\": {\"standoff\": 15}, \"zerolinecolor\": \"white\", \"zerolinewidth\": 2}, \"yaxis\": {\"automargin\": true, \"gridcolor\": \"white\", \"linecolor\": \"white\", \"ticks\": \"\", \"title\": {\"standoff\": 15}, \"zerolinecolor\": \"white\", \"zerolinewidth\": 2}}}, \"title\": {\"font\": {\"color\": \"#4D5663\"}}, \"xaxis\": {\"gridcolor\": \"#E1E5ED\", \"showgrid\": true, \"tickfont\": {\"color\": \"#4D5663\"}, \"title\": {\"font\": {\"color\": \"#4D5663\"}, \"text\": \"\"}, \"zerolinecolor\": \"#E1E5ED\"}, \"yaxis\": {\"gridcolor\": \"#E1E5ED\", \"showgrid\": true, \"tickfont\": {\"color\": \"#4D5663\"}, \"title\": {\"font\": {\"color\": \"#4D5663\"}, \"text\": \"\"}, \"zerolinecolor\": \"#E1E5ED\"}},\n",
       "                        {\"showLink\": true, \"linkText\": \"Export to plot.ly\", \"plotlyServerURL\": \"https://plot.ly\", \"responsive\": true}\n",
       "                    ).then(function(){\n",
       "                            \n",
       "var gd = document.getElementById('407c506e-cae0-4d87-aeb5-31d99b1315a9');\n",
       "var x = new MutationObserver(function (mutations, observer) {{\n",
       "        var display = window.getComputedStyle(gd).display;\n",
       "        if (!display || display === 'none') {{\n",
       "            console.log([gd, 'removed!']);\n",
       "            Plotly.purge(gd);\n",
       "            observer.disconnect();\n",
       "        }}\n",
       "}});\n",
       "\n",
       "// Listen for the removal of the full notebook cells\n",
       "var notebookContainer = gd.closest('#notebook-container');\n",
       "if (notebookContainer) {{\n",
       "    x.observe(notebookContainer, {childList: true});\n",
       "}}\n",
       "\n",
       "// Listen for the clearing of the current output cell\n",
       "var outputEl = gd.closest('.output');\n",
       "if (outputEl) {{\n",
       "    x.observe(outputEl, {childList: true});\n",
       "}}\n",
       "\n",
       "                        })\n",
       "                };\n",
       "                });\n",
       "            </script>\n",
       "        </div>"
      ]
     },
     "metadata": {},
     "output_type": "display_data"
    }
   ],
   "source": [
    "df.count().iplot(kind='bar')"
   ]
  },
  {
   "cell_type": "markdown",
   "metadata": {},
   "source": [
    "## Boxplots"
   ]
  },
  {
   "cell_type": "code",
   "execution_count": 13,
   "metadata": {},
   "outputs": [
    {
     "data": {
      "application/vnd.plotly.v1+json": {
       "config": {
        "linkText": "Export to plot.ly",
        "plotlyServerURL": "https://plot.ly",
        "showLink": true
       },
       "data": [
        {
         "boxpoints": false,
         "line": {
          "width": 1.3
         },
         "marker": {
          "color": "rgba(255, 153, 51, 1.0)"
         },
         "name": "A",
         "orientation": "v",
         "type": "box",
         "y": [
          0.8154349543945048,
          1.6452615952148095,
          1.4537812287057956,
          0.10104178737084112,
          0.5656271670462576,
          -0.25532938206558614,
          -0.4325104653515167,
          1.410127965092189,
          1.1470488251728317,
          0.657072548948607,
          0.03982381590751122,
          -0.21945492705686911,
          -0.42813566220156773,
          0.06912887060307056,
          0.48019535501818067,
          0.7335677864552974,
          1.0413248888755484,
          -0.5834104170250821,
          1.4848271676888816,
          0.7826869752115855,
          -0.39749806587397724,
          -0.4027652996072739,
          0.11747667683869219,
          1.238907705657658,
          1.0712834977929915,
          -1.7600443375466999,
          -1.3937101578182822,
          -1.3249680614763732,
          -1.0077691729223197,
          -0.7584747658795038,
          0.5724593892766379,
          1.5492788163962405,
          -1.0910998243990073,
          1.4290362767631684,
          -3.01125804668789,
          -0.2356489680791908,
          -0.3116139523330637,
          -0.9183548126980127,
          0.7923927375118476,
          -1.5804414859407747,
          0.7733345351849514,
          -1.6465243274195123,
          0.27138733583592134,
          -0.19599767388768868,
          0.08106265270112785,
          0.06469965591392358,
          -0.43539719559085543,
          1.5156592705706176,
          0.38031968497822216,
          -1.5324652462793011,
          -1.3962548417854277,
          -1.4663549169819599,
          1.9896722879077047,
          -0.7717337568947867,
          -1.13236110225189,
          -1.983359999513528,
          1.2842340509586827,
          -2.0291627701880537,
          -0.48903035521972266,
          -0.5663571786022973,
          -1.4787610440318093,
          -1.3673892416503333,
          0.27523611036305795,
          0.3501442071324475,
          1.235531610348585,
          0.1314814665497779,
          0.07079226273988824,
          0.6346690086353665,
          1.6029044452742762,
          0.7958708765295324,
          -0.25947577521444265,
          0.5375822712081678,
          0.2677775263639807,
          1.2943918451644172,
          -1.6438371037085036,
          0.37032225334665586,
          0.6780896656500484,
          -1.1068649644088242,
          0.4849669680836155,
          -0.7702270297591995,
          -0.1956237096802853,
          -0.409540567007104,
          0.9543777747548079,
          0.0715623984057711,
          0.4120689159764619,
          -0.9477583953020565,
          -1.2988864592853377,
          2.134583178546349,
          0.6607329716768912,
          0.5860135769330493,
          -0.30059906687024285,
          0.10162323095318798,
          0.8690560540307614,
          -1.469999613146916,
          -0.8016006773462353,
          0.7391997728218646,
          -0.29700677585812657,
          0.3977489712256264,
          1.308580860583779,
          0.8677685903326755
         ]
        },
        {
         "boxpoints": false,
         "line": {
          "width": 1.3
         },
         "marker": {
          "color": "rgba(55, 128, 191, 1.0)"
         },
         "name": "B",
         "orientation": "v",
         "type": "box",
         "y": [
          -0.6808447835617709,
          0.6086340681502943,
          1.7294677222632684,
          1.4829871712031955,
          1.1980976114694604,
          1.0795709221769332,
          -2.047286648226565,
          -1.515872438409646,
          0.11471042412393548,
          0.019125214933381172,
          -0.29828557402151373,
          0.6678947909266109,
          0.5106155584983674,
          0.7647578163776658,
          1.8476202168111207,
          1.565461666184497,
          0.2644348097255944,
          -0.15408202979369123,
          -2.618397980162209,
          1.1561649742011062,
          -0.10410162246810392,
          -1.1033110243512538,
          -0.27424587213996177,
          0.08080606289820692,
          -1.0284610964640115,
          1.150848640078469,
          -0.25638096017062206,
          -1.3452740294819456,
          -0.8726175451755096,
          -0.2579052619972397,
          -0.7474841473560414,
          0.8216094650234528,
          -0.4691579203738452,
          -1.0209429509692105,
          -0.40491326209742795,
          1.2208179000282928,
          0.5494620131503947,
          -0.7068872181482015,
          -0.3339529855897427,
          -0.35773835515151436,
          0.30747456293859887,
          -1.7462557392925255,
          -2.3433306042719826,
          -0.5574714680621268,
          0.7125922057087234,
          0.709555785308249,
          1.5876508083553502,
          -1.0557115951468214,
          0.42056797157878995,
          -1.6991616216509176,
          0.7039003209473632,
          0.14454012533595098,
          1.352757377147084,
          -0.6035879623453446,
          0.7274800691249542,
          -0.8983221928954063,
          0.7011998235137612,
          -1.0469207731767092,
          -0.21650716957079683,
          -0.2288275245869777,
          0.9993381258043659,
          -1.2311548841515694,
          -0.5274804076228069,
          -0.6877047486831002,
          0.20934430042105764,
          1.2564779849253123,
          0.3294673953075221,
          1.255900250776616,
          -0.5193008892325174,
          -0.06741165979455997,
          -1.0834021867660262,
          1.1335311403921011,
          0.7801861037662863,
          -0.2996263227805359,
          0.7451519159275286,
          -0.8027114457470523,
          1.2942954747888622,
          -0.2632261742274699,
          1.5242870545704912,
          -0.9063535187405944,
          0.07134433670959506,
          -0.4579896341837586,
          0.7652378935287566,
          -1.3013707444167233,
          0.9578139607872342,
          -0.43515395155639264,
          0.44700821446023037,
          0.3154919434012009,
          -1.3843643663770469,
          -0.3963047121461804,
          -1.1195850187543466,
          -0.6162495255049156,
          -0.16047808659235244,
          -0.35823082603392176,
          -2.83004813388019,
          0.39142399755480306,
          0.744533277886588,
          1.4980898982513313,
          -0.619242852250382,
          -0.4117319533653246
         ]
        },
        {
         "boxpoints": false,
         "line": {
          "width": 1.3
         },
         "marker": {
          "color": "rgba(50, 171, 96, 1.0)"
         },
         "name": "C",
         "orientation": "v",
         "type": "box",
         "y": [
          -0.19861040847960834,
          0.6155622946641103,
          1.2872901796916114,
          1.4194891172392805,
          -0.9859017008147671,
          0.9245224391726357,
          0.6463775059900948,
          1.5915671964891147,
          -0.8977442526038514,
          0.9162690220696864,
          -1.2521648339035634,
          0.17108313665856179,
          -0.8225154247380878,
          -1.3112593486999171,
          0.7407250362390038,
          1.4740674690844737,
          -0.6601150729713889,
          -0.5578375755191152,
          -2.1894702900780914,
          -0.588340431559108,
          1.514080440819475,
          -0.7299235556020048,
          0.41897279644500285,
          -3.4084687990672915,
          0.12727543916222567,
          -0.30773577811794056,
          1.0052274973580921,
          0.1853485649185546,
          0.8988088568141913,
          -1.1330796491736908,
          0.24930224008192384,
          0.26609211962146323,
          0.7695454139743126,
          -1.1300590707791835,
          0.7650521647342426,
          -0.24174666204703957,
          0.6104774399030497,
          1.1039589289977767,
          0.20104749596089153,
          2.054039108948895,
          0.8926354968530256,
          -0.41355757538879107,
          0.08564518468261126,
          -0.2950978199383714,
          -0.7073112898905407,
          -0.35243625691127667,
          1.7315352966871789,
          -0.9251727112524073,
          -0.14719555622013525,
          0.19692953751524125,
          -1.0681233122552802,
          2.070898531533443,
          0.5453168572689424,
          -0.6950352852157083,
          -0.29259859968830276,
          -0.333780746340659,
          0.5769664028050115,
          0.00610747840937299,
          -0.45505224721921106,
          2.1290402969245963,
          0.15264552768300563,
          -0.7143525324642657,
          0.3462035753217853,
          1.0780227242980152,
          2.5649793844775965,
          2.0366816733076836,
          -0.6846342066191933,
          0.5343446687775403,
          0.615899513547256,
          0.9577088956877992,
          -1.3651264794867468,
          0.15631349576486503,
          -0.9409451543534072,
          3.154338073243348,
          0.5460296499385444,
          -0.41687285713806893,
          -1.3511518821052952,
          0.6911227385777586,
          -0.2992722490310666,
          0.09222282804187809,
          -0.688639694569738,
          -1.3827311601637085,
          -0.2901630234637458,
          0.4091294128999816,
          0.27148182322355857,
          0.9898224108699564,
          -0.04499371876859188,
          0.6395090823330405,
          -1.5924084318925336,
          -1.4390899668003918,
          1.3056851024901948,
          0.16097649357923066,
          0.7862643341566637,
          -1.277541998099019,
          -0.2692318108956053,
          -0.39034214588907107,
          -0.9913478404671141,
          -0.9422513414974476,
          -0.3527559925160878,
          0.7946425075358607
         ]
        },
        {
         "boxpoints": false,
         "line": {
          "width": 1.3
         },
         "marker": {
          "color": "rgba(128, 0, 128, 1.0)"
         },
         "name": "D",
         "orientation": "v",
         "type": "box",
         "y": [
          -0.21990703525130298,
          -0.049689561602856494,
          1.874691874288394,
          -0.8344382619761017,
          -2.1306832166983183,
          0.6265371213970423,
          1.0859168659466991,
          -1.2275538443974425,
          0.1737416706348923,
          0.1313789226370697,
          0.5432733139223881,
          -0.800923101057814,
          1.069364212002665,
          -1.2550343787009426,
          -0.9693542187852816,
          1.5146823301906613,
          -1.7440520979667784,
          -0.15555580838250746,
          -0.15357426885738384,
          0.07617990754042157,
          0.10211693363053963,
          -0.4197977904468551,
          0.4204222270553229,
          0.5570848522445528,
          -0.6302479075854474,
          -1.250348020882477,
          0.23710551015546857,
          -2.0537553215504007,
          1.946339661403928,
          1.1816302165587953,
          -0.26769796940093527,
          0.61345143204849,
          0.6758589403903051,
          -0.05442261497368895,
          2.383375909628837,
          -0.5091342041146455,
          0.46046540128868396,
          1.7898196664899166,
          0.3748561083657561,
          -1.7276525793941506,
          -0.23782052527179362,
          -0.6529104499115704,
          0.7514155053440179,
          1.1140212156781235,
          0.687490792165121,
          1.084090286853055,
          -0.5278882089302872,
          1.182936057880046,
          0.2579147225302808,
          1.6464562545497536,
          -0.7844569442251179,
          0.8592546209081057,
          0.4062638854490274,
          -1.217341280649748,
          0.5117390597245324,
          0.06019083280628012,
          1.0719027571543804,
          0.7434116572998305,
          0.798271370150843,
          0.7684015298205931,
          -0.18975300662138234,
          -0.11201124865727527,
          -0.46413736223057067,
          -0.3248079756849357,
          1.0479414654529444,
          1.0859161784001026,
          0.13590614438951143,
          -0.55924119638295,
          0.20768956589560142,
          -0.9412307273537324,
          -0.42894672147291846,
          -0.2785464227741624,
          -0.11459123362472971,
          0.8827076047639845,
          -1.2565058546253465,
          -2.0131896265002966,
          -0.6340907842744344,
          0.49928120531553427,
          0.8401612251336205,
          0.4921624788130426,
          1.1954056514566311,
          -1.5175520940955796,
          0.565002151832653,
          0.280048758440951,
          1.5753732222327776,
          -0.3575503125701353,
          -0.11413093143438113,
          -0.6141278598016296,
          -0.21688702505821683,
          2.006869774143835,
          0.08708816779334472,
          0.4480157659652641,
          -0.4895023583656577,
          1.1124777033166462,
          0.6561082877525128,
          -0.7232758310728444,
          -0.7179877124149497,
          -0.15909059725174857,
          0.5173572513883516,
          -0.8324054453144404
         ]
        }
       ],
       "layout": {
        "legend": {
         "bgcolor": "#F5F6F9",
         "font": {
          "color": "#4D5663"
         }
        },
        "paper_bgcolor": "#F5F6F9",
        "plot_bgcolor": "#F5F6F9",
        "template": {
         "data": {
          "bar": [
           {
            "error_x": {
             "color": "#2a3f5f"
            },
            "error_y": {
             "color": "#2a3f5f"
            },
            "marker": {
             "line": {
              "color": "#E5ECF6",
              "width": 0.5
             }
            },
            "type": "bar"
           }
          ],
          "barpolar": [
           {
            "marker": {
             "line": {
              "color": "#E5ECF6",
              "width": 0.5
             }
            },
            "type": "barpolar"
           }
          ],
          "carpet": [
           {
            "aaxis": {
             "endlinecolor": "#2a3f5f",
             "gridcolor": "white",
             "linecolor": "white",
             "minorgridcolor": "white",
             "startlinecolor": "#2a3f5f"
            },
            "baxis": {
             "endlinecolor": "#2a3f5f",
             "gridcolor": "white",
             "linecolor": "white",
             "minorgridcolor": "white",
             "startlinecolor": "#2a3f5f"
            },
            "type": "carpet"
           }
          ],
          "choropleth": [
           {
            "colorbar": {
             "outlinewidth": 0,
             "ticks": ""
            },
            "type": "choropleth"
           }
          ],
          "contour": [
           {
            "colorbar": {
             "outlinewidth": 0,
             "ticks": ""
            },
            "colorscale": [
             [
              0,
              "#0d0887"
             ],
             [
              0.1111111111111111,
              "#46039f"
             ],
             [
              0.2222222222222222,
              "#7201a8"
             ],
             [
              0.3333333333333333,
              "#9c179e"
             ],
             [
              0.4444444444444444,
              "#bd3786"
             ],
             [
              0.5555555555555556,
              "#d8576b"
             ],
             [
              0.6666666666666666,
              "#ed7953"
             ],
             [
              0.7777777777777778,
              "#fb9f3a"
             ],
             [
              0.8888888888888888,
              "#fdca26"
             ],
             [
              1,
              "#f0f921"
             ]
            ],
            "type": "contour"
           }
          ],
          "contourcarpet": [
           {
            "colorbar": {
             "outlinewidth": 0,
             "ticks": ""
            },
            "type": "contourcarpet"
           }
          ],
          "heatmap": [
           {
            "colorbar": {
             "outlinewidth": 0,
             "ticks": ""
            },
            "colorscale": [
             [
              0,
              "#0d0887"
             ],
             [
              0.1111111111111111,
              "#46039f"
             ],
             [
              0.2222222222222222,
              "#7201a8"
             ],
             [
              0.3333333333333333,
              "#9c179e"
             ],
             [
              0.4444444444444444,
              "#bd3786"
             ],
             [
              0.5555555555555556,
              "#d8576b"
             ],
             [
              0.6666666666666666,
              "#ed7953"
             ],
             [
              0.7777777777777778,
              "#fb9f3a"
             ],
             [
              0.8888888888888888,
              "#fdca26"
             ],
             [
              1,
              "#f0f921"
             ]
            ],
            "type": "heatmap"
           }
          ],
          "heatmapgl": [
           {
            "colorbar": {
             "outlinewidth": 0,
             "ticks": ""
            },
            "colorscale": [
             [
              0,
              "#0d0887"
             ],
             [
              0.1111111111111111,
              "#46039f"
             ],
             [
              0.2222222222222222,
              "#7201a8"
             ],
             [
              0.3333333333333333,
              "#9c179e"
             ],
             [
              0.4444444444444444,
              "#bd3786"
             ],
             [
              0.5555555555555556,
              "#d8576b"
             ],
             [
              0.6666666666666666,
              "#ed7953"
             ],
             [
              0.7777777777777778,
              "#fb9f3a"
             ],
             [
              0.8888888888888888,
              "#fdca26"
             ],
             [
              1,
              "#f0f921"
             ]
            ],
            "type": "heatmapgl"
           }
          ],
          "histogram": [
           {
            "marker": {
             "colorbar": {
              "outlinewidth": 0,
              "ticks": ""
             }
            },
            "type": "histogram"
           }
          ],
          "histogram2d": [
           {
            "colorbar": {
             "outlinewidth": 0,
             "ticks": ""
            },
            "colorscale": [
             [
              0,
              "#0d0887"
             ],
             [
              0.1111111111111111,
              "#46039f"
             ],
             [
              0.2222222222222222,
              "#7201a8"
             ],
             [
              0.3333333333333333,
              "#9c179e"
             ],
             [
              0.4444444444444444,
              "#bd3786"
             ],
             [
              0.5555555555555556,
              "#d8576b"
             ],
             [
              0.6666666666666666,
              "#ed7953"
             ],
             [
              0.7777777777777778,
              "#fb9f3a"
             ],
             [
              0.8888888888888888,
              "#fdca26"
             ],
             [
              1,
              "#f0f921"
             ]
            ],
            "type": "histogram2d"
           }
          ],
          "histogram2dcontour": [
           {
            "colorbar": {
             "outlinewidth": 0,
             "ticks": ""
            },
            "colorscale": [
             [
              0,
              "#0d0887"
             ],
             [
              0.1111111111111111,
              "#46039f"
             ],
             [
              0.2222222222222222,
              "#7201a8"
             ],
             [
              0.3333333333333333,
              "#9c179e"
             ],
             [
              0.4444444444444444,
              "#bd3786"
             ],
             [
              0.5555555555555556,
              "#d8576b"
             ],
             [
              0.6666666666666666,
              "#ed7953"
             ],
             [
              0.7777777777777778,
              "#fb9f3a"
             ],
             [
              0.8888888888888888,
              "#fdca26"
             ],
             [
              1,
              "#f0f921"
             ]
            ],
            "type": "histogram2dcontour"
           }
          ],
          "mesh3d": [
           {
            "colorbar": {
             "outlinewidth": 0,
             "ticks": ""
            },
            "type": "mesh3d"
           }
          ],
          "parcoords": [
           {
            "line": {
             "colorbar": {
              "outlinewidth": 0,
              "ticks": ""
             }
            },
            "type": "parcoords"
           }
          ],
          "pie": [
           {
            "automargin": true,
            "type": "pie"
           }
          ],
          "scatter": [
           {
            "marker": {
             "colorbar": {
              "outlinewidth": 0,
              "ticks": ""
             }
            },
            "type": "scatter"
           }
          ],
          "scatter3d": [
           {
            "line": {
             "colorbar": {
              "outlinewidth": 0,
              "ticks": ""
             }
            },
            "marker": {
             "colorbar": {
              "outlinewidth": 0,
              "ticks": ""
             }
            },
            "type": "scatter3d"
           }
          ],
          "scattercarpet": [
           {
            "marker": {
             "colorbar": {
              "outlinewidth": 0,
              "ticks": ""
             }
            },
            "type": "scattercarpet"
           }
          ],
          "scattergeo": [
           {
            "marker": {
             "colorbar": {
              "outlinewidth": 0,
              "ticks": ""
             }
            },
            "type": "scattergeo"
           }
          ],
          "scattergl": [
           {
            "marker": {
             "colorbar": {
              "outlinewidth": 0,
              "ticks": ""
             }
            },
            "type": "scattergl"
           }
          ],
          "scattermapbox": [
           {
            "marker": {
             "colorbar": {
              "outlinewidth": 0,
              "ticks": ""
             }
            },
            "type": "scattermapbox"
           }
          ],
          "scatterpolar": [
           {
            "marker": {
             "colorbar": {
              "outlinewidth": 0,
              "ticks": ""
             }
            },
            "type": "scatterpolar"
           }
          ],
          "scatterpolargl": [
           {
            "marker": {
             "colorbar": {
              "outlinewidth": 0,
              "ticks": ""
             }
            },
            "type": "scatterpolargl"
           }
          ],
          "scatterternary": [
           {
            "marker": {
             "colorbar": {
              "outlinewidth": 0,
              "ticks": ""
             }
            },
            "type": "scatterternary"
           }
          ],
          "surface": [
           {
            "colorbar": {
             "outlinewidth": 0,
             "ticks": ""
            },
            "colorscale": [
             [
              0,
              "#0d0887"
             ],
             [
              0.1111111111111111,
              "#46039f"
             ],
             [
              0.2222222222222222,
              "#7201a8"
             ],
             [
              0.3333333333333333,
              "#9c179e"
             ],
             [
              0.4444444444444444,
              "#bd3786"
             ],
             [
              0.5555555555555556,
              "#d8576b"
             ],
             [
              0.6666666666666666,
              "#ed7953"
             ],
             [
              0.7777777777777778,
              "#fb9f3a"
             ],
             [
              0.8888888888888888,
              "#fdca26"
             ],
             [
              1,
              "#f0f921"
             ]
            ],
            "type": "surface"
           }
          ],
          "table": [
           {
            "cells": {
             "fill": {
              "color": "#EBF0F8"
             },
             "line": {
              "color": "white"
             }
            },
            "header": {
             "fill": {
              "color": "#C8D4E3"
             },
             "line": {
              "color": "white"
             }
            },
            "type": "table"
           }
          ]
         },
         "layout": {
          "annotationdefaults": {
           "arrowcolor": "#2a3f5f",
           "arrowhead": 0,
           "arrowwidth": 1
          },
          "coloraxis": {
           "colorbar": {
            "outlinewidth": 0,
            "ticks": ""
           }
          },
          "colorscale": {
           "diverging": [
            [
             0,
             "#8e0152"
            ],
            [
             0.1,
             "#c51b7d"
            ],
            [
             0.2,
             "#de77ae"
            ],
            [
             0.3,
             "#f1b6da"
            ],
            [
             0.4,
             "#fde0ef"
            ],
            [
             0.5,
             "#f7f7f7"
            ],
            [
             0.6,
             "#e6f5d0"
            ],
            [
             0.7,
             "#b8e186"
            ],
            [
             0.8,
             "#7fbc41"
            ],
            [
             0.9,
             "#4d9221"
            ],
            [
             1,
             "#276419"
            ]
           ],
           "sequential": [
            [
             0,
             "#0d0887"
            ],
            [
             0.1111111111111111,
             "#46039f"
            ],
            [
             0.2222222222222222,
             "#7201a8"
            ],
            [
             0.3333333333333333,
             "#9c179e"
            ],
            [
             0.4444444444444444,
             "#bd3786"
            ],
            [
             0.5555555555555556,
             "#d8576b"
            ],
            [
             0.6666666666666666,
             "#ed7953"
            ],
            [
             0.7777777777777778,
             "#fb9f3a"
            ],
            [
             0.8888888888888888,
             "#fdca26"
            ],
            [
             1,
             "#f0f921"
            ]
           ],
           "sequentialminus": [
            [
             0,
             "#0d0887"
            ],
            [
             0.1111111111111111,
             "#46039f"
            ],
            [
             0.2222222222222222,
             "#7201a8"
            ],
            [
             0.3333333333333333,
             "#9c179e"
            ],
            [
             0.4444444444444444,
             "#bd3786"
            ],
            [
             0.5555555555555556,
             "#d8576b"
            ],
            [
             0.6666666666666666,
             "#ed7953"
            ],
            [
             0.7777777777777778,
             "#fb9f3a"
            ],
            [
             0.8888888888888888,
             "#fdca26"
            ],
            [
             1,
             "#f0f921"
            ]
           ]
          },
          "colorway": [
           "#636efa",
           "#EF553B",
           "#00cc96",
           "#ab63fa",
           "#FFA15A",
           "#19d3f3",
           "#FF6692",
           "#B6E880",
           "#FF97FF",
           "#FECB52"
          ],
          "font": {
           "color": "#2a3f5f"
          },
          "geo": {
           "bgcolor": "white",
           "lakecolor": "white",
           "landcolor": "#E5ECF6",
           "showlakes": true,
           "showland": true,
           "subunitcolor": "white"
          },
          "hoverlabel": {
           "align": "left"
          },
          "hovermode": "closest",
          "mapbox": {
           "style": "light"
          },
          "paper_bgcolor": "white",
          "plot_bgcolor": "#E5ECF6",
          "polar": {
           "angularaxis": {
            "gridcolor": "white",
            "linecolor": "white",
            "ticks": ""
           },
           "bgcolor": "#E5ECF6",
           "radialaxis": {
            "gridcolor": "white",
            "linecolor": "white",
            "ticks": ""
           }
          },
          "scene": {
           "xaxis": {
            "backgroundcolor": "#E5ECF6",
            "gridcolor": "white",
            "gridwidth": 2,
            "linecolor": "white",
            "showbackground": true,
            "ticks": "",
            "zerolinecolor": "white"
           },
           "yaxis": {
            "backgroundcolor": "#E5ECF6",
            "gridcolor": "white",
            "gridwidth": 2,
            "linecolor": "white",
            "showbackground": true,
            "ticks": "",
            "zerolinecolor": "white"
           },
           "zaxis": {
            "backgroundcolor": "#E5ECF6",
            "gridcolor": "white",
            "gridwidth": 2,
            "linecolor": "white",
            "showbackground": true,
            "ticks": "",
            "zerolinecolor": "white"
           }
          },
          "shapedefaults": {
           "line": {
            "color": "#2a3f5f"
           }
          },
          "ternary": {
           "aaxis": {
            "gridcolor": "white",
            "linecolor": "white",
            "ticks": ""
           },
           "baxis": {
            "gridcolor": "white",
            "linecolor": "white",
            "ticks": ""
           },
           "bgcolor": "#E5ECF6",
           "caxis": {
            "gridcolor": "white",
            "linecolor": "white",
            "ticks": ""
           }
          },
          "title": {
           "x": 0.05
          },
          "xaxis": {
           "automargin": true,
           "gridcolor": "white",
           "linecolor": "white",
           "ticks": "",
           "title": {
            "standoff": 15
           },
           "zerolinecolor": "white",
           "zerolinewidth": 2
          },
          "yaxis": {
           "automargin": true,
           "gridcolor": "white",
           "linecolor": "white",
           "ticks": "",
           "title": {
            "standoff": 15
           },
           "zerolinecolor": "white",
           "zerolinewidth": 2
          }
         }
        },
        "title": {
         "font": {
          "color": "#4D5663"
         }
        },
        "xaxis": {
         "gridcolor": "#E1E5ED",
         "showgrid": true,
         "tickfont": {
          "color": "#4D5663"
         },
         "title": {
          "font": {
           "color": "#4D5663"
          },
          "text": ""
         },
         "zerolinecolor": "#E1E5ED"
        },
        "yaxis": {
         "gridcolor": "#E1E5ED",
         "showgrid": true,
         "tickfont": {
          "color": "#4D5663"
         },
         "title": {
          "font": {
           "color": "#4D5663"
          },
          "text": ""
         },
         "zerolinecolor": "#E1E5ED"
        }
       }
      },
      "text/html": [
       "<div>\n",
       "        \n",
       "        \n",
       "            <div id=\"0f8d74f8-081b-40a3-a62f-ff783b0a859c\" class=\"plotly-graph-div\" style=\"height:525px; width:100%;\"></div>\n",
       "            <script type=\"text/javascript\">\n",
       "                require([\"plotly\"], function(Plotly) {\n",
       "                    window.PLOTLYENV=window.PLOTLYENV || {};\n",
       "                    window.PLOTLYENV.BASE_URL='https://plot.ly';\n",
       "                    \n",
       "                if (document.getElementById(\"0f8d74f8-081b-40a3-a62f-ff783b0a859c\")) {\n",
       "                    Plotly.newPlot(\n",
       "                        '0f8d74f8-081b-40a3-a62f-ff783b0a859c',\n",
       "                        [{\"boxpoints\": false, \"line\": {\"width\": 1.3}, \"marker\": {\"color\": \"rgba(255, 153, 51, 1.0)\"}, \"name\": \"A\", \"orientation\": \"v\", \"type\": \"box\", \"y\": [0.8154349543945048, 1.6452615952148095, 1.4537812287057956, 0.10104178737084112, 0.5656271670462576, -0.25532938206558614, -0.4325104653515167, 1.410127965092189, 1.1470488251728317, 0.657072548948607, 0.03982381590751122, -0.21945492705686911, -0.42813566220156773, 0.06912887060307056, 0.48019535501818067, 0.7335677864552974, 1.0413248888755484, -0.5834104170250821, 1.4848271676888816, 0.7826869752115855, -0.39749806587397724, -0.4027652996072739, 0.11747667683869219, 1.238907705657658, 1.0712834977929915, -1.7600443375466999, -1.3937101578182822, -1.3249680614763732, -1.0077691729223197, -0.7584747658795038, 0.5724593892766379, 1.5492788163962405, -1.0910998243990073, 1.4290362767631684, -3.01125804668789, -0.2356489680791908, -0.3116139523330637, -0.9183548126980127, 0.7923927375118476, -1.5804414859407747, 0.7733345351849514, -1.6465243274195123, 0.27138733583592134, -0.19599767388768868, 0.08106265270112785, 0.06469965591392358, -0.43539719559085543, 1.5156592705706176, 0.38031968497822216, -1.5324652462793011, -1.3962548417854277, -1.4663549169819599, 1.9896722879077047, -0.7717337568947867, -1.13236110225189, -1.983359999513528, 1.2842340509586827, -2.0291627701880537, -0.48903035521972266, -0.5663571786022973, -1.4787610440318093, -1.3673892416503333, 0.27523611036305795, 0.3501442071324475, 1.235531610348585, 0.1314814665497779, 0.07079226273988824, 0.6346690086353665, 1.6029044452742762, 0.7958708765295324, -0.25947577521444265, 0.5375822712081678, 0.2677775263639807, 1.2943918451644172, -1.6438371037085036, 0.37032225334665586, 0.6780896656500484, -1.1068649644088242, 0.4849669680836155, -0.7702270297591995, -0.1956237096802853, -0.409540567007104, 0.9543777747548079, 0.0715623984057711, 0.4120689159764619, -0.9477583953020565, -1.2988864592853377, 2.134583178546349, 0.6607329716768912, 0.5860135769330493, -0.30059906687024285, 0.10162323095318798, 0.8690560540307614, -1.469999613146916, -0.8016006773462353, 0.7391997728218646, -0.29700677585812657, 0.3977489712256264, 1.308580860583779, 0.8677685903326755]}, {\"boxpoints\": false, \"line\": {\"width\": 1.3}, \"marker\": {\"color\": \"rgba(55, 128, 191, 1.0)\"}, \"name\": \"B\", \"orientation\": \"v\", \"type\": \"box\", \"y\": [-0.6808447835617709, 0.6086340681502943, 1.7294677222632684, 1.4829871712031955, 1.1980976114694604, 1.0795709221769332, -2.047286648226565, -1.515872438409646, 0.11471042412393548, 0.019125214933381172, -0.29828557402151373, 0.6678947909266109, 0.5106155584983674, 0.7647578163776658, 1.8476202168111207, 1.565461666184497, 0.2644348097255944, -0.15408202979369123, -2.618397980162209, 1.1561649742011062, -0.10410162246810392, -1.1033110243512538, -0.27424587213996177, 0.08080606289820692, -1.0284610964640115, 1.150848640078469, -0.25638096017062206, -1.3452740294819456, -0.8726175451755096, -0.2579052619972397, -0.7474841473560414, 0.8216094650234528, -0.4691579203738452, -1.0209429509692105, -0.40491326209742795, 1.2208179000282928, 0.5494620131503947, -0.7068872181482015, -0.3339529855897427, -0.35773835515151436, 0.30747456293859887, -1.7462557392925255, -2.3433306042719826, -0.5574714680621268, 0.7125922057087234, 0.709555785308249, 1.5876508083553502, -1.0557115951468214, 0.42056797157878995, -1.6991616216509176, 0.7039003209473632, 0.14454012533595098, 1.352757377147084, -0.6035879623453446, 0.7274800691249542, -0.8983221928954063, 0.7011998235137612, -1.0469207731767092, -0.21650716957079683, -0.2288275245869777, 0.9993381258043659, -1.2311548841515694, -0.5274804076228069, -0.6877047486831002, 0.20934430042105764, 1.2564779849253123, 0.3294673953075221, 1.255900250776616, -0.5193008892325174, -0.06741165979455997, -1.0834021867660262, 1.1335311403921011, 0.7801861037662863, -0.2996263227805359, 0.7451519159275286, -0.8027114457470523, 1.2942954747888622, -0.2632261742274699, 1.5242870545704912, -0.9063535187405944, 0.07134433670959506, -0.4579896341837586, 0.7652378935287566, -1.3013707444167233, 0.9578139607872342, -0.43515395155639264, 0.44700821446023037, 0.3154919434012009, -1.3843643663770469, -0.3963047121461804, -1.1195850187543466, -0.6162495255049156, -0.16047808659235244, -0.35823082603392176, -2.83004813388019, 0.39142399755480306, 0.744533277886588, 1.4980898982513313, -0.619242852250382, -0.4117319533653246]}, {\"boxpoints\": false, \"line\": {\"width\": 1.3}, \"marker\": {\"color\": \"rgba(50, 171, 96, 1.0)\"}, \"name\": \"C\", \"orientation\": \"v\", \"type\": \"box\", \"y\": [-0.19861040847960834, 0.6155622946641103, 1.2872901796916114, 1.4194891172392805, -0.9859017008147671, 0.9245224391726357, 0.6463775059900948, 1.5915671964891147, -0.8977442526038514, 0.9162690220696864, -1.2521648339035634, 0.17108313665856179, -0.8225154247380878, -1.3112593486999171, 0.7407250362390038, 1.4740674690844737, -0.6601150729713889, -0.5578375755191152, -2.1894702900780914, -0.588340431559108, 1.514080440819475, -0.7299235556020048, 0.41897279644500285, -3.4084687990672915, 0.12727543916222567, -0.30773577811794056, 1.0052274973580921, 0.1853485649185546, 0.8988088568141913, -1.1330796491736908, 0.24930224008192384, 0.26609211962146323, 0.7695454139743126, -1.1300590707791835, 0.7650521647342426, -0.24174666204703957, 0.6104774399030497, 1.1039589289977767, 0.20104749596089153, 2.054039108948895, 0.8926354968530256, -0.41355757538879107, 0.08564518468261126, -0.2950978199383714, -0.7073112898905407, -0.35243625691127667, 1.7315352966871789, -0.9251727112524073, -0.14719555622013525, 0.19692953751524125, -1.0681233122552802, 2.070898531533443, 0.5453168572689424, -0.6950352852157083, -0.29259859968830276, -0.333780746340659, 0.5769664028050115, 0.00610747840937299, -0.45505224721921106, 2.1290402969245963, 0.15264552768300563, -0.7143525324642657, 0.3462035753217853, 1.0780227242980152, 2.5649793844775965, 2.0366816733076836, -0.6846342066191933, 0.5343446687775403, 0.615899513547256, 0.9577088956877992, -1.3651264794867468, 0.15631349576486503, -0.9409451543534072, 3.154338073243348, 0.5460296499385444, -0.41687285713806893, -1.3511518821052952, 0.6911227385777586, -0.2992722490310666, 0.09222282804187809, -0.688639694569738, -1.3827311601637085, -0.2901630234637458, 0.4091294128999816, 0.27148182322355857, 0.9898224108699564, -0.04499371876859188, 0.6395090823330405, -1.5924084318925336, -1.4390899668003918, 1.3056851024901948, 0.16097649357923066, 0.7862643341566637, -1.277541998099019, -0.2692318108956053, -0.39034214588907107, -0.9913478404671141, -0.9422513414974476, -0.3527559925160878, 0.7946425075358607]}, {\"boxpoints\": false, \"line\": {\"width\": 1.3}, \"marker\": {\"color\": \"rgba(128, 0, 128, 1.0)\"}, \"name\": \"D\", \"orientation\": \"v\", \"type\": \"box\", \"y\": [-0.21990703525130298, -0.049689561602856494, 1.874691874288394, -0.8344382619761017, -2.1306832166983183, 0.6265371213970423, 1.0859168659466991, -1.2275538443974425, 0.1737416706348923, 0.1313789226370697, 0.5432733139223881, -0.800923101057814, 1.069364212002665, -1.2550343787009426, -0.9693542187852816, 1.5146823301906613, -1.7440520979667784, -0.15555580838250746, -0.15357426885738384, 0.07617990754042157, 0.10211693363053963, -0.4197977904468551, 0.4204222270553229, 0.5570848522445528, -0.6302479075854474, -1.250348020882477, 0.23710551015546857, -2.0537553215504007, 1.946339661403928, 1.1816302165587953, -0.26769796940093527, 0.61345143204849, 0.6758589403903051, -0.05442261497368895, 2.383375909628837, -0.5091342041146455, 0.46046540128868396, 1.7898196664899166, 0.3748561083657561, -1.7276525793941506, -0.23782052527179362, -0.6529104499115704, 0.7514155053440179, 1.1140212156781235, 0.687490792165121, 1.084090286853055, -0.5278882089302872, 1.182936057880046, 0.2579147225302808, 1.6464562545497536, -0.7844569442251179, 0.8592546209081057, 0.4062638854490274, -1.217341280649748, 0.5117390597245324, 0.06019083280628012, 1.0719027571543804, 0.7434116572998305, 0.798271370150843, 0.7684015298205931, -0.18975300662138234, -0.11201124865727527, -0.46413736223057067, -0.3248079756849357, 1.0479414654529444, 1.0859161784001026, 0.13590614438951143, -0.55924119638295, 0.20768956589560142, -0.9412307273537324, -0.42894672147291846, -0.2785464227741624, -0.11459123362472971, 0.8827076047639845, -1.2565058546253465, -2.0131896265002966, -0.6340907842744344, 0.49928120531553427, 0.8401612251336205, 0.4921624788130426, 1.1954056514566311, -1.5175520940955796, 0.565002151832653, 0.280048758440951, 1.5753732222327776, -0.3575503125701353, -0.11413093143438113, -0.6141278598016296, -0.21688702505821683, 2.006869774143835, 0.08708816779334472, 0.4480157659652641, -0.4895023583656577, 1.1124777033166462, 0.6561082877525128, -0.7232758310728444, -0.7179877124149497, -0.15909059725174857, 0.5173572513883516, -0.8324054453144404]}],\n",
       "                        {\"legend\": {\"bgcolor\": \"#F5F6F9\", \"font\": {\"color\": \"#4D5663\"}}, \"paper_bgcolor\": \"#F5F6F9\", \"plot_bgcolor\": \"#F5F6F9\", \"template\": {\"data\": {\"bar\": [{\"error_x\": {\"color\": \"#2a3f5f\"}, \"error_y\": {\"color\": \"#2a3f5f\"}, \"marker\": {\"line\": {\"color\": \"#E5ECF6\", \"width\": 0.5}}, \"type\": \"bar\"}], \"barpolar\": [{\"marker\": {\"line\": {\"color\": \"#E5ECF6\", \"width\": 0.5}}, \"type\": \"barpolar\"}], \"carpet\": [{\"aaxis\": {\"endlinecolor\": \"#2a3f5f\", \"gridcolor\": \"white\", \"linecolor\": \"white\", \"minorgridcolor\": \"white\", \"startlinecolor\": \"#2a3f5f\"}, \"baxis\": {\"endlinecolor\": \"#2a3f5f\", \"gridcolor\": \"white\", \"linecolor\": \"white\", \"minorgridcolor\": \"white\", \"startlinecolor\": \"#2a3f5f\"}, \"type\": \"carpet\"}], \"choropleth\": [{\"colorbar\": {\"outlinewidth\": 0, \"ticks\": \"\"}, \"type\": \"choropleth\"}], \"contour\": [{\"colorbar\": {\"outlinewidth\": 0, \"ticks\": \"\"}, \"colorscale\": [[0.0, \"#0d0887\"], [0.1111111111111111, \"#46039f\"], [0.2222222222222222, \"#7201a8\"], [0.3333333333333333, \"#9c179e\"], [0.4444444444444444, \"#bd3786\"], [0.5555555555555556, \"#d8576b\"], [0.6666666666666666, \"#ed7953\"], [0.7777777777777778, \"#fb9f3a\"], [0.8888888888888888, \"#fdca26\"], [1.0, \"#f0f921\"]], \"type\": \"contour\"}], \"contourcarpet\": [{\"colorbar\": {\"outlinewidth\": 0, \"ticks\": \"\"}, \"type\": \"contourcarpet\"}], \"heatmap\": [{\"colorbar\": {\"outlinewidth\": 0, \"ticks\": \"\"}, \"colorscale\": [[0.0, \"#0d0887\"], [0.1111111111111111, \"#46039f\"], [0.2222222222222222, \"#7201a8\"], [0.3333333333333333, \"#9c179e\"], [0.4444444444444444, \"#bd3786\"], [0.5555555555555556, \"#d8576b\"], [0.6666666666666666, \"#ed7953\"], [0.7777777777777778, \"#fb9f3a\"], [0.8888888888888888, \"#fdca26\"], [1.0, \"#f0f921\"]], \"type\": \"heatmap\"}], \"heatmapgl\": [{\"colorbar\": {\"outlinewidth\": 0, \"ticks\": \"\"}, \"colorscale\": [[0.0, \"#0d0887\"], [0.1111111111111111, \"#46039f\"], [0.2222222222222222, \"#7201a8\"], [0.3333333333333333, \"#9c179e\"], [0.4444444444444444, \"#bd3786\"], [0.5555555555555556, \"#d8576b\"], [0.6666666666666666, \"#ed7953\"], [0.7777777777777778, \"#fb9f3a\"], [0.8888888888888888, \"#fdca26\"], [1.0, \"#f0f921\"]], \"type\": \"heatmapgl\"}], \"histogram\": [{\"marker\": {\"colorbar\": {\"outlinewidth\": 0, \"ticks\": \"\"}}, \"type\": \"histogram\"}], \"histogram2d\": [{\"colorbar\": {\"outlinewidth\": 0, \"ticks\": \"\"}, \"colorscale\": [[0.0, \"#0d0887\"], [0.1111111111111111, \"#46039f\"], [0.2222222222222222, \"#7201a8\"], [0.3333333333333333, \"#9c179e\"], [0.4444444444444444, \"#bd3786\"], [0.5555555555555556, \"#d8576b\"], [0.6666666666666666, \"#ed7953\"], [0.7777777777777778, \"#fb9f3a\"], [0.8888888888888888, \"#fdca26\"], [1.0, \"#f0f921\"]], \"type\": \"histogram2d\"}], \"histogram2dcontour\": [{\"colorbar\": {\"outlinewidth\": 0, \"ticks\": \"\"}, \"colorscale\": [[0.0, \"#0d0887\"], [0.1111111111111111, \"#46039f\"], [0.2222222222222222, \"#7201a8\"], [0.3333333333333333, \"#9c179e\"], [0.4444444444444444, \"#bd3786\"], [0.5555555555555556, \"#d8576b\"], [0.6666666666666666, \"#ed7953\"], [0.7777777777777778, \"#fb9f3a\"], [0.8888888888888888, \"#fdca26\"], [1.0, \"#f0f921\"]], \"type\": \"histogram2dcontour\"}], \"mesh3d\": [{\"colorbar\": {\"outlinewidth\": 0, \"ticks\": \"\"}, \"type\": \"mesh3d\"}], \"parcoords\": [{\"line\": {\"colorbar\": {\"outlinewidth\": 0, \"ticks\": \"\"}}, \"type\": \"parcoords\"}], \"pie\": [{\"automargin\": true, \"type\": \"pie\"}], \"scatter\": [{\"marker\": {\"colorbar\": {\"outlinewidth\": 0, \"ticks\": \"\"}}, \"type\": \"scatter\"}], \"scatter3d\": [{\"line\": {\"colorbar\": {\"outlinewidth\": 0, \"ticks\": \"\"}}, \"marker\": {\"colorbar\": {\"outlinewidth\": 0, \"ticks\": \"\"}}, \"type\": \"scatter3d\"}], \"scattercarpet\": [{\"marker\": {\"colorbar\": {\"outlinewidth\": 0, \"ticks\": \"\"}}, \"type\": \"scattercarpet\"}], \"scattergeo\": [{\"marker\": {\"colorbar\": {\"outlinewidth\": 0, \"ticks\": \"\"}}, \"type\": \"scattergeo\"}], \"scattergl\": [{\"marker\": {\"colorbar\": {\"outlinewidth\": 0, \"ticks\": \"\"}}, \"type\": \"scattergl\"}], \"scattermapbox\": [{\"marker\": {\"colorbar\": {\"outlinewidth\": 0, \"ticks\": \"\"}}, \"type\": \"scattermapbox\"}], \"scatterpolar\": [{\"marker\": {\"colorbar\": {\"outlinewidth\": 0, \"ticks\": \"\"}}, \"type\": \"scatterpolar\"}], \"scatterpolargl\": [{\"marker\": {\"colorbar\": {\"outlinewidth\": 0, \"ticks\": \"\"}}, \"type\": \"scatterpolargl\"}], \"scatterternary\": [{\"marker\": {\"colorbar\": {\"outlinewidth\": 0, \"ticks\": \"\"}}, \"type\": \"scatterternary\"}], \"surface\": [{\"colorbar\": {\"outlinewidth\": 0, \"ticks\": \"\"}, \"colorscale\": [[0.0, \"#0d0887\"], [0.1111111111111111, \"#46039f\"], [0.2222222222222222, \"#7201a8\"], [0.3333333333333333, \"#9c179e\"], [0.4444444444444444, \"#bd3786\"], [0.5555555555555556, \"#d8576b\"], [0.6666666666666666, \"#ed7953\"], [0.7777777777777778, \"#fb9f3a\"], [0.8888888888888888, \"#fdca26\"], [1.0, \"#f0f921\"]], \"type\": \"surface\"}], \"table\": [{\"cells\": {\"fill\": {\"color\": \"#EBF0F8\"}, \"line\": {\"color\": \"white\"}}, \"header\": {\"fill\": {\"color\": \"#C8D4E3\"}, \"line\": {\"color\": \"white\"}}, \"type\": \"table\"}]}, \"layout\": {\"annotationdefaults\": {\"arrowcolor\": \"#2a3f5f\", \"arrowhead\": 0, \"arrowwidth\": 1}, \"coloraxis\": {\"colorbar\": {\"outlinewidth\": 0, \"ticks\": \"\"}}, \"colorscale\": {\"diverging\": [[0, \"#8e0152\"], [0.1, \"#c51b7d\"], [0.2, \"#de77ae\"], [0.3, \"#f1b6da\"], [0.4, \"#fde0ef\"], [0.5, \"#f7f7f7\"], [0.6, \"#e6f5d0\"], [0.7, \"#b8e186\"], [0.8, \"#7fbc41\"], [0.9, \"#4d9221\"], [1, \"#276419\"]], \"sequential\": [[0.0, \"#0d0887\"], [0.1111111111111111, \"#46039f\"], [0.2222222222222222, \"#7201a8\"], [0.3333333333333333, \"#9c179e\"], [0.4444444444444444, \"#bd3786\"], [0.5555555555555556, \"#d8576b\"], [0.6666666666666666, \"#ed7953\"], [0.7777777777777778, \"#fb9f3a\"], [0.8888888888888888, \"#fdca26\"], [1.0, \"#f0f921\"]], \"sequentialminus\": [[0.0, \"#0d0887\"], [0.1111111111111111, \"#46039f\"], [0.2222222222222222, \"#7201a8\"], [0.3333333333333333, \"#9c179e\"], [0.4444444444444444, \"#bd3786\"], [0.5555555555555556, \"#d8576b\"], [0.6666666666666666, \"#ed7953\"], [0.7777777777777778, \"#fb9f3a\"], [0.8888888888888888, \"#fdca26\"], [1.0, \"#f0f921\"]]}, \"colorway\": [\"#636efa\", \"#EF553B\", \"#00cc96\", \"#ab63fa\", \"#FFA15A\", \"#19d3f3\", \"#FF6692\", \"#B6E880\", \"#FF97FF\", \"#FECB52\"], \"font\": {\"color\": \"#2a3f5f\"}, \"geo\": {\"bgcolor\": \"white\", \"lakecolor\": \"white\", \"landcolor\": \"#E5ECF6\", \"showlakes\": true, \"showland\": true, \"subunitcolor\": \"white\"}, \"hoverlabel\": {\"align\": \"left\"}, \"hovermode\": \"closest\", \"mapbox\": {\"style\": \"light\"}, \"paper_bgcolor\": \"white\", \"plot_bgcolor\": \"#E5ECF6\", \"polar\": {\"angularaxis\": {\"gridcolor\": \"white\", \"linecolor\": \"white\", \"ticks\": \"\"}, \"bgcolor\": \"#E5ECF6\", \"radialaxis\": {\"gridcolor\": \"white\", \"linecolor\": \"white\", \"ticks\": \"\"}}, \"scene\": {\"xaxis\": {\"backgroundcolor\": \"#E5ECF6\", \"gridcolor\": \"white\", \"gridwidth\": 2, \"linecolor\": \"white\", \"showbackground\": true, \"ticks\": \"\", \"zerolinecolor\": \"white\"}, \"yaxis\": {\"backgroundcolor\": \"#E5ECF6\", \"gridcolor\": \"white\", \"gridwidth\": 2, \"linecolor\": \"white\", \"showbackground\": true, \"ticks\": \"\", \"zerolinecolor\": \"white\"}, \"zaxis\": {\"backgroundcolor\": \"#E5ECF6\", \"gridcolor\": \"white\", \"gridwidth\": 2, \"linecolor\": \"white\", \"showbackground\": true, \"ticks\": \"\", \"zerolinecolor\": \"white\"}}, \"shapedefaults\": {\"line\": {\"color\": \"#2a3f5f\"}}, \"ternary\": {\"aaxis\": {\"gridcolor\": \"white\", \"linecolor\": \"white\", \"ticks\": \"\"}, \"baxis\": {\"gridcolor\": \"white\", \"linecolor\": \"white\", \"ticks\": \"\"}, \"bgcolor\": \"#E5ECF6\", \"caxis\": {\"gridcolor\": \"white\", \"linecolor\": \"white\", \"ticks\": \"\"}}, \"title\": {\"x\": 0.05}, \"xaxis\": {\"automargin\": true, \"gridcolor\": \"white\", \"linecolor\": \"white\", \"ticks\": \"\", \"title\": {\"standoff\": 15}, \"zerolinecolor\": \"white\", \"zerolinewidth\": 2}, \"yaxis\": {\"automargin\": true, \"gridcolor\": \"white\", \"linecolor\": \"white\", \"ticks\": \"\", \"title\": {\"standoff\": 15}, \"zerolinecolor\": \"white\", \"zerolinewidth\": 2}}}, \"title\": {\"font\": {\"color\": \"#4D5663\"}}, \"xaxis\": {\"gridcolor\": \"#E1E5ED\", \"showgrid\": true, \"tickfont\": {\"color\": \"#4D5663\"}, \"title\": {\"font\": {\"color\": \"#4D5663\"}, \"text\": \"\"}, \"zerolinecolor\": \"#E1E5ED\"}, \"yaxis\": {\"gridcolor\": \"#E1E5ED\", \"showgrid\": true, \"tickfont\": {\"color\": \"#4D5663\"}, \"title\": {\"font\": {\"color\": \"#4D5663\"}, \"text\": \"\"}, \"zerolinecolor\": \"#E1E5ED\"}},\n",
       "                        {\"showLink\": true, \"linkText\": \"Export to plot.ly\", \"plotlyServerURL\": \"https://plot.ly\", \"responsive\": true}\n",
       "                    ).then(function(){\n",
       "                            \n",
       "var gd = document.getElementById('0f8d74f8-081b-40a3-a62f-ff783b0a859c');\n",
       "var x = new MutationObserver(function (mutations, observer) {{\n",
       "        var display = window.getComputedStyle(gd).display;\n",
       "        if (!display || display === 'none') {{\n",
       "            console.log([gd, 'removed!']);\n",
       "            Plotly.purge(gd);\n",
       "            observer.disconnect();\n",
       "        }}\n",
       "}});\n",
       "\n",
       "// Listen for the removal of the full notebook cells\n",
       "var notebookContainer = gd.closest('#notebook-container');\n",
       "if (notebookContainer) {{\n",
       "    x.observe(notebookContainer, {childList: true});\n",
       "}}\n",
       "\n",
       "// Listen for the clearing of the current output cell\n",
       "var outputEl = gd.closest('.output');\n",
       "if (outputEl) {{\n",
       "    x.observe(outputEl, {childList: true});\n",
       "}}\n",
       "\n",
       "                        })\n",
       "                };\n",
       "                });\n",
       "            </script>\n",
       "        </div>"
      ]
     },
     "metadata": {},
     "output_type": "display_data"
    }
   ],
   "source": [
    "df.iplot(kind='box')"
   ]
  },
  {
   "cell_type": "markdown",
   "metadata": {},
   "source": [
    "## 3d Surface"
   ]
  },
  {
   "cell_type": "code",
   "execution_count": 14,
   "metadata": {},
   "outputs": [
    {
     "data": {
      "application/vnd.plotly.v1+json": {
       "config": {
        "linkText": "Export to plot.ly",
        "plotlyServerURL": "https://plot.ly",
        "showLink": true
       },
       "data": [
        {
         "colorscale": [
          [
           0,
           "rgb(165,0,38)"
          ],
          [
           0.1,
           "rgb(215,48,39)"
          ],
          [
           0.2,
           "rgb(244,109,67)"
          ],
          [
           0.3,
           "rgb(253,174,97)"
          ],
          [
           0.4,
           "rgb(254,224,144)"
          ],
          [
           0.5,
           "rgb(255,255,191)"
          ],
          [
           0.6,
           "rgb(224,243,248)"
          ],
          [
           0.7,
           "rgb(171,217,233)"
          ],
          [
           0.8,
           "rgb(116,173,209)"
          ],
          [
           0.9,
           "rgb(69,117,180)"
          ],
          [
           1,
           "rgb(49,54,149)"
          ]
         ],
         "type": "surface",
         "x": [
          0,
          1,
          2,
          3,
          4
         ],
         "y": [
          "x",
          "y",
          "z"
         ],
         "z": [
          [
           1,
           2,
           3,
           4,
           5
          ],
          [
           10,
           20,
           30,
           20,
           10
          ],
          [
           5,
           4,
           3,
           2,
           1
          ]
         ]
        }
       ],
       "layout": {
        "legend": {
         "bgcolor": "#F5F6F9",
         "font": {
          "color": "#4D5663"
         }
        },
        "paper_bgcolor": "#F5F6F9",
        "plot_bgcolor": "#F5F6F9",
        "template": {
         "data": {
          "bar": [
           {
            "error_x": {
             "color": "#2a3f5f"
            },
            "error_y": {
             "color": "#2a3f5f"
            },
            "marker": {
             "line": {
              "color": "#E5ECF6",
              "width": 0.5
             }
            },
            "type": "bar"
           }
          ],
          "barpolar": [
           {
            "marker": {
             "line": {
              "color": "#E5ECF6",
              "width": 0.5
             }
            },
            "type": "barpolar"
           }
          ],
          "carpet": [
           {
            "aaxis": {
             "endlinecolor": "#2a3f5f",
             "gridcolor": "white",
             "linecolor": "white",
             "minorgridcolor": "white",
             "startlinecolor": "#2a3f5f"
            },
            "baxis": {
             "endlinecolor": "#2a3f5f",
             "gridcolor": "white",
             "linecolor": "white",
             "minorgridcolor": "white",
             "startlinecolor": "#2a3f5f"
            },
            "type": "carpet"
           }
          ],
          "choropleth": [
           {
            "colorbar": {
             "outlinewidth": 0,
             "ticks": ""
            },
            "type": "choropleth"
           }
          ],
          "contour": [
           {
            "colorbar": {
             "outlinewidth": 0,
             "ticks": ""
            },
            "colorscale": [
             [
              0,
              "#0d0887"
             ],
             [
              0.1111111111111111,
              "#46039f"
             ],
             [
              0.2222222222222222,
              "#7201a8"
             ],
             [
              0.3333333333333333,
              "#9c179e"
             ],
             [
              0.4444444444444444,
              "#bd3786"
             ],
             [
              0.5555555555555556,
              "#d8576b"
             ],
             [
              0.6666666666666666,
              "#ed7953"
             ],
             [
              0.7777777777777778,
              "#fb9f3a"
             ],
             [
              0.8888888888888888,
              "#fdca26"
             ],
             [
              1,
              "#f0f921"
             ]
            ],
            "type": "contour"
           }
          ],
          "contourcarpet": [
           {
            "colorbar": {
             "outlinewidth": 0,
             "ticks": ""
            },
            "type": "contourcarpet"
           }
          ],
          "heatmap": [
           {
            "colorbar": {
             "outlinewidth": 0,
             "ticks": ""
            },
            "colorscale": [
             [
              0,
              "#0d0887"
             ],
             [
              0.1111111111111111,
              "#46039f"
             ],
             [
              0.2222222222222222,
              "#7201a8"
             ],
             [
              0.3333333333333333,
              "#9c179e"
             ],
             [
              0.4444444444444444,
              "#bd3786"
             ],
             [
              0.5555555555555556,
              "#d8576b"
             ],
             [
              0.6666666666666666,
              "#ed7953"
             ],
             [
              0.7777777777777778,
              "#fb9f3a"
             ],
             [
              0.8888888888888888,
              "#fdca26"
             ],
             [
              1,
              "#f0f921"
             ]
            ],
            "type": "heatmap"
           }
          ],
          "heatmapgl": [
           {
            "colorbar": {
             "outlinewidth": 0,
             "ticks": ""
            },
            "colorscale": [
             [
              0,
              "#0d0887"
             ],
             [
              0.1111111111111111,
              "#46039f"
             ],
             [
              0.2222222222222222,
              "#7201a8"
             ],
             [
              0.3333333333333333,
              "#9c179e"
             ],
             [
              0.4444444444444444,
              "#bd3786"
             ],
             [
              0.5555555555555556,
              "#d8576b"
             ],
             [
              0.6666666666666666,
              "#ed7953"
             ],
             [
              0.7777777777777778,
              "#fb9f3a"
             ],
             [
              0.8888888888888888,
              "#fdca26"
             ],
             [
              1,
              "#f0f921"
             ]
            ],
            "type": "heatmapgl"
           }
          ],
          "histogram": [
           {
            "marker": {
             "colorbar": {
              "outlinewidth": 0,
              "ticks": ""
             }
            },
            "type": "histogram"
           }
          ],
          "histogram2d": [
           {
            "colorbar": {
             "outlinewidth": 0,
             "ticks": ""
            },
            "colorscale": [
             [
              0,
              "#0d0887"
             ],
             [
              0.1111111111111111,
              "#46039f"
             ],
             [
              0.2222222222222222,
              "#7201a8"
             ],
             [
              0.3333333333333333,
              "#9c179e"
             ],
             [
              0.4444444444444444,
              "#bd3786"
             ],
             [
              0.5555555555555556,
              "#d8576b"
             ],
             [
              0.6666666666666666,
              "#ed7953"
             ],
             [
              0.7777777777777778,
              "#fb9f3a"
             ],
             [
              0.8888888888888888,
              "#fdca26"
             ],
             [
              1,
              "#f0f921"
             ]
            ],
            "type": "histogram2d"
           }
          ],
          "histogram2dcontour": [
           {
            "colorbar": {
             "outlinewidth": 0,
             "ticks": ""
            },
            "colorscale": [
             [
              0,
              "#0d0887"
             ],
             [
              0.1111111111111111,
              "#46039f"
             ],
             [
              0.2222222222222222,
              "#7201a8"
             ],
             [
              0.3333333333333333,
              "#9c179e"
             ],
             [
              0.4444444444444444,
              "#bd3786"
             ],
             [
              0.5555555555555556,
              "#d8576b"
             ],
             [
              0.6666666666666666,
              "#ed7953"
             ],
             [
              0.7777777777777778,
              "#fb9f3a"
             ],
             [
              0.8888888888888888,
              "#fdca26"
             ],
             [
              1,
              "#f0f921"
             ]
            ],
            "type": "histogram2dcontour"
           }
          ],
          "mesh3d": [
           {
            "colorbar": {
             "outlinewidth": 0,
             "ticks": ""
            },
            "type": "mesh3d"
           }
          ],
          "parcoords": [
           {
            "line": {
             "colorbar": {
              "outlinewidth": 0,
              "ticks": ""
             }
            },
            "type": "parcoords"
           }
          ],
          "pie": [
           {
            "automargin": true,
            "type": "pie"
           }
          ],
          "scatter": [
           {
            "marker": {
             "colorbar": {
              "outlinewidth": 0,
              "ticks": ""
             }
            },
            "type": "scatter"
           }
          ],
          "scatter3d": [
           {
            "line": {
             "colorbar": {
              "outlinewidth": 0,
              "ticks": ""
             }
            },
            "marker": {
             "colorbar": {
              "outlinewidth": 0,
              "ticks": ""
             }
            },
            "type": "scatter3d"
           }
          ],
          "scattercarpet": [
           {
            "marker": {
             "colorbar": {
              "outlinewidth": 0,
              "ticks": ""
             }
            },
            "type": "scattercarpet"
           }
          ],
          "scattergeo": [
           {
            "marker": {
             "colorbar": {
              "outlinewidth": 0,
              "ticks": ""
             }
            },
            "type": "scattergeo"
           }
          ],
          "scattergl": [
           {
            "marker": {
             "colorbar": {
              "outlinewidth": 0,
              "ticks": ""
             }
            },
            "type": "scattergl"
           }
          ],
          "scattermapbox": [
           {
            "marker": {
             "colorbar": {
              "outlinewidth": 0,
              "ticks": ""
             }
            },
            "type": "scattermapbox"
           }
          ],
          "scatterpolar": [
           {
            "marker": {
             "colorbar": {
              "outlinewidth": 0,
              "ticks": ""
             }
            },
            "type": "scatterpolar"
           }
          ],
          "scatterpolargl": [
           {
            "marker": {
             "colorbar": {
              "outlinewidth": 0,
              "ticks": ""
             }
            },
            "type": "scatterpolargl"
           }
          ],
          "scatterternary": [
           {
            "marker": {
             "colorbar": {
              "outlinewidth": 0,
              "ticks": ""
             }
            },
            "type": "scatterternary"
           }
          ],
          "surface": [
           {
            "colorbar": {
             "outlinewidth": 0,
             "ticks": ""
            },
            "colorscale": [
             [
              0,
              "#0d0887"
             ],
             [
              0.1111111111111111,
              "#46039f"
             ],
             [
              0.2222222222222222,
              "#7201a8"
             ],
             [
              0.3333333333333333,
              "#9c179e"
             ],
             [
              0.4444444444444444,
              "#bd3786"
             ],
             [
              0.5555555555555556,
              "#d8576b"
             ],
             [
              0.6666666666666666,
              "#ed7953"
             ],
             [
              0.7777777777777778,
              "#fb9f3a"
             ],
             [
              0.8888888888888888,
              "#fdca26"
             ],
             [
              1,
              "#f0f921"
             ]
            ],
            "type": "surface"
           }
          ],
          "table": [
           {
            "cells": {
             "fill": {
              "color": "#EBF0F8"
             },
             "line": {
              "color": "white"
             }
            },
            "header": {
             "fill": {
              "color": "#C8D4E3"
             },
             "line": {
              "color": "white"
             }
            },
            "type": "table"
           }
          ]
         },
         "layout": {
          "annotationdefaults": {
           "arrowcolor": "#2a3f5f",
           "arrowhead": 0,
           "arrowwidth": 1
          },
          "coloraxis": {
           "colorbar": {
            "outlinewidth": 0,
            "ticks": ""
           }
          },
          "colorscale": {
           "diverging": [
            [
             0,
             "#8e0152"
            ],
            [
             0.1,
             "#c51b7d"
            ],
            [
             0.2,
             "#de77ae"
            ],
            [
             0.3,
             "#f1b6da"
            ],
            [
             0.4,
             "#fde0ef"
            ],
            [
             0.5,
             "#f7f7f7"
            ],
            [
             0.6,
             "#e6f5d0"
            ],
            [
             0.7,
             "#b8e186"
            ],
            [
             0.8,
             "#7fbc41"
            ],
            [
             0.9,
             "#4d9221"
            ],
            [
             1,
             "#276419"
            ]
           ],
           "sequential": [
            [
             0,
             "#0d0887"
            ],
            [
             0.1111111111111111,
             "#46039f"
            ],
            [
             0.2222222222222222,
             "#7201a8"
            ],
            [
             0.3333333333333333,
             "#9c179e"
            ],
            [
             0.4444444444444444,
             "#bd3786"
            ],
            [
             0.5555555555555556,
             "#d8576b"
            ],
            [
             0.6666666666666666,
             "#ed7953"
            ],
            [
             0.7777777777777778,
             "#fb9f3a"
            ],
            [
             0.8888888888888888,
             "#fdca26"
            ],
            [
             1,
             "#f0f921"
            ]
           ],
           "sequentialminus": [
            [
             0,
             "#0d0887"
            ],
            [
             0.1111111111111111,
             "#46039f"
            ],
            [
             0.2222222222222222,
             "#7201a8"
            ],
            [
             0.3333333333333333,
             "#9c179e"
            ],
            [
             0.4444444444444444,
             "#bd3786"
            ],
            [
             0.5555555555555556,
             "#d8576b"
            ],
            [
             0.6666666666666666,
             "#ed7953"
            ],
            [
             0.7777777777777778,
             "#fb9f3a"
            ],
            [
             0.8888888888888888,
             "#fdca26"
            ],
            [
             1,
             "#f0f921"
            ]
           ]
          },
          "colorway": [
           "#636efa",
           "#EF553B",
           "#00cc96",
           "#ab63fa",
           "#FFA15A",
           "#19d3f3",
           "#FF6692",
           "#B6E880",
           "#FF97FF",
           "#FECB52"
          ],
          "font": {
           "color": "#2a3f5f"
          },
          "geo": {
           "bgcolor": "white",
           "lakecolor": "white",
           "landcolor": "#E5ECF6",
           "showlakes": true,
           "showland": true,
           "subunitcolor": "white"
          },
          "hoverlabel": {
           "align": "left"
          },
          "hovermode": "closest",
          "mapbox": {
           "style": "light"
          },
          "paper_bgcolor": "white",
          "plot_bgcolor": "#E5ECF6",
          "polar": {
           "angularaxis": {
            "gridcolor": "white",
            "linecolor": "white",
            "ticks": ""
           },
           "bgcolor": "#E5ECF6",
           "radialaxis": {
            "gridcolor": "white",
            "linecolor": "white",
            "ticks": ""
           }
          },
          "scene": {
           "xaxis": {
            "backgroundcolor": "#E5ECF6",
            "gridcolor": "white",
            "gridwidth": 2,
            "linecolor": "white",
            "showbackground": true,
            "ticks": "",
            "zerolinecolor": "white"
           },
           "yaxis": {
            "backgroundcolor": "#E5ECF6",
            "gridcolor": "white",
            "gridwidth": 2,
            "linecolor": "white",
            "showbackground": true,
            "ticks": "",
            "zerolinecolor": "white"
           },
           "zaxis": {
            "backgroundcolor": "#E5ECF6",
            "gridcolor": "white",
            "gridwidth": 2,
            "linecolor": "white",
            "showbackground": true,
            "ticks": "",
            "zerolinecolor": "white"
           }
          },
          "shapedefaults": {
           "line": {
            "color": "#2a3f5f"
           }
          },
          "ternary": {
           "aaxis": {
            "gridcolor": "white",
            "linecolor": "white",
            "ticks": ""
           },
           "baxis": {
            "gridcolor": "white",
            "linecolor": "white",
            "ticks": ""
           },
           "bgcolor": "#E5ECF6",
           "caxis": {
            "gridcolor": "white",
            "linecolor": "white",
            "ticks": ""
           }
          },
          "title": {
           "x": 0.05
          },
          "xaxis": {
           "automargin": true,
           "gridcolor": "white",
           "linecolor": "white",
           "ticks": "",
           "title": {
            "standoff": 15
           },
           "zerolinecolor": "white",
           "zerolinewidth": 2
          },
          "yaxis": {
           "automargin": true,
           "gridcolor": "white",
           "linecolor": "white",
           "ticks": "",
           "title": {
            "standoff": 15
           },
           "zerolinecolor": "white",
           "zerolinewidth": 2
          }
         }
        },
        "title": {
         "font": {
          "color": "#4D5663"
         }
        },
        "xaxis": {
         "gridcolor": "#E1E5ED",
         "showgrid": true,
         "tickfont": {
          "color": "#4D5663"
         },
         "title": {
          "font": {
           "color": "#4D5663"
          },
          "text": ""
         },
         "zerolinecolor": "#E1E5ED"
        },
        "yaxis": {
         "gridcolor": "#E1E5ED",
         "showgrid": true,
         "tickfont": {
          "color": "#4D5663"
         },
         "title": {
          "font": {
           "color": "#4D5663"
          },
          "text": ""
         },
         "zerolinecolor": "#E1E5ED"
        }
       }
      },
      "text/html": [
       "<div>\n",
       "        \n",
       "        \n",
       "            <div id=\"ecc6a1a9-d979-413a-a5cd-797866e5d418\" class=\"plotly-graph-div\" style=\"height:525px; width:100%;\"></div>\n",
       "            <script type=\"text/javascript\">\n",
       "                require([\"plotly\"], function(Plotly) {\n",
       "                    window.PLOTLYENV=window.PLOTLYENV || {};\n",
       "                    window.PLOTLYENV.BASE_URL='https://plot.ly';\n",
       "                    \n",
       "                if (document.getElementById(\"ecc6a1a9-d979-413a-a5cd-797866e5d418\")) {\n",
       "                    Plotly.newPlot(\n",
       "                        'ecc6a1a9-d979-413a-a5cd-797866e5d418',\n",
       "                        [{\"colorscale\": [[0.0, \"rgb(165,0,38)\"], [0.1, \"rgb(215,48,39)\"], [0.2, \"rgb(244,109,67)\"], [0.3, \"rgb(253,174,97)\"], [0.4, \"rgb(254,224,144)\"], [0.5, \"rgb(255,255,191)\"], [0.6, \"rgb(224,243,248)\"], [0.7, \"rgb(171,217,233)\"], [0.8, \"rgb(116,173,209)\"], [0.9, \"rgb(69,117,180)\"], [1.0, \"rgb(49,54,149)\"]], \"type\": \"surface\", \"x\": [0, 1, 2, 3, 4], \"y\": [\"x\", \"y\", \"z\"], \"z\": [[1, 2, 3, 4, 5], [10, 20, 30, 20, 10], [5, 4, 3, 2, 1]]}],\n",
       "                        {\"legend\": {\"bgcolor\": \"#F5F6F9\", \"font\": {\"color\": \"#4D5663\"}}, \"paper_bgcolor\": \"#F5F6F9\", \"plot_bgcolor\": \"#F5F6F9\", \"template\": {\"data\": {\"bar\": [{\"error_x\": {\"color\": \"#2a3f5f\"}, \"error_y\": {\"color\": \"#2a3f5f\"}, \"marker\": {\"line\": {\"color\": \"#E5ECF6\", \"width\": 0.5}}, \"type\": \"bar\"}], \"barpolar\": [{\"marker\": {\"line\": {\"color\": \"#E5ECF6\", \"width\": 0.5}}, \"type\": \"barpolar\"}], \"carpet\": [{\"aaxis\": {\"endlinecolor\": \"#2a3f5f\", \"gridcolor\": \"white\", \"linecolor\": \"white\", \"minorgridcolor\": \"white\", \"startlinecolor\": \"#2a3f5f\"}, \"baxis\": {\"endlinecolor\": \"#2a3f5f\", \"gridcolor\": \"white\", \"linecolor\": \"white\", \"minorgridcolor\": \"white\", \"startlinecolor\": \"#2a3f5f\"}, \"type\": \"carpet\"}], \"choropleth\": [{\"colorbar\": {\"outlinewidth\": 0, \"ticks\": \"\"}, \"type\": \"choropleth\"}], \"contour\": [{\"colorbar\": {\"outlinewidth\": 0, \"ticks\": \"\"}, \"colorscale\": [[0.0, \"#0d0887\"], [0.1111111111111111, \"#46039f\"], [0.2222222222222222, \"#7201a8\"], [0.3333333333333333, \"#9c179e\"], [0.4444444444444444, \"#bd3786\"], [0.5555555555555556, \"#d8576b\"], [0.6666666666666666, \"#ed7953\"], [0.7777777777777778, \"#fb9f3a\"], [0.8888888888888888, \"#fdca26\"], [1.0, \"#f0f921\"]], \"type\": \"contour\"}], \"contourcarpet\": [{\"colorbar\": {\"outlinewidth\": 0, \"ticks\": \"\"}, \"type\": \"contourcarpet\"}], \"heatmap\": [{\"colorbar\": {\"outlinewidth\": 0, \"ticks\": \"\"}, \"colorscale\": [[0.0, \"#0d0887\"], [0.1111111111111111, \"#46039f\"], [0.2222222222222222, \"#7201a8\"], [0.3333333333333333, \"#9c179e\"], [0.4444444444444444, \"#bd3786\"], [0.5555555555555556, \"#d8576b\"], [0.6666666666666666, \"#ed7953\"], [0.7777777777777778, \"#fb9f3a\"], [0.8888888888888888, \"#fdca26\"], [1.0, \"#f0f921\"]], \"type\": \"heatmap\"}], \"heatmapgl\": [{\"colorbar\": {\"outlinewidth\": 0, \"ticks\": \"\"}, \"colorscale\": [[0.0, \"#0d0887\"], [0.1111111111111111, \"#46039f\"], [0.2222222222222222, \"#7201a8\"], [0.3333333333333333, \"#9c179e\"], [0.4444444444444444, \"#bd3786\"], [0.5555555555555556, \"#d8576b\"], [0.6666666666666666, \"#ed7953\"], [0.7777777777777778, \"#fb9f3a\"], [0.8888888888888888, \"#fdca26\"], [1.0, \"#f0f921\"]], \"type\": \"heatmapgl\"}], \"histogram\": [{\"marker\": {\"colorbar\": {\"outlinewidth\": 0, \"ticks\": \"\"}}, \"type\": \"histogram\"}], \"histogram2d\": [{\"colorbar\": {\"outlinewidth\": 0, \"ticks\": \"\"}, \"colorscale\": [[0.0, \"#0d0887\"], [0.1111111111111111, \"#46039f\"], [0.2222222222222222, \"#7201a8\"], [0.3333333333333333, \"#9c179e\"], [0.4444444444444444, \"#bd3786\"], [0.5555555555555556, \"#d8576b\"], [0.6666666666666666, \"#ed7953\"], [0.7777777777777778, \"#fb9f3a\"], [0.8888888888888888, \"#fdca26\"], [1.0, \"#f0f921\"]], \"type\": \"histogram2d\"}], \"histogram2dcontour\": [{\"colorbar\": {\"outlinewidth\": 0, \"ticks\": \"\"}, \"colorscale\": [[0.0, \"#0d0887\"], [0.1111111111111111, \"#46039f\"], [0.2222222222222222, \"#7201a8\"], [0.3333333333333333, \"#9c179e\"], [0.4444444444444444, \"#bd3786\"], [0.5555555555555556, \"#d8576b\"], [0.6666666666666666, \"#ed7953\"], [0.7777777777777778, \"#fb9f3a\"], [0.8888888888888888, \"#fdca26\"], [1.0, \"#f0f921\"]], \"type\": \"histogram2dcontour\"}], \"mesh3d\": [{\"colorbar\": {\"outlinewidth\": 0, \"ticks\": \"\"}, \"type\": \"mesh3d\"}], \"parcoords\": [{\"line\": {\"colorbar\": {\"outlinewidth\": 0, \"ticks\": \"\"}}, \"type\": \"parcoords\"}], \"pie\": [{\"automargin\": true, \"type\": \"pie\"}], \"scatter\": [{\"marker\": {\"colorbar\": {\"outlinewidth\": 0, \"ticks\": \"\"}}, \"type\": \"scatter\"}], \"scatter3d\": [{\"line\": {\"colorbar\": {\"outlinewidth\": 0, \"ticks\": \"\"}}, \"marker\": {\"colorbar\": {\"outlinewidth\": 0, \"ticks\": \"\"}}, \"type\": \"scatter3d\"}], \"scattercarpet\": [{\"marker\": {\"colorbar\": {\"outlinewidth\": 0, \"ticks\": \"\"}}, \"type\": \"scattercarpet\"}], \"scattergeo\": [{\"marker\": {\"colorbar\": {\"outlinewidth\": 0, \"ticks\": \"\"}}, \"type\": \"scattergeo\"}], \"scattergl\": [{\"marker\": {\"colorbar\": {\"outlinewidth\": 0, \"ticks\": \"\"}}, \"type\": \"scattergl\"}], \"scattermapbox\": [{\"marker\": {\"colorbar\": {\"outlinewidth\": 0, \"ticks\": \"\"}}, \"type\": \"scattermapbox\"}], \"scatterpolar\": [{\"marker\": {\"colorbar\": {\"outlinewidth\": 0, \"ticks\": \"\"}}, \"type\": \"scatterpolar\"}], \"scatterpolargl\": [{\"marker\": {\"colorbar\": {\"outlinewidth\": 0, \"ticks\": \"\"}}, \"type\": \"scatterpolargl\"}], \"scatterternary\": [{\"marker\": {\"colorbar\": {\"outlinewidth\": 0, \"ticks\": \"\"}}, \"type\": \"scatterternary\"}], \"surface\": [{\"colorbar\": {\"outlinewidth\": 0, \"ticks\": \"\"}, \"colorscale\": [[0.0, \"#0d0887\"], [0.1111111111111111, \"#46039f\"], [0.2222222222222222, \"#7201a8\"], [0.3333333333333333, \"#9c179e\"], [0.4444444444444444, \"#bd3786\"], [0.5555555555555556, \"#d8576b\"], [0.6666666666666666, \"#ed7953\"], [0.7777777777777778, \"#fb9f3a\"], [0.8888888888888888, \"#fdca26\"], [1.0, \"#f0f921\"]], \"type\": \"surface\"}], \"table\": [{\"cells\": {\"fill\": {\"color\": \"#EBF0F8\"}, \"line\": {\"color\": \"white\"}}, \"header\": {\"fill\": {\"color\": \"#C8D4E3\"}, \"line\": {\"color\": \"white\"}}, \"type\": \"table\"}]}, \"layout\": {\"annotationdefaults\": {\"arrowcolor\": \"#2a3f5f\", \"arrowhead\": 0, \"arrowwidth\": 1}, \"coloraxis\": {\"colorbar\": {\"outlinewidth\": 0, \"ticks\": \"\"}}, \"colorscale\": {\"diverging\": [[0, \"#8e0152\"], [0.1, \"#c51b7d\"], [0.2, \"#de77ae\"], [0.3, \"#f1b6da\"], [0.4, \"#fde0ef\"], [0.5, \"#f7f7f7\"], [0.6, \"#e6f5d0\"], [0.7, \"#b8e186\"], [0.8, \"#7fbc41\"], [0.9, \"#4d9221\"], [1, \"#276419\"]], \"sequential\": [[0.0, \"#0d0887\"], [0.1111111111111111, \"#46039f\"], [0.2222222222222222, \"#7201a8\"], [0.3333333333333333, \"#9c179e\"], [0.4444444444444444, \"#bd3786\"], [0.5555555555555556, \"#d8576b\"], [0.6666666666666666, \"#ed7953\"], [0.7777777777777778, \"#fb9f3a\"], [0.8888888888888888, \"#fdca26\"], [1.0, \"#f0f921\"]], \"sequentialminus\": [[0.0, \"#0d0887\"], [0.1111111111111111, \"#46039f\"], [0.2222222222222222, \"#7201a8\"], [0.3333333333333333, \"#9c179e\"], [0.4444444444444444, \"#bd3786\"], [0.5555555555555556, \"#d8576b\"], [0.6666666666666666, \"#ed7953\"], [0.7777777777777778, \"#fb9f3a\"], [0.8888888888888888, \"#fdca26\"], [1.0, \"#f0f921\"]]}, \"colorway\": [\"#636efa\", \"#EF553B\", \"#00cc96\", \"#ab63fa\", \"#FFA15A\", \"#19d3f3\", \"#FF6692\", \"#B6E880\", \"#FF97FF\", \"#FECB52\"], \"font\": {\"color\": \"#2a3f5f\"}, \"geo\": {\"bgcolor\": \"white\", \"lakecolor\": \"white\", \"landcolor\": \"#E5ECF6\", \"showlakes\": true, \"showland\": true, \"subunitcolor\": \"white\"}, \"hoverlabel\": {\"align\": \"left\"}, \"hovermode\": \"closest\", \"mapbox\": {\"style\": \"light\"}, \"paper_bgcolor\": \"white\", \"plot_bgcolor\": \"#E5ECF6\", \"polar\": {\"angularaxis\": {\"gridcolor\": \"white\", \"linecolor\": \"white\", \"ticks\": \"\"}, \"bgcolor\": \"#E5ECF6\", \"radialaxis\": {\"gridcolor\": \"white\", \"linecolor\": \"white\", \"ticks\": \"\"}}, \"scene\": {\"xaxis\": {\"backgroundcolor\": \"#E5ECF6\", \"gridcolor\": \"white\", \"gridwidth\": 2, \"linecolor\": \"white\", \"showbackground\": true, \"ticks\": \"\", \"zerolinecolor\": \"white\"}, \"yaxis\": {\"backgroundcolor\": \"#E5ECF6\", \"gridcolor\": \"white\", \"gridwidth\": 2, \"linecolor\": \"white\", \"showbackground\": true, \"ticks\": \"\", \"zerolinecolor\": \"white\"}, \"zaxis\": {\"backgroundcolor\": \"#E5ECF6\", \"gridcolor\": \"white\", \"gridwidth\": 2, \"linecolor\": \"white\", \"showbackground\": true, \"ticks\": \"\", \"zerolinecolor\": \"white\"}}, \"shapedefaults\": {\"line\": {\"color\": \"#2a3f5f\"}}, \"ternary\": {\"aaxis\": {\"gridcolor\": \"white\", \"linecolor\": \"white\", \"ticks\": \"\"}, \"baxis\": {\"gridcolor\": \"white\", \"linecolor\": \"white\", \"ticks\": \"\"}, \"bgcolor\": \"#E5ECF6\", \"caxis\": {\"gridcolor\": \"white\", \"linecolor\": \"white\", \"ticks\": \"\"}}, \"title\": {\"x\": 0.05}, \"xaxis\": {\"automargin\": true, \"gridcolor\": \"white\", \"linecolor\": \"white\", \"ticks\": \"\", \"title\": {\"standoff\": 15}, \"zerolinecolor\": \"white\", \"zerolinewidth\": 2}, \"yaxis\": {\"automargin\": true, \"gridcolor\": \"white\", \"linecolor\": \"white\", \"ticks\": \"\", \"title\": {\"standoff\": 15}, \"zerolinecolor\": \"white\", \"zerolinewidth\": 2}}}, \"title\": {\"font\": {\"color\": \"#4D5663\"}}, \"xaxis\": {\"gridcolor\": \"#E1E5ED\", \"showgrid\": true, \"tickfont\": {\"color\": \"#4D5663\"}, \"title\": {\"font\": {\"color\": \"#4D5663\"}, \"text\": \"\"}, \"zerolinecolor\": \"#E1E5ED\"}, \"yaxis\": {\"gridcolor\": \"#E1E5ED\", \"showgrid\": true, \"tickfont\": {\"color\": \"#4D5663\"}, \"title\": {\"font\": {\"color\": \"#4D5663\"}, \"text\": \"\"}, \"zerolinecolor\": \"#E1E5ED\"}},\n",
       "                        {\"showLink\": true, \"linkText\": \"Export to plot.ly\", \"plotlyServerURL\": \"https://plot.ly\", \"responsive\": true}\n",
       "                    ).then(function(){\n",
       "                            \n",
       "var gd = document.getElementById('ecc6a1a9-d979-413a-a5cd-797866e5d418');\n",
       "var x = new MutationObserver(function (mutations, observer) {{\n",
       "        var display = window.getComputedStyle(gd).display;\n",
       "        if (!display || display === 'none') {{\n",
       "            console.log([gd, 'removed!']);\n",
       "            Plotly.purge(gd);\n",
       "            observer.disconnect();\n",
       "        }}\n",
       "}});\n",
       "\n",
       "// Listen for the removal of the full notebook cells\n",
       "var notebookContainer = gd.closest('#notebook-container');\n",
       "if (notebookContainer) {{\n",
       "    x.observe(notebookContainer, {childList: true});\n",
       "}}\n",
       "\n",
       "// Listen for the clearing of the current output cell\n",
       "var outputEl = gd.closest('.output');\n",
       "if (outputEl) {{\n",
       "    x.observe(outputEl, {childList: true});\n",
       "}}\n",
       "\n",
       "                        })\n",
       "                };\n",
       "                });\n",
       "            </script>\n",
       "        </div>"
      ]
     },
     "metadata": {},
     "output_type": "display_data"
    }
   ],
   "source": [
    "df3 = pd.DataFrame({'x':[1,2,3,4,5],'y':[10,20,30,20,10],'z':[5,4,3,2,1]})\n",
    "df3.iplot(kind='surface',colorscale='rdylbu')"
   ]
  },
  {
   "cell_type": "markdown",
   "metadata": {},
   "source": [
    "## Spread"
   ]
  },
  {
   "cell_type": "code",
   "execution_count": 15,
   "metadata": {},
   "outputs": [
    {
     "name": "stderr",
     "output_type": "stream",
     "text": [
      "/Users/murillobernardi/opt/anaconda3/envs/mydatascience/lib/python3.8/site-packages/cufflinks/plotlytools.py:849: FutureWarning:\n",
      "\n",
      "The pandas.np module is deprecated and will be removed from pandas in a future version. Import numpy directly instead\n",
      "\n",
      "/Users/murillobernardi/opt/anaconda3/envs/mydatascience/lib/python3.8/site-packages/cufflinks/plotlytools.py:850: FutureWarning:\n",
      "\n",
      "The pandas.np module is deprecated and will be removed from pandas in a future version. Import numpy directly instead\n",
      "\n"
     ]
    },
    {
     "data": {
      "application/vnd.plotly.v1+json": {
       "config": {
        "linkText": "Export to plot.ly",
        "plotlyServerURL": "https://plot.ly",
        "showLink": true
       },
       "data": [
        {
         "line": {
          "color": "rgba(255, 153, 51, 1.0)",
          "dash": "solid",
          "shape": "linear",
          "width": 1.3
         },
         "mode": "lines",
         "name": "A",
         "text": "",
         "type": "scatter",
         "x": [
          0,
          1,
          2,
          3,
          4,
          5,
          6,
          7,
          8,
          9,
          10,
          11,
          12,
          13,
          14,
          15,
          16,
          17,
          18,
          19,
          20,
          21,
          22,
          23,
          24,
          25,
          26,
          27,
          28,
          29,
          30,
          31,
          32,
          33,
          34,
          35,
          36,
          37,
          38,
          39,
          40,
          41,
          42,
          43,
          44,
          45,
          46,
          47,
          48,
          49,
          50,
          51,
          52,
          53,
          54,
          55,
          56,
          57,
          58,
          59,
          60,
          61,
          62,
          63,
          64,
          65,
          66,
          67,
          68,
          69,
          70,
          71,
          72,
          73,
          74,
          75,
          76,
          77,
          78,
          79,
          80,
          81,
          82,
          83,
          84,
          85,
          86,
          87,
          88,
          89,
          90,
          91,
          92,
          93,
          94,
          95,
          96,
          97,
          98,
          99
         ],
         "y": [
          0.8154349543945048,
          1.6452615952148095,
          1.4537812287057956,
          0.10104178737084112,
          0.5656271670462576,
          -0.25532938206558614,
          -0.4325104653515167,
          1.410127965092189,
          1.1470488251728317,
          0.657072548948607,
          0.03982381590751122,
          -0.21945492705686911,
          -0.42813566220156773,
          0.06912887060307056,
          0.48019535501818067,
          0.7335677864552974,
          1.0413248888755484,
          -0.5834104170250821,
          1.4848271676888816,
          0.7826869752115855,
          -0.39749806587397724,
          -0.4027652996072739,
          0.11747667683869219,
          1.238907705657658,
          1.0712834977929915,
          -1.7600443375466999,
          -1.3937101578182822,
          -1.3249680614763732,
          -1.0077691729223197,
          -0.7584747658795038,
          0.5724593892766379,
          1.5492788163962405,
          -1.0910998243990073,
          1.4290362767631684,
          -3.01125804668789,
          -0.2356489680791908,
          -0.3116139523330637,
          -0.9183548126980127,
          0.7923927375118476,
          -1.5804414859407747,
          0.7733345351849514,
          -1.6465243274195123,
          0.27138733583592134,
          -0.19599767388768868,
          0.08106265270112785,
          0.06469965591392358,
          -0.43539719559085543,
          1.5156592705706176,
          0.38031968497822216,
          -1.5324652462793011,
          -1.3962548417854277,
          -1.4663549169819599,
          1.9896722879077047,
          -0.7717337568947867,
          -1.13236110225189,
          -1.983359999513528,
          1.2842340509586827,
          -2.0291627701880537,
          -0.48903035521972266,
          -0.5663571786022973,
          -1.4787610440318093,
          -1.3673892416503333,
          0.27523611036305795,
          0.3501442071324475,
          1.235531610348585,
          0.1314814665497779,
          0.07079226273988824,
          0.6346690086353665,
          1.6029044452742762,
          0.7958708765295324,
          -0.25947577521444265,
          0.5375822712081678,
          0.2677775263639807,
          1.2943918451644172,
          -1.6438371037085036,
          0.37032225334665586,
          0.6780896656500484,
          -1.1068649644088242,
          0.4849669680836155,
          -0.7702270297591995,
          -0.1956237096802853,
          -0.409540567007104,
          0.9543777747548079,
          0.0715623984057711,
          0.4120689159764619,
          -0.9477583953020565,
          -1.2988864592853377,
          2.134583178546349,
          0.6607329716768912,
          0.5860135769330493,
          -0.30059906687024285,
          0.10162323095318798,
          0.8690560540307614,
          -1.469999613146916,
          -0.8016006773462353,
          0.7391997728218646,
          -0.29700677585812657,
          0.3977489712256264,
          1.308580860583779,
          0.8677685903326755
         ]
        },
        {
         "line": {
          "color": "rgba(55, 128, 191, 1.0)",
          "dash": "solid",
          "shape": "linear",
          "width": 1.3
         },
         "mode": "lines",
         "name": "B",
         "text": "",
         "type": "scatter",
         "x": [
          0,
          1,
          2,
          3,
          4,
          5,
          6,
          7,
          8,
          9,
          10,
          11,
          12,
          13,
          14,
          15,
          16,
          17,
          18,
          19,
          20,
          21,
          22,
          23,
          24,
          25,
          26,
          27,
          28,
          29,
          30,
          31,
          32,
          33,
          34,
          35,
          36,
          37,
          38,
          39,
          40,
          41,
          42,
          43,
          44,
          45,
          46,
          47,
          48,
          49,
          50,
          51,
          52,
          53,
          54,
          55,
          56,
          57,
          58,
          59,
          60,
          61,
          62,
          63,
          64,
          65,
          66,
          67,
          68,
          69,
          70,
          71,
          72,
          73,
          74,
          75,
          76,
          77,
          78,
          79,
          80,
          81,
          82,
          83,
          84,
          85,
          86,
          87,
          88,
          89,
          90,
          91,
          92,
          93,
          94,
          95,
          96,
          97,
          98,
          99
         ],
         "y": [
          -0.6808447835617709,
          0.6086340681502943,
          1.7294677222632684,
          1.4829871712031955,
          1.1980976114694604,
          1.0795709221769332,
          -2.047286648226565,
          -1.515872438409646,
          0.11471042412393548,
          0.019125214933381172,
          -0.29828557402151373,
          0.6678947909266109,
          0.5106155584983674,
          0.7647578163776658,
          1.8476202168111207,
          1.565461666184497,
          0.2644348097255944,
          -0.15408202979369123,
          -2.618397980162209,
          1.1561649742011062,
          -0.10410162246810392,
          -1.1033110243512538,
          -0.27424587213996177,
          0.08080606289820692,
          -1.0284610964640115,
          1.150848640078469,
          -0.25638096017062206,
          -1.3452740294819456,
          -0.8726175451755096,
          -0.2579052619972397,
          -0.7474841473560414,
          0.8216094650234528,
          -0.4691579203738452,
          -1.0209429509692105,
          -0.40491326209742795,
          1.2208179000282928,
          0.5494620131503947,
          -0.7068872181482015,
          -0.3339529855897427,
          -0.35773835515151436,
          0.30747456293859887,
          -1.7462557392925255,
          -2.3433306042719826,
          -0.5574714680621268,
          0.7125922057087234,
          0.709555785308249,
          1.5876508083553502,
          -1.0557115951468214,
          0.42056797157878995,
          -1.6991616216509176,
          0.7039003209473632,
          0.14454012533595098,
          1.352757377147084,
          -0.6035879623453446,
          0.7274800691249542,
          -0.8983221928954063,
          0.7011998235137612,
          -1.0469207731767092,
          -0.21650716957079683,
          -0.2288275245869777,
          0.9993381258043659,
          -1.2311548841515694,
          -0.5274804076228069,
          -0.6877047486831002,
          0.20934430042105764,
          1.2564779849253123,
          0.3294673953075221,
          1.255900250776616,
          -0.5193008892325174,
          -0.06741165979455997,
          -1.0834021867660262,
          1.1335311403921011,
          0.7801861037662863,
          -0.2996263227805359,
          0.7451519159275286,
          -0.8027114457470523,
          1.2942954747888622,
          -0.2632261742274699,
          1.5242870545704912,
          -0.9063535187405944,
          0.07134433670959506,
          -0.4579896341837586,
          0.7652378935287566,
          -1.3013707444167233,
          0.9578139607872342,
          -0.43515395155639264,
          0.44700821446023037,
          0.3154919434012009,
          -1.3843643663770469,
          -0.3963047121461804,
          -1.1195850187543466,
          -0.6162495255049156,
          -0.16047808659235244,
          -0.35823082603392176,
          -2.83004813388019,
          0.39142399755480306,
          0.744533277886588,
          1.4980898982513313,
          -0.619242852250382,
          -0.4117319533653246
         ]
        },
        {
         "connectgaps": false,
         "fill": "tozeroy",
         "line": {
          "color": "green",
          "dash": "solid",
          "shape": "linear",
          "width": 0.5
         },
         "mode": "lines",
         "name": "Spread",
         "showlegend": false,
         "type": "scatter",
         "x": [
          0,
          1,
          2,
          3,
          4,
          5,
          6,
          7,
          8,
          9,
          10,
          11,
          12,
          13,
          14,
          15,
          16,
          17,
          18,
          19,
          20,
          21,
          22,
          23,
          24,
          25,
          26,
          27,
          28,
          29,
          30,
          31,
          32,
          33,
          34,
          35,
          36,
          37,
          38,
          39,
          40,
          41,
          42,
          43,
          44,
          45,
          46,
          47,
          48,
          49,
          50,
          51,
          52,
          53,
          54,
          55,
          56,
          57,
          58,
          59,
          60,
          61,
          62,
          63,
          64,
          65,
          66,
          67,
          68,
          69,
          70,
          71,
          72,
          73,
          74,
          75,
          76,
          77,
          78,
          79,
          80,
          81,
          82,
          83,
          84,
          85,
          86,
          87,
          88,
          89,
          90,
          91,
          92,
          93,
          94,
          95,
          96,
          97,
          98,
          99
         ],
         "xaxis": "x2",
         "y": [
          1.4962797379562756,
          1.0366275270645153,
          "",
          "",
          "",
          "",
          1.6147761828750484,
          2.9260004035018348,
          1.0323384010488963,
          0.6379473340152259,
          0.33810938992902495,
          "",
          "",
          "",
          "",
          "",
          0.776890079149954,
          "",
          4.103225147851091,
          "",
          "",
          0.7005457247439799,
          0.39172254897865394,
          1.158101642759451,
          2.099744594257003,
          "",
          "",
          0.020305968005572383,
          "",
          "",
          1.3199435366326793,
          0.7276693513727878,
          "",
          2.4499792277323786,
          "",
          "",
          "",
          "",
          1.1263457231015903,
          "",
          0.46585997224635256,
          0.09973141187301326,
          2.614717940107904,
          0.3614737941744381,
          "",
          "",
          "",
          2.571370865717439,
          "",
          0.1666963753716164,
          "",
          "",
          0.6369149107606207,
          "",
          "",
          "",
          0.5830342274449215,
          "",
          "",
          "",
          "",
          "",
          0.8027165179858649,
          1.0378489558155477,
          1.0261873099275274,
          "",
          "",
          "",
          2.1222053345067935,
          0.8632825363240924,
          0.8239264115515835,
          "",
          "",
          1.5940181679449532,
          "",
          1.1730336990937082,
          "",
          "",
          "",
          0.1361264889813949,
          "",
          0.04844906717665459,
          0.1891398812260513,
          1.3729331428224945,
          "",
          "",
          "",
          1.819091235145148,
          2.045097338053938,
          0.9823182890792297,
          0.8189859518841037,
          0.7178727564581036,
          1.0295341406231138,
          "",
          2.028447456533955,
          0.3477757752670615,
          "",
          "",
          1.927823712834161,
          1.279500543698
         ],
         "yaxis": "y2"
        },
        {
         "connectgaps": false,
         "fill": "tozeroy",
         "line": {
          "color": "red",
          "dash": "solid",
          "shape": "linear",
          "width": 0.5
         },
         "mode": "lines",
         "name": "Spread",
         "showlegend": false,
         "type": "scatter",
         "x": [
          0,
          1,
          2,
          3,
          4,
          5,
          6,
          7,
          8,
          9,
          10,
          11,
          12,
          13,
          14,
          15,
          16,
          17,
          18,
          19,
          20,
          21,
          22,
          23,
          24,
          25,
          26,
          27,
          28,
          29,
          30,
          31,
          32,
          33,
          34,
          35,
          36,
          37,
          38,
          39,
          40,
          41,
          42,
          43,
          44,
          45,
          46,
          47,
          48,
          49,
          50,
          51,
          52,
          53,
          54,
          55,
          56,
          57,
          58,
          59,
          60,
          61,
          62,
          63,
          64,
          65,
          66,
          67,
          68,
          69,
          70,
          71,
          72,
          73,
          74,
          75,
          76,
          77,
          78,
          79,
          80,
          81,
          82,
          83,
          84,
          85,
          86,
          87,
          88,
          89,
          90,
          91,
          92,
          93,
          94,
          95,
          96,
          97,
          98,
          99
         ],
         "xaxis": "x2",
         "y": [
          "",
          "",
          -0.27568649355747277,
          -1.3819453838323543,
          -0.6324704444232028,
          -1.3349003042425194,
          "",
          "",
          "",
          "",
          "",
          -0.88734971798348,
          -0.9387512206999351,
          -0.6956289457745952,
          -1.3674248617929399,
          -0.8318938797291995,
          "",
          -0.4293283872313909,
          "",
          -0.3734779989895207,
          -0.29339644340587334,
          "",
          "",
          "",
          "",
          -2.910892977625169,
          -1.1373291976476603,
          "",
          -0.1351516277468101,
          -0.5005695038822642,
          "",
          "",
          -0.6219419040251621,
          "",
          -2.6063447845904624,
          -1.4564668681074837,
          -0.8610759654834583,
          -0.21146759454981112,
          "",
          -1.2227031307892604,
          "",
          "",
          "",
          "",
          -0.6315295530075955,
          -0.6448561293943255,
          -2.0230480039462058,
          "",
          -0.040248286600567784,
          "",
          -2.100155162732791,
          -1.610895042317911,
          "",
          -0.16814579454944212,
          -1.8598411713768441,
          -1.0850378066181219,
          "",
          -0.9822419970113445,
          -0.27252318564892586,
          -0.3375296540153196,
          -2.478099169836175,
          -0.1362343574987639,
          "",
          "",
          "",
          -1.1249965183755344,
          -0.25867513256763386,
          -0.6212312421412495,
          "",
          "",
          "",
          -0.5959488691839333,
          -0.5124085774023055,
          "",
          -2.388989019636032,
          "",
          -0.6162058091388138,
          -0.8436387901813542,
          -1.0393200864868757,
          "",
          -0.26696804638988036,
          "",
          "",
          "",
          -0.5457450448107724,
          -0.5126044437456638,
          -1.745894673745568,
          "",
          "",
          "",
          "",
          "",
          "",
          -1.1117687871129942,
          "",
          "",
          -1.0415400537447146,
          -1.100340927025705,
          "",
          ""
         ],
         "yaxis": "y2"
        }
       ],
       "layout": {
        "hovermode": "x",
        "legend": {
         "bgcolor": "#F5F6F9",
         "font": {
          "color": "#4D5663"
         }
        },
        "paper_bgcolor": "#F5F6F9",
        "plot_bgcolor": "#F5F6F9",
        "template": {
         "data": {
          "bar": [
           {
            "error_x": {
             "color": "#2a3f5f"
            },
            "error_y": {
             "color": "#2a3f5f"
            },
            "marker": {
             "line": {
              "color": "#E5ECF6",
              "width": 0.5
             }
            },
            "type": "bar"
           }
          ],
          "barpolar": [
           {
            "marker": {
             "line": {
              "color": "#E5ECF6",
              "width": 0.5
             }
            },
            "type": "barpolar"
           }
          ],
          "carpet": [
           {
            "aaxis": {
             "endlinecolor": "#2a3f5f",
             "gridcolor": "white",
             "linecolor": "white",
             "minorgridcolor": "white",
             "startlinecolor": "#2a3f5f"
            },
            "baxis": {
             "endlinecolor": "#2a3f5f",
             "gridcolor": "white",
             "linecolor": "white",
             "minorgridcolor": "white",
             "startlinecolor": "#2a3f5f"
            },
            "type": "carpet"
           }
          ],
          "choropleth": [
           {
            "colorbar": {
             "outlinewidth": 0,
             "ticks": ""
            },
            "type": "choropleth"
           }
          ],
          "contour": [
           {
            "colorbar": {
             "outlinewidth": 0,
             "ticks": ""
            },
            "colorscale": [
             [
              0,
              "#0d0887"
             ],
             [
              0.1111111111111111,
              "#46039f"
             ],
             [
              0.2222222222222222,
              "#7201a8"
             ],
             [
              0.3333333333333333,
              "#9c179e"
             ],
             [
              0.4444444444444444,
              "#bd3786"
             ],
             [
              0.5555555555555556,
              "#d8576b"
             ],
             [
              0.6666666666666666,
              "#ed7953"
             ],
             [
              0.7777777777777778,
              "#fb9f3a"
             ],
             [
              0.8888888888888888,
              "#fdca26"
             ],
             [
              1,
              "#f0f921"
             ]
            ],
            "type": "contour"
           }
          ],
          "contourcarpet": [
           {
            "colorbar": {
             "outlinewidth": 0,
             "ticks": ""
            },
            "type": "contourcarpet"
           }
          ],
          "heatmap": [
           {
            "colorbar": {
             "outlinewidth": 0,
             "ticks": ""
            },
            "colorscale": [
             [
              0,
              "#0d0887"
             ],
             [
              0.1111111111111111,
              "#46039f"
             ],
             [
              0.2222222222222222,
              "#7201a8"
             ],
             [
              0.3333333333333333,
              "#9c179e"
             ],
             [
              0.4444444444444444,
              "#bd3786"
             ],
             [
              0.5555555555555556,
              "#d8576b"
             ],
             [
              0.6666666666666666,
              "#ed7953"
             ],
             [
              0.7777777777777778,
              "#fb9f3a"
             ],
             [
              0.8888888888888888,
              "#fdca26"
             ],
             [
              1,
              "#f0f921"
             ]
            ],
            "type": "heatmap"
           }
          ],
          "heatmapgl": [
           {
            "colorbar": {
             "outlinewidth": 0,
             "ticks": ""
            },
            "colorscale": [
             [
              0,
              "#0d0887"
             ],
             [
              0.1111111111111111,
              "#46039f"
             ],
             [
              0.2222222222222222,
              "#7201a8"
             ],
             [
              0.3333333333333333,
              "#9c179e"
             ],
             [
              0.4444444444444444,
              "#bd3786"
             ],
             [
              0.5555555555555556,
              "#d8576b"
             ],
             [
              0.6666666666666666,
              "#ed7953"
             ],
             [
              0.7777777777777778,
              "#fb9f3a"
             ],
             [
              0.8888888888888888,
              "#fdca26"
             ],
             [
              1,
              "#f0f921"
             ]
            ],
            "type": "heatmapgl"
           }
          ],
          "histogram": [
           {
            "marker": {
             "colorbar": {
              "outlinewidth": 0,
              "ticks": ""
             }
            },
            "type": "histogram"
           }
          ],
          "histogram2d": [
           {
            "colorbar": {
             "outlinewidth": 0,
             "ticks": ""
            },
            "colorscale": [
             [
              0,
              "#0d0887"
             ],
             [
              0.1111111111111111,
              "#46039f"
             ],
             [
              0.2222222222222222,
              "#7201a8"
             ],
             [
              0.3333333333333333,
              "#9c179e"
             ],
             [
              0.4444444444444444,
              "#bd3786"
             ],
             [
              0.5555555555555556,
              "#d8576b"
             ],
             [
              0.6666666666666666,
              "#ed7953"
             ],
             [
              0.7777777777777778,
              "#fb9f3a"
             ],
             [
              0.8888888888888888,
              "#fdca26"
             ],
             [
              1,
              "#f0f921"
             ]
            ],
            "type": "histogram2d"
           }
          ],
          "histogram2dcontour": [
           {
            "colorbar": {
             "outlinewidth": 0,
             "ticks": ""
            },
            "colorscale": [
             [
              0,
              "#0d0887"
             ],
             [
              0.1111111111111111,
              "#46039f"
             ],
             [
              0.2222222222222222,
              "#7201a8"
             ],
             [
              0.3333333333333333,
              "#9c179e"
             ],
             [
              0.4444444444444444,
              "#bd3786"
             ],
             [
              0.5555555555555556,
              "#d8576b"
             ],
             [
              0.6666666666666666,
              "#ed7953"
             ],
             [
              0.7777777777777778,
              "#fb9f3a"
             ],
             [
              0.8888888888888888,
              "#fdca26"
             ],
             [
              1,
              "#f0f921"
             ]
            ],
            "type": "histogram2dcontour"
           }
          ],
          "mesh3d": [
           {
            "colorbar": {
             "outlinewidth": 0,
             "ticks": ""
            },
            "type": "mesh3d"
           }
          ],
          "parcoords": [
           {
            "line": {
             "colorbar": {
              "outlinewidth": 0,
              "ticks": ""
             }
            },
            "type": "parcoords"
           }
          ],
          "pie": [
           {
            "automargin": true,
            "type": "pie"
           }
          ],
          "scatter": [
           {
            "marker": {
             "colorbar": {
              "outlinewidth": 0,
              "ticks": ""
             }
            },
            "type": "scatter"
           }
          ],
          "scatter3d": [
           {
            "line": {
             "colorbar": {
              "outlinewidth": 0,
              "ticks": ""
             }
            },
            "marker": {
             "colorbar": {
              "outlinewidth": 0,
              "ticks": ""
             }
            },
            "type": "scatter3d"
           }
          ],
          "scattercarpet": [
           {
            "marker": {
             "colorbar": {
              "outlinewidth": 0,
              "ticks": ""
             }
            },
            "type": "scattercarpet"
           }
          ],
          "scattergeo": [
           {
            "marker": {
             "colorbar": {
              "outlinewidth": 0,
              "ticks": ""
             }
            },
            "type": "scattergeo"
           }
          ],
          "scattergl": [
           {
            "marker": {
             "colorbar": {
              "outlinewidth": 0,
              "ticks": ""
             }
            },
            "type": "scattergl"
           }
          ],
          "scattermapbox": [
           {
            "marker": {
             "colorbar": {
              "outlinewidth": 0,
              "ticks": ""
             }
            },
            "type": "scattermapbox"
           }
          ],
          "scatterpolar": [
           {
            "marker": {
             "colorbar": {
              "outlinewidth": 0,
              "ticks": ""
             }
            },
            "type": "scatterpolar"
           }
          ],
          "scatterpolargl": [
           {
            "marker": {
             "colorbar": {
              "outlinewidth": 0,
              "ticks": ""
             }
            },
            "type": "scatterpolargl"
           }
          ],
          "scatterternary": [
           {
            "marker": {
             "colorbar": {
              "outlinewidth": 0,
              "ticks": ""
             }
            },
            "type": "scatterternary"
           }
          ],
          "surface": [
           {
            "colorbar": {
             "outlinewidth": 0,
             "ticks": ""
            },
            "colorscale": [
             [
              0,
              "#0d0887"
             ],
             [
              0.1111111111111111,
              "#46039f"
             ],
             [
              0.2222222222222222,
              "#7201a8"
             ],
             [
              0.3333333333333333,
              "#9c179e"
             ],
             [
              0.4444444444444444,
              "#bd3786"
             ],
             [
              0.5555555555555556,
              "#d8576b"
             ],
             [
              0.6666666666666666,
              "#ed7953"
             ],
             [
              0.7777777777777778,
              "#fb9f3a"
             ],
             [
              0.8888888888888888,
              "#fdca26"
             ],
             [
              1,
              "#f0f921"
             ]
            ],
            "type": "surface"
           }
          ],
          "table": [
           {
            "cells": {
             "fill": {
              "color": "#EBF0F8"
             },
             "line": {
              "color": "white"
             }
            },
            "header": {
             "fill": {
              "color": "#C8D4E3"
             },
             "line": {
              "color": "white"
             }
            },
            "type": "table"
           }
          ]
         },
         "layout": {
          "annotationdefaults": {
           "arrowcolor": "#2a3f5f",
           "arrowhead": 0,
           "arrowwidth": 1
          },
          "coloraxis": {
           "colorbar": {
            "outlinewidth": 0,
            "ticks": ""
           }
          },
          "colorscale": {
           "diverging": [
            [
             0,
             "#8e0152"
            ],
            [
             0.1,
             "#c51b7d"
            ],
            [
             0.2,
             "#de77ae"
            ],
            [
             0.3,
             "#f1b6da"
            ],
            [
             0.4,
             "#fde0ef"
            ],
            [
             0.5,
             "#f7f7f7"
            ],
            [
             0.6,
             "#e6f5d0"
            ],
            [
             0.7,
             "#b8e186"
            ],
            [
             0.8,
             "#7fbc41"
            ],
            [
             0.9,
             "#4d9221"
            ],
            [
             1,
             "#276419"
            ]
           ],
           "sequential": [
            [
             0,
             "#0d0887"
            ],
            [
             0.1111111111111111,
             "#46039f"
            ],
            [
             0.2222222222222222,
             "#7201a8"
            ],
            [
             0.3333333333333333,
             "#9c179e"
            ],
            [
             0.4444444444444444,
             "#bd3786"
            ],
            [
             0.5555555555555556,
             "#d8576b"
            ],
            [
             0.6666666666666666,
             "#ed7953"
            ],
            [
             0.7777777777777778,
             "#fb9f3a"
            ],
            [
             0.8888888888888888,
             "#fdca26"
            ],
            [
             1,
             "#f0f921"
            ]
           ],
           "sequentialminus": [
            [
             0,
             "#0d0887"
            ],
            [
             0.1111111111111111,
             "#46039f"
            ],
            [
             0.2222222222222222,
             "#7201a8"
            ],
            [
             0.3333333333333333,
             "#9c179e"
            ],
            [
             0.4444444444444444,
             "#bd3786"
            ],
            [
             0.5555555555555556,
             "#d8576b"
            ],
            [
             0.6666666666666666,
             "#ed7953"
            ],
            [
             0.7777777777777778,
             "#fb9f3a"
            ],
            [
             0.8888888888888888,
             "#fdca26"
            ],
            [
             1,
             "#f0f921"
            ]
           ]
          },
          "colorway": [
           "#636efa",
           "#EF553B",
           "#00cc96",
           "#ab63fa",
           "#FFA15A",
           "#19d3f3",
           "#FF6692",
           "#B6E880",
           "#FF97FF",
           "#FECB52"
          ],
          "font": {
           "color": "#2a3f5f"
          },
          "geo": {
           "bgcolor": "white",
           "lakecolor": "white",
           "landcolor": "#E5ECF6",
           "showlakes": true,
           "showland": true,
           "subunitcolor": "white"
          },
          "hoverlabel": {
           "align": "left"
          },
          "hovermode": "closest",
          "mapbox": {
           "style": "light"
          },
          "paper_bgcolor": "white",
          "plot_bgcolor": "#E5ECF6",
          "polar": {
           "angularaxis": {
            "gridcolor": "white",
            "linecolor": "white",
            "ticks": ""
           },
           "bgcolor": "#E5ECF6",
           "radialaxis": {
            "gridcolor": "white",
            "linecolor": "white",
            "ticks": ""
           }
          },
          "scene": {
           "xaxis": {
            "backgroundcolor": "#E5ECF6",
            "gridcolor": "white",
            "gridwidth": 2,
            "linecolor": "white",
            "showbackground": true,
            "ticks": "",
            "zerolinecolor": "white"
           },
           "yaxis": {
            "backgroundcolor": "#E5ECF6",
            "gridcolor": "white",
            "gridwidth": 2,
            "linecolor": "white",
            "showbackground": true,
            "ticks": "",
            "zerolinecolor": "white"
           },
           "zaxis": {
            "backgroundcolor": "#E5ECF6",
            "gridcolor": "white",
            "gridwidth": 2,
            "linecolor": "white",
            "showbackground": true,
            "ticks": "",
            "zerolinecolor": "white"
           }
          },
          "shapedefaults": {
           "line": {
            "color": "#2a3f5f"
           }
          },
          "ternary": {
           "aaxis": {
            "gridcolor": "white",
            "linecolor": "white",
            "ticks": ""
           },
           "baxis": {
            "gridcolor": "white",
            "linecolor": "white",
            "ticks": ""
           },
           "bgcolor": "#E5ECF6",
           "caxis": {
            "gridcolor": "white",
            "linecolor": "white",
            "ticks": ""
           }
          },
          "title": {
           "x": 0.05
          },
          "xaxis": {
           "automargin": true,
           "gridcolor": "white",
           "linecolor": "white",
           "ticks": "",
           "title": {
            "standoff": 15
           },
           "zerolinecolor": "white",
           "zerolinewidth": 2
          },
          "yaxis": {
           "automargin": true,
           "gridcolor": "white",
           "linecolor": "white",
           "ticks": "",
           "title": {
            "standoff": 15
           },
           "zerolinecolor": "white",
           "zerolinewidth": 2
          }
         }
        },
        "title": {
         "font": {
          "color": "#4D5663"
         }
        },
        "xaxis": {
         "gridcolor": "#E1E5ED",
         "showgrid": true,
         "tickfont": {
          "color": "#4D5663"
         },
         "title": {
          "font": {
           "color": "#4D5663"
          },
          "text": ""
         },
         "zerolinecolor": "#E1E5ED"
        },
        "xaxis2": {
         "anchor": "y2",
         "gridcolor": "#E1E5ED",
         "showgrid": true,
         "showticklabels": false,
         "tickfont": {
          "color": "#4D5663"
         },
         "title": {
          "font": {
           "color": "#4D5663"
          },
          "text": ""
         },
         "zerolinecolor": "#E1E5ED"
        },
        "yaxis": {
         "domain": [
          0.3,
          1
         ],
         "gridcolor": "#E1E5ED",
         "showgrid": true,
         "tickfont": {
          "color": "#4D5663"
         },
         "title": {
          "font": {
           "color": "#4D5663"
          },
          "text": ""
         },
         "zerolinecolor": "#E1E5ED"
        },
        "yaxis2": {
         "domain": [
          0,
          0.25
         ],
         "gridcolor": "#E1E5ED",
         "showgrid": true,
         "tickfont": {
          "color": "#4D5663"
         },
         "title": {
          "font": {
           "color": "#4D5663"
          },
          "text": "Spread"
         },
         "zerolinecolor": "#E1E5ED"
        }
       }
      },
      "text/html": [
       "<div>\n",
       "        \n",
       "        \n",
       "            <div id=\"4746fd6e-1b66-4584-8d6a-8b55012e5ee8\" class=\"plotly-graph-div\" style=\"height:525px; width:100%;\"></div>\n",
       "            <script type=\"text/javascript\">\n",
       "                require([\"plotly\"], function(Plotly) {\n",
       "                    window.PLOTLYENV=window.PLOTLYENV || {};\n",
       "                    window.PLOTLYENV.BASE_URL='https://plot.ly';\n",
       "                    \n",
       "                if (document.getElementById(\"4746fd6e-1b66-4584-8d6a-8b55012e5ee8\")) {\n",
       "                    Plotly.newPlot(\n",
       "                        '4746fd6e-1b66-4584-8d6a-8b55012e5ee8',\n",
       "                        [{\"line\": {\"color\": \"rgba(255, 153, 51, 1.0)\", \"dash\": \"solid\", \"shape\": \"linear\", \"width\": 1.3}, \"mode\": \"lines\", \"name\": \"A\", \"text\": \"\", \"type\": \"scatter\", \"x\": [0, 1, 2, 3, 4, 5, 6, 7, 8, 9, 10, 11, 12, 13, 14, 15, 16, 17, 18, 19, 20, 21, 22, 23, 24, 25, 26, 27, 28, 29, 30, 31, 32, 33, 34, 35, 36, 37, 38, 39, 40, 41, 42, 43, 44, 45, 46, 47, 48, 49, 50, 51, 52, 53, 54, 55, 56, 57, 58, 59, 60, 61, 62, 63, 64, 65, 66, 67, 68, 69, 70, 71, 72, 73, 74, 75, 76, 77, 78, 79, 80, 81, 82, 83, 84, 85, 86, 87, 88, 89, 90, 91, 92, 93, 94, 95, 96, 97, 98, 99], \"y\": [0.8154349543945048, 1.6452615952148095, 1.4537812287057956, 0.10104178737084112, 0.5656271670462576, -0.25532938206558614, -0.4325104653515167, 1.410127965092189, 1.1470488251728317, 0.657072548948607, 0.03982381590751122, -0.21945492705686911, -0.42813566220156773, 0.06912887060307056, 0.48019535501818067, 0.7335677864552974, 1.0413248888755484, -0.5834104170250821, 1.4848271676888816, 0.7826869752115855, -0.39749806587397724, -0.4027652996072739, 0.11747667683869219, 1.238907705657658, 1.0712834977929915, -1.7600443375466999, -1.3937101578182822, -1.3249680614763732, -1.0077691729223197, -0.7584747658795038, 0.5724593892766379, 1.5492788163962405, -1.0910998243990073, 1.4290362767631684, -3.01125804668789, -0.2356489680791908, -0.3116139523330637, -0.9183548126980127, 0.7923927375118476, -1.5804414859407747, 0.7733345351849514, -1.6465243274195123, 0.27138733583592134, -0.19599767388768868, 0.08106265270112785, 0.06469965591392358, -0.43539719559085543, 1.5156592705706176, 0.38031968497822216, -1.5324652462793011, -1.3962548417854277, -1.4663549169819599, 1.9896722879077047, -0.7717337568947867, -1.13236110225189, -1.983359999513528, 1.2842340509586827, -2.0291627701880537, -0.48903035521972266, -0.5663571786022973, -1.4787610440318093, -1.3673892416503333, 0.27523611036305795, 0.3501442071324475, 1.235531610348585, 0.1314814665497779, 0.07079226273988824, 0.6346690086353665, 1.6029044452742762, 0.7958708765295324, -0.25947577521444265, 0.5375822712081678, 0.2677775263639807, 1.2943918451644172, -1.6438371037085036, 0.37032225334665586, 0.6780896656500484, -1.1068649644088242, 0.4849669680836155, -0.7702270297591995, -0.1956237096802853, -0.409540567007104, 0.9543777747548079, 0.0715623984057711, 0.4120689159764619, -0.9477583953020565, -1.2988864592853377, 2.134583178546349, 0.6607329716768912, 0.5860135769330493, -0.30059906687024285, 0.10162323095318798, 0.8690560540307614, -1.469999613146916, -0.8016006773462353, 0.7391997728218646, -0.29700677585812657, 0.3977489712256264, 1.308580860583779, 0.8677685903326755]}, {\"line\": {\"color\": \"rgba(55, 128, 191, 1.0)\", \"dash\": \"solid\", \"shape\": \"linear\", \"width\": 1.3}, \"mode\": \"lines\", \"name\": \"B\", \"text\": \"\", \"type\": \"scatter\", \"x\": [0, 1, 2, 3, 4, 5, 6, 7, 8, 9, 10, 11, 12, 13, 14, 15, 16, 17, 18, 19, 20, 21, 22, 23, 24, 25, 26, 27, 28, 29, 30, 31, 32, 33, 34, 35, 36, 37, 38, 39, 40, 41, 42, 43, 44, 45, 46, 47, 48, 49, 50, 51, 52, 53, 54, 55, 56, 57, 58, 59, 60, 61, 62, 63, 64, 65, 66, 67, 68, 69, 70, 71, 72, 73, 74, 75, 76, 77, 78, 79, 80, 81, 82, 83, 84, 85, 86, 87, 88, 89, 90, 91, 92, 93, 94, 95, 96, 97, 98, 99], \"y\": [-0.6808447835617709, 0.6086340681502943, 1.7294677222632684, 1.4829871712031955, 1.1980976114694604, 1.0795709221769332, -2.047286648226565, -1.515872438409646, 0.11471042412393548, 0.019125214933381172, -0.29828557402151373, 0.6678947909266109, 0.5106155584983674, 0.7647578163776658, 1.8476202168111207, 1.565461666184497, 0.2644348097255944, -0.15408202979369123, -2.618397980162209, 1.1561649742011062, -0.10410162246810392, -1.1033110243512538, -0.27424587213996177, 0.08080606289820692, -1.0284610964640115, 1.150848640078469, -0.25638096017062206, -1.3452740294819456, -0.8726175451755096, -0.2579052619972397, -0.7474841473560414, 0.8216094650234528, -0.4691579203738452, -1.0209429509692105, -0.40491326209742795, 1.2208179000282928, 0.5494620131503947, -0.7068872181482015, -0.3339529855897427, -0.35773835515151436, 0.30747456293859887, -1.7462557392925255, -2.3433306042719826, -0.5574714680621268, 0.7125922057087234, 0.709555785308249, 1.5876508083553502, -1.0557115951468214, 0.42056797157878995, -1.6991616216509176, 0.7039003209473632, 0.14454012533595098, 1.352757377147084, -0.6035879623453446, 0.7274800691249542, -0.8983221928954063, 0.7011998235137612, -1.0469207731767092, -0.21650716957079683, -0.2288275245869777, 0.9993381258043659, -1.2311548841515694, -0.5274804076228069, -0.6877047486831002, 0.20934430042105764, 1.2564779849253123, 0.3294673953075221, 1.255900250776616, -0.5193008892325174, -0.06741165979455997, -1.0834021867660262, 1.1335311403921011, 0.7801861037662863, -0.2996263227805359, 0.7451519159275286, -0.8027114457470523, 1.2942954747888622, -0.2632261742274699, 1.5242870545704912, -0.9063535187405944, 0.07134433670959506, -0.4579896341837586, 0.7652378935287566, -1.3013707444167233, 0.9578139607872342, -0.43515395155639264, 0.44700821446023037, 0.3154919434012009, -1.3843643663770469, -0.3963047121461804, -1.1195850187543466, -0.6162495255049156, -0.16047808659235244, -0.35823082603392176, -2.83004813388019, 0.39142399755480306, 0.744533277886588, 1.4980898982513313, -0.619242852250382, -0.4117319533653246]}, {\"connectgaps\": false, \"fill\": \"tozeroy\", \"line\": {\"color\": \"green\", \"dash\": \"solid\", \"shape\": \"linear\", \"width\": 0.5}, \"mode\": \"lines\", \"name\": \"Spread\", \"showlegend\": false, \"type\": \"scatter\", \"x\": [0, 1, 2, 3, 4, 5, 6, 7, 8, 9, 10, 11, 12, 13, 14, 15, 16, 17, 18, 19, 20, 21, 22, 23, 24, 25, 26, 27, 28, 29, 30, 31, 32, 33, 34, 35, 36, 37, 38, 39, 40, 41, 42, 43, 44, 45, 46, 47, 48, 49, 50, 51, 52, 53, 54, 55, 56, 57, 58, 59, 60, 61, 62, 63, 64, 65, 66, 67, 68, 69, 70, 71, 72, 73, 74, 75, 76, 77, 78, 79, 80, 81, 82, 83, 84, 85, 86, 87, 88, 89, 90, 91, 92, 93, 94, 95, 96, 97, 98, 99], \"xaxis\": \"x2\", \"y\": [1.4962797379562756, 1.0366275270645153, \"\", \"\", \"\", \"\", 1.6147761828750484, 2.9260004035018348, 1.0323384010488963, 0.6379473340152259, 0.33810938992902495, \"\", \"\", \"\", \"\", \"\", 0.776890079149954, \"\", 4.103225147851091, \"\", \"\", 0.7005457247439799, 0.39172254897865394, 1.158101642759451, 2.099744594257003, \"\", \"\", 0.020305968005572383, \"\", \"\", 1.3199435366326793, 0.7276693513727878, \"\", 2.4499792277323786, \"\", \"\", \"\", \"\", 1.1263457231015903, \"\", 0.46585997224635256, 0.09973141187301326, 2.614717940107904, 0.3614737941744381, \"\", \"\", \"\", 2.571370865717439, \"\", 0.1666963753716164, \"\", \"\", 0.6369149107606207, \"\", \"\", \"\", 0.5830342274449215, \"\", \"\", \"\", \"\", \"\", 0.8027165179858649, 1.0378489558155477, 1.0261873099275274, \"\", \"\", \"\", 2.1222053345067935, 0.8632825363240924, 0.8239264115515835, \"\", \"\", 1.5940181679449532, \"\", 1.1730336990937082, \"\", \"\", \"\", 0.1361264889813949, \"\", 0.04844906717665459, 0.1891398812260513, 1.3729331428224945, \"\", \"\", \"\", 1.819091235145148, 2.045097338053938, 0.9823182890792297, 0.8189859518841037, 0.7178727564581036, 1.0295341406231138, \"\", 2.028447456533955, 0.3477757752670615, \"\", \"\", 1.927823712834161, 1.279500543698], \"yaxis\": \"y2\"}, {\"connectgaps\": false, \"fill\": \"tozeroy\", \"line\": {\"color\": \"red\", \"dash\": \"solid\", \"shape\": \"linear\", \"width\": 0.5}, \"mode\": \"lines\", \"name\": \"Spread\", \"showlegend\": false, \"type\": \"scatter\", \"x\": [0, 1, 2, 3, 4, 5, 6, 7, 8, 9, 10, 11, 12, 13, 14, 15, 16, 17, 18, 19, 20, 21, 22, 23, 24, 25, 26, 27, 28, 29, 30, 31, 32, 33, 34, 35, 36, 37, 38, 39, 40, 41, 42, 43, 44, 45, 46, 47, 48, 49, 50, 51, 52, 53, 54, 55, 56, 57, 58, 59, 60, 61, 62, 63, 64, 65, 66, 67, 68, 69, 70, 71, 72, 73, 74, 75, 76, 77, 78, 79, 80, 81, 82, 83, 84, 85, 86, 87, 88, 89, 90, 91, 92, 93, 94, 95, 96, 97, 98, 99], \"xaxis\": \"x2\", \"y\": [\"\", \"\", -0.27568649355747277, -1.3819453838323543, -0.6324704444232028, -1.3349003042425194, \"\", \"\", \"\", \"\", \"\", -0.88734971798348, -0.9387512206999351, -0.6956289457745952, -1.3674248617929399, -0.8318938797291995, \"\", -0.4293283872313909, \"\", -0.3734779989895207, -0.29339644340587334, \"\", \"\", \"\", \"\", -2.910892977625169, -1.1373291976476603, \"\", -0.1351516277468101, -0.5005695038822642, \"\", \"\", -0.6219419040251621, \"\", -2.6063447845904624, -1.4564668681074837, -0.8610759654834583, -0.21146759454981112, \"\", -1.2227031307892604, \"\", \"\", \"\", \"\", -0.6315295530075955, -0.6448561293943255, -2.0230480039462058, \"\", -0.040248286600567784, \"\", -2.100155162732791, -1.610895042317911, \"\", -0.16814579454944212, -1.8598411713768441, -1.0850378066181219, \"\", -0.9822419970113445, -0.27252318564892586, -0.3375296540153196, -2.478099169836175, -0.1362343574987639, \"\", \"\", \"\", -1.1249965183755344, -0.25867513256763386, -0.6212312421412495, \"\", \"\", \"\", -0.5959488691839333, -0.5124085774023055, \"\", -2.388989019636032, \"\", -0.6162058091388138, -0.8436387901813542, -1.0393200864868757, \"\", -0.26696804638988036, \"\", \"\", \"\", -0.5457450448107724, -0.5126044437456638, -1.745894673745568, \"\", \"\", \"\", \"\", \"\", \"\", -1.1117687871129942, \"\", \"\", -1.0415400537447146, -1.100340927025705, \"\", \"\"], \"yaxis\": \"y2\"}],\n",
       "                        {\"hovermode\": \"x\", \"legend\": {\"bgcolor\": \"#F5F6F9\", \"font\": {\"color\": \"#4D5663\"}}, \"paper_bgcolor\": \"#F5F6F9\", \"plot_bgcolor\": \"#F5F6F9\", \"template\": {\"data\": {\"bar\": [{\"error_x\": {\"color\": \"#2a3f5f\"}, \"error_y\": {\"color\": \"#2a3f5f\"}, \"marker\": {\"line\": {\"color\": \"#E5ECF6\", \"width\": 0.5}}, \"type\": \"bar\"}], \"barpolar\": [{\"marker\": {\"line\": {\"color\": \"#E5ECF6\", \"width\": 0.5}}, \"type\": \"barpolar\"}], \"carpet\": [{\"aaxis\": {\"endlinecolor\": \"#2a3f5f\", \"gridcolor\": \"white\", \"linecolor\": \"white\", \"minorgridcolor\": \"white\", \"startlinecolor\": \"#2a3f5f\"}, \"baxis\": {\"endlinecolor\": \"#2a3f5f\", \"gridcolor\": \"white\", \"linecolor\": \"white\", \"minorgridcolor\": \"white\", \"startlinecolor\": \"#2a3f5f\"}, \"type\": \"carpet\"}], \"choropleth\": [{\"colorbar\": {\"outlinewidth\": 0, \"ticks\": \"\"}, \"type\": \"choropleth\"}], \"contour\": [{\"colorbar\": {\"outlinewidth\": 0, \"ticks\": \"\"}, \"colorscale\": [[0.0, \"#0d0887\"], [0.1111111111111111, \"#46039f\"], [0.2222222222222222, \"#7201a8\"], [0.3333333333333333, \"#9c179e\"], [0.4444444444444444, \"#bd3786\"], [0.5555555555555556, \"#d8576b\"], [0.6666666666666666, \"#ed7953\"], [0.7777777777777778, \"#fb9f3a\"], [0.8888888888888888, \"#fdca26\"], [1.0, \"#f0f921\"]], \"type\": \"contour\"}], \"contourcarpet\": [{\"colorbar\": {\"outlinewidth\": 0, \"ticks\": \"\"}, \"type\": \"contourcarpet\"}], \"heatmap\": [{\"colorbar\": {\"outlinewidth\": 0, \"ticks\": \"\"}, \"colorscale\": [[0.0, \"#0d0887\"], [0.1111111111111111, \"#46039f\"], [0.2222222222222222, \"#7201a8\"], [0.3333333333333333, \"#9c179e\"], [0.4444444444444444, \"#bd3786\"], [0.5555555555555556, \"#d8576b\"], [0.6666666666666666, \"#ed7953\"], [0.7777777777777778, \"#fb9f3a\"], [0.8888888888888888, \"#fdca26\"], [1.0, \"#f0f921\"]], \"type\": \"heatmap\"}], \"heatmapgl\": [{\"colorbar\": {\"outlinewidth\": 0, \"ticks\": \"\"}, \"colorscale\": [[0.0, \"#0d0887\"], [0.1111111111111111, \"#46039f\"], [0.2222222222222222, \"#7201a8\"], [0.3333333333333333, \"#9c179e\"], [0.4444444444444444, \"#bd3786\"], [0.5555555555555556, \"#d8576b\"], [0.6666666666666666, \"#ed7953\"], [0.7777777777777778, \"#fb9f3a\"], [0.8888888888888888, \"#fdca26\"], [1.0, \"#f0f921\"]], \"type\": \"heatmapgl\"}], \"histogram\": [{\"marker\": {\"colorbar\": {\"outlinewidth\": 0, \"ticks\": \"\"}}, \"type\": \"histogram\"}], \"histogram2d\": [{\"colorbar\": {\"outlinewidth\": 0, \"ticks\": \"\"}, \"colorscale\": [[0.0, \"#0d0887\"], [0.1111111111111111, \"#46039f\"], [0.2222222222222222, \"#7201a8\"], [0.3333333333333333, \"#9c179e\"], [0.4444444444444444, \"#bd3786\"], [0.5555555555555556, \"#d8576b\"], [0.6666666666666666, \"#ed7953\"], [0.7777777777777778, \"#fb9f3a\"], [0.8888888888888888, \"#fdca26\"], [1.0, \"#f0f921\"]], \"type\": \"histogram2d\"}], \"histogram2dcontour\": [{\"colorbar\": {\"outlinewidth\": 0, \"ticks\": \"\"}, \"colorscale\": [[0.0, \"#0d0887\"], [0.1111111111111111, \"#46039f\"], [0.2222222222222222, \"#7201a8\"], [0.3333333333333333, \"#9c179e\"], [0.4444444444444444, \"#bd3786\"], [0.5555555555555556, \"#d8576b\"], [0.6666666666666666, \"#ed7953\"], [0.7777777777777778, \"#fb9f3a\"], [0.8888888888888888, \"#fdca26\"], [1.0, \"#f0f921\"]], \"type\": \"histogram2dcontour\"}], \"mesh3d\": [{\"colorbar\": {\"outlinewidth\": 0, \"ticks\": \"\"}, \"type\": \"mesh3d\"}], \"parcoords\": [{\"line\": {\"colorbar\": {\"outlinewidth\": 0, \"ticks\": \"\"}}, \"type\": \"parcoords\"}], \"pie\": [{\"automargin\": true, \"type\": \"pie\"}], \"scatter\": [{\"marker\": {\"colorbar\": {\"outlinewidth\": 0, \"ticks\": \"\"}}, \"type\": \"scatter\"}], \"scatter3d\": [{\"line\": {\"colorbar\": {\"outlinewidth\": 0, \"ticks\": \"\"}}, \"marker\": {\"colorbar\": {\"outlinewidth\": 0, \"ticks\": \"\"}}, \"type\": \"scatter3d\"}], \"scattercarpet\": [{\"marker\": {\"colorbar\": {\"outlinewidth\": 0, \"ticks\": \"\"}}, \"type\": \"scattercarpet\"}], \"scattergeo\": [{\"marker\": {\"colorbar\": {\"outlinewidth\": 0, \"ticks\": \"\"}}, \"type\": \"scattergeo\"}], \"scattergl\": [{\"marker\": {\"colorbar\": {\"outlinewidth\": 0, \"ticks\": \"\"}}, \"type\": \"scattergl\"}], \"scattermapbox\": [{\"marker\": {\"colorbar\": {\"outlinewidth\": 0, \"ticks\": \"\"}}, \"type\": \"scattermapbox\"}], \"scatterpolar\": [{\"marker\": {\"colorbar\": {\"outlinewidth\": 0, \"ticks\": \"\"}}, \"type\": \"scatterpolar\"}], \"scatterpolargl\": [{\"marker\": {\"colorbar\": {\"outlinewidth\": 0, \"ticks\": \"\"}}, \"type\": \"scatterpolargl\"}], \"scatterternary\": [{\"marker\": {\"colorbar\": {\"outlinewidth\": 0, \"ticks\": \"\"}}, \"type\": \"scatterternary\"}], \"surface\": [{\"colorbar\": {\"outlinewidth\": 0, \"ticks\": \"\"}, \"colorscale\": [[0.0, \"#0d0887\"], [0.1111111111111111, \"#46039f\"], [0.2222222222222222, \"#7201a8\"], [0.3333333333333333, \"#9c179e\"], [0.4444444444444444, \"#bd3786\"], [0.5555555555555556, \"#d8576b\"], [0.6666666666666666, \"#ed7953\"], [0.7777777777777778, \"#fb9f3a\"], [0.8888888888888888, \"#fdca26\"], [1.0, \"#f0f921\"]], \"type\": \"surface\"}], \"table\": [{\"cells\": {\"fill\": {\"color\": \"#EBF0F8\"}, \"line\": {\"color\": \"white\"}}, \"header\": {\"fill\": {\"color\": \"#C8D4E3\"}, \"line\": {\"color\": \"white\"}}, \"type\": \"table\"}]}, \"layout\": {\"annotationdefaults\": {\"arrowcolor\": \"#2a3f5f\", \"arrowhead\": 0, \"arrowwidth\": 1}, \"coloraxis\": {\"colorbar\": {\"outlinewidth\": 0, \"ticks\": \"\"}}, \"colorscale\": {\"diverging\": [[0, \"#8e0152\"], [0.1, \"#c51b7d\"], [0.2, \"#de77ae\"], [0.3, \"#f1b6da\"], [0.4, \"#fde0ef\"], [0.5, \"#f7f7f7\"], [0.6, \"#e6f5d0\"], [0.7, \"#b8e186\"], [0.8, \"#7fbc41\"], [0.9, \"#4d9221\"], [1, \"#276419\"]], \"sequential\": [[0.0, \"#0d0887\"], [0.1111111111111111, \"#46039f\"], [0.2222222222222222, \"#7201a8\"], [0.3333333333333333, \"#9c179e\"], [0.4444444444444444, \"#bd3786\"], [0.5555555555555556, \"#d8576b\"], [0.6666666666666666, \"#ed7953\"], [0.7777777777777778, \"#fb9f3a\"], [0.8888888888888888, \"#fdca26\"], [1.0, \"#f0f921\"]], \"sequentialminus\": [[0.0, \"#0d0887\"], [0.1111111111111111, \"#46039f\"], [0.2222222222222222, \"#7201a8\"], [0.3333333333333333, \"#9c179e\"], [0.4444444444444444, \"#bd3786\"], [0.5555555555555556, \"#d8576b\"], [0.6666666666666666, \"#ed7953\"], [0.7777777777777778, \"#fb9f3a\"], [0.8888888888888888, \"#fdca26\"], [1.0, \"#f0f921\"]]}, \"colorway\": [\"#636efa\", \"#EF553B\", \"#00cc96\", \"#ab63fa\", \"#FFA15A\", \"#19d3f3\", \"#FF6692\", \"#B6E880\", \"#FF97FF\", \"#FECB52\"], \"font\": {\"color\": \"#2a3f5f\"}, \"geo\": {\"bgcolor\": \"white\", \"lakecolor\": \"white\", \"landcolor\": \"#E5ECF6\", \"showlakes\": true, \"showland\": true, \"subunitcolor\": \"white\"}, \"hoverlabel\": {\"align\": \"left\"}, \"hovermode\": \"closest\", \"mapbox\": {\"style\": \"light\"}, \"paper_bgcolor\": \"white\", \"plot_bgcolor\": \"#E5ECF6\", \"polar\": {\"angularaxis\": {\"gridcolor\": \"white\", \"linecolor\": \"white\", \"ticks\": \"\"}, \"bgcolor\": \"#E5ECF6\", \"radialaxis\": {\"gridcolor\": \"white\", \"linecolor\": \"white\", \"ticks\": \"\"}}, \"scene\": {\"xaxis\": {\"backgroundcolor\": \"#E5ECF6\", \"gridcolor\": \"white\", \"gridwidth\": 2, \"linecolor\": \"white\", \"showbackground\": true, \"ticks\": \"\", \"zerolinecolor\": \"white\"}, \"yaxis\": {\"backgroundcolor\": \"#E5ECF6\", \"gridcolor\": \"white\", \"gridwidth\": 2, \"linecolor\": \"white\", \"showbackground\": true, \"ticks\": \"\", \"zerolinecolor\": \"white\"}, \"zaxis\": {\"backgroundcolor\": \"#E5ECF6\", \"gridcolor\": \"white\", \"gridwidth\": 2, \"linecolor\": \"white\", \"showbackground\": true, \"ticks\": \"\", \"zerolinecolor\": \"white\"}}, \"shapedefaults\": {\"line\": {\"color\": \"#2a3f5f\"}}, \"ternary\": {\"aaxis\": {\"gridcolor\": \"white\", \"linecolor\": \"white\", \"ticks\": \"\"}, \"baxis\": {\"gridcolor\": \"white\", \"linecolor\": \"white\", \"ticks\": \"\"}, \"bgcolor\": \"#E5ECF6\", \"caxis\": {\"gridcolor\": \"white\", \"linecolor\": \"white\", \"ticks\": \"\"}}, \"title\": {\"x\": 0.05}, \"xaxis\": {\"automargin\": true, \"gridcolor\": \"white\", \"linecolor\": \"white\", \"ticks\": \"\", \"title\": {\"standoff\": 15}, \"zerolinecolor\": \"white\", \"zerolinewidth\": 2}, \"yaxis\": {\"automargin\": true, \"gridcolor\": \"white\", \"linecolor\": \"white\", \"ticks\": \"\", \"title\": {\"standoff\": 15}, \"zerolinecolor\": \"white\", \"zerolinewidth\": 2}}}, \"title\": {\"font\": {\"color\": \"#4D5663\"}}, \"xaxis\": {\"gridcolor\": \"#E1E5ED\", \"showgrid\": true, \"tickfont\": {\"color\": \"#4D5663\"}, \"title\": {\"font\": {\"color\": \"#4D5663\"}, \"text\": \"\"}, \"zerolinecolor\": \"#E1E5ED\"}, \"xaxis2\": {\"anchor\": \"y2\", \"gridcolor\": \"#E1E5ED\", \"showgrid\": true, \"showticklabels\": false, \"tickfont\": {\"color\": \"#4D5663\"}, \"title\": {\"font\": {\"color\": \"#4D5663\"}, \"text\": \"\"}, \"zerolinecolor\": \"#E1E5ED\"}, \"yaxis\": {\"domain\": [0.3, 1], \"gridcolor\": \"#E1E5ED\", \"showgrid\": true, \"tickfont\": {\"color\": \"#4D5663\"}, \"title\": {\"font\": {\"color\": \"#4D5663\"}, \"text\": \"\"}, \"zerolinecolor\": \"#E1E5ED\"}, \"yaxis2\": {\"domain\": [0, 0.25], \"gridcolor\": \"#E1E5ED\", \"showgrid\": true, \"tickfont\": {\"color\": \"#4D5663\"}, \"title\": {\"font\": {\"color\": \"#4D5663\"}, \"text\": \"Spread\"}, \"zerolinecolor\": \"#E1E5ED\"}},\n",
       "                        {\"showLink\": true, \"linkText\": \"Export to plot.ly\", \"plotlyServerURL\": \"https://plot.ly\", \"responsive\": true}\n",
       "                    ).then(function(){\n",
       "                            \n",
       "var gd = document.getElementById('4746fd6e-1b66-4584-8d6a-8b55012e5ee8');\n",
       "var x = new MutationObserver(function (mutations, observer) {{\n",
       "        var display = window.getComputedStyle(gd).display;\n",
       "        if (!display || display === 'none') {{\n",
       "            console.log([gd, 'removed!']);\n",
       "            Plotly.purge(gd);\n",
       "            observer.disconnect();\n",
       "        }}\n",
       "}});\n",
       "\n",
       "// Listen for the removal of the full notebook cells\n",
       "var notebookContainer = gd.closest('#notebook-container');\n",
       "if (notebookContainer) {{\n",
       "    x.observe(notebookContainer, {childList: true});\n",
       "}}\n",
       "\n",
       "// Listen for the clearing of the current output cell\n",
       "var outputEl = gd.closest('.output');\n",
       "if (outputEl) {{\n",
       "    x.observe(outputEl, {childList: true});\n",
       "}}\n",
       "\n",
       "                        })\n",
       "                };\n",
       "                });\n",
       "            </script>\n",
       "        </div>"
      ]
     },
     "metadata": {},
     "output_type": "display_data"
    }
   ],
   "source": [
    "df[['A','B']].iplot(kind='spread')"
   ]
  },
  {
   "cell_type": "markdown",
   "metadata": {},
   "source": [
    "## histogram"
   ]
  },
  {
   "cell_type": "code",
   "execution_count": 16,
   "metadata": {},
   "outputs": [
    {
     "data": {
      "application/vnd.plotly.v1+json": {
       "config": {
        "linkText": "Export to plot.ly",
        "plotlyServerURL": "https://plot.ly",
        "showLink": true
       },
       "data": [
        {
         "histfunc": "count",
         "histnorm": "",
         "marker": {
          "color": "rgba(255, 153, 51, 1.0)",
          "line": {
           "color": "#4D5663",
           "width": 1.3
          }
         },
         "name": "A",
         "nbinsx": 25,
         "opacity": 0.8,
         "orientation": "v",
         "type": "histogram",
         "x": [
          0.8154349543945048,
          1.6452615952148095,
          1.4537812287057956,
          0.10104178737084112,
          0.5656271670462576,
          -0.25532938206558614,
          -0.4325104653515167,
          1.410127965092189,
          1.1470488251728317,
          0.657072548948607,
          0.03982381590751122,
          -0.21945492705686911,
          -0.42813566220156773,
          0.06912887060307056,
          0.48019535501818067,
          0.7335677864552974,
          1.0413248888755484,
          -0.5834104170250821,
          1.4848271676888816,
          0.7826869752115855,
          -0.39749806587397724,
          -0.4027652996072739,
          0.11747667683869219,
          1.238907705657658,
          1.0712834977929915,
          -1.7600443375466999,
          -1.3937101578182822,
          -1.3249680614763732,
          -1.0077691729223197,
          -0.7584747658795038,
          0.5724593892766379,
          1.5492788163962405,
          -1.0910998243990073,
          1.4290362767631684,
          -3.01125804668789,
          -0.2356489680791908,
          -0.3116139523330637,
          -0.9183548126980127,
          0.7923927375118476,
          -1.5804414859407747,
          0.7733345351849514,
          -1.6465243274195123,
          0.27138733583592134,
          -0.19599767388768868,
          0.08106265270112785,
          0.06469965591392358,
          -0.43539719559085543,
          1.5156592705706176,
          0.38031968497822216,
          -1.5324652462793011,
          -1.3962548417854277,
          -1.4663549169819599,
          1.9896722879077047,
          -0.7717337568947867,
          -1.13236110225189,
          -1.983359999513528,
          1.2842340509586827,
          -2.0291627701880537,
          -0.48903035521972266,
          -0.5663571786022973,
          -1.4787610440318093,
          -1.3673892416503333,
          0.27523611036305795,
          0.3501442071324475,
          1.235531610348585,
          0.1314814665497779,
          0.07079226273988824,
          0.6346690086353665,
          1.6029044452742762,
          0.7958708765295324,
          -0.25947577521444265,
          0.5375822712081678,
          0.2677775263639807,
          1.2943918451644172,
          -1.6438371037085036,
          0.37032225334665586,
          0.6780896656500484,
          -1.1068649644088242,
          0.4849669680836155,
          -0.7702270297591995,
          -0.1956237096802853,
          -0.409540567007104,
          0.9543777747548079,
          0.0715623984057711,
          0.4120689159764619,
          -0.9477583953020565,
          -1.2988864592853377,
          2.134583178546349,
          0.6607329716768912,
          0.5860135769330493,
          -0.30059906687024285,
          0.10162323095318798,
          0.8690560540307614,
          -1.469999613146916,
          -0.8016006773462353,
          0.7391997728218646,
          -0.29700677585812657,
          0.3977489712256264,
          1.308580860583779,
          0.8677685903326755
         ]
        }
       ],
       "layout": {
        "barmode": "overlay",
        "legend": {
         "bgcolor": "#F5F6F9",
         "font": {
          "color": "#4D5663"
         }
        },
        "paper_bgcolor": "#F5F6F9",
        "plot_bgcolor": "#F5F6F9",
        "template": {
         "data": {
          "bar": [
           {
            "error_x": {
             "color": "#2a3f5f"
            },
            "error_y": {
             "color": "#2a3f5f"
            },
            "marker": {
             "line": {
              "color": "#E5ECF6",
              "width": 0.5
             }
            },
            "type": "bar"
           }
          ],
          "barpolar": [
           {
            "marker": {
             "line": {
              "color": "#E5ECF6",
              "width": 0.5
             }
            },
            "type": "barpolar"
           }
          ],
          "carpet": [
           {
            "aaxis": {
             "endlinecolor": "#2a3f5f",
             "gridcolor": "white",
             "linecolor": "white",
             "minorgridcolor": "white",
             "startlinecolor": "#2a3f5f"
            },
            "baxis": {
             "endlinecolor": "#2a3f5f",
             "gridcolor": "white",
             "linecolor": "white",
             "minorgridcolor": "white",
             "startlinecolor": "#2a3f5f"
            },
            "type": "carpet"
           }
          ],
          "choropleth": [
           {
            "colorbar": {
             "outlinewidth": 0,
             "ticks": ""
            },
            "type": "choropleth"
           }
          ],
          "contour": [
           {
            "colorbar": {
             "outlinewidth": 0,
             "ticks": ""
            },
            "colorscale": [
             [
              0,
              "#0d0887"
             ],
             [
              0.1111111111111111,
              "#46039f"
             ],
             [
              0.2222222222222222,
              "#7201a8"
             ],
             [
              0.3333333333333333,
              "#9c179e"
             ],
             [
              0.4444444444444444,
              "#bd3786"
             ],
             [
              0.5555555555555556,
              "#d8576b"
             ],
             [
              0.6666666666666666,
              "#ed7953"
             ],
             [
              0.7777777777777778,
              "#fb9f3a"
             ],
             [
              0.8888888888888888,
              "#fdca26"
             ],
             [
              1,
              "#f0f921"
             ]
            ],
            "type": "contour"
           }
          ],
          "contourcarpet": [
           {
            "colorbar": {
             "outlinewidth": 0,
             "ticks": ""
            },
            "type": "contourcarpet"
           }
          ],
          "heatmap": [
           {
            "colorbar": {
             "outlinewidth": 0,
             "ticks": ""
            },
            "colorscale": [
             [
              0,
              "#0d0887"
             ],
             [
              0.1111111111111111,
              "#46039f"
             ],
             [
              0.2222222222222222,
              "#7201a8"
             ],
             [
              0.3333333333333333,
              "#9c179e"
             ],
             [
              0.4444444444444444,
              "#bd3786"
             ],
             [
              0.5555555555555556,
              "#d8576b"
             ],
             [
              0.6666666666666666,
              "#ed7953"
             ],
             [
              0.7777777777777778,
              "#fb9f3a"
             ],
             [
              0.8888888888888888,
              "#fdca26"
             ],
             [
              1,
              "#f0f921"
             ]
            ],
            "type": "heatmap"
           }
          ],
          "heatmapgl": [
           {
            "colorbar": {
             "outlinewidth": 0,
             "ticks": ""
            },
            "colorscale": [
             [
              0,
              "#0d0887"
             ],
             [
              0.1111111111111111,
              "#46039f"
             ],
             [
              0.2222222222222222,
              "#7201a8"
             ],
             [
              0.3333333333333333,
              "#9c179e"
             ],
             [
              0.4444444444444444,
              "#bd3786"
             ],
             [
              0.5555555555555556,
              "#d8576b"
             ],
             [
              0.6666666666666666,
              "#ed7953"
             ],
             [
              0.7777777777777778,
              "#fb9f3a"
             ],
             [
              0.8888888888888888,
              "#fdca26"
             ],
             [
              1,
              "#f0f921"
             ]
            ],
            "type": "heatmapgl"
           }
          ],
          "histogram": [
           {
            "marker": {
             "colorbar": {
              "outlinewidth": 0,
              "ticks": ""
             }
            },
            "type": "histogram"
           }
          ],
          "histogram2d": [
           {
            "colorbar": {
             "outlinewidth": 0,
             "ticks": ""
            },
            "colorscale": [
             [
              0,
              "#0d0887"
             ],
             [
              0.1111111111111111,
              "#46039f"
             ],
             [
              0.2222222222222222,
              "#7201a8"
             ],
             [
              0.3333333333333333,
              "#9c179e"
             ],
             [
              0.4444444444444444,
              "#bd3786"
             ],
             [
              0.5555555555555556,
              "#d8576b"
             ],
             [
              0.6666666666666666,
              "#ed7953"
             ],
             [
              0.7777777777777778,
              "#fb9f3a"
             ],
             [
              0.8888888888888888,
              "#fdca26"
             ],
             [
              1,
              "#f0f921"
             ]
            ],
            "type": "histogram2d"
           }
          ],
          "histogram2dcontour": [
           {
            "colorbar": {
             "outlinewidth": 0,
             "ticks": ""
            },
            "colorscale": [
             [
              0,
              "#0d0887"
             ],
             [
              0.1111111111111111,
              "#46039f"
             ],
             [
              0.2222222222222222,
              "#7201a8"
             ],
             [
              0.3333333333333333,
              "#9c179e"
             ],
             [
              0.4444444444444444,
              "#bd3786"
             ],
             [
              0.5555555555555556,
              "#d8576b"
             ],
             [
              0.6666666666666666,
              "#ed7953"
             ],
             [
              0.7777777777777778,
              "#fb9f3a"
             ],
             [
              0.8888888888888888,
              "#fdca26"
             ],
             [
              1,
              "#f0f921"
             ]
            ],
            "type": "histogram2dcontour"
           }
          ],
          "mesh3d": [
           {
            "colorbar": {
             "outlinewidth": 0,
             "ticks": ""
            },
            "type": "mesh3d"
           }
          ],
          "parcoords": [
           {
            "line": {
             "colorbar": {
              "outlinewidth": 0,
              "ticks": ""
             }
            },
            "type": "parcoords"
           }
          ],
          "pie": [
           {
            "automargin": true,
            "type": "pie"
           }
          ],
          "scatter": [
           {
            "marker": {
             "colorbar": {
              "outlinewidth": 0,
              "ticks": ""
             }
            },
            "type": "scatter"
           }
          ],
          "scatter3d": [
           {
            "line": {
             "colorbar": {
              "outlinewidth": 0,
              "ticks": ""
             }
            },
            "marker": {
             "colorbar": {
              "outlinewidth": 0,
              "ticks": ""
             }
            },
            "type": "scatter3d"
           }
          ],
          "scattercarpet": [
           {
            "marker": {
             "colorbar": {
              "outlinewidth": 0,
              "ticks": ""
             }
            },
            "type": "scattercarpet"
           }
          ],
          "scattergeo": [
           {
            "marker": {
             "colorbar": {
              "outlinewidth": 0,
              "ticks": ""
             }
            },
            "type": "scattergeo"
           }
          ],
          "scattergl": [
           {
            "marker": {
             "colorbar": {
              "outlinewidth": 0,
              "ticks": ""
             }
            },
            "type": "scattergl"
           }
          ],
          "scattermapbox": [
           {
            "marker": {
             "colorbar": {
              "outlinewidth": 0,
              "ticks": ""
             }
            },
            "type": "scattermapbox"
           }
          ],
          "scatterpolar": [
           {
            "marker": {
             "colorbar": {
              "outlinewidth": 0,
              "ticks": ""
             }
            },
            "type": "scatterpolar"
           }
          ],
          "scatterpolargl": [
           {
            "marker": {
             "colorbar": {
              "outlinewidth": 0,
              "ticks": ""
             }
            },
            "type": "scatterpolargl"
           }
          ],
          "scatterternary": [
           {
            "marker": {
             "colorbar": {
              "outlinewidth": 0,
              "ticks": ""
             }
            },
            "type": "scatterternary"
           }
          ],
          "surface": [
           {
            "colorbar": {
             "outlinewidth": 0,
             "ticks": ""
            },
            "colorscale": [
             [
              0,
              "#0d0887"
             ],
             [
              0.1111111111111111,
              "#46039f"
             ],
             [
              0.2222222222222222,
              "#7201a8"
             ],
             [
              0.3333333333333333,
              "#9c179e"
             ],
             [
              0.4444444444444444,
              "#bd3786"
             ],
             [
              0.5555555555555556,
              "#d8576b"
             ],
             [
              0.6666666666666666,
              "#ed7953"
             ],
             [
              0.7777777777777778,
              "#fb9f3a"
             ],
             [
              0.8888888888888888,
              "#fdca26"
             ],
             [
              1,
              "#f0f921"
             ]
            ],
            "type": "surface"
           }
          ],
          "table": [
           {
            "cells": {
             "fill": {
              "color": "#EBF0F8"
             },
             "line": {
              "color": "white"
             }
            },
            "header": {
             "fill": {
              "color": "#C8D4E3"
             },
             "line": {
              "color": "white"
             }
            },
            "type": "table"
           }
          ]
         },
         "layout": {
          "annotationdefaults": {
           "arrowcolor": "#2a3f5f",
           "arrowhead": 0,
           "arrowwidth": 1
          },
          "coloraxis": {
           "colorbar": {
            "outlinewidth": 0,
            "ticks": ""
           }
          },
          "colorscale": {
           "diverging": [
            [
             0,
             "#8e0152"
            ],
            [
             0.1,
             "#c51b7d"
            ],
            [
             0.2,
             "#de77ae"
            ],
            [
             0.3,
             "#f1b6da"
            ],
            [
             0.4,
             "#fde0ef"
            ],
            [
             0.5,
             "#f7f7f7"
            ],
            [
             0.6,
             "#e6f5d0"
            ],
            [
             0.7,
             "#b8e186"
            ],
            [
             0.8,
             "#7fbc41"
            ],
            [
             0.9,
             "#4d9221"
            ],
            [
             1,
             "#276419"
            ]
           ],
           "sequential": [
            [
             0,
             "#0d0887"
            ],
            [
             0.1111111111111111,
             "#46039f"
            ],
            [
             0.2222222222222222,
             "#7201a8"
            ],
            [
             0.3333333333333333,
             "#9c179e"
            ],
            [
             0.4444444444444444,
             "#bd3786"
            ],
            [
             0.5555555555555556,
             "#d8576b"
            ],
            [
             0.6666666666666666,
             "#ed7953"
            ],
            [
             0.7777777777777778,
             "#fb9f3a"
            ],
            [
             0.8888888888888888,
             "#fdca26"
            ],
            [
             1,
             "#f0f921"
            ]
           ],
           "sequentialminus": [
            [
             0,
             "#0d0887"
            ],
            [
             0.1111111111111111,
             "#46039f"
            ],
            [
             0.2222222222222222,
             "#7201a8"
            ],
            [
             0.3333333333333333,
             "#9c179e"
            ],
            [
             0.4444444444444444,
             "#bd3786"
            ],
            [
             0.5555555555555556,
             "#d8576b"
            ],
            [
             0.6666666666666666,
             "#ed7953"
            ],
            [
             0.7777777777777778,
             "#fb9f3a"
            ],
            [
             0.8888888888888888,
             "#fdca26"
            ],
            [
             1,
             "#f0f921"
            ]
           ]
          },
          "colorway": [
           "#636efa",
           "#EF553B",
           "#00cc96",
           "#ab63fa",
           "#FFA15A",
           "#19d3f3",
           "#FF6692",
           "#B6E880",
           "#FF97FF",
           "#FECB52"
          ],
          "font": {
           "color": "#2a3f5f"
          },
          "geo": {
           "bgcolor": "white",
           "lakecolor": "white",
           "landcolor": "#E5ECF6",
           "showlakes": true,
           "showland": true,
           "subunitcolor": "white"
          },
          "hoverlabel": {
           "align": "left"
          },
          "hovermode": "closest",
          "mapbox": {
           "style": "light"
          },
          "paper_bgcolor": "white",
          "plot_bgcolor": "#E5ECF6",
          "polar": {
           "angularaxis": {
            "gridcolor": "white",
            "linecolor": "white",
            "ticks": ""
           },
           "bgcolor": "#E5ECF6",
           "radialaxis": {
            "gridcolor": "white",
            "linecolor": "white",
            "ticks": ""
           }
          },
          "scene": {
           "xaxis": {
            "backgroundcolor": "#E5ECF6",
            "gridcolor": "white",
            "gridwidth": 2,
            "linecolor": "white",
            "showbackground": true,
            "ticks": "",
            "zerolinecolor": "white"
           },
           "yaxis": {
            "backgroundcolor": "#E5ECF6",
            "gridcolor": "white",
            "gridwidth": 2,
            "linecolor": "white",
            "showbackground": true,
            "ticks": "",
            "zerolinecolor": "white"
           },
           "zaxis": {
            "backgroundcolor": "#E5ECF6",
            "gridcolor": "white",
            "gridwidth": 2,
            "linecolor": "white",
            "showbackground": true,
            "ticks": "",
            "zerolinecolor": "white"
           }
          },
          "shapedefaults": {
           "line": {
            "color": "#2a3f5f"
           }
          },
          "ternary": {
           "aaxis": {
            "gridcolor": "white",
            "linecolor": "white",
            "ticks": ""
           },
           "baxis": {
            "gridcolor": "white",
            "linecolor": "white",
            "ticks": ""
           },
           "bgcolor": "#E5ECF6",
           "caxis": {
            "gridcolor": "white",
            "linecolor": "white",
            "ticks": ""
           }
          },
          "title": {
           "x": 0.05
          },
          "xaxis": {
           "automargin": true,
           "gridcolor": "white",
           "linecolor": "white",
           "ticks": "",
           "title": {
            "standoff": 15
           },
           "zerolinecolor": "white",
           "zerolinewidth": 2
          },
          "yaxis": {
           "automargin": true,
           "gridcolor": "white",
           "linecolor": "white",
           "ticks": "",
           "title": {
            "standoff": 15
           },
           "zerolinecolor": "white",
           "zerolinewidth": 2
          }
         }
        },
        "title": {
         "font": {
          "color": "#4D5663"
         }
        },
        "xaxis": {
         "gridcolor": "#E1E5ED",
         "showgrid": true,
         "tickfont": {
          "color": "#4D5663"
         },
         "title": {
          "font": {
           "color": "#4D5663"
          },
          "text": ""
         },
         "zerolinecolor": "#E1E5ED"
        },
        "yaxis": {
         "gridcolor": "#E1E5ED",
         "showgrid": true,
         "tickfont": {
          "color": "#4D5663"
         },
         "title": {
          "font": {
           "color": "#4D5663"
          },
          "text": ""
         },
         "zerolinecolor": "#E1E5ED"
        }
       }
      },
      "text/html": [
       "<div>\n",
       "        \n",
       "        \n",
       "            <div id=\"f121f45b-cc49-467a-ae0b-0364afe007fa\" class=\"plotly-graph-div\" style=\"height:525px; width:100%;\"></div>\n",
       "            <script type=\"text/javascript\">\n",
       "                require([\"plotly\"], function(Plotly) {\n",
       "                    window.PLOTLYENV=window.PLOTLYENV || {};\n",
       "                    window.PLOTLYENV.BASE_URL='https://plot.ly';\n",
       "                    \n",
       "                if (document.getElementById(\"f121f45b-cc49-467a-ae0b-0364afe007fa\")) {\n",
       "                    Plotly.newPlot(\n",
       "                        'f121f45b-cc49-467a-ae0b-0364afe007fa',\n",
       "                        [{\"histfunc\": \"count\", \"histnorm\": \"\", \"marker\": {\"color\": \"rgba(255, 153, 51, 1.0)\", \"line\": {\"color\": \"#4D5663\", \"width\": 1.3}}, \"name\": \"A\", \"nbinsx\": 25, \"opacity\": 0.8, \"orientation\": \"v\", \"type\": \"histogram\", \"x\": [0.8154349543945048, 1.6452615952148095, 1.4537812287057956, 0.10104178737084112, 0.5656271670462576, -0.25532938206558614, -0.4325104653515167, 1.410127965092189, 1.1470488251728317, 0.657072548948607, 0.03982381590751122, -0.21945492705686911, -0.42813566220156773, 0.06912887060307056, 0.48019535501818067, 0.7335677864552974, 1.0413248888755484, -0.5834104170250821, 1.4848271676888816, 0.7826869752115855, -0.39749806587397724, -0.4027652996072739, 0.11747667683869219, 1.238907705657658, 1.0712834977929915, -1.7600443375466999, -1.3937101578182822, -1.3249680614763732, -1.0077691729223197, -0.7584747658795038, 0.5724593892766379, 1.5492788163962405, -1.0910998243990073, 1.4290362767631684, -3.01125804668789, -0.2356489680791908, -0.3116139523330637, -0.9183548126980127, 0.7923927375118476, -1.5804414859407747, 0.7733345351849514, -1.6465243274195123, 0.27138733583592134, -0.19599767388768868, 0.08106265270112785, 0.06469965591392358, -0.43539719559085543, 1.5156592705706176, 0.38031968497822216, -1.5324652462793011, -1.3962548417854277, -1.4663549169819599, 1.9896722879077047, -0.7717337568947867, -1.13236110225189, -1.983359999513528, 1.2842340509586827, -2.0291627701880537, -0.48903035521972266, -0.5663571786022973, -1.4787610440318093, -1.3673892416503333, 0.27523611036305795, 0.3501442071324475, 1.235531610348585, 0.1314814665497779, 0.07079226273988824, 0.6346690086353665, 1.6029044452742762, 0.7958708765295324, -0.25947577521444265, 0.5375822712081678, 0.2677775263639807, 1.2943918451644172, -1.6438371037085036, 0.37032225334665586, 0.6780896656500484, -1.1068649644088242, 0.4849669680836155, -0.7702270297591995, -0.1956237096802853, -0.409540567007104, 0.9543777747548079, 0.0715623984057711, 0.4120689159764619, -0.9477583953020565, -1.2988864592853377, 2.134583178546349, 0.6607329716768912, 0.5860135769330493, -0.30059906687024285, 0.10162323095318798, 0.8690560540307614, -1.469999613146916, -0.8016006773462353, 0.7391997728218646, -0.29700677585812657, 0.3977489712256264, 1.308580860583779, 0.8677685903326755]}],\n",
       "                        {\"barmode\": \"overlay\", \"legend\": {\"bgcolor\": \"#F5F6F9\", \"font\": {\"color\": \"#4D5663\"}}, \"paper_bgcolor\": \"#F5F6F9\", \"plot_bgcolor\": \"#F5F6F9\", \"template\": {\"data\": {\"bar\": [{\"error_x\": {\"color\": \"#2a3f5f\"}, \"error_y\": {\"color\": \"#2a3f5f\"}, \"marker\": {\"line\": {\"color\": \"#E5ECF6\", \"width\": 0.5}}, \"type\": \"bar\"}], \"barpolar\": [{\"marker\": {\"line\": {\"color\": \"#E5ECF6\", \"width\": 0.5}}, \"type\": \"barpolar\"}], \"carpet\": [{\"aaxis\": {\"endlinecolor\": \"#2a3f5f\", \"gridcolor\": \"white\", \"linecolor\": \"white\", \"minorgridcolor\": \"white\", \"startlinecolor\": \"#2a3f5f\"}, \"baxis\": {\"endlinecolor\": \"#2a3f5f\", \"gridcolor\": \"white\", \"linecolor\": \"white\", \"minorgridcolor\": \"white\", \"startlinecolor\": \"#2a3f5f\"}, \"type\": \"carpet\"}], \"choropleth\": [{\"colorbar\": {\"outlinewidth\": 0, \"ticks\": \"\"}, \"type\": \"choropleth\"}], \"contour\": [{\"colorbar\": {\"outlinewidth\": 0, \"ticks\": \"\"}, \"colorscale\": [[0.0, \"#0d0887\"], [0.1111111111111111, \"#46039f\"], [0.2222222222222222, \"#7201a8\"], [0.3333333333333333, \"#9c179e\"], [0.4444444444444444, \"#bd3786\"], [0.5555555555555556, \"#d8576b\"], [0.6666666666666666, \"#ed7953\"], [0.7777777777777778, \"#fb9f3a\"], [0.8888888888888888, \"#fdca26\"], [1.0, \"#f0f921\"]], \"type\": \"contour\"}], \"contourcarpet\": [{\"colorbar\": {\"outlinewidth\": 0, \"ticks\": \"\"}, \"type\": \"contourcarpet\"}], \"heatmap\": [{\"colorbar\": {\"outlinewidth\": 0, \"ticks\": \"\"}, \"colorscale\": [[0.0, \"#0d0887\"], [0.1111111111111111, \"#46039f\"], [0.2222222222222222, \"#7201a8\"], [0.3333333333333333, \"#9c179e\"], [0.4444444444444444, \"#bd3786\"], [0.5555555555555556, \"#d8576b\"], [0.6666666666666666, \"#ed7953\"], [0.7777777777777778, \"#fb9f3a\"], [0.8888888888888888, \"#fdca26\"], [1.0, \"#f0f921\"]], \"type\": \"heatmap\"}], \"heatmapgl\": [{\"colorbar\": {\"outlinewidth\": 0, \"ticks\": \"\"}, \"colorscale\": [[0.0, \"#0d0887\"], [0.1111111111111111, \"#46039f\"], [0.2222222222222222, \"#7201a8\"], [0.3333333333333333, \"#9c179e\"], [0.4444444444444444, \"#bd3786\"], [0.5555555555555556, \"#d8576b\"], [0.6666666666666666, \"#ed7953\"], [0.7777777777777778, \"#fb9f3a\"], [0.8888888888888888, \"#fdca26\"], [1.0, \"#f0f921\"]], \"type\": \"heatmapgl\"}], \"histogram\": [{\"marker\": {\"colorbar\": {\"outlinewidth\": 0, \"ticks\": \"\"}}, \"type\": \"histogram\"}], \"histogram2d\": [{\"colorbar\": {\"outlinewidth\": 0, \"ticks\": \"\"}, \"colorscale\": [[0.0, \"#0d0887\"], [0.1111111111111111, \"#46039f\"], [0.2222222222222222, \"#7201a8\"], [0.3333333333333333, \"#9c179e\"], [0.4444444444444444, \"#bd3786\"], [0.5555555555555556, \"#d8576b\"], [0.6666666666666666, \"#ed7953\"], [0.7777777777777778, \"#fb9f3a\"], [0.8888888888888888, \"#fdca26\"], [1.0, \"#f0f921\"]], \"type\": \"histogram2d\"}], \"histogram2dcontour\": [{\"colorbar\": {\"outlinewidth\": 0, \"ticks\": \"\"}, \"colorscale\": [[0.0, \"#0d0887\"], [0.1111111111111111, \"#46039f\"], [0.2222222222222222, \"#7201a8\"], [0.3333333333333333, \"#9c179e\"], [0.4444444444444444, \"#bd3786\"], [0.5555555555555556, \"#d8576b\"], [0.6666666666666666, \"#ed7953\"], [0.7777777777777778, \"#fb9f3a\"], [0.8888888888888888, \"#fdca26\"], [1.0, \"#f0f921\"]], \"type\": \"histogram2dcontour\"}], \"mesh3d\": [{\"colorbar\": {\"outlinewidth\": 0, \"ticks\": \"\"}, \"type\": \"mesh3d\"}], \"parcoords\": [{\"line\": {\"colorbar\": {\"outlinewidth\": 0, \"ticks\": \"\"}}, \"type\": \"parcoords\"}], \"pie\": [{\"automargin\": true, \"type\": \"pie\"}], \"scatter\": [{\"marker\": {\"colorbar\": {\"outlinewidth\": 0, \"ticks\": \"\"}}, \"type\": \"scatter\"}], \"scatter3d\": [{\"line\": {\"colorbar\": {\"outlinewidth\": 0, \"ticks\": \"\"}}, \"marker\": {\"colorbar\": {\"outlinewidth\": 0, \"ticks\": \"\"}}, \"type\": \"scatter3d\"}], \"scattercarpet\": [{\"marker\": {\"colorbar\": {\"outlinewidth\": 0, \"ticks\": \"\"}}, \"type\": \"scattercarpet\"}], \"scattergeo\": [{\"marker\": {\"colorbar\": {\"outlinewidth\": 0, \"ticks\": \"\"}}, \"type\": \"scattergeo\"}], \"scattergl\": [{\"marker\": {\"colorbar\": {\"outlinewidth\": 0, \"ticks\": \"\"}}, \"type\": \"scattergl\"}], \"scattermapbox\": [{\"marker\": {\"colorbar\": {\"outlinewidth\": 0, \"ticks\": \"\"}}, \"type\": \"scattermapbox\"}], \"scatterpolar\": [{\"marker\": {\"colorbar\": {\"outlinewidth\": 0, \"ticks\": \"\"}}, \"type\": \"scatterpolar\"}], \"scatterpolargl\": [{\"marker\": {\"colorbar\": {\"outlinewidth\": 0, \"ticks\": \"\"}}, \"type\": \"scatterpolargl\"}], \"scatterternary\": [{\"marker\": {\"colorbar\": {\"outlinewidth\": 0, \"ticks\": \"\"}}, \"type\": \"scatterternary\"}], \"surface\": [{\"colorbar\": {\"outlinewidth\": 0, \"ticks\": \"\"}, \"colorscale\": [[0.0, \"#0d0887\"], [0.1111111111111111, \"#46039f\"], [0.2222222222222222, \"#7201a8\"], [0.3333333333333333, \"#9c179e\"], [0.4444444444444444, \"#bd3786\"], [0.5555555555555556, \"#d8576b\"], [0.6666666666666666, \"#ed7953\"], [0.7777777777777778, \"#fb9f3a\"], [0.8888888888888888, \"#fdca26\"], [1.0, \"#f0f921\"]], \"type\": \"surface\"}], \"table\": [{\"cells\": {\"fill\": {\"color\": \"#EBF0F8\"}, \"line\": {\"color\": \"white\"}}, \"header\": {\"fill\": {\"color\": \"#C8D4E3\"}, \"line\": {\"color\": \"white\"}}, \"type\": \"table\"}]}, \"layout\": {\"annotationdefaults\": {\"arrowcolor\": \"#2a3f5f\", \"arrowhead\": 0, \"arrowwidth\": 1}, \"coloraxis\": {\"colorbar\": {\"outlinewidth\": 0, \"ticks\": \"\"}}, \"colorscale\": {\"diverging\": [[0, \"#8e0152\"], [0.1, \"#c51b7d\"], [0.2, \"#de77ae\"], [0.3, \"#f1b6da\"], [0.4, \"#fde0ef\"], [0.5, \"#f7f7f7\"], [0.6, \"#e6f5d0\"], [0.7, \"#b8e186\"], [0.8, \"#7fbc41\"], [0.9, \"#4d9221\"], [1, \"#276419\"]], \"sequential\": [[0.0, \"#0d0887\"], [0.1111111111111111, \"#46039f\"], [0.2222222222222222, \"#7201a8\"], [0.3333333333333333, \"#9c179e\"], [0.4444444444444444, \"#bd3786\"], [0.5555555555555556, \"#d8576b\"], [0.6666666666666666, \"#ed7953\"], [0.7777777777777778, \"#fb9f3a\"], [0.8888888888888888, \"#fdca26\"], [1.0, \"#f0f921\"]], \"sequentialminus\": [[0.0, \"#0d0887\"], [0.1111111111111111, \"#46039f\"], [0.2222222222222222, \"#7201a8\"], [0.3333333333333333, \"#9c179e\"], [0.4444444444444444, \"#bd3786\"], [0.5555555555555556, \"#d8576b\"], [0.6666666666666666, \"#ed7953\"], [0.7777777777777778, \"#fb9f3a\"], [0.8888888888888888, \"#fdca26\"], [1.0, \"#f0f921\"]]}, \"colorway\": [\"#636efa\", \"#EF553B\", \"#00cc96\", \"#ab63fa\", \"#FFA15A\", \"#19d3f3\", \"#FF6692\", \"#B6E880\", \"#FF97FF\", \"#FECB52\"], \"font\": {\"color\": \"#2a3f5f\"}, \"geo\": {\"bgcolor\": \"white\", \"lakecolor\": \"white\", \"landcolor\": \"#E5ECF6\", \"showlakes\": true, \"showland\": true, \"subunitcolor\": \"white\"}, \"hoverlabel\": {\"align\": \"left\"}, \"hovermode\": \"closest\", \"mapbox\": {\"style\": \"light\"}, \"paper_bgcolor\": \"white\", \"plot_bgcolor\": \"#E5ECF6\", \"polar\": {\"angularaxis\": {\"gridcolor\": \"white\", \"linecolor\": \"white\", \"ticks\": \"\"}, \"bgcolor\": \"#E5ECF6\", \"radialaxis\": {\"gridcolor\": \"white\", \"linecolor\": \"white\", \"ticks\": \"\"}}, \"scene\": {\"xaxis\": {\"backgroundcolor\": \"#E5ECF6\", \"gridcolor\": \"white\", \"gridwidth\": 2, \"linecolor\": \"white\", \"showbackground\": true, \"ticks\": \"\", \"zerolinecolor\": \"white\"}, \"yaxis\": {\"backgroundcolor\": \"#E5ECF6\", \"gridcolor\": \"white\", \"gridwidth\": 2, \"linecolor\": \"white\", \"showbackground\": true, \"ticks\": \"\", \"zerolinecolor\": \"white\"}, \"zaxis\": {\"backgroundcolor\": \"#E5ECF6\", \"gridcolor\": \"white\", \"gridwidth\": 2, \"linecolor\": \"white\", \"showbackground\": true, \"ticks\": \"\", \"zerolinecolor\": \"white\"}}, \"shapedefaults\": {\"line\": {\"color\": \"#2a3f5f\"}}, \"ternary\": {\"aaxis\": {\"gridcolor\": \"white\", \"linecolor\": \"white\", \"ticks\": \"\"}, \"baxis\": {\"gridcolor\": \"white\", \"linecolor\": \"white\", \"ticks\": \"\"}, \"bgcolor\": \"#E5ECF6\", \"caxis\": {\"gridcolor\": \"white\", \"linecolor\": \"white\", \"ticks\": \"\"}}, \"title\": {\"x\": 0.05}, \"xaxis\": {\"automargin\": true, \"gridcolor\": \"white\", \"linecolor\": \"white\", \"ticks\": \"\", \"title\": {\"standoff\": 15}, \"zerolinecolor\": \"white\", \"zerolinewidth\": 2}, \"yaxis\": {\"automargin\": true, \"gridcolor\": \"white\", \"linecolor\": \"white\", \"ticks\": \"\", \"title\": {\"standoff\": 15}, \"zerolinecolor\": \"white\", \"zerolinewidth\": 2}}}, \"title\": {\"font\": {\"color\": \"#4D5663\"}}, \"xaxis\": {\"gridcolor\": \"#E1E5ED\", \"showgrid\": true, \"tickfont\": {\"color\": \"#4D5663\"}, \"title\": {\"font\": {\"color\": \"#4D5663\"}, \"text\": \"\"}, \"zerolinecolor\": \"#E1E5ED\"}, \"yaxis\": {\"gridcolor\": \"#E1E5ED\", \"showgrid\": true, \"tickfont\": {\"color\": \"#4D5663\"}, \"title\": {\"font\": {\"color\": \"#4D5663\"}, \"text\": \"\"}, \"zerolinecolor\": \"#E1E5ED\"}},\n",
       "                        {\"showLink\": true, \"linkText\": \"Export to plot.ly\", \"plotlyServerURL\": \"https://plot.ly\", \"responsive\": true}\n",
       "                    ).then(function(){\n",
       "                            \n",
       "var gd = document.getElementById('f121f45b-cc49-467a-ae0b-0364afe007fa');\n",
       "var x = new MutationObserver(function (mutations, observer) {{\n",
       "        var display = window.getComputedStyle(gd).display;\n",
       "        if (!display || display === 'none') {{\n",
       "            console.log([gd, 'removed!']);\n",
       "            Plotly.purge(gd);\n",
       "            observer.disconnect();\n",
       "        }}\n",
       "}});\n",
       "\n",
       "// Listen for the removal of the full notebook cells\n",
       "var notebookContainer = gd.closest('#notebook-container');\n",
       "if (notebookContainer) {{\n",
       "    x.observe(notebookContainer, {childList: true});\n",
       "}}\n",
       "\n",
       "// Listen for the clearing of the current output cell\n",
       "var outputEl = gd.closest('.output');\n",
       "if (outputEl) {{\n",
       "    x.observe(outputEl, {childList: true});\n",
       "}}\n",
       "\n",
       "                        })\n",
       "                };\n",
       "                });\n",
       "            </script>\n",
       "        </div>"
      ]
     },
     "metadata": {},
     "output_type": "display_data"
    }
   ],
   "source": [
    "df['A'].iplot(kind='hist',bins=25)"
   ]
  },
  {
   "cell_type": "code",
   "execution_count": 17,
   "metadata": {},
   "outputs": [
    {
     "data": {
      "application/vnd.plotly.v1+json": {
       "config": {
        "linkText": "Export to plot.ly",
        "plotlyServerURL": "https://plot.ly",
        "showLink": true
       },
       "data": [
        {
         "marker": {
          "color": [
           "rgb(255, 153, 51)",
           "rgb(55, 128, 191)",
           "rgb(50, 171, 96)",
           "rgb(128, 0, 128)",
           "rgb(219, 64, 82)",
           "rgb(0, 128, 128)",
           "rgb(255, 255, 51)",
           "rgb(128, 128, 0)",
           "rgb(251, 128, 114)",
           "rgb(128, 177, 211)"
          ],
          "line": {
           "width": 1.3
          },
          "size": [
           60,
           73,
           83,
           85,
           48,
           78,
           73,
           88,
           50,
           77,
           44,
           66,
           51,
           43,
           75,
           86,
           53,
           55,
           30,
           54,
           87,
           52,
           70,
           12,
           65,
           59,
           79,
           66,
           77,
           46,
           67,
           67,
           75,
           46,
           75,
           60,
           73,
           80,
           66,
           95,
           77,
           57,
           65,
           59,
           53,
           58,
           90,
           49,
           61,
           66,
           47,
           95,
           72,
           53,
           59,
           58,
           72,
           64,
           57,
           96,
           66,
           53,
           69,
           80,
           103,
           94,
           53,
           72,
           73,
           78,
           43,
           66,
           49,
           112,
           72,
           57,
           43,
           74,
           59,
           65,
           53,
           42,
           59,
           70,
           68,
           79,
           63,
           73,
           39,
           42,
           83,
           66,
           75,
           44,
           59,
           57,
           48,
           49,
           58,
           76
          ],
          "symbol": "circle"
         },
         "mode": "markers",
         "text": "",
         "type": "scatter",
         "x": [
          0.8154349543945048,
          1.6452615952148095,
          1.4537812287057956,
          0.10104178737084112,
          0.5656271670462576,
          -0.25532938206558614,
          -0.4325104653515167,
          1.410127965092189,
          1.1470488251728317,
          0.657072548948607,
          0.03982381590751122,
          -0.21945492705686911,
          -0.42813566220156773,
          0.06912887060307056,
          0.48019535501818067,
          0.7335677864552974,
          1.0413248888755484,
          -0.5834104170250821,
          1.4848271676888816,
          0.7826869752115855,
          -0.39749806587397724,
          -0.4027652996072739,
          0.11747667683869219,
          1.238907705657658,
          1.0712834977929915,
          -1.7600443375466999,
          -1.3937101578182822,
          -1.3249680614763732,
          -1.0077691729223197,
          -0.7584747658795038,
          0.5724593892766379,
          1.5492788163962405,
          -1.0910998243990073,
          1.4290362767631684,
          -3.01125804668789,
          -0.2356489680791908,
          -0.3116139523330637,
          -0.9183548126980127,
          0.7923927375118476,
          -1.5804414859407747,
          0.7733345351849514,
          -1.6465243274195123,
          0.27138733583592134,
          -0.19599767388768868,
          0.08106265270112785,
          0.06469965591392358,
          -0.43539719559085543,
          1.5156592705706176,
          0.38031968497822216,
          -1.5324652462793011,
          -1.3962548417854277,
          -1.4663549169819599,
          1.9896722879077047,
          -0.7717337568947867,
          -1.13236110225189,
          -1.983359999513528,
          1.2842340509586827,
          -2.0291627701880537,
          -0.48903035521972266,
          -0.5663571786022973,
          -1.4787610440318093,
          -1.3673892416503333,
          0.27523611036305795,
          0.3501442071324475,
          1.235531610348585,
          0.1314814665497779,
          0.07079226273988824,
          0.6346690086353665,
          1.6029044452742762,
          0.7958708765295324,
          -0.25947577521444265,
          0.5375822712081678,
          0.2677775263639807,
          1.2943918451644172,
          -1.6438371037085036,
          0.37032225334665586,
          0.6780896656500484,
          -1.1068649644088242,
          0.4849669680836155,
          -0.7702270297591995,
          -0.1956237096802853,
          -0.409540567007104,
          0.9543777747548079,
          0.0715623984057711,
          0.4120689159764619,
          -0.9477583953020565,
          -1.2988864592853377,
          2.134583178546349,
          0.6607329716768912,
          0.5860135769330493,
          -0.30059906687024285,
          0.10162323095318798,
          0.8690560540307614,
          -1.469999613146916,
          -0.8016006773462353,
          0.7391997728218646,
          -0.29700677585812657,
          0.3977489712256264,
          1.308580860583779,
          0.8677685903326755
         ],
         "y": [
          -0.6808447835617709,
          0.6086340681502943,
          1.7294677222632684,
          1.4829871712031955,
          1.1980976114694604,
          1.0795709221769332,
          -2.047286648226565,
          -1.515872438409646,
          0.11471042412393548,
          0.019125214933381172,
          -0.29828557402151373,
          0.6678947909266109,
          0.5106155584983674,
          0.7647578163776658,
          1.8476202168111207,
          1.565461666184497,
          0.2644348097255944,
          -0.15408202979369123,
          -2.618397980162209,
          1.1561649742011062,
          -0.10410162246810392,
          -1.1033110243512538,
          -0.27424587213996177,
          0.08080606289820692,
          -1.0284610964640115,
          1.150848640078469,
          -0.25638096017062206,
          -1.3452740294819456,
          -0.8726175451755096,
          -0.2579052619972397,
          -0.7474841473560414,
          0.8216094650234528,
          -0.4691579203738452,
          -1.0209429509692105,
          -0.40491326209742795,
          1.2208179000282928,
          0.5494620131503947,
          -0.7068872181482015,
          -0.3339529855897427,
          -0.35773835515151436,
          0.30747456293859887,
          -1.7462557392925255,
          -2.3433306042719826,
          -0.5574714680621268,
          0.7125922057087234,
          0.709555785308249,
          1.5876508083553502,
          -1.0557115951468214,
          0.42056797157878995,
          -1.6991616216509176,
          0.7039003209473632,
          0.14454012533595098,
          1.352757377147084,
          -0.6035879623453446,
          0.7274800691249542,
          -0.8983221928954063,
          0.7011998235137612,
          -1.0469207731767092,
          -0.21650716957079683,
          -0.2288275245869777,
          0.9993381258043659,
          -1.2311548841515694,
          -0.5274804076228069,
          -0.6877047486831002,
          0.20934430042105764,
          1.2564779849253123,
          0.3294673953075221,
          1.255900250776616,
          -0.5193008892325174,
          -0.06741165979455997,
          -1.0834021867660262,
          1.1335311403921011,
          0.7801861037662863,
          -0.2996263227805359,
          0.7451519159275286,
          -0.8027114457470523,
          1.2942954747888622,
          -0.2632261742274699,
          1.5242870545704912,
          -0.9063535187405944,
          0.07134433670959506,
          -0.4579896341837586,
          0.7652378935287566,
          -1.3013707444167233,
          0.9578139607872342,
          -0.43515395155639264,
          0.44700821446023037,
          0.3154919434012009,
          -1.3843643663770469,
          -0.3963047121461804,
          -1.1195850187543466,
          -0.6162495255049156,
          -0.16047808659235244,
          -0.35823082603392176,
          -2.83004813388019,
          0.39142399755480306,
          0.744533277886588,
          1.4980898982513313,
          -0.619242852250382,
          -0.4117319533653246
         ]
        }
       ],
       "layout": {
        "legend": {
         "bgcolor": "#F5F6F9",
         "font": {
          "color": "#4D5663"
         }
        },
        "paper_bgcolor": "#F5F6F9",
        "plot_bgcolor": "#F5F6F9",
        "template": {
         "data": {
          "bar": [
           {
            "error_x": {
             "color": "#2a3f5f"
            },
            "error_y": {
             "color": "#2a3f5f"
            },
            "marker": {
             "line": {
              "color": "#E5ECF6",
              "width": 0.5
             }
            },
            "type": "bar"
           }
          ],
          "barpolar": [
           {
            "marker": {
             "line": {
              "color": "#E5ECF6",
              "width": 0.5
             }
            },
            "type": "barpolar"
           }
          ],
          "carpet": [
           {
            "aaxis": {
             "endlinecolor": "#2a3f5f",
             "gridcolor": "white",
             "linecolor": "white",
             "minorgridcolor": "white",
             "startlinecolor": "#2a3f5f"
            },
            "baxis": {
             "endlinecolor": "#2a3f5f",
             "gridcolor": "white",
             "linecolor": "white",
             "minorgridcolor": "white",
             "startlinecolor": "#2a3f5f"
            },
            "type": "carpet"
           }
          ],
          "choropleth": [
           {
            "colorbar": {
             "outlinewidth": 0,
             "ticks": ""
            },
            "type": "choropleth"
           }
          ],
          "contour": [
           {
            "colorbar": {
             "outlinewidth": 0,
             "ticks": ""
            },
            "colorscale": [
             [
              0,
              "#0d0887"
             ],
             [
              0.1111111111111111,
              "#46039f"
             ],
             [
              0.2222222222222222,
              "#7201a8"
             ],
             [
              0.3333333333333333,
              "#9c179e"
             ],
             [
              0.4444444444444444,
              "#bd3786"
             ],
             [
              0.5555555555555556,
              "#d8576b"
             ],
             [
              0.6666666666666666,
              "#ed7953"
             ],
             [
              0.7777777777777778,
              "#fb9f3a"
             ],
             [
              0.8888888888888888,
              "#fdca26"
             ],
             [
              1,
              "#f0f921"
             ]
            ],
            "type": "contour"
           }
          ],
          "contourcarpet": [
           {
            "colorbar": {
             "outlinewidth": 0,
             "ticks": ""
            },
            "type": "contourcarpet"
           }
          ],
          "heatmap": [
           {
            "colorbar": {
             "outlinewidth": 0,
             "ticks": ""
            },
            "colorscale": [
             [
              0,
              "#0d0887"
             ],
             [
              0.1111111111111111,
              "#46039f"
             ],
             [
              0.2222222222222222,
              "#7201a8"
             ],
             [
              0.3333333333333333,
              "#9c179e"
             ],
             [
              0.4444444444444444,
              "#bd3786"
             ],
             [
              0.5555555555555556,
              "#d8576b"
             ],
             [
              0.6666666666666666,
              "#ed7953"
             ],
             [
              0.7777777777777778,
              "#fb9f3a"
             ],
             [
              0.8888888888888888,
              "#fdca26"
             ],
             [
              1,
              "#f0f921"
             ]
            ],
            "type": "heatmap"
           }
          ],
          "heatmapgl": [
           {
            "colorbar": {
             "outlinewidth": 0,
             "ticks": ""
            },
            "colorscale": [
             [
              0,
              "#0d0887"
             ],
             [
              0.1111111111111111,
              "#46039f"
             ],
             [
              0.2222222222222222,
              "#7201a8"
             ],
             [
              0.3333333333333333,
              "#9c179e"
             ],
             [
              0.4444444444444444,
              "#bd3786"
             ],
             [
              0.5555555555555556,
              "#d8576b"
             ],
             [
              0.6666666666666666,
              "#ed7953"
             ],
             [
              0.7777777777777778,
              "#fb9f3a"
             ],
             [
              0.8888888888888888,
              "#fdca26"
             ],
             [
              1,
              "#f0f921"
             ]
            ],
            "type": "heatmapgl"
           }
          ],
          "histogram": [
           {
            "marker": {
             "colorbar": {
              "outlinewidth": 0,
              "ticks": ""
             }
            },
            "type": "histogram"
           }
          ],
          "histogram2d": [
           {
            "colorbar": {
             "outlinewidth": 0,
             "ticks": ""
            },
            "colorscale": [
             [
              0,
              "#0d0887"
             ],
             [
              0.1111111111111111,
              "#46039f"
             ],
             [
              0.2222222222222222,
              "#7201a8"
             ],
             [
              0.3333333333333333,
              "#9c179e"
             ],
             [
              0.4444444444444444,
              "#bd3786"
             ],
             [
              0.5555555555555556,
              "#d8576b"
             ],
             [
              0.6666666666666666,
              "#ed7953"
             ],
             [
              0.7777777777777778,
              "#fb9f3a"
             ],
             [
              0.8888888888888888,
              "#fdca26"
             ],
             [
              1,
              "#f0f921"
             ]
            ],
            "type": "histogram2d"
           }
          ],
          "histogram2dcontour": [
           {
            "colorbar": {
             "outlinewidth": 0,
             "ticks": ""
            },
            "colorscale": [
             [
              0,
              "#0d0887"
             ],
             [
              0.1111111111111111,
              "#46039f"
             ],
             [
              0.2222222222222222,
              "#7201a8"
             ],
             [
              0.3333333333333333,
              "#9c179e"
             ],
             [
              0.4444444444444444,
              "#bd3786"
             ],
             [
              0.5555555555555556,
              "#d8576b"
             ],
             [
              0.6666666666666666,
              "#ed7953"
             ],
             [
              0.7777777777777778,
              "#fb9f3a"
             ],
             [
              0.8888888888888888,
              "#fdca26"
             ],
             [
              1,
              "#f0f921"
             ]
            ],
            "type": "histogram2dcontour"
           }
          ],
          "mesh3d": [
           {
            "colorbar": {
             "outlinewidth": 0,
             "ticks": ""
            },
            "type": "mesh3d"
           }
          ],
          "parcoords": [
           {
            "line": {
             "colorbar": {
              "outlinewidth": 0,
              "ticks": ""
             }
            },
            "type": "parcoords"
           }
          ],
          "pie": [
           {
            "automargin": true,
            "type": "pie"
           }
          ],
          "scatter": [
           {
            "marker": {
             "colorbar": {
              "outlinewidth": 0,
              "ticks": ""
             }
            },
            "type": "scatter"
           }
          ],
          "scatter3d": [
           {
            "line": {
             "colorbar": {
              "outlinewidth": 0,
              "ticks": ""
             }
            },
            "marker": {
             "colorbar": {
              "outlinewidth": 0,
              "ticks": ""
             }
            },
            "type": "scatter3d"
           }
          ],
          "scattercarpet": [
           {
            "marker": {
             "colorbar": {
              "outlinewidth": 0,
              "ticks": ""
             }
            },
            "type": "scattercarpet"
           }
          ],
          "scattergeo": [
           {
            "marker": {
             "colorbar": {
              "outlinewidth": 0,
              "ticks": ""
             }
            },
            "type": "scattergeo"
           }
          ],
          "scattergl": [
           {
            "marker": {
             "colorbar": {
              "outlinewidth": 0,
              "ticks": ""
             }
            },
            "type": "scattergl"
           }
          ],
          "scattermapbox": [
           {
            "marker": {
             "colorbar": {
              "outlinewidth": 0,
              "ticks": ""
             }
            },
            "type": "scattermapbox"
           }
          ],
          "scatterpolar": [
           {
            "marker": {
             "colorbar": {
              "outlinewidth": 0,
              "ticks": ""
             }
            },
            "type": "scatterpolar"
           }
          ],
          "scatterpolargl": [
           {
            "marker": {
             "colorbar": {
              "outlinewidth": 0,
              "ticks": ""
             }
            },
            "type": "scatterpolargl"
           }
          ],
          "scatterternary": [
           {
            "marker": {
             "colorbar": {
              "outlinewidth": 0,
              "ticks": ""
             }
            },
            "type": "scatterternary"
           }
          ],
          "surface": [
           {
            "colorbar": {
             "outlinewidth": 0,
             "ticks": ""
            },
            "colorscale": [
             [
              0,
              "#0d0887"
             ],
             [
              0.1111111111111111,
              "#46039f"
             ],
             [
              0.2222222222222222,
              "#7201a8"
             ],
             [
              0.3333333333333333,
              "#9c179e"
             ],
             [
              0.4444444444444444,
              "#bd3786"
             ],
             [
              0.5555555555555556,
              "#d8576b"
             ],
             [
              0.6666666666666666,
              "#ed7953"
             ],
             [
              0.7777777777777778,
              "#fb9f3a"
             ],
             [
              0.8888888888888888,
              "#fdca26"
             ],
             [
              1,
              "#f0f921"
             ]
            ],
            "type": "surface"
           }
          ],
          "table": [
           {
            "cells": {
             "fill": {
              "color": "#EBF0F8"
             },
             "line": {
              "color": "white"
             }
            },
            "header": {
             "fill": {
              "color": "#C8D4E3"
             },
             "line": {
              "color": "white"
             }
            },
            "type": "table"
           }
          ]
         },
         "layout": {
          "annotationdefaults": {
           "arrowcolor": "#2a3f5f",
           "arrowhead": 0,
           "arrowwidth": 1
          },
          "coloraxis": {
           "colorbar": {
            "outlinewidth": 0,
            "ticks": ""
           }
          },
          "colorscale": {
           "diverging": [
            [
             0,
             "#8e0152"
            ],
            [
             0.1,
             "#c51b7d"
            ],
            [
             0.2,
             "#de77ae"
            ],
            [
             0.3,
             "#f1b6da"
            ],
            [
             0.4,
             "#fde0ef"
            ],
            [
             0.5,
             "#f7f7f7"
            ],
            [
             0.6,
             "#e6f5d0"
            ],
            [
             0.7,
             "#b8e186"
            ],
            [
             0.8,
             "#7fbc41"
            ],
            [
             0.9,
             "#4d9221"
            ],
            [
             1,
             "#276419"
            ]
           ],
           "sequential": [
            [
             0,
             "#0d0887"
            ],
            [
             0.1111111111111111,
             "#46039f"
            ],
            [
             0.2222222222222222,
             "#7201a8"
            ],
            [
             0.3333333333333333,
             "#9c179e"
            ],
            [
             0.4444444444444444,
             "#bd3786"
            ],
            [
             0.5555555555555556,
             "#d8576b"
            ],
            [
             0.6666666666666666,
             "#ed7953"
            ],
            [
             0.7777777777777778,
             "#fb9f3a"
            ],
            [
             0.8888888888888888,
             "#fdca26"
            ],
            [
             1,
             "#f0f921"
            ]
           ],
           "sequentialminus": [
            [
             0,
             "#0d0887"
            ],
            [
             0.1111111111111111,
             "#46039f"
            ],
            [
             0.2222222222222222,
             "#7201a8"
            ],
            [
             0.3333333333333333,
             "#9c179e"
            ],
            [
             0.4444444444444444,
             "#bd3786"
            ],
            [
             0.5555555555555556,
             "#d8576b"
            ],
            [
             0.6666666666666666,
             "#ed7953"
            ],
            [
             0.7777777777777778,
             "#fb9f3a"
            ],
            [
             0.8888888888888888,
             "#fdca26"
            ],
            [
             1,
             "#f0f921"
            ]
           ]
          },
          "colorway": [
           "#636efa",
           "#EF553B",
           "#00cc96",
           "#ab63fa",
           "#FFA15A",
           "#19d3f3",
           "#FF6692",
           "#B6E880",
           "#FF97FF",
           "#FECB52"
          ],
          "font": {
           "color": "#2a3f5f"
          },
          "geo": {
           "bgcolor": "white",
           "lakecolor": "white",
           "landcolor": "#E5ECF6",
           "showlakes": true,
           "showland": true,
           "subunitcolor": "white"
          },
          "hoverlabel": {
           "align": "left"
          },
          "hovermode": "closest",
          "mapbox": {
           "style": "light"
          },
          "paper_bgcolor": "white",
          "plot_bgcolor": "#E5ECF6",
          "polar": {
           "angularaxis": {
            "gridcolor": "white",
            "linecolor": "white",
            "ticks": ""
           },
           "bgcolor": "#E5ECF6",
           "radialaxis": {
            "gridcolor": "white",
            "linecolor": "white",
            "ticks": ""
           }
          },
          "scene": {
           "xaxis": {
            "backgroundcolor": "#E5ECF6",
            "gridcolor": "white",
            "gridwidth": 2,
            "linecolor": "white",
            "showbackground": true,
            "ticks": "",
            "zerolinecolor": "white"
           },
           "yaxis": {
            "backgroundcolor": "#E5ECF6",
            "gridcolor": "white",
            "gridwidth": 2,
            "linecolor": "white",
            "showbackground": true,
            "ticks": "",
            "zerolinecolor": "white"
           },
           "zaxis": {
            "backgroundcolor": "#E5ECF6",
            "gridcolor": "white",
            "gridwidth": 2,
            "linecolor": "white",
            "showbackground": true,
            "ticks": "",
            "zerolinecolor": "white"
           }
          },
          "shapedefaults": {
           "line": {
            "color": "#2a3f5f"
           }
          },
          "ternary": {
           "aaxis": {
            "gridcolor": "white",
            "linecolor": "white",
            "ticks": ""
           },
           "baxis": {
            "gridcolor": "white",
            "linecolor": "white",
            "ticks": ""
           },
           "bgcolor": "#E5ECF6",
           "caxis": {
            "gridcolor": "white",
            "linecolor": "white",
            "ticks": ""
           }
          },
          "title": {
           "x": 0.05
          },
          "xaxis": {
           "automargin": true,
           "gridcolor": "white",
           "linecolor": "white",
           "ticks": "",
           "title": {
            "standoff": 15
           },
           "zerolinecolor": "white",
           "zerolinewidth": 2
          },
          "yaxis": {
           "automargin": true,
           "gridcolor": "white",
           "linecolor": "white",
           "ticks": "",
           "title": {
            "standoff": 15
           },
           "zerolinecolor": "white",
           "zerolinewidth": 2
          }
         }
        },
        "title": {
         "font": {
          "color": "#4D5663"
         }
        },
        "xaxis": {
         "gridcolor": "#E1E5ED",
         "showgrid": true,
         "tickfont": {
          "color": "#4D5663"
         },
         "title": {
          "font": {
           "color": "#4D5663"
          },
          "text": ""
         },
         "zerolinecolor": "#E1E5ED"
        },
        "yaxis": {
         "gridcolor": "#E1E5ED",
         "showgrid": true,
         "tickfont": {
          "color": "#4D5663"
         },
         "title": {
          "font": {
           "color": "#4D5663"
          },
          "text": ""
         },
         "zerolinecolor": "#E1E5ED"
        }
       }
      },
      "text/html": [
       "<div>\n",
       "        \n",
       "        \n",
       "            <div id=\"776c751c-d990-48ad-91a9-24aa8269fc74\" class=\"plotly-graph-div\" style=\"height:525px; width:100%;\"></div>\n",
       "            <script type=\"text/javascript\">\n",
       "                require([\"plotly\"], function(Plotly) {\n",
       "                    window.PLOTLYENV=window.PLOTLYENV || {};\n",
       "                    window.PLOTLYENV.BASE_URL='https://plot.ly';\n",
       "                    \n",
       "                if (document.getElementById(\"776c751c-d990-48ad-91a9-24aa8269fc74\")) {\n",
       "                    Plotly.newPlot(\n",
       "                        '776c751c-d990-48ad-91a9-24aa8269fc74',\n",
       "                        [{\"marker\": {\"color\": [\"rgb(255, 153, 51)\", \"rgb(55, 128, 191)\", \"rgb(50, 171, 96)\", \"rgb(128, 0, 128)\", \"rgb(219, 64, 82)\", \"rgb(0, 128, 128)\", \"rgb(255, 255, 51)\", \"rgb(128, 128, 0)\", \"rgb(251, 128, 114)\", \"rgb(128, 177, 211)\"], \"line\": {\"width\": 1.3}, \"size\": [60, 73, 83, 85, 48, 78, 73, 88, 50, 77, 44, 66, 51, 43, 75, 86, 53, 55, 30, 54, 87, 52, 70, 12, 65, 59, 79, 66, 77, 46, 67, 67, 75, 46, 75, 60, 73, 80, 66, 95, 77, 57, 65, 59, 53, 58, 90, 49, 61, 66, 47, 95, 72, 53, 59, 58, 72, 64, 57, 96, 66, 53, 69, 80, 103, 94, 53, 72, 73, 78, 43, 66, 49, 112, 72, 57, 43, 74, 59, 65, 53, 42, 59, 70, 68, 79, 63, 73, 39, 42, 83, 66, 75, 44, 59, 57, 48, 49, 58, 76], \"symbol\": \"circle\"}, \"mode\": \"markers\", \"text\": \"\", \"type\": \"scatter\", \"x\": [0.8154349543945048, 1.6452615952148095, 1.4537812287057956, 0.10104178737084112, 0.5656271670462576, -0.25532938206558614, -0.4325104653515167, 1.410127965092189, 1.1470488251728317, 0.657072548948607, 0.03982381590751122, -0.21945492705686911, -0.42813566220156773, 0.06912887060307056, 0.48019535501818067, 0.7335677864552974, 1.0413248888755484, -0.5834104170250821, 1.4848271676888816, 0.7826869752115855, -0.39749806587397724, -0.4027652996072739, 0.11747667683869219, 1.238907705657658, 1.0712834977929915, -1.7600443375466999, -1.3937101578182822, -1.3249680614763732, -1.0077691729223197, -0.7584747658795038, 0.5724593892766379, 1.5492788163962405, -1.0910998243990073, 1.4290362767631684, -3.01125804668789, -0.2356489680791908, -0.3116139523330637, -0.9183548126980127, 0.7923927375118476, -1.5804414859407747, 0.7733345351849514, -1.6465243274195123, 0.27138733583592134, -0.19599767388768868, 0.08106265270112785, 0.06469965591392358, -0.43539719559085543, 1.5156592705706176, 0.38031968497822216, -1.5324652462793011, -1.3962548417854277, -1.4663549169819599, 1.9896722879077047, -0.7717337568947867, -1.13236110225189, -1.983359999513528, 1.2842340509586827, -2.0291627701880537, -0.48903035521972266, -0.5663571786022973, -1.4787610440318093, -1.3673892416503333, 0.27523611036305795, 0.3501442071324475, 1.235531610348585, 0.1314814665497779, 0.07079226273988824, 0.6346690086353665, 1.6029044452742762, 0.7958708765295324, -0.25947577521444265, 0.5375822712081678, 0.2677775263639807, 1.2943918451644172, -1.6438371037085036, 0.37032225334665586, 0.6780896656500484, -1.1068649644088242, 0.4849669680836155, -0.7702270297591995, -0.1956237096802853, -0.409540567007104, 0.9543777747548079, 0.0715623984057711, 0.4120689159764619, -0.9477583953020565, -1.2988864592853377, 2.134583178546349, 0.6607329716768912, 0.5860135769330493, -0.30059906687024285, 0.10162323095318798, 0.8690560540307614, -1.469999613146916, -0.8016006773462353, 0.7391997728218646, -0.29700677585812657, 0.3977489712256264, 1.308580860583779, 0.8677685903326755], \"y\": [-0.6808447835617709, 0.6086340681502943, 1.7294677222632684, 1.4829871712031955, 1.1980976114694604, 1.0795709221769332, -2.047286648226565, -1.515872438409646, 0.11471042412393548, 0.019125214933381172, -0.29828557402151373, 0.6678947909266109, 0.5106155584983674, 0.7647578163776658, 1.8476202168111207, 1.565461666184497, 0.2644348097255944, -0.15408202979369123, -2.618397980162209, 1.1561649742011062, -0.10410162246810392, -1.1033110243512538, -0.27424587213996177, 0.08080606289820692, -1.0284610964640115, 1.150848640078469, -0.25638096017062206, -1.3452740294819456, -0.8726175451755096, -0.2579052619972397, -0.7474841473560414, 0.8216094650234528, -0.4691579203738452, -1.0209429509692105, -0.40491326209742795, 1.2208179000282928, 0.5494620131503947, -0.7068872181482015, -0.3339529855897427, -0.35773835515151436, 0.30747456293859887, -1.7462557392925255, -2.3433306042719826, -0.5574714680621268, 0.7125922057087234, 0.709555785308249, 1.5876508083553502, -1.0557115951468214, 0.42056797157878995, -1.6991616216509176, 0.7039003209473632, 0.14454012533595098, 1.352757377147084, -0.6035879623453446, 0.7274800691249542, -0.8983221928954063, 0.7011998235137612, -1.0469207731767092, -0.21650716957079683, -0.2288275245869777, 0.9993381258043659, -1.2311548841515694, -0.5274804076228069, -0.6877047486831002, 0.20934430042105764, 1.2564779849253123, 0.3294673953075221, 1.255900250776616, -0.5193008892325174, -0.06741165979455997, -1.0834021867660262, 1.1335311403921011, 0.7801861037662863, -0.2996263227805359, 0.7451519159275286, -0.8027114457470523, 1.2942954747888622, -0.2632261742274699, 1.5242870545704912, -0.9063535187405944, 0.07134433670959506, -0.4579896341837586, 0.7652378935287566, -1.3013707444167233, 0.9578139607872342, -0.43515395155639264, 0.44700821446023037, 0.3154919434012009, -1.3843643663770469, -0.3963047121461804, -1.1195850187543466, -0.6162495255049156, -0.16047808659235244, -0.35823082603392176, -2.83004813388019, 0.39142399755480306, 0.744533277886588, 1.4980898982513313, -0.619242852250382, -0.4117319533653246]}],\n",
       "                        {\"legend\": {\"bgcolor\": \"#F5F6F9\", \"font\": {\"color\": \"#4D5663\"}}, \"paper_bgcolor\": \"#F5F6F9\", \"plot_bgcolor\": \"#F5F6F9\", \"template\": {\"data\": {\"bar\": [{\"error_x\": {\"color\": \"#2a3f5f\"}, \"error_y\": {\"color\": \"#2a3f5f\"}, \"marker\": {\"line\": {\"color\": \"#E5ECF6\", \"width\": 0.5}}, \"type\": \"bar\"}], \"barpolar\": [{\"marker\": {\"line\": {\"color\": \"#E5ECF6\", \"width\": 0.5}}, \"type\": \"barpolar\"}], \"carpet\": [{\"aaxis\": {\"endlinecolor\": \"#2a3f5f\", \"gridcolor\": \"white\", \"linecolor\": \"white\", \"minorgridcolor\": \"white\", \"startlinecolor\": \"#2a3f5f\"}, \"baxis\": {\"endlinecolor\": \"#2a3f5f\", \"gridcolor\": \"white\", \"linecolor\": \"white\", \"minorgridcolor\": \"white\", \"startlinecolor\": \"#2a3f5f\"}, \"type\": \"carpet\"}], \"choropleth\": [{\"colorbar\": {\"outlinewidth\": 0, \"ticks\": \"\"}, \"type\": \"choropleth\"}], \"contour\": [{\"colorbar\": {\"outlinewidth\": 0, \"ticks\": \"\"}, \"colorscale\": [[0.0, \"#0d0887\"], [0.1111111111111111, \"#46039f\"], [0.2222222222222222, \"#7201a8\"], [0.3333333333333333, \"#9c179e\"], [0.4444444444444444, \"#bd3786\"], [0.5555555555555556, \"#d8576b\"], [0.6666666666666666, \"#ed7953\"], [0.7777777777777778, \"#fb9f3a\"], [0.8888888888888888, \"#fdca26\"], [1.0, \"#f0f921\"]], \"type\": \"contour\"}], \"contourcarpet\": [{\"colorbar\": {\"outlinewidth\": 0, \"ticks\": \"\"}, \"type\": \"contourcarpet\"}], \"heatmap\": [{\"colorbar\": {\"outlinewidth\": 0, \"ticks\": \"\"}, \"colorscale\": [[0.0, \"#0d0887\"], [0.1111111111111111, \"#46039f\"], [0.2222222222222222, \"#7201a8\"], [0.3333333333333333, \"#9c179e\"], [0.4444444444444444, \"#bd3786\"], [0.5555555555555556, \"#d8576b\"], [0.6666666666666666, \"#ed7953\"], [0.7777777777777778, \"#fb9f3a\"], [0.8888888888888888, \"#fdca26\"], [1.0, \"#f0f921\"]], \"type\": \"heatmap\"}], \"heatmapgl\": [{\"colorbar\": {\"outlinewidth\": 0, \"ticks\": \"\"}, \"colorscale\": [[0.0, \"#0d0887\"], [0.1111111111111111, \"#46039f\"], [0.2222222222222222, \"#7201a8\"], [0.3333333333333333, \"#9c179e\"], [0.4444444444444444, \"#bd3786\"], [0.5555555555555556, \"#d8576b\"], [0.6666666666666666, \"#ed7953\"], [0.7777777777777778, \"#fb9f3a\"], [0.8888888888888888, \"#fdca26\"], [1.0, \"#f0f921\"]], \"type\": \"heatmapgl\"}], \"histogram\": [{\"marker\": {\"colorbar\": {\"outlinewidth\": 0, \"ticks\": \"\"}}, \"type\": \"histogram\"}], \"histogram2d\": [{\"colorbar\": {\"outlinewidth\": 0, \"ticks\": \"\"}, \"colorscale\": [[0.0, \"#0d0887\"], [0.1111111111111111, \"#46039f\"], [0.2222222222222222, \"#7201a8\"], [0.3333333333333333, \"#9c179e\"], [0.4444444444444444, \"#bd3786\"], [0.5555555555555556, \"#d8576b\"], [0.6666666666666666, \"#ed7953\"], [0.7777777777777778, \"#fb9f3a\"], [0.8888888888888888, \"#fdca26\"], [1.0, \"#f0f921\"]], \"type\": \"histogram2d\"}], \"histogram2dcontour\": [{\"colorbar\": {\"outlinewidth\": 0, \"ticks\": \"\"}, \"colorscale\": [[0.0, \"#0d0887\"], [0.1111111111111111, \"#46039f\"], [0.2222222222222222, \"#7201a8\"], [0.3333333333333333, \"#9c179e\"], [0.4444444444444444, \"#bd3786\"], [0.5555555555555556, \"#d8576b\"], [0.6666666666666666, \"#ed7953\"], [0.7777777777777778, \"#fb9f3a\"], [0.8888888888888888, \"#fdca26\"], [1.0, \"#f0f921\"]], \"type\": \"histogram2dcontour\"}], \"mesh3d\": [{\"colorbar\": {\"outlinewidth\": 0, \"ticks\": \"\"}, \"type\": \"mesh3d\"}], \"parcoords\": [{\"line\": {\"colorbar\": {\"outlinewidth\": 0, \"ticks\": \"\"}}, \"type\": \"parcoords\"}], \"pie\": [{\"automargin\": true, \"type\": \"pie\"}], \"scatter\": [{\"marker\": {\"colorbar\": {\"outlinewidth\": 0, \"ticks\": \"\"}}, \"type\": \"scatter\"}], \"scatter3d\": [{\"line\": {\"colorbar\": {\"outlinewidth\": 0, \"ticks\": \"\"}}, \"marker\": {\"colorbar\": {\"outlinewidth\": 0, \"ticks\": \"\"}}, \"type\": \"scatter3d\"}], \"scattercarpet\": [{\"marker\": {\"colorbar\": {\"outlinewidth\": 0, \"ticks\": \"\"}}, \"type\": \"scattercarpet\"}], \"scattergeo\": [{\"marker\": {\"colorbar\": {\"outlinewidth\": 0, \"ticks\": \"\"}}, \"type\": \"scattergeo\"}], \"scattergl\": [{\"marker\": {\"colorbar\": {\"outlinewidth\": 0, \"ticks\": \"\"}}, \"type\": \"scattergl\"}], \"scattermapbox\": [{\"marker\": {\"colorbar\": {\"outlinewidth\": 0, \"ticks\": \"\"}}, \"type\": \"scattermapbox\"}], \"scatterpolar\": [{\"marker\": {\"colorbar\": {\"outlinewidth\": 0, \"ticks\": \"\"}}, \"type\": \"scatterpolar\"}], \"scatterpolargl\": [{\"marker\": {\"colorbar\": {\"outlinewidth\": 0, \"ticks\": \"\"}}, \"type\": \"scatterpolargl\"}], \"scatterternary\": [{\"marker\": {\"colorbar\": {\"outlinewidth\": 0, \"ticks\": \"\"}}, \"type\": \"scatterternary\"}], \"surface\": [{\"colorbar\": {\"outlinewidth\": 0, \"ticks\": \"\"}, \"colorscale\": [[0.0, \"#0d0887\"], [0.1111111111111111, \"#46039f\"], [0.2222222222222222, \"#7201a8\"], [0.3333333333333333, \"#9c179e\"], [0.4444444444444444, \"#bd3786\"], [0.5555555555555556, \"#d8576b\"], [0.6666666666666666, \"#ed7953\"], [0.7777777777777778, \"#fb9f3a\"], [0.8888888888888888, \"#fdca26\"], [1.0, \"#f0f921\"]], \"type\": \"surface\"}], \"table\": [{\"cells\": {\"fill\": {\"color\": \"#EBF0F8\"}, \"line\": {\"color\": \"white\"}}, \"header\": {\"fill\": {\"color\": \"#C8D4E3\"}, \"line\": {\"color\": \"white\"}}, \"type\": \"table\"}]}, \"layout\": {\"annotationdefaults\": {\"arrowcolor\": \"#2a3f5f\", \"arrowhead\": 0, \"arrowwidth\": 1}, \"coloraxis\": {\"colorbar\": {\"outlinewidth\": 0, \"ticks\": \"\"}}, \"colorscale\": {\"diverging\": [[0, \"#8e0152\"], [0.1, \"#c51b7d\"], [0.2, \"#de77ae\"], [0.3, \"#f1b6da\"], [0.4, \"#fde0ef\"], [0.5, \"#f7f7f7\"], [0.6, \"#e6f5d0\"], [0.7, \"#b8e186\"], [0.8, \"#7fbc41\"], [0.9, \"#4d9221\"], [1, \"#276419\"]], \"sequential\": [[0.0, \"#0d0887\"], [0.1111111111111111, \"#46039f\"], [0.2222222222222222, \"#7201a8\"], [0.3333333333333333, \"#9c179e\"], [0.4444444444444444, \"#bd3786\"], [0.5555555555555556, \"#d8576b\"], [0.6666666666666666, \"#ed7953\"], [0.7777777777777778, \"#fb9f3a\"], [0.8888888888888888, \"#fdca26\"], [1.0, \"#f0f921\"]], \"sequentialminus\": [[0.0, \"#0d0887\"], [0.1111111111111111, \"#46039f\"], [0.2222222222222222, \"#7201a8\"], [0.3333333333333333, \"#9c179e\"], [0.4444444444444444, \"#bd3786\"], [0.5555555555555556, \"#d8576b\"], [0.6666666666666666, \"#ed7953\"], [0.7777777777777778, \"#fb9f3a\"], [0.8888888888888888, \"#fdca26\"], [1.0, \"#f0f921\"]]}, \"colorway\": [\"#636efa\", \"#EF553B\", \"#00cc96\", \"#ab63fa\", \"#FFA15A\", \"#19d3f3\", \"#FF6692\", \"#B6E880\", \"#FF97FF\", \"#FECB52\"], \"font\": {\"color\": \"#2a3f5f\"}, \"geo\": {\"bgcolor\": \"white\", \"lakecolor\": \"white\", \"landcolor\": \"#E5ECF6\", \"showlakes\": true, \"showland\": true, \"subunitcolor\": \"white\"}, \"hoverlabel\": {\"align\": \"left\"}, \"hovermode\": \"closest\", \"mapbox\": {\"style\": \"light\"}, \"paper_bgcolor\": \"white\", \"plot_bgcolor\": \"#E5ECF6\", \"polar\": {\"angularaxis\": {\"gridcolor\": \"white\", \"linecolor\": \"white\", \"ticks\": \"\"}, \"bgcolor\": \"#E5ECF6\", \"radialaxis\": {\"gridcolor\": \"white\", \"linecolor\": \"white\", \"ticks\": \"\"}}, \"scene\": {\"xaxis\": {\"backgroundcolor\": \"#E5ECF6\", \"gridcolor\": \"white\", \"gridwidth\": 2, \"linecolor\": \"white\", \"showbackground\": true, \"ticks\": \"\", \"zerolinecolor\": \"white\"}, \"yaxis\": {\"backgroundcolor\": \"#E5ECF6\", \"gridcolor\": \"white\", \"gridwidth\": 2, \"linecolor\": \"white\", \"showbackground\": true, \"ticks\": \"\", \"zerolinecolor\": \"white\"}, \"zaxis\": {\"backgroundcolor\": \"#E5ECF6\", \"gridcolor\": \"white\", \"gridwidth\": 2, \"linecolor\": \"white\", \"showbackground\": true, \"ticks\": \"\", \"zerolinecolor\": \"white\"}}, \"shapedefaults\": {\"line\": {\"color\": \"#2a3f5f\"}}, \"ternary\": {\"aaxis\": {\"gridcolor\": \"white\", \"linecolor\": \"white\", \"ticks\": \"\"}, \"baxis\": {\"gridcolor\": \"white\", \"linecolor\": \"white\", \"ticks\": \"\"}, \"bgcolor\": \"#E5ECF6\", \"caxis\": {\"gridcolor\": \"white\", \"linecolor\": \"white\", \"ticks\": \"\"}}, \"title\": {\"x\": 0.05}, \"xaxis\": {\"automargin\": true, \"gridcolor\": \"white\", \"linecolor\": \"white\", \"ticks\": \"\", \"title\": {\"standoff\": 15}, \"zerolinecolor\": \"white\", \"zerolinewidth\": 2}, \"yaxis\": {\"automargin\": true, \"gridcolor\": \"white\", \"linecolor\": \"white\", \"ticks\": \"\", \"title\": {\"standoff\": 15}, \"zerolinecolor\": \"white\", \"zerolinewidth\": 2}}}, \"title\": {\"font\": {\"color\": \"#4D5663\"}}, \"xaxis\": {\"gridcolor\": \"#E1E5ED\", \"showgrid\": true, \"tickfont\": {\"color\": \"#4D5663\"}, \"title\": {\"font\": {\"color\": \"#4D5663\"}, \"text\": \"\"}, \"zerolinecolor\": \"#E1E5ED\"}, \"yaxis\": {\"gridcolor\": \"#E1E5ED\", \"showgrid\": true, \"tickfont\": {\"color\": \"#4D5663\"}, \"title\": {\"font\": {\"color\": \"#4D5663\"}, \"text\": \"\"}, \"zerolinecolor\": \"#E1E5ED\"}},\n",
       "                        {\"showLink\": true, \"linkText\": \"Export to plot.ly\", \"plotlyServerURL\": \"https://plot.ly\", \"responsive\": true}\n",
       "                    ).then(function(){\n",
       "                            \n",
       "var gd = document.getElementById('776c751c-d990-48ad-91a9-24aa8269fc74');\n",
       "var x = new MutationObserver(function (mutations, observer) {{\n",
       "        var display = window.getComputedStyle(gd).display;\n",
       "        if (!display || display === 'none') {{\n",
       "            console.log([gd, 'removed!']);\n",
       "            Plotly.purge(gd);\n",
       "            observer.disconnect();\n",
       "        }}\n",
       "}});\n",
       "\n",
       "// Listen for the removal of the full notebook cells\n",
       "var notebookContainer = gd.closest('#notebook-container');\n",
       "if (notebookContainer) {{\n",
       "    x.observe(notebookContainer, {childList: true});\n",
       "}}\n",
       "\n",
       "// Listen for the clearing of the current output cell\n",
       "var outputEl = gd.closest('.output');\n",
       "if (outputEl) {{\n",
       "    x.observe(outputEl, {childList: true});\n",
       "}}\n",
       "\n",
       "                        })\n",
       "                };\n",
       "                });\n",
       "            </script>\n",
       "        </div>"
      ]
     },
     "metadata": {},
     "output_type": "display_data"
    }
   ],
   "source": [
    "df.iplot(kind='bubble',x='A',y='B',size='C')"
   ]
  },
  {
   "cell_type": "markdown",
   "metadata": {},
   "source": [
    "## scatter_matrix()\n",
    "\n",
    "Similar to sns.pairplot()"
   ]
  },
  {
   "cell_type": "code",
   "execution_count": 18,
   "metadata": {},
   "outputs": [
    {
     "data": {
      "application/vnd.plotly.v1+json": {
       "config": {
        "linkText": "Export to plot.ly",
        "plotlyServerURL": "https://plot.ly",
        "showLink": true
       },
       "data": [
        {
         "histfunc": "count",
         "histnorm": "",
         "marker": {
          "color": "rgba(255, 153, 51, 1.0)",
          "line": {
           "color": "#4D5663",
           "width": 1.3
          }
         },
         "name": "A",
         "nbinsx": 10,
         "opacity": 0.8,
         "orientation": "v",
         "type": "histogram",
         "x": [
          0.8154349543945048,
          1.6452615952148095,
          1.4537812287057956,
          0.10104178737084112,
          0.5656271670462576,
          -0.25532938206558614,
          -0.4325104653515167,
          1.410127965092189,
          1.1470488251728317,
          0.657072548948607,
          0.03982381590751122,
          -0.21945492705686911,
          -0.42813566220156773,
          0.06912887060307056,
          0.48019535501818067,
          0.7335677864552974,
          1.0413248888755484,
          -0.5834104170250821,
          1.4848271676888816,
          0.7826869752115855,
          -0.39749806587397724,
          -0.4027652996072739,
          0.11747667683869219,
          1.238907705657658,
          1.0712834977929915,
          -1.7600443375466999,
          -1.3937101578182822,
          -1.3249680614763732,
          -1.0077691729223197,
          -0.7584747658795038,
          0.5724593892766379,
          1.5492788163962405,
          -1.0910998243990073,
          1.4290362767631684,
          -3.01125804668789,
          -0.2356489680791908,
          -0.3116139523330637,
          -0.9183548126980127,
          0.7923927375118476,
          -1.5804414859407747,
          0.7733345351849514,
          -1.6465243274195123,
          0.27138733583592134,
          -0.19599767388768868,
          0.08106265270112785,
          0.06469965591392358,
          -0.43539719559085543,
          1.5156592705706176,
          0.38031968497822216,
          -1.5324652462793011,
          -1.3962548417854277,
          -1.4663549169819599,
          1.9896722879077047,
          -0.7717337568947867,
          -1.13236110225189,
          -1.983359999513528,
          1.2842340509586827,
          -2.0291627701880537,
          -0.48903035521972266,
          -0.5663571786022973,
          -1.4787610440318093,
          -1.3673892416503333,
          0.27523611036305795,
          0.3501442071324475,
          1.235531610348585,
          0.1314814665497779,
          0.07079226273988824,
          0.6346690086353665,
          1.6029044452742762,
          0.7958708765295324,
          -0.25947577521444265,
          0.5375822712081678,
          0.2677775263639807,
          1.2943918451644172,
          -1.6438371037085036,
          0.37032225334665586,
          0.6780896656500484,
          -1.1068649644088242,
          0.4849669680836155,
          -0.7702270297591995,
          -0.1956237096802853,
          -0.409540567007104,
          0.9543777747548079,
          0.0715623984057711,
          0.4120689159764619,
          -0.9477583953020565,
          -1.2988864592853377,
          2.134583178546349,
          0.6607329716768912,
          0.5860135769330493,
          -0.30059906687024285,
          0.10162323095318798,
          0.8690560540307614,
          -1.469999613146916,
          -0.8016006773462353,
          0.7391997728218646,
          -0.29700677585812657,
          0.3977489712256264,
          1.308580860583779,
          0.8677685903326755
         ],
         "xaxis": "x",
         "yaxis": "y"
        },
        {
         "line": {
          "color": "rgba(128, 128, 128, 1.0)",
          "dash": "solid",
          "shape": "linear",
          "width": 1.3
         },
         "marker": {
          "size": 2,
          "symbol": "circle"
         },
         "mode": "markers",
         "name": "A",
         "text": "",
         "type": "scatter",
         "x": [
          -0.6808447835617709,
          0.6086340681502943,
          1.7294677222632684,
          1.4829871712031955,
          1.1980976114694604,
          1.0795709221769332,
          -2.047286648226565,
          -1.515872438409646,
          0.11471042412393548,
          0.019125214933381172,
          -0.29828557402151373,
          0.6678947909266109,
          0.5106155584983674,
          0.7647578163776658,
          1.8476202168111207,
          1.565461666184497,
          0.2644348097255944,
          -0.15408202979369123,
          -2.618397980162209,
          1.1561649742011062,
          -0.10410162246810392,
          -1.1033110243512538,
          -0.27424587213996177,
          0.08080606289820692,
          -1.0284610964640115,
          1.150848640078469,
          -0.25638096017062206,
          -1.3452740294819456,
          -0.8726175451755096,
          -0.2579052619972397,
          -0.7474841473560414,
          0.8216094650234528,
          -0.4691579203738452,
          -1.0209429509692105,
          -0.40491326209742795,
          1.2208179000282928,
          0.5494620131503947,
          -0.7068872181482015,
          -0.3339529855897427,
          -0.35773835515151436,
          0.30747456293859887,
          -1.7462557392925255,
          -2.3433306042719826,
          -0.5574714680621268,
          0.7125922057087234,
          0.709555785308249,
          1.5876508083553502,
          -1.0557115951468214,
          0.42056797157878995,
          -1.6991616216509176,
          0.7039003209473632,
          0.14454012533595098,
          1.352757377147084,
          -0.6035879623453446,
          0.7274800691249542,
          -0.8983221928954063,
          0.7011998235137612,
          -1.0469207731767092,
          -0.21650716957079683,
          -0.2288275245869777,
          0.9993381258043659,
          -1.2311548841515694,
          -0.5274804076228069,
          -0.6877047486831002,
          0.20934430042105764,
          1.2564779849253123,
          0.3294673953075221,
          1.255900250776616,
          -0.5193008892325174,
          -0.06741165979455997,
          -1.0834021867660262,
          1.1335311403921011,
          0.7801861037662863,
          -0.2996263227805359,
          0.7451519159275286,
          -0.8027114457470523,
          1.2942954747888622,
          -0.2632261742274699,
          1.5242870545704912,
          -0.9063535187405944,
          0.07134433670959506,
          -0.4579896341837586,
          0.7652378935287566,
          -1.3013707444167233,
          0.9578139607872342,
          -0.43515395155639264,
          0.44700821446023037,
          0.3154919434012009,
          -1.3843643663770469,
          -0.3963047121461804,
          -1.1195850187543466,
          -0.6162495255049156,
          -0.16047808659235244,
          -0.35823082603392176,
          -2.83004813388019,
          0.39142399755480306,
          0.744533277886588,
          1.4980898982513313,
          -0.619242852250382,
          -0.4117319533653246
         ],
         "xaxis": "x2",
         "y": [
          0.8154349543945048,
          1.6452615952148095,
          1.4537812287057956,
          0.10104178737084112,
          0.5656271670462576,
          -0.25532938206558614,
          -0.4325104653515167,
          1.410127965092189,
          1.1470488251728317,
          0.657072548948607,
          0.03982381590751122,
          -0.21945492705686911,
          -0.42813566220156773,
          0.06912887060307056,
          0.48019535501818067,
          0.7335677864552974,
          1.0413248888755484,
          -0.5834104170250821,
          1.4848271676888816,
          0.7826869752115855,
          -0.39749806587397724,
          -0.4027652996072739,
          0.11747667683869219,
          1.238907705657658,
          1.0712834977929915,
          -1.7600443375466999,
          -1.3937101578182822,
          -1.3249680614763732,
          -1.0077691729223197,
          -0.7584747658795038,
          0.5724593892766379,
          1.5492788163962405,
          -1.0910998243990073,
          1.4290362767631684,
          -3.01125804668789,
          -0.2356489680791908,
          -0.3116139523330637,
          -0.9183548126980127,
          0.7923927375118476,
          -1.5804414859407747,
          0.7733345351849514,
          -1.6465243274195123,
          0.27138733583592134,
          -0.19599767388768868,
          0.08106265270112785,
          0.06469965591392358,
          -0.43539719559085543,
          1.5156592705706176,
          0.38031968497822216,
          -1.5324652462793011,
          -1.3962548417854277,
          -1.4663549169819599,
          1.9896722879077047,
          -0.7717337568947867,
          -1.13236110225189,
          -1.983359999513528,
          1.2842340509586827,
          -2.0291627701880537,
          -0.48903035521972266,
          -0.5663571786022973,
          -1.4787610440318093,
          -1.3673892416503333,
          0.27523611036305795,
          0.3501442071324475,
          1.235531610348585,
          0.1314814665497779,
          0.07079226273988824,
          0.6346690086353665,
          1.6029044452742762,
          0.7958708765295324,
          -0.25947577521444265,
          0.5375822712081678,
          0.2677775263639807,
          1.2943918451644172,
          -1.6438371037085036,
          0.37032225334665586,
          0.6780896656500484,
          -1.1068649644088242,
          0.4849669680836155,
          -0.7702270297591995,
          -0.1956237096802853,
          -0.409540567007104,
          0.9543777747548079,
          0.0715623984057711,
          0.4120689159764619,
          -0.9477583953020565,
          -1.2988864592853377,
          2.134583178546349,
          0.6607329716768912,
          0.5860135769330493,
          -0.30059906687024285,
          0.10162323095318798,
          0.8690560540307614,
          -1.469999613146916,
          -0.8016006773462353,
          0.7391997728218646,
          -0.29700677585812657,
          0.3977489712256264,
          1.308580860583779,
          0.8677685903326755
         ],
         "yaxis": "y2"
        },
        {
         "line": {
          "color": "rgba(128, 128, 128, 1.0)",
          "dash": "solid",
          "shape": "linear",
          "width": 1.3
         },
         "marker": {
          "size": 2,
          "symbol": "circle"
         },
         "mode": "markers",
         "name": "A",
         "text": "",
         "type": "scatter",
         "x": [
          -0.19861040847960834,
          0.6155622946641103,
          1.2872901796916114,
          1.4194891172392805,
          -0.9859017008147671,
          0.9245224391726357,
          0.6463775059900948,
          1.5915671964891147,
          -0.8977442526038514,
          0.9162690220696864,
          -1.2521648339035634,
          0.17108313665856179,
          -0.8225154247380878,
          -1.3112593486999171,
          0.7407250362390038,
          1.4740674690844737,
          -0.6601150729713889,
          -0.5578375755191152,
          -2.1894702900780914,
          -0.588340431559108,
          1.514080440819475,
          -0.7299235556020048,
          0.41897279644500285,
          -3.4084687990672915,
          0.12727543916222567,
          -0.30773577811794056,
          1.0052274973580921,
          0.1853485649185546,
          0.8988088568141913,
          -1.1330796491736908,
          0.24930224008192384,
          0.26609211962146323,
          0.7695454139743126,
          -1.1300590707791835,
          0.7650521647342426,
          -0.24174666204703957,
          0.6104774399030497,
          1.1039589289977767,
          0.20104749596089153,
          2.054039108948895,
          0.8926354968530256,
          -0.41355757538879107,
          0.08564518468261126,
          -0.2950978199383714,
          -0.7073112898905407,
          -0.35243625691127667,
          1.7315352966871789,
          -0.9251727112524073,
          -0.14719555622013525,
          0.19692953751524125,
          -1.0681233122552802,
          2.070898531533443,
          0.5453168572689424,
          -0.6950352852157083,
          -0.29259859968830276,
          -0.333780746340659,
          0.5769664028050115,
          0.00610747840937299,
          -0.45505224721921106,
          2.1290402969245963,
          0.15264552768300563,
          -0.7143525324642657,
          0.3462035753217853,
          1.0780227242980152,
          2.5649793844775965,
          2.0366816733076836,
          -0.6846342066191933,
          0.5343446687775403,
          0.615899513547256,
          0.9577088956877992,
          -1.3651264794867468,
          0.15631349576486503,
          -0.9409451543534072,
          3.154338073243348,
          0.5460296499385444,
          -0.41687285713806893,
          -1.3511518821052952,
          0.6911227385777586,
          -0.2992722490310666,
          0.09222282804187809,
          -0.688639694569738,
          -1.3827311601637085,
          -0.2901630234637458,
          0.4091294128999816,
          0.27148182322355857,
          0.9898224108699564,
          -0.04499371876859188,
          0.6395090823330405,
          -1.5924084318925336,
          -1.4390899668003918,
          1.3056851024901948,
          0.16097649357923066,
          0.7862643341566637,
          -1.277541998099019,
          -0.2692318108956053,
          -0.39034214588907107,
          -0.9913478404671141,
          -0.9422513414974476,
          -0.3527559925160878,
          0.7946425075358607
         ],
         "xaxis": "x3",
         "y": [
          0.8154349543945048,
          1.6452615952148095,
          1.4537812287057956,
          0.10104178737084112,
          0.5656271670462576,
          -0.25532938206558614,
          -0.4325104653515167,
          1.410127965092189,
          1.1470488251728317,
          0.657072548948607,
          0.03982381590751122,
          -0.21945492705686911,
          -0.42813566220156773,
          0.06912887060307056,
          0.48019535501818067,
          0.7335677864552974,
          1.0413248888755484,
          -0.5834104170250821,
          1.4848271676888816,
          0.7826869752115855,
          -0.39749806587397724,
          -0.4027652996072739,
          0.11747667683869219,
          1.238907705657658,
          1.0712834977929915,
          -1.7600443375466999,
          -1.3937101578182822,
          -1.3249680614763732,
          -1.0077691729223197,
          -0.7584747658795038,
          0.5724593892766379,
          1.5492788163962405,
          -1.0910998243990073,
          1.4290362767631684,
          -3.01125804668789,
          -0.2356489680791908,
          -0.3116139523330637,
          -0.9183548126980127,
          0.7923927375118476,
          -1.5804414859407747,
          0.7733345351849514,
          -1.6465243274195123,
          0.27138733583592134,
          -0.19599767388768868,
          0.08106265270112785,
          0.06469965591392358,
          -0.43539719559085543,
          1.5156592705706176,
          0.38031968497822216,
          -1.5324652462793011,
          -1.3962548417854277,
          -1.4663549169819599,
          1.9896722879077047,
          -0.7717337568947867,
          -1.13236110225189,
          -1.983359999513528,
          1.2842340509586827,
          -2.0291627701880537,
          -0.48903035521972266,
          -0.5663571786022973,
          -1.4787610440318093,
          -1.3673892416503333,
          0.27523611036305795,
          0.3501442071324475,
          1.235531610348585,
          0.1314814665497779,
          0.07079226273988824,
          0.6346690086353665,
          1.6029044452742762,
          0.7958708765295324,
          -0.25947577521444265,
          0.5375822712081678,
          0.2677775263639807,
          1.2943918451644172,
          -1.6438371037085036,
          0.37032225334665586,
          0.6780896656500484,
          -1.1068649644088242,
          0.4849669680836155,
          -0.7702270297591995,
          -0.1956237096802853,
          -0.409540567007104,
          0.9543777747548079,
          0.0715623984057711,
          0.4120689159764619,
          -0.9477583953020565,
          -1.2988864592853377,
          2.134583178546349,
          0.6607329716768912,
          0.5860135769330493,
          -0.30059906687024285,
          0.10162323095318798,
          0.8690560540307614,
          -1.469999613146916,
          -0.8016006773462353,
          0.7391997728218646,
          -0.29700677585812657,
          0.3977489712256264,
          1.308580860583779,
          0.8677685903326755
         ],
         "yaxis": "y3"
        },
        {
         "line": {
          "color": "rgba(128, 128, 128, 1.0)",
          "dash": "solid",
          "shape": "linear",
          "width": 1.3
         },
         "marker": {
          "size": 2,
          "symbol": "circle"
         },
         "mode": "markers",
         "name": "A",
         "text": "",
         "type": "scatter",
         "x": [
          -0.21990703525130298,
          -0.049689561602856494,
          1.874691874288394,
          -0.8344382619761017,
          -2.1306832166983183,
          0.6265371213970423,
          1.0859168659466991,
          -1.2275538443974425,
          0.1737416706348923,
          0.1313789226370697,
          0.5432733139223881,
          -0.800923101057814,
          1.069364212002665,
          -1.2550343787009426,
          -0.9693542187852816,
          1.5146823301906613,
          -1.7440520979667784,
          -0.15555580838250746,
          -0.15357426885738384,
          0.07617990754042157,
          0.10211693363053963,
          -0.4197977904468551,
          0.4204222270553229,
          0.5570848522445528,
          -0.6302479075854474,
          -1.250348020882477,
          0.23710551015546857,
          -2.0537553215504007,
          1.946339661403928,
          1.1816302165587953,
          -0.26769796940093527,
          0.61345143204849,
          0.6758589403903051,
          -0.05442261497368895,
          2.383375909628837,
          -0.5091342041146455,
          0.46046540128868396,
          1.7898196664899166,
          0.3748561083657561,
          -1.7276525793941506,
          -0.23782052527179362,
          -0.6529104499115704,
          0.7514155053440179,
          1.1140212156781235,
          0.687490792165121,
          1.084090286853055,
          -0.5278882089302872,
          1.182936057880046,
          0.2579147225302808,
          1.6464562545497536,
          -0.7844569442251179,
          0.8592546209081057,
          0.4062638854490274,
          -1.217341280649748,
          0.5117390597245324,
          0.06019083280628012,
          1.0719027571543804,
          0.7434116572998305,
          0.798271370150843,
          0.7684015298205931,
          -0.18975300662138234,
          -0.11201124865727527,
          -0.46413736223057067,
          -0.3248079756849357,
          1.0479414654529444,
          1.0859161784001026,
          0.13590614438951143,
          -0.55924119638295,
          0.20768956589560142,
          -0.9412307273537324,
          -0.42894672147291846,
          -0.2785464227741624,
          -0.11459123362472971,
          0.8827076047639845,
          -1.2565058546253465,
          -2.0131896265002966,
          -0.6340907842744344,
          0.49928120531553427,
          0.8401612251336205,
          0.4921624788130426,
          1.1954056514566311,
          -1.5175520940955796,
          0.565002151832653,
          0.280048758440951,
          1.5753732222327776,
          -0.3575503125701353,
          -0.11413093143438113,
          -0.6141278598016296,
          -0.21688702505821683,
          2.006869774143835,
          0.08708816779334472,
          0.4480157659652641,
          -0.4895023583656577,
          1.1124777033166462,
          0.6561082877525128,
          -0.7232758310728444,
          -0.7179877124149497,
          -0.15909059725174857,
          0.5173572513883516,
          -0.8324054453144404
         ],
         "xaxis": "x4",
         "y": [
          0.8154349543945048,
          1.6452615952148095,
          1.4537812287057956,
          0.10104178737084112,
          0.5656271670462576,
          -0.25532938206558614,
          -0.4325104653515167,
          1.410127965092189,
          1.1470488251728317,
          0.657072548948607,
          0.03982381590751122,
          -0.21945492705686911,
          -0.42813566220156773,
          0.06912887060307056,
          0.48019535501818067,
          0.7335677864552974,
          1.0413248888755484,
          -0.5834104170250821,
          1.4848271676888816,
          0.7826869752115855,
          -0.39749806587397724,
          -0.4027652996072739,
          0.11747667683869219,
          1.238907705657658,
          1.0712834977929915,
          -1.7600443375466999,
          -1.3937101578182822,
          -1.3249680614763732,
          -1.0077691729223197,
          -0.7584747658795038,
          0.5724593892766379,
          1.5492788163962405,
          -1.0910998243990073,
          1.4290362767631684,
          -3.01125804668789,
          -0.2356489680791908,
          -0.3116139523330637,
          -0.9183548126980127,
          0.7923927375118476,
          -1.5804414859407747,
          0.7733345351849514,
          -1.6465243274195123,
          0.27138733583592134,
          -0.19599767388768868,
          0.08106265270112785,
          0.06469965591392358,
          -0.43539719559085543,
          1.5156592705706176,
          0.38031968497822216,
          -1.5324652462793011,
          -1.3962548417854277,
          -1.4663549169819599,
          1.9896722879077047,
          -0.7717337568947867,
          -1.13236110225189,
          -1.983359999513528,
          1.2842340509586827,
          -2.0291627701880537,
          -0.48903035521972266,
          -0.5663571786022973,
          -1.4787610440318093,
          -1.3673892416503333,
          0.27523611036305795,
          0.3501442071324475,
          1.235531610348585,
          0.1314814665497779,
          0.07079226273988824,
          0.6346690086353665,
          1.6029044452742762,
          0.7958708765295324,
          -0.25947577521444265,
          0.5375822712081678,
          0.2677775263639807,
          1.2943918451644172,
          -1.6438371037085036,
          0.37032225334665586,
          0.6780896656500484,
          -1.1068649644088242,
          0.4849669680836155,
          -0.7702270297591995,
          -0.1956237096802853,
          -0.409540567007104,
          0.9543777747548079,
          0.0715623984057711,
          0.4120689159764619,
          -0.9477583953020565,
          -1.2988864592853377,
          2.134583178546349,
          0.6607329716768912,
          0.5860135769330493,
          -0.30059906687024285,
          0.10162323095318798,
          0.8690560540307614,
          -1.469999613146916,
          -0.8016006773462353,
          0.7391997728218646,
          -0.29700677585812657,
          0.3977489712256264,
          1.308580860583779,
          0.8677685903326755
         ],
         "yaxis": "y4"
        },
        {
         "line": {
          "color": "rgba(128, 128, 128, 1.0)",
          "dash": "solid",
          "shape": "linear",
          "width": 1.3
         },
         "marker": {
          "size": 2,
          "symbol": "circle"
         },
         "mode": "markers",
         "name": "B",
         "text": "",
         "type": "scatter",
         "x": [
          0.8154349543945048,
          1.6452615952148095,
          1.4537812287057956,
          0.10104178737084112,
          0.5656271670462576,
          -0.25532938206558614,
          -0.4325104653515167,
          1.410127965092189,
          1.1470488251728317,
          0.657072548948607,
          0.03982381590751122,
          -0.21945492705686911,
          -0.42813566220156773,
          0.06912887060307056,
          0.48019535501818067,
          0.7335677864552974,
          1.0413248888755484,
          -0.5834104170250821,
          1.4848271676888816,
          0.7826869752115855,
          -0.39749806587397724,
          -0.4027652996072739,
          0.11747667683869219,
          1.238907705657658,
          1.0712834977929915,
          -1.7600443375466999,
          -1.3937101578182822,
          -1.3249680614763732,
          -1.0077691729223197,
          -0.7584747658795038,
          0.5724593892766379,
          1.5492788163962405,
          -1.0910998243990073,
          1.4290362767631684,
          -3.01125804668789,
          -0.2356489680791908,
          -0.3116139523330637,
          -0.9183548126980127,
          0.7923927375118476,
          -1.5804414859407747,
          0.7733345351849514,
          -1.6465243274195123,
          0.27138733583592134,
          -0.19599767388768868,
          0.08106265270112785,
          0.06469965591392358,
          -0.43539719559085543,
          1.5156592705706176,
          0.38031968497822216,
          -1.5324652462793011,
          -1.3962548417854277,
          -1.4663549169819599,
          1.9896722879077047,
          -0.7717337568947867,
          -1.13236110225189,
          -1.983359999513528,
          1.2842340509586827,
          -2.0291627701880537,
          -0.48903035521972266,
          -0.5663571786022973,
          -1.4787610440318093,
          -1.3673892416503333,
          0.27523611036305795,
          0.3501442071324475,
          1.235531610348585,
          0.1314814665497779,
          0.07079226273988824,
          0.6346690086353665,
          1.6029044452742762,
          0.7958708765295324,
          -0.25947577521444265,
          0.5375822712081678,
          0.2677775263639807,
          1.2943918451644172,
          -1.6438371037085036,
          0.37032225334665586,
          0.6780896656500484,
          -1.1068649644088242,
          0.4849669680836155,
          -0.7702270297591995,
          -0.1956237096802853,
          -0.409540567007104,
          0.9543777747548079,
          0.0715623984057711,
          0.4120689159764619,
          -0.9477583953020565,
          -1.2988864592853377,
          2.134583178546349,
          0.6607329716768912,
          0.5860135769330493,
          -0.30059906687024285,
          0.10162323095318798,
          0.8690560540307614,
          -1.469999613146916,
          -0.8016006773462353,
          0.7391997728218646,
          -0.29700677585812657,
          0.3977489712256264,
          1.308580860583779,
          0.8677685903326755
         ],
         "xaxis": "x5",
         "y": [
          -0.6808447835617709,
          0.6086340681502943,
          1.7294677222632684,
          1.4829871712031955,
          1.1980976114694604,
          1.0795709221769332,
          -2.047286648226565,
          -1.515872438409646,
          0.11471042412393548,
          0.019125214933381172,
          -0.29828557402151373,
          0.6678947909266109,
          0.5106155584983674,
          0.7647578163776658,
          1.8476202168111207,
          1.565461666184497,
          0.2644348097255944,
          -0.15408202979369123,
          -2.618397980162209,
          1.1561649742011062,
          -0.10410162246810392,
          -1.1033110243512538,
          -0.27424587213996177,
          0.08080606289820692,
          -1.0284610964640115,
          1.150848640078469,
          -0.25638096017062206,
          -1.3452740294819456,
          -0.8726175451755096,
          -0.2579052619972397,
          -0.7474841473560414,
          0.8216094650234528,
          -0.4691579203738452,
          -1.0209429509692105,
          -0.40491326209742795,
          1.2208179000282928,
          0.5494620131503947,
          -0.7068872181482015,
          -0.3339529855897427,
          -0.35773835515151436,
          0.30747456293859887,
          -1.7462557392925255,
          -2.3433306042719826,
          -0.5574714680621268,
          0.7125922057087234,
          0.709555785308249,
          1.5876508083553502,
          -1.0557115951468214,
          0.42056797157878995,
          -1.6991616216509176,
          0.7039003209473632,
          0.14454012533595098,
          1.352757377147084,
          -0.6035879623453446,
          0.7274800691249542,
          -0.8983221928954063,
          0.7011998235137612,
          -1.0469207731767092,
          -0.21650716957079683,
          -0.2288275245869777,
          0.9993381258043659,
          -1.2311548841515694,
          -0.5274804076228069,
          -0.6877047486831002,
          0.20934430042105764,
          1.2564779849253123,
          0.3294673953075221,
          1.255900250776616,
          -0.5193008892325174,
          -0.06741165979455997,
          -1.0834021867660262,
          1.1335311403921011,
          0.7801861037662863,
          -0.2996263227805359,
          0.7451519159275286,
          -0.8027114457470523,
          1.2942954747888622,
          -0.2632261742274699,
          1.5242870545704912,
          -0.9063535187405944,
          0.07134433670959506,
          -0.4579896341837586,
          0.7652378935287566,
          -1.3013707444167233,
          0.9578139607872342,
          -0.43515395155639264,
          0.44700821446023037,
          0.3154919434012009,
          -1.3843643663770469,
          -0.3963047121461804,
          -1.1195850187543466,
          -0.6162495255049156,
          -0.16047808659235244,
          -0.35823082603392176,
          -2.83004813388019,
          0.39142399755480306,
          0.744533277886588,
          1.4980898982513313,
          -0.619242852250382,
          -0.4117319533653246
         ],
         "yaxis": "y5"
        },
        {
         "histfunc": "count",
         "histnorm": "",
         "marker": {
          "color": "rgba(55, 128, 191, 1.0)",
          "line": {
           "color": "#4D5663",
           "width": 1.3
          }
         },
         "name": "B",
         "nbinsx": 10,
         "opacity": 0.8,
         "orientation": "v",
         "type": "histogram",
         "x": [
          -0.6808447835617709,
          0.6086340681502943,
          1.7294677222632684,
          1.4829871712031955,
          1.1980976114694604,
          1.0795709221769332,
          -2.047286648226565,
          -1.515872438409646,
          0.11471042412393548,
          0.019125214933381172,
          -0.29828557402151373,
          0.6678947909266109,
          0.5106155584983674,
          0.7647578163776658,
          1.8476202168111207,
          1.565461666184497,
          0.2644348097255944,
          -0.15408202979369123,
          -2.618397980162209,
          1.1561649742011062,
          -0.10410162246810392,
          -1.1033110243512538,
          -0.27424587213996177,
          0.08080606289820692,
          -1.0284610964640115,
          1.150848640078469,
          -0.25638096017062206,
          -1.3452740294819456,
          -0.8726175451755096,
          -0.2579052619972397,
          -0.7474841473560414,
          0.8216094650234528,
          -0.4691579203738452,
          -1.0209429509692105,
          -0.40491326209742795,
          1.2208179000282928,
          0.5494620131503947,
          -0.7068872181482015,
          -0.3339529855897427,
          -0.35773835515151436,
          0.30747456293859887,
          -1.7462557392925255,
          -2.3433306042719826,
          -0.5574714680621268,
          0.7125922057087234,
          0.709555785308249,
          1.5876508083553502,
          -1.0557115951468214,
          0.42056797157878995,
          -1.6991616216509176,
          0.7039003209473632,
          0.14454012533595098,
          1.352757377147084,
          -0.6035879623453446,
          0.7274800691249542,
          -0.8983221928954063,
          0.7011998235137612,
          -1.0469207731767092,
          -0.21650716957079683,
          -0.2288275245869777,
          0.9993381258043659,
          -1.2311548841515694,
          -0.5274804076228069,
          -0.6877047486831002,
          0.20934430042105764,
          1.2564779849253123,
          0.3294673953075221,
          1.255900250776616,
          -0.5193008892325174,
          -0.06741165979455997,
          -1.0834021867660262,
          1.1335311403921011,
          0.7801861037662863,
          -0.2996263227805359,
          0.7451519159275286,
          -0.8027114457470523,
          1.2942954747888622,
          -0.2632261742274699,
          1.5242870545704912,
          -0.9063535187405944,
          0.07134433670959506,
          -0.4579896341837586,
          0.7652378935287566,
          -1.3013707444167233,
          0.9578139607872342,
          -0.43515395155639264,
          0.44700821446023037,
          0.3154919434012009,
          -1.3843643663770469,
          -0.3963047121461804,
          -1.1195850187543466,
          -0.6162495255049156,
          -0.16047808659235244,
          -0.35823082603392176,
          -2.83004813388019,
          0.39142399755480306,
          0.744533277886588,
          1.4980898982513313,
          -0.619242852250382,
          -0.4117319533653246
         ],
         "xaxis": "x6",
         "yaxis": "y6"
        },
        {
         "line": {
          "color": "rgba(128, 128, 128, 1.0)",
          "dash": "solid",
          "shape": "linear",
          "width": 1.3
         },
         "marker": {
          "size": 2,
          "symbol": "circle"
         },
         "mode": "markers",
         "name": "B",
         "text": "",
         "type": "scatter",
         "x": [
          -0.19861040847960834,
          0.6155622946641103,
          1.2872901796916114,
          1.4194891172392805,
          -0.9859017008147671,
          0.9245224391726357,
          0.6463775059900948,
          1.5915671964891147,
          -0.8977442526038514,
          0.9162690220696864,
          -1.2521648339035634,
          0.17108313665856179,
          -0.8225154247380878,
          -1.3112593486999171,
          0.7407250362390038,
          1.4740674690844737,
          -0.6601150729713889,
          -0.5578375755191152,
          -2.1894702900780914,
          -0.588340431559108,
          1.514080440819475,
          -0.7299235556020048,
          0.41897279644500285,
          -3.4084687990672915,
          0.12727543916222567,
          -0.30773577811794056,
          1.0052274973580921,
          0.1853485649185546,
          0.8988088568141913,
          -1.1330796491736908,
          0.24930224008192384,
          0.26609211962146323,
          0.7695454139743126,
          -1.1300590707791835,
          0.7650521647342426,
          -0.24174666204703957,
          0.6104774399030497,
          1.1039589289977767,
          0.20104749596089153,
          2.054039108948895,
          0.8926354968530256,
          -0.41355757538879107,
          0.08564518468261126,
          -0.2950978199383714,
          -0.7073112898905407,
          -0.35243625691127667,
          1.7315352966871789,
          -0.9251727112524073,
          -0.14719555622013525,
          0.19692953751524125,
          -1.0681233122552802,
          2.070898531533443,
          0.5453168572689424,
          -0.6950352852157083,
          -0.29259859968830276,
          -0.333780746340659,
          0.5769664028050115,
          0.00610747840937299,
          -0.45505224721921106,
          2.1290402969245963,
          0.15264552768300563,
          -0.7143525324642657,
          0.3462035753217853,
          1.0780227242980152,
          2.5649793844775965,
          2.0366816733076836,
          -0.6846342066191933,
          0.5343446687775403,
          0.615899513547256,
          0.9577088956877992,
          -1.3651264794867468,
          0.15631349576486503,
          -0.9409451543534072,
          3.154338073243348,
          0.5460296499385444,
          -0.41687285713806893,
          -1.3511518821052952,
          0.6911227385777586,
          -0.2992722490310666,
          0.09222282804187809,
          -0.688639694569738,
          -1.3827311601637085,
          -0.2901630234637458,
          0.4091294128999816,
          0.27148182322355857,
          0.9898224108699564,
          -0.04499371876859188,
          0.6395090823330405,
          -1.5924084318925336,
          -1.4390899668003918,
          1.3056851024901948,
          0.16097649357923066,
          0.7862643341566637,
          -1.277541998099019,
          -0.2692318108956053,
          -0.39034214588907107,
          -0.9913478404671141,
          -0.9422513414974476,
          -0.3527559925160878,
          0.7946425075358607
         ],
         "xaxis": "x7",
         "y": [
          -0.6808447835617709,
          0.6086340681502943,
          1.7294677222632684,
          1.4829871712031955,
          1.1980976114694604,
          1.0795709221769332,
          -2.047286648226565,
          -1.515872438409646,
          0.11471042412393548,
          0.019125214933381172,
          -0.29828557402151373,
          0.6678947909266109,
          0.5106155584983674,
          0.7647578163776658,
          1.8476202168111207,
          1.565461666184497,
          0.2644348097255944,
          -0.15408202979369123,
          -2.618397980162209,
          1.1561649742011062,
          -0.10410162246810392,
          -1.1033110243512538,
          -0.27424587213996177,
          0.08080606289820692,
          -1.0284610964640115,
          1.150848640078469,
          -0.25638096017062206,
          -1.3452740294819456,
          -0.8726175451755096,
          -0.2579052619972397,
          -0.7474841473560414,
          0.8216094650234528,
          -0.4691579203738452,
          -1.0209429509692105,
          -0.40491326209742795,
          1.2208179000282928,
          0.5494620131503947,
          -0.7068872181482015,
          -0.3339529855897427,
          -0.35773835515151436,
          0.30747456293859887,
          -1.7462557392925255,
          -2.3433306042719826,
          -0.5574714680621268,
          0.7125922057087234,
          0.709555785308249,
          1.5876508083553502,
          -1.0557115951468214,
          0.42056797157878995,
          -1.6991616216509176,
          0.7039003209473632,
          0.14454012533595098,
          1.352757377147084,
          -0.6035879623453446,
          0.7274800691249542,
          -0.8983221928954063,
          0.7011998235137612,
          -1.0469207731767092,
          -0.21650716957079683,
          -0.2288275245869777,
          0.9993381258043659,
          -1.2311548841515694,
          -0.5274804076228069,
          -0.6877047486831002,
          0.20934430042105764,
          1.2564779849253123,
          0.3294673953075221,
          1.255900250776616,
          -0.5193008892325174,
          -0.06741165979455997,
          -1.0834021867660262,
          1.1335311403921011,
          0.7801861037662863,
          -0.2996263227805359,
          0.7451519159275286,
          -0.8027114457470523,
          1.2942954747888622,
          -0.2632261742274699,
          1.5242870545704912,
          -0.9063535187405944,
          0.07134433670959506,
          -0.4579896341837586,
          0.7652378935287566,
          -1.3013707444167233,
          0.9578139607872342,
          -0.43515395155639264,
          0.44700821446023037,
          0.3154919434012009,
          -1.3843643663770469,
          -0.3963047121461804,
          -1.1195850187543466,
          -0.6162495255049156,
          -0.16047808659235244,
          -0.35823082603392176,
          -2.83004813388019,
          0.39142399755480306,
          0.744533277886588,
          1.4980898982513313,
          -0.619242852250382,
          -0.4117319533653246
         ],
         "yaxis": "y7"
        },
        {
         "line": {
          "color": "rgba(128, 128, 128, 1.0)",
          "dash": "solid",
          "shape": "linear",
          "width": 1.3
         },
         "marker": {
          "size": 2,
          "symbol": "circle"
         },
         "mode": "markers",
         "name": "B",
         "text": "",
         "type": "scatter",
         "x": [
          -0.21990703525130298,
          -0.049689561602856494,
          1.874691874288394,
          -0.8344382619761017,
          -2.1306832166983183,
          0.6265371213970423,
          1.0859168659466991,
          -1.2275538443974425,
          0.1737416706348923,
          0.1313789226370697,
          0.5432733139223881,
          -0.800923101057814,
          1.069364212002665,
          -1.2550343787009426,
          -0.9693542187852816,
          1.5146823301906613,
          -1.7440520979667784,
          -0.15555580838250746,
          -0.15357426885738384,
          0.07617990754042157,
          0.10211693363053963,
          -0.4197977904468551,
          0.4204222270553229,
          0.5570848522445528,
          -0.6302479075854474,
          -1.250348020882477,
          0.23710551015546857,
          -2.0537553215504007,
          1.946339661403928,
          1.1816302165587953,
          -0.26769796940093527,
          0.61345143204849,
          0.6758589403903051,
          -0.05442261497368895,
          2.383375909628837,
          -0.5091342041146455,
          0.46046540128868396,
          1.7898196664899166,
          0.3748561083657561,
          -1.7276525793941506,
          -0.23782052527179362,
          -0.6529104499115704,
          0.7514155053440179,
          1.1140212156781235,
          0.687490792165121,
          1.084090286853055,
          -0.5278882089302872,
          1.182936057880046,
          0.2579147225302808,
          1.6464562545497536,
          -0.7844569442251179,
          0.8592546209081057,
          0.4062638854490274,
          -1.217341280649748,
          0.5117390597245324,
          0.06019083280628012,
          1.0719027571543804,
          0.7434116572998305,
          0.798271370150843,
          0.7684015298205931,
          -0.18975300662138234,
          -0.11201124865727527,
          -0.46413736223057067,
          -0.3248079756849357,
          1.0479414654529444,
          1.0859161784001026,
          0.13590614438951143,
          -0.55924119638295,
          0.20768956589560142,
          -0.9412307273537324,
          -0.42894672147291846,
          -0.2785464227741624,
          -0.11459123362472971,
          0.8827076047639845,
          -1.2565058546253465,
          -2.0131896265002966,
          -0.6340907842744344,
          0.49928120531553427,
          0.8401612251336205,
          0.4921624788130426,
          1.1954056514566311,
          -1.5175520940955796,
          0.565002151832653,
          0.280048758440951,
          1.5753732222327776,
          -0.3575503125701353,
          -0.11413093143438113,
          -0.6141278598016296,
          -0.21688702505821683,
          2.006869774143835,
          0.08708816779334472,
          0.4480157659652641,
          -0.4895023583656577,
          1.1124777033166462,
          0.6561082877525128,
          -0.7232758310728444,
          -0.7179877124149497,
          -0.15909059725174857,
          0.5173572513883516,
          -0.8324054453144404
         ],
         "xaxis": "x8",
         "y": [
          -0.6808447835617709,
          0.6086340681502943,
          1.7294677222632684,
          1.4829871712031955,
          1.1980976114694604,
          1.0795709221769332,
          -2.047286648226565,
          -1.515872438409646,
          0.11471042412393548,
          0.019125214933381172,
          -0.29828557402151373,
          0.6678947909266109,
          0.5106155584983674,
          0.7647578163776658,
          1.8476202168111207,
          1.565461666184497,
          0.2644348097255944,
          -0.15408202979369123,
          -2.618397980162209,
          1.1561649742011062,
          -0.10410162246810392,
          -1.1033110243512538,
          -0.27424587213996177,
          0.08080606289820692,
          -1.0284610964640115,
          1.150848640078469,
          -0.25638096017062206,
          -1.3452740294819456,
          -0.8726175451755096,
          -0.2579052619972397,
          -0.7474841473560414,
          0.8216094650234528,
          -0.4691579203738452,
          -1.0209429509692105,
          -0.40491326209742795,
          1.2208179000282928,
          0.5494620131503947,
          -0.7068872181482015,
          -0.3339529855897427,
          -0.35773835515151436,
          0.30747456293859887,
          -1.7462557392925255,
          -2.3433306042719826,
          -0.5574714680621268,
          0.7125922057087234,
          0.709555785308249,
          1.5876508083553502,
          -1.0557115951468214,
          0.42056797157878995,
          -1.6991616216509176,
          0.7039003209473632,
          0.14454012533595098,
          1.352757377147084,
          -0.6035879623453446,
          0.7274800691249542,
          -0.8983221928954063,
          0.7011998235137612,
          -1.0469207731767092,
          -0.21650716957079683,
          -0.2288275245869777,
          0.9993381258043659,
          -1.2311548841515694,
          -0.5274804076228069,
          -0.6877047486831002,
          0.20934430042105764,
          1.2564779849253123,
          0.3294673953075221,
          1.255900250776616,
          -0.5193008892325174,
          -0.06741165979455997,
          -1.0834021867660262,
          1.1335311403921011,
          0.7801861037662863,
          -0.2996263227805359,
          0.7451519159275286,
          -0.8027114457470523,
          1.2942954747888622,
          -0.2632261742274699,
          1.5242870545704912,
          -0.9063535187405944,
          0.07134433670959506,
          -0.4579896341837586,
          0.7652378935287566,
          -1.3013707444167233,
          0.9578139607872342,
          -0.43515395155639264,
          0.44700821446023037,
          0.3154919434012009,
          -1.3843643663770469,
          -0.3963047121461804,
          -1.1195850187543466,
          -0.6162495255049156,
          -0.16047808659235244,
          -0.35823082603392176,
          -2.83004813388019,
          0.39142399755480306,
          0.744533277886588,
          1.4980898982513313,
          -0.619242852250382,
          -0.4117319533653246
         ],
         "yaxis": "y8"
        },
        {
         "line": {
          "color": "rgba(128, 128, 128, 1.0)",
          "dash": "solid",
          "shape": "linear",
          "width": 1.3
         },
         "marker": {
          "size": 2,
          "symbol": "circle"
         },
         "mode": "markers",
         "name": "C",
         "text": "",
         "type": "scatter",
         "x": [
          0.8154349543945048,
          1.6452615952148095,
          1.4537812287057956,
          0.10104178737084112,
          0.5656271670462576,
          -0.25532938206558614,
          -0.4325104653515167,
          1.410127965092189,
          1.1470488251728317,
          0.657072548948607,
          0.03982381590751122,
          -0.21945492705686911,
          -0.42813566220156773,
          0.06912887060307056,
          0.48019535501818067,
          0.7335677864552974,
          1.0413248888755484,
          -0.5834104170250821,
          1.4848271676888816,
          0.7826869752115855,
          -0.39749806587397724,
          -0.4027652996072739,
          0.11747667683869219,
          1.238907705657658,
          1.0712834977929915,
          -1.7600443375466999,
          -1.3937101578182822,
          -1.3249680614763732,
          -1.0077691729223197,
          -0.7584747658795038,
          0.5724593892766379,
          1.5492788163962405,
          -1.0910998243990073,
          1.4290362767631684,
          -3.01125804668789,
          -0.2356489680791908,
          -0.3116139523330637,
          -0.9183548126980127,
          0.7923927375118476,
          -1.5804414859407747,
          0.7733345351849514,
          -1.6465243274195123,
          0.27138733583592134,
          -0.19599767388768868,
          0.08106265270112785,
          0.06469965591392358,
          -0.43539719559085543,
          1.5156592705706176,
          0.38031968497822216,
          -1.5324652462793011,
          -1.3962548417854277,
          -1.4663549169819599,
          1.9896722879077047,
          -0.7717337568947867,
          -1.13236110225189,
          -1.983359999513528,
          1.2842340509586827,
          -2.0291627701880537,
          -0.48903035521972266,
          -0.5663571786022973,
          -1.4787610440318093,
          -1.3673892416503333,
          0.27523611036305795,
          0.3501442071324475,
          1.235531610348585,
          0.1314814665497779,
          0.07079226273988824,
          0.6346690086353665,
          1.6029044452742762,
          0.7958708765295324,
          -0.25947577521444265,
          0.5375822712081678,
          0.2677775263639807,
          1.2943918451644172,
          -1.6438371037085036,
          0.37032225334665586,
          0.6780896656500484,
          -1.1068649644088242,
          0.4849669680836155,
          -0.7702270297591995,
          -0.1956237096802853,
          -0.409540567007104,
          0.9543777747548079,
          0.0715623984057711,
          0.4120689159764619,
          -0.9477583953020565,
          -1.2988864592853377,
          2.134583178546349,
          0.6607329716768912,
          0.5860135769330493,
          -0.30059906687024285,
          0.10162323095318798,
          0.8690560540307614,
          -1.469999613146916,
          -0.8016006773462353,
          0.7391997728218646,
          -0.29700677585812657,
          0.3977489712256264,
          1.308580860583779,
          0.8677685903326755
         ],
         "xaxis": "x9",
         "y": [
          -0.19861040847960834,
          0.6155622946641103,
          1.2872901796916114,
          1.4194891172392805,
          -0.9859017008147671,
          0.9245224391726357,
          0.6463775059900948,
          1.5915671964891147,
          -0.8977442526038514,
          0.9162690220696864,
          -1.2521648339035634,
          0.17108313665856179,
          -0.8225154247380878,
          -1.3112593486999171,
          0.7407250362390038,
          1.4740674690844737,
          -0.6601150729713889,
          -0.5578375755191152,
          -2.1894702900780914,
          -0.588340431559108,
          1.514080440819475,
          -0.7299235556020048,
          0.41897279644500285,
          -3.4084687990672915,
          0.12727543916222567,
          -0.30773577811794056,
          1.0052274973580921,
          0.1853485649185546,
          0.8988088568141913,
          -1.1330796491736908,
          0.24930224008192384,
          0.26609211962146323,
          0.7695454139743126,
          -1.1300590707791835,
          0.7650521647342426,
          -0.24174666204703957,
          0.6104774399030497,
          1.1039589289977767,
          0.20104749596089153,
          2.054039108948895,
          0.8926354968530256,
          -0.41355757538879107,
          0.08564518468261126,
          -0.2950978199383714,
          -0.7073112898905407,
          -0.35243625691127667,
          1.7315352966871789,
          -0.9251727112524073,
          -0.14719555622013525,
          0.19692953751524125,
          -1.0681233122552802,
          2.070898531533443,
          0.5453168572689424,
          -0.6950352852157083,
          -0.29259859968830276,
          -0.333780746340659,
          0.5769664028050115,
          0.00610747840937299,
          -0.45505224721921106,
          2.1290402969245963,
          0.15264552768300563,
          -0.7143525324642657,
          0.3462035753217853,
          1.0780227242980152,
          2.5649793844775965,
          2.0366816733076836,
          -0.6846342066191933,
          0.5343446687775403,
          0.615899513547256,
          0.9577088956877992,
          -1.3651264794867468,
          0.15631349576486503,
          -0.9409451543534072,
          3.154338073243348,
          0.5460296499385444,
          -0.41687285713806893,
          -1.3511518821052952,
          0.6911227385777586,
          -0.2992722490310666,
          0.09222282804187809,
          -0.688639694569738,
          -1.3827311601637085,
          -0.2901630234637458,
          0.4091294128999816,
          0.27148182322355857,
          0.9898224108699564,
          -0.04499371876859188,
          0.6395090823330405,
          -1.5924084318925336,
          -1.4390899668003918,
          1.3056851024901948,
          0.16097649357923066,
          0.7862643341566637,
          -1.277541998099019,
          -0.2692318108956053,
          -0.39034214588907107,
          -0.9913478404671141,
          -0.9422513414974476,
          -0.3527559925160878,
          0.7946425075358607
         ],
         "yaxis": "y9"
        },
        {
         "line": {
          "color": "rgba(128, 128, 128, 1.0)",
          "dash": "solid",
          "shape": "linear",
          "width": 1.3
         },
         "marker": {
          "size": 2,
          "symbol": "circle"
         },
         "mode": "markers",
         "name": "C",
         "text": "",
         "type": "scatter",
         "x": [
          -0.6808447835617709,
          0.6086340681502943,
          1.7294677222632684,
          1.4829871712031955,
          1.1980976114694604,
          1.0795709221769332,
          -2.047286648226565,
          -1.515872438409646,
          0.11471042412393548,
          0.019125214933381172,
          -0.29828557402151373,
          0.6678947909266109,
          0.5106155584983674,
          0.7647578163776658,
          1.8476202168111207,
          1.565461666184497,
          0.2644348097255944,
          -0.15408202979369123,
          -2.618397980162209,
          1.1561649742011062,
          -0.10410162246810392,
          -1.1033110243512538,
          -0.27424587213996177,
          0.08080606289820692,
          -1.0284610964640115,
          1.150848640078469,
          -0.25638096017062206,
          -1.3452740294819456,
          -0.8726175451755096,
          -0.2579052619972397,
          -0.7474841473560414,
          0.8216094650234528,
          -0.4691579203738452,
          -1.0209429509692105,
          -0.40491326209742795,
          1.2208179000282928,
          0.5494620131503947,
          -0.7068872181482015,
          -0.3339529855897427,
          -0.35773835515151436,
          0.30747456293859887,
          -1.7462557392925255,
          -2.3433306042719826,
          -0.5574714680621268,
          0.7125922057087234,
          0.709555785308249,
          1.5876508083553502,
          -1.0557115951468214,
          0.42056797157878995,
          -1.6991616216509176,
          0.7039003209473632,
          0.14454012533595098,
          1.352757377147084,
          -0.6035879623453446,
          0.7274800691249542,
          -0.8983221928954063,
          0.7011998235137612,
          -1.0469207731767092,
          -0.21650716957079683,
          -0.2288275245869777,
          0.9993381258043659,
          -1.2311548841515694,
          -0.5274804076228069,
          -0.6877047486831002,
          0.20934430042105764,
          1.2564779849253123,
          0.3294673953075221,
          1.255900250776616,
          -0.5193008892325174,
          -0.06741165979455997,
          -1.0834021867660262,
          1.1335311403921011,
          0.7801861037662863,
          -0.2996263227805359,
          0.7451519159275286,
          -0.8027114457470523,
          1.2942954747888622,
          -0.2632261742274699,
          1.5242870545704912,
          -0.9063535187405944,
          0.07134433670959506,
          -0.4579896341837586,
          0.7652378935287566,
          -1.3013707444167233,
          0.9578139607872342,
          -0.43515395155639264,
          0.44700821446023037,
          0.3154919434012009,
          -1.3843643663770469,
          -0.3963047121461804,
          -1.1195850187543466,
          -0.6162495255049156,
          -0.16047808659235244,
          -0.35823082603392176,
          -2.83004813388019,
          0.39142399755480306,
          0.744533277886588,
          1.4980898982513313,
          -0.619242852250382,
          -0.4117319533653246
         ],
         "xaxis": "x10",
         "y": [
          -0.19861040847960834,
          0.6155622946641103,
          1.2872901796916114,
          1.4194891172392805,
          -0.9859017008147671,
          0.9245224391726357,
          0.6463775059900948,
          1.5915671964891147,
          -0.8977442526038514,
          0.9162690220696864,
          -1.2521648339035634,
          0.17108313665856179,
          -0.8225154247380878,
          -1.3112593486999171,
          0.7407250362390038,
          1.4740674690844737,
          -0.6601150729713889,
          -0.5578375755191152,
          -2.1894702900780914,
          -0.588340431559108,
          1.514080440819475,
          -0.7299235556020048,
          0.41897279644500285,
          -3.4084687990672915,
          0.12727543916222567,
          -0.30773577811794056,
          1.0052274973580921,
          0.1853485649185546,
          0.8988088568141913,
          -1.1330796491736908,
          0.24930224008192384,
          0.26609211962146323,
          0.7695454139743126,
          -1.1300590707791835,
          0.7650521647342426,
          -0.24174666204703957,
          0.6104774399030497,
          1.1039589289977767,
          0.20104749596089153,
          2.054039108948895,
          0.8926354968530256,
          -0.41355757538879107,
          0.08564518468261126,
          -0.2950978199383714,
          -0.7073112898905407,
          -0.35243625691127667,
          1.7315352966871789,
          -0.9251727112524073,
          -0.14719555622013525,
          0.19692953751524125,
          -1.0681233122552802,
          2.070898531533443,
          0.5453168572689424,
          -0.6950352852157083,
          -0.29259859968830276,
          -0.333780746340659,
          0.5769664028050115,
          0.00610747840937299,
          -0.45505224721921106,
          2.1290402969245963,
          0.15264552768300563,
          -0.7143525324642657,
          0.3462035753217853,
          1.0780227242980152,
          2.5649793844775965,
          2.0366816733076836,
          -0.6846342066191933,
          0.5343446687775403,
          0.615899513547256,
          0.9577088956877992,
          -1.3651264794867468,
          0.15631349576486503,
          -0.9409451543534072,
          3.154338073243348,
          0.5460296499385444,
          -0.41687285713806893,
          -1.3511518821052952,
          0.6911227385777586,
          -0.2992722490310666,
          0.09222282804187809,
          -0.688639694569738,
          -1.3827311601637085,
          -0.2901630234637458,
          0.4091294128999816,
          0.27148182322355857,
          0.9898224108699564,
          -0.04499371876859188,
          0.6395090823330405,
          -1.5924084318925336,
          -1.4390899668003918,
          1.3056851024901948,
          0.16097649357923066,
          0.7862643341566637,
          -1.277541998099019,
          -0.2692318108956053,
          -0.39034214588907107,
          -0.9913478404671141,
          -0.9422513414974476,
          -0.3527559925160878,
          0.7946425075358607
         ],
         "yaxis": "y10"
        },
        {
         "histfunc": "count",
         "histnorm": "",
         "marker": {
          "color": "rgba(50, 171, 96, 1.0)",
          "line": {
           "color": "#4D5663",
           "width": 1.3
          }
         },
         "name": "C",
         "nbinsx": 10,
         "opacity": 0.8,
         "orientation": "v",
         "type": "histogram",
         "x": [
          -0.19861040847960834,
          0.6155622946641103,
          1.2872901796916114,
          1.4194891172392805,
          -0.9859017008147671,
          0.9245224391726357,
          0.6463775059900948,
          1.5915671964891147,
          -0.8977442526038514,
          0.9162690220696864,
          -1.2521648339035634,
          0.17108313665856179,
          -0.8225154247380878,
          -1.3112593486999171,
          0.7407250362390038,
          1.4740674690844737,
          -0.6601150729713889,
          -0.5578375755191152,
          -2.1894702900780914,
          -0.588340431559108,
          1.514080440819475,
          -0.7299235556020048,
          0.41897279644500285,
          -3.4084687990672915,
          0.12727543916222567,
          -0.30773577811794056,
          1.0052274973580921,
          0.1853485649185546,
          0.8988088568141913,
          -1.1330796491736908,
          0.24930224008192384,
          0.26609211962146323,
          0.7695454139743126,
          -1.1300590707791835,
          0.7650521647342426,
          -0.24174666204703957,
          0.6104774399030497,
          1.1039589289977767,
          0.20104749596089153,
          2.054039108948895,
          0.8926354968530256,
          -0.41355757538879107,
          0.08564518468261126,
          -0.2950978199383714,
          -0.7073112898905407,
          -0.35243625691127667,
          1.7315352966871789,
          -0.9251727112524073,
          -0.14719555622013525,
          0.19692953751524125,
          -1.0681233122552802,
          2.070898531533443,
          0.5453168572689424,
          -0.6950352852157083,
          -0.29259859968830276,
          -0.333780746340659,
          0.5769664028050115,
          0.00610747840937299,
          -0.45505224721921106,
          2.1290402969245963,
          0.15264552768300563,
          -0.7143525324642657,
          0.3462035753217853,
          1.0780227242980152,
          2.5649793844775965,
          2.0366816733076836,
          -0.6846342066191933,
          0.5343446687775403,
          0.615899513547256,
          0.9577088956877992,
          -1.3651264794867468,
          0.15631349576486503,
          -0.9409451543534072,
          3.154338073243348,
          0.5460296499385444,
          -0.41687285713806893,
          -1.3511518821052952,
          0.6911227385777586,
          -0.2992722490310666,
          0.09222282804187809,
          -0.688639694569738,
          -1.3827311601637085,
          -0.2901630234637458,
          0.4091294128999816,
          0.27148182322355857,
          0.9898224108699564,
          -0.04499371876859188,
          0.6395090823330405,
          -1.5924084318925336,
          -1.4390899668003918,
          1.3056851024901948,
          0.16097649357923066,
          0.7862643341566637,
          -1.277541998099019,
          -0.2692318108956053,
          -0.39034214588907107,
          -0.9913478404671141,
          -0.9422513414974476,
          -0.3527559925160878,
          0.7946425075358607
         ],
         "xaxis": "x11",
         "yaxis": "y11"
        },
        {
         "line": {
          "color": "rgba(128, 128, 128, 1.0)",
          "dash": "solid",
          "shape": "linear",
          "width": 1.3
         },
         "marker": {
          "size": 2,
          "symbol": "circle"
         },
         "mode": "markers",
         "name": "C",
         "text": "",
         "type": "scatter",
         "x": [
          -0.21990703525130298,
          -0.049689561602856494,
          1.874691874288394,
          -0.8344382619761017,
          -2.1306832166983183,
          0.6265371213970423,
          1.0859168659466991,
          -1.2275538443974425,
          0.1737416706348923,
          0.1313789226370697,
          0.5432733139223881,
          -0.800923101057814,
          1.069364212002665,
          -1.2550343787009426,
          -0.9693542187852816,
          1.5146823301906613,
          -1.7440520979667784,
          -0.15555580838250746,
          -0.15357426885738384,
          0.07617990754042157,
          0.10211693363053963,
          -0.4197977904468551,
          0.4204222270553229,
          0.5570848522445528,
          -0.6302479075854474,
          -1.250348020882477,
          0.23710551015546857,
          -2.0537553215504007,
          1.946339661403928,
          1.1816302165587953,
          -0.26769796940093527,
          0.61345143204849,
          0.6758589403903051,
          -0.05442261497368895,
          2.383375909628837,
          -0.5091342041146455,
          0.46046540128868396,
          1.7898196664899166,
          0.3748561083657561,
          -1.7276525793941506,
          -0.23782052527179362,
          -0.6529104499115704,
          0.7514155053440179,
          1.1140212156781235,
          0.687490792165121,
          1.084090286853055,
          -0.5278882089302872,
          1.182936057880046,
          0.2579147225302808,
          1.6464562545497536,
          -0.7844569442251179,
          0.8592546209081057,
          0.4062638854490274,
          -1.217341280649748,
          0.5117390597245324,
          0.06019083280628012,
          1.0719027571543804,
          0.7434116572998305,
          0.798271370150843,
          0.7684015298205931,
          -0.18975300662138234,
          -0.11201124865727527,
          -0.46413736223057067,
          -0.3248079756849357,
          1.0479414654529444,
          1.0859161784001026,
          0.13590614438951143,
          -0.55924119638295,
          0.20768956589560142,
          -0.9412307273537324,
          -0.42894672147291846,
          -0.2785464227741624,
          -0.11459123362472971,
          0.8827076047639845,
          -1.2565058546253465,
          -2.0131896265002966,
          -0.6340907842744344,
          0.49928120531553427,
          0.8401612251336205,
          0.4921624788130426,
          1.1954056514566311,
          -1.5175520940955796,
          0.565002151832653,
          0.280048758440951,
          1.5753732222327776,
          -0.3575503125701353,
          -0.11413093143438113,
          -0.6141278598016296,
          -0.21688702505821683,
          2.006869774143835,
          0.08708816779334472,
          0.4480157659652641,
          -0.4895023583656577,
          1.1124777033166462,
          0.6561082877525128,
          -0.7232758310728444,
          -0.7179877124149497,
          -0.15909059725174857,
          0.5173572513883516,
          -0.8324054453144404
         ],
         "xaxis": "x12",
         "y": [
          -0.19861040847960834,
          0.6155622946641103,
          1.2872901796916114,
          1.4194891172392805,
          -0.9859017008147671,
          0.9245224391726357,
          0.6463775059900948,
          1.5915671964891147,
          -0.8977442526038514,
          0.9162690220696864,
          -1.2521648339035634,
          0.17108313665856179,
          -0.8225154247380878,
          -1.3112593486999171,
          0.7407250362390038,
          1.4740674690844737,
          -0.6601150729713889,
          -0.5578375755191152,
          -2.1894702900780914,
          -0.588340431559108,
          1.514080440819475,
          -0.7299235556020048,
          0.41897279644500285,
          -3.4084687990672915,
          0.12727543916222567,
          -0.30773577811794056,
          1.0052274973580921,
          0.1853485649185546,
          0.8988088568141913,
          -1.1330796491736908,
          0.24930224008192384,
          0.26609211962146323,
          0.7695454139743126,
          -1.1300590707791835,
          0.7650521647342426,
          -0.24174666204703957,
          0.6104774399030497,
          1.1039589289977767,
          0.20104749596089153,
          2.054039108948895,
          0.8926354968530256,
          -0.41355757538879107,
          0.08564518468261126,
          -0.2950978199383714,
          -0.7073112898905407,
          -0.35243625691127667,
          1.7315352966871789,
          -0.9251727112524073,
          -0.14719555622013525,
          0.19692953751524125,
          -1.0681233122552802,
          2.070898531533443,
          0.5453168572689424,
          -0.6950352852157083,
          -0.29259859968830276,
          -0.333780746340659,
          0.5769664028050115,
          0.00610747840937299,
          -0.45505224721921106,
          2.1290402969245963,
          0.15264552768300563,
          -0.7143525324642657,
          0.3462035753217853,
          1.0780227242980152,
          2.5649793844775965,
          2.0366816733076836,
          -0.6846342066191933,
          0.5343446687775403,
          0.615899513547256,
          0.9577088956877992,
          -1.3651264794867468,
          0.15631349576486503,
          -0.9409451543534072,
          3.154338073243348,
          0.5460296499385444,
          -0.41687285713806893,
          -1.3511518821052952,
          0.6911227385777586,
          -0.2992722490310666,
          0.09222282804187809,
          -0.688639694569738,
          -1.3827311601637085,
          -0.2901630234637458,
          0.4091294128999816,
          0.27148182322355857,
          0.9898224108699564,
          -0.04499371876859188,
          0.6395090823330405,
          -1.5924084318925336,
          -1.4390899668003918,
          1.3056851024901948,
          0.16097649357923066,
          0.7862643341566637,
          -1.277541998099019,
          -0.2692318108956053,
          -0.39034214588907107,
          -0.9913478404671141,
          -0.9422513414974476,
          -0.3527559925160878,
          0.7946425075358607
         ],
         "yaxis": "y12"
        },
        {
         "line": {
          "color": "rgba(128, 128, 128, 1.0)",
          "dash": "solid",
          "shape": "linear",
          "width": 1.3
         },
         "marker": {
          "size": 2,
          "symbol": "circle"
         },
         "mode": "markers",
         "name": "D",
         "text": "",
         "type": "scatter",
         "x": [
          0.8154349543945048,
          1.6452615952148095,
          1.4537812287057956,
          0.10104178737084112,
          0.5656271670462576,
          -0.25532938206558614,
          -0.4325104653515167,
          1.410127965092189,
          1.1470488251728317,
          0.657072548948607,
          0.03982381590751122,
          -0.21945492705686911,
          -0.42813566220156773,
          0.06912887060307056,
          0.48019535501818067,
          0.7335677864552974,
          1.0413248888755484,
          -0.5834104170250821,
          1.4848271676888816,
          0.7826869752115855,
          -0.39749806587397724,
          -0.4027652996072739,
          0.11747667683869219,
          1.238907705657658,
          1.0712834977929915,
          -1.7600443375466999,
          -1.3937101578182822,
          -1.3249680614763732,
          -1.0077691729223197,
          -0.7584747658795038,
          0.5724593892766379,
          1.5492788163962405,
          -1.0910998243990073,
          1.4290362767631684,
          -3.01125804668789,
          -0.2356489680791908,
          -0.3116139523330637,
          -0.9183548126980127,
          0.7923927375118476,
          -1.5804414859407747,
          0.7733345351849514,
          -1.6465243274195123,
          0.27138733583592134,
          -0.19599767388768868,
          0.08106265270112785,
          0.06469965591392358,
          -0.43539719559085543,
          1.5156592705706176,
          0.38031968497822216,
          -1.5324652462793011,
          -1.3962548417854277,
          -1.4663549169819599,
          1.9896722879077047,
          -0.7717337568947867,
          -1.13236110225189,
          -1.983359999513528,
          1.2842340509586827,
          -2.0291627701880537,
          -0.48903035521972266,
          -0.5663571786022973,
          -1.4787610440318093,
          -1.3673892416503333,
          0.27523611036305795,
          0.3501442071324475,
          1.235531610348585,
          0.1314814665497779,
          0.07079226273988824,
          0.6346690086353665,
          1.6029044452742762,
          0.7958708765295324,
          -0.25947577521444265,
          0.5375822712081678,
          0.2677775263639807,
          1.2943918451644172,
          -1.6438371037085036,
          0.37032225334665586,
          0.6780896656500484,
          -1.1068649644088242,
          0.4849669680836155,
          -0.7702270297591995,
          -0.1956237096802853,
          -0.409540567007104,
          0.9543777747548079,
          0.0715623984057711,
          0.4120689159764619,
          -0.9477583953020565,
          -1.2988864592853377,
          2.134583178546349,
          0.6607329716768912,
          0.5860135769330493,
          -0.30059906687024285,
          0.10162323095318798,
          0.8690560540307614,
          -1.469999613146916,
          -0.8016006773462353,
          0.7391997728218646,
          -0.29700677585812657,
          0.3977489712256264,
          1.308580860583779,
          0.8677685903326755
         ],
         "xaxis": "x13",
         "y": [
          -0.21990703525130298,
          -0.049689561602856494,
          1.874691874288394,
          -0.8344382619761017,
          -2.1306832166983183,
          0.6265371213970423,
          1.0859168659466991,
          -1.2275538443974425,
          0.1737416706348923,
          0.1313789226370697,
          0.5432733139223881,
          -0.800923101057814,
          1.069364212002665,
          -1.2550343787009426,
          -0.9693542187852816,
          1.5146823301906613,
          -1.7440520979667784,
          -0.15555580838250746,
          -0.15357426885738384,
          0.07617990754042157,
          0.10211693363053963,
          -0.4197977904468551,
          0.4204222270553229,
          0.5570848522445528,
          -0.6302479075854474,
          -1.250348020882477,
          0.23710551015546857,
          -2.0537553215504007,
          1.946339661403928,
          1.1816302165587953,
          -0.26769796940093527,
          0.61345143204849,
          0.6758589403903051,
          -0.05442261497368895,
          2.383375909628837,
          -0.5091342041146455,
          0.46046540128868396,
          1.7898196664899166,
          0.3748561083657561,
          -1.7276525793941506,
          -0.23782052527179362,
          -0.6529104499115704,
          0.7514155053440179,
          1.1140212156781235,
          0.687490792165121,
          1.084090286853055,
          -0.5278882089302872,
          1.182936057880046,
          0.2579147225302808,
          1.6464562545497536,
          -0.7844569442251179,
          0.8592546209081057,
          0.4062638854490274,
          -1.217341280649748,
          0.5117390597245324,
          0.06019083280628012,
          1.0719027571543804,
          0.7434116572998305,
          0.798271370150843,
          0.7684015298205931,
          -0.18975300662138234,
          -0.11201124865727527,
          -0.46413736223057067,
          -0.3248079756849357,
          1.0479414654529444,
          1.0859161784001026,
          0.13590614438951143,
          -0.55924119638295,
          0.20768956589560142,
          -0.9412307273537324,
          -0.42894672147291846,
          -0.2785464227741624,
          -0.11459123362472971,
          0.8827076047639845,
          -1.2565058546253465,
          -2.0131896265002966,
          -0.6340907842744344,
          0.49928120531553427,
          0.8401612251336205,
          0.4921624788130426,
          1.1954056514566311,
          -1.5175520940955796,
          0.565002151832653,
          0.280048758440951,
          1.5753732222327776,
          -0.3575503125701353,
          -0.11413093143438113,
          -0.6141278598016296,
          -0.21688702505821683,
          2.006869774143835,
          0.08708816779334472,
          0.4480157659652641,
          -0.4895023583656577,
          1.1124777033166462,
          0.6561082877525128,
          -0.7232758310728444,
          -0.7179877124149497,
          -0.15909059725174857,
          0.5173572513883516,
          -0.8324054453144404
         ],
         "yaxis": "y13"
        },
        {
         "line": {
          "color": "rgba(128, 128, 128, 1.0)",
          "dash": "solid",
          "shape": "linear",
          "width": 1.3
         },
         "marker": {
          "size": 2,
          "symbol": "circle"
         },
         "mode": "markers",
         "name": "D",
         "text": "",
         "type": "scatter",
         "x": [
          -0.6808447835617709,
          0.6086340681502943,
          1.7294677222632684,
          1.4829871712031955,
          1.1980976114694604,
          1.0795709221769332,
          -2.047286648226565,
          -1.515872438409646,
          0.11471042412393548,
          0.019125214933381172,
          -0.29828557402151373,
          0.6678947909266109,
          0.5106155584983674,
          0.7647578163776658,
          1.8476202168111207,
          1.565461666184497,
          0.2644348097255944,
          -0.15408202979369123,
          -2.618397980162209,
          1.1561649742011062,
          -0.10410162246810392,
          -1.1033110243512538,
          -0.27424587213996177,
          0.08080606289820692,
          -1.0284610964640115,
          1.150848640078469,
          -0.25638096017062206,
          -1.3452740294819456,
          -0.8726175451755096,
          -0.2579052619972397,
          -0.7474841473560414,
          0.8216094650234528,
          -0.4691579203738452,
          -1.0209429509692105,
          -0.40491326209742795,
          1.2208179000282928,
          0.5494620131503947,
          -0.7068872181482015,
          -0.3339529855897427,
          -0.35773835515151436,
          0.30747456293859887,
          -1.7462557392925255,
          -2.3433306042719826,
          -0.5574714680621268,
          0.7125922057087234,
          0.709555785308249,
          1.5876508083553502,
          -1.0557115951468214,
          0.42056797157878995,
          -1.6991616216509176,
          0.7039003209473632,
          0.14454012533595098,
          1.352757377147084,
          -0.6035879623453446,
          0.7274800691249542,
          -0.8983221928954063,
          0.7011998235137612,
          -1.0469207731767092,
          -0.21650716957079683,
          -0.2288275245869777,
          0.9993381258043659,
          -1.2311548841515694,
          -0.5274804076228069,
          -0.6877047486831002,
          0.20934430042105764,
          1.2564779849253123,
          0.3294673953075221,
          1.255900250776616,
          -0.5193008892325174,
          -0.06741165979455997,
          -1.0834021867660262,
          1.1335311403921011,
          0.7801861037662863,
          -0.2996263227805359,
          0.7451519159275286,
          -0.8027114457470523,
          1.2942954747888622,
          -0.2632261742274699,
          1.5242870545704912,
          -0.9063535187405944,
          0.07134433670959506,
          -0.4579896341837586,
          0.7652378935287566,
          -1.3013707444167233,
          0.9578139607872342,
          -0.43515395155639264,
          0.44700821446023037,
          0.3154919434012009,
          -1.3843643663770469,
          -0.3963047121461804,
          -1.1195850187543466,
          -0.6162495255049156,
          -0.16047808659235244,
          -0.35823082603392176,
          -2.83004813388019,
          0.39142399755480306,
          0.744533277886588,
          1.4980898982513313,
          -0.619242852250382,
          -0.4117319533653246
         ],
         "xaxis": "x14",
         "y": [
          -0.21990703525130298,
          -0.049689561602856494,
          1.874691874288394,
          -0.8344382619761017,
          -2.1306832166983183,
          0.6265371213970423,
          1.0859168659466991,
          -1.2275538443974425,
          0.1737416706348923,
          0.1313789226370697,
          0.5432733139223881,
          -0.800923101057814,
          1.069364212002665,
          -1.2550343787009426,
          -0.9693542187852816,
          1.5146823301906613,
          -1.7440520979667784,
          -0.15555580838250746,
          -0.15357426885738384,
          0.07617990754042157,
          0.10211693363053963,
          -0.4197977904468551,
          0.4204222270553229,
          0.5570848522445528,
          -0.6302479075854474,
          -1.250348020882477,
          0.23710551015546857,
          -2.0537553215504007,
          1.946339661403928,
          1.1816302165587953,
          -0.26769796940093527,
          0.61345143204849,
          0.6758589403903051,
          -0.05442261497368895,
          2.383375909628837,
          -0.5091342041146455,
          0.46046540128868396,
          1.7898196664899166,
          0.3748561083657561,
          -1.7276525793941506,
          -0.23782052527179362,
          -0.6529104499115704,
          0.7514155053440179,
          1.1140212156781235,
          0.687490792165121,
          1.084090286853055,
          -0.5278882089302872,
          1.182936057880046,
          0.2579147225302808,
          1.6464562545497536,
          -0.7844569442251179,
          0.8592546209081057,
          0.4062638854490274,
          -1.217341280649748,
          0.5117390597245324,
          0.06019083280628012,
          1.0719027571543804,
          0.7434116572998305,
          0.798271370150843,
          0.7684015298205931,
          -0.18975300662138234,
          -0.11201124865727527,
          -0.46413736223057067,
          -0.3248079756849357,
          1.0479414654529444,
          1.0859161784001026,
          0.13590614438951143,
          -0.55924119638295,
          0.20768956589560142,
          -0.9412307273537324,
          -0.42894672147291846,
          -0.2785464227741624,
          -0.11459123362472971,
          0.8827076047639845,
          -1.2565058546253465,
          -2.0131896265002966,
          -0.6340907842744344,
          0.49928120531553427,
          0.8401612251336205,
          0.4921624788130426,
          1.1954056514566311,
          -1.5175520940955796,
          0.565002151832653,
          0.280048758440951,
          1.5753732222327776,
          -0.3575503125701353,
          -0.11413093143438113,
          -0.6141278598016296,
          -0.21688702505821683,
          2.006869774143835,
          0.08708816779334472,
          0.4480157659652641,
          -0.4895023583656577,
          1.1124777033166462,
          0.6561082877525128,
          -0.7232758310728444,
          -0.7179877124149497,
          -0.15909059725174857,
          0.5173572513883516,
          -0.8324054453144404
         ],
         "yaxis": "y14"
        },
        {
         "line": {
          "color": "rgba(128, 128, 128, 1.0)",
          "dash": "solid",
          "shape": "linear",
          "width": 1.3
         },
         "marker": {
          "size": 2,
          "symbol": "circle"
         },
         "mode": "markers",
         "name": "D",
         "text": "",
         "type": "scatter",
         "x": [
          -0.19861040847960834,
          0.6155622946641103,
          1.2872901796916114,
          1.4194891172392805,
          -0.9859017008147671,
          0.9245224391726357,
          0.6463775059900948,
          1.5915671964891147,
          -0.8977442526038514,
          0.9162690220696864,
          -1.2521648339035634,
          0.17108313665856179,
          -0.8225154247380878,
          -1.3112593486999171,
          0.7407250362390038,
          1.4740674690844737,
          -0.6601150729713889,
          -0.5578375755191152,
          -2.1894702900780914,
          -0.588340431559108,
          1.514080440819475,
          -0.7299235556020048,
          0.41897279644500285,
          -3.4084687990672915,
          0.12727543916222567,
          -0.30773577811794056,
          1.0052274973580921,
          0.1853485649185546,
          0.8988088568141913,
          -1.1330796491736908,
          0.24930224008192384,
          0.26609211962146323,
          0.7695454139743126,
          -1.1300590707791835,
          0.7650521647342426,
          -0.24174666204703957,
          0.6104774399030497,
          1.1039589289977767,
          0.20104749596089153,
          2.054039108948895,
          0.8926354968530256,
          -0.41355757538879107,
          0.08564518468261126,
          -0.2950978199383714,
          -0.7073112898905407,
          -0.35243625691127667,
          1.7315352966871789,
          -0.9251727112524073,
          -0.14719555622013525,
          0.19692953751524125,
          -1.0681233122552802,
          2.070898531533443,
          0.5453168572689424,
          -0.6950352852157083,
          -0.29259859968830276,
          -0.333780746340659,
          0.5769664028050115,
          0.00610747840937299,
          -0.45505224721921106,
          2.1290402969245963,
          0.15264552768300563,
          -0.7143525324642657,
          0.3462035753217853,
          1.0780227242980152,
          2.5649793844775965,
          2.0366816733076836,
          -0.6846342066191933,
          0.5343446687775403,
          0.615899513547256,
          0.9577088956877992,
          -1.3651264794867468,
          0.15631349576486503,
          -0.9409451543534072,
          3.154338073243348,
          0.5460296499385444,
          -0.41687285713806893,
          -1.3511518821052952,
          0.6911227385777586,
          -0.2992722490310666,
          0.09222282804187809,
          -0.688639694569738,
          -1.3827311601637085,
          -0.2901630234637458,
          0.4091294128999816,
          0.27148182322355857,
          0.9898224108699564,
          -0.04499371876859188,
          0.6395090823330405,
          -1.5924084318925336,
          -1.4390899668003918,
          1.3056851024901948,
          0.16097649357923066,
          0.7862643341566637,
          -1.277541998099019,
          -0.2692318108956053,
          -0.39034214588907107,
          -0.9913478404671141,
          -0.9422513414974476,
          -0.3527559925160878,
          0.7946425075358607
         ],
         "xaxis": "x15",
         "y": [
          -0.21990703525130298,
          -0.049689561602856494,
          1.874691874288394,
          -0.8344382619761017,
          -2.1306832166983183,
          0.6265371213970423,
          1.0859168659466991,
          -1.2275538443974425,
          0.1737416706348923,
          0.1313789226370697,
          0.5432733139223881,
          -0.800923101057814,
          1.069364212002665,
          -1.2550343787009426,
          -0.9693542187852816,
          1.5146823301906613,
          -1.7440520979667784,
          -0.15555580838250746,
          -0.15357426885738384,
          0.07617990754042157,
          0.10211693363053963,
          -0.4197977904468551,
          0.4204222270553229,
          0.5570848522445528,
          -0.6302479075854474,
          -1.250348020882477,
          0.23710551015546857,
          -2.0537553215504007,
          1.946339661403928,
          1.1816302165587953,
          -0.26769796940093527,
          0.61345143204849,
          0.6758589403903051,
          -0.05442261497368895,
          2.383375909628837,
          -0.5091342041146455,
          0.46046540128868396,
          1.7898196664899166,
          0.3748561083657561,
          -1.7276525793941506,
          -0.23782052527179362,
          -0.6529104499115704,
          0.7514155053440179,
          1.1140212156781235,
          0.687490792165121,
          1.084090286853055,
          -0.5278882089302872,
          1.182936057880046,
          0.2579147225302808,
          1.6464562545497536,
          -0.7844569442251179,
          0.8592546209081057,
          0.4062638854490274,
          -1.217341280649748,
          0.5117390597245324,
          0.06019083280628012,
          1.0719027571543804,
          0.7434116572998305,
          0.798271370150843,
          0.7684015298205931,
          -0.18975300662138234,
          -0.11201124865727527,
          -0.46413736223057067,
          -0.3248079756849357,
          1.0479414654529444,
          1.0859161784001026,
          0.13590614438951143,
          -0.55924119638295,
          0.20768956589560142,
          -0.9412307273537324,
          -0.42894672147291846,
          -0.2785464227741624,
          -0.11459123362472971,
          0.8827076047639845,
          -1.2565058546253465,
          -2.0131896265002966,
          -0.6340907842744344,
          0.49928120531553427,
          0.8401612251336205,
          0.4921624788130426,
          1.1954056514566311,
          -1.5175520940955796,
          0.565002151832653,
          0.280048758440951,
          1.5753732222327776,
          -0.3575503125701353,
          -0.11413093143438113,
          -0.6141278598016296,
          -0.21688702505821683,
          2.006869774143835,
          0.08708816779334472,
          0.4480157659652641,
          -0.4895023583656577,
          1.1124777033166462,
          0.6561082877525128,
          -0.7232758310728444,
          -0.7179877124149497,
          -0.15909059725174857,
          0.5173572513883516,
          -0.8324054453144404
         ],
         "yaxis": "y15"
        },
        {
         "histfunc": "count",
         "histnorm": "",
         "marker": {
          "color": "rgba(128, 0, 128, 1.0)",
          "line": {
           "color": "#4D5663",
           "width": 1.3
          }
         },
         "name": "D",
         "nbinsx": 10,
         "opacity": 0.8,
         "orientation": "v",
         "type": "histogram",
         "x": [
          -0.21990703525130298,
          -0.049689561602856494,
          1.874691874288394,
          -0.8344382619761017,
          -2.1306832166983183,
          0.6265371213970423,
          1.0859168659466991,
          -1.2275538443974425,
          0.1737416706348923,
          0.1313789226370697,
          0.5432733139223881,
          -0.800923101057814,
          1.069364212002665,
          -1.2550343787009426,
          -0.9693542187852816,
          1.5146823301906613,
          -1.7440520979667784,
          -0.15555580838250746,
          -0.15357426885738384,
          0.07617990754042157,
          0.10211693363053963,
          -0.4197977904468551,
          0.4204222270553229,
          0.5570848522445528,
          -0.6302479075854474,
          -1.250348020882477,
          0.23710551015546857,
          -2.0537553215504007,
          1.946339661403928,
          1.1816302165587953,
          -0.26769796940093527,
          0.61345143204849,
          0.6758589403903051,
          -0.05442261497368895,
          2.383375909628837,
          -0.5091342041146455,
          0.46046540128868396,
          1.7898196664899166,
          0.3748561083657561,
          -1.7276525793941506,
          -0.23782052527179362,
          -0.6529104499115704,
          0.7514155053440179,
          1.1140212156781235,
          0.687490792165121,
          1.084090286853055,
          -0.5278882089302872,
          1.182936057880046,
          0.2579147225302808,
          1.6464562545497536,
          -0.7844569442251179,
          0.8592546209081057,
          0.4062638854490274,
          -1.217341280649748,
          0.5117390597245324,
          0.06019083280628012,
          1.0719027571543804,
          0.7434116572998305,
          0.798271370150843,
          0.7684015298205931,
          -0.18975300662138234,
          -0.11201124865727527,
          -0.46413736223057067,
          -0.3248079756849357,
          1.0479414654529444,
          1.0859161784001026,
          0.13590614438951143,
          -0.55924119638295,
          0.20768956589560142,
          -0.9412307273537324,
          -0.42894672147291846,
          -0.2785464227741624,
          -0.11459123362472971,
          0.8827076047639845,
          -1.2565058546253465,
          -2.0131896265002966,
          -0.6340907842744344,
          0.49928120531553427,
          0.8401612251336205,
          0.4921624788130426,
          1.1954056514566311,
          -1.5175520940955796,
          0.565002151832653,
          0.280048758440951,
          1.5753732222327776,
          -0.3575503125701353,
          -0.11413093143438113,
          -0.6141278598016296,
          -0.21688702505821683,
          2.006869774143835,
          0.08708816779334472,
          0.4480157659652641,
          -0.4895023583656577,
          1.1124777033166462,
          0.6561082877525128,
          -0.7232758310728444,
          -0.7179877124149497,
          -0.15909059725174857,
          0.5173572513883516,
          -0.8324054453144404
         ],
         "xaxis": "x16",
         "yaxis": "y16"
        }
       ],
       "layout": {
        "bargap": 0.02,
        "legend": {
         "bgcolor": "#F5F6F9",
         "font": {
          "color": "#4D5663"
         }
        },
        "paper_bgcolor": "#F5F6F9",
        "plot_bgcolor": "#F5F6F9",
        "showlegend": false,
        "template": {
         "data": {
          "bar": [
           {
            "error_x": {
             "color": "#2a3f5f"
            },
            "error_y": {
             "color": "#2a3f5f"
            },
            "marker": {
             "line": {
              "color": "#E5ECF6",
              "width": 0.5
             }
            },
            "type": "bar"
           }
          ],
          "barpolar": [
           {
            "marker": {
             "line": {
              "color": "#E5ECF6",
              "width": 0.5
             }
            },
            "type": "barpolar"
           }
          ],
          "carpet": [
           {
            "aaxis": {
             "endlinecolor": "#2a3f5f",
             "gridcolor": "white",
             "linecolor": "white",
             "minorgridcolor": "white",
             "startlinecolor": "#2a3f5f"
            },
            "baxis": {
             "endlinecolor": "#2a3f5f",
             "gridcolor": "white",
             "linecolor": "white",
             "minorgridcolor": "white",
             "startlinecolor": "#2a3f5f"
            },
            "type": "carpet"
           }
          ],
          "choropleth": [
           {
            "colorbar": {
             "outlinewidth": 0,
             "ticks": ""
            },
            "type": "choropleth"
           }
          ],
          "contour": [
           {
            "colorbar": {
             "outlinewidth": 0,
             "ticks": ""
            },
            "colorscale": [
             [
              0,
              "#0d0887"
             ],
             [
              0.1111111111111111,
              "#46039f"
             ],
             [
              0.2222222222222222,
              "#7201a8"
             ],
             [
              0.3333333333333333,
              "#9c179e"
             ],
             [
              0.4444444444444444,
              "#bd3786"
             ],
             [
              0.5555555555555556,
              "#d8576b"
             ],
             [
              0.6666666666666666,
              "#ed7953"
             ],
             [
              0.7777777777777778,
              "#fb9f3a"
             ],
             [
              0.8888888888888888,
              "#fdca26"
             ],
             [
              1,
              "#f0f921"
             ]
            ],
            "type": "contour"
           }
          ],
          "contourcarpet": [
           {
            "colorbar": {
             "outlinewidth": 0,
             "ticks": ""
            },
            "type": "contourcarpet"
           }
          ],
          "heatmap": [
           {
            "colorbar": {
             "outlinewidth": 0,
             "ticks": ""
            },
            "colorscale": [
             [
              0,
              "#0d0887"
             ],
             [
              0.1111111111111111,
              "#46039f"
             ],
             [
              0.2222222222222222,
              "#7201a8"
             ],
             [
              0.3333333333333333,
              "#9c179e"
             ],
             [
              0.4444444444444444,
              "#bd3786"
             ],
             [
              0.5555555555555556,
              "#d8576b"
             ],
             [
              0.6666666666666666,
              "#ed7953"
             ],
             [
              0.7777777777777778,
              "#fb9f3a"
             ],
             [
              0.8888888888888888,
              "#fdca26"
             ],
             [
              1,
              "#f0f921"
             ]
            ],
            "type": "heatmap"
           }
          ],
          "heatmapgl": [
           {
            "colorbar": {
             "outlinewidth": 0,
             "ticks": ""
            },
            "colorscale": [
             [
              0,
              "#0d0887"
             ],
             [
              0.1111111111111111,
              "#46039f"
             ],
             [
              0.2222222222222222,
              "#7201a8"
             ],
             [
              0.3333333333333333,
              "#9c179e"
             ],
             [
              0.4444444444444444,
              "#bd3786"
             ],
             [
              0.5555555555555556,
              "#d8576b"
             ],
             [
              0.6666666666666666,
              "#ed7953"
             ],
             [
              0.7777777777777778,
              "#fb9f3a"
             ],
             [
              0.8888888888888888,
              "#fdca26"
             ],
             [
              1,
              "#f0f921"
             ]
            ],
            "type": "heatmapgl"
           }
          ],
          "histogram": [
           {
            "marker": {
             "colorbar": {
              "outlinewidth": 0,
              "ticks": ""
             }
            },
            "type": "histogram"
           }
          ],
          "histogram2d": [
           {
            "colorbar": {
             "outlinewidth": 0,
             "ticks": ""
            },
            "colorscale": [
             [
              0,
              "#0d0887"
             ],
             [
              0.1111111111111111,
              "#46039f"
             ],
             [
              0.2222222222222222,
              "#7201a8"
             ],
             [
              0.3333333333333333,
              "#9c179e"
             ],
             [
              0.4444444444444444,
              "#bd3786"
             ],
             [
              0.5555555555555556,
              "#d8576b"
             ],
             [
              0.6666666666666666,
              "#ed7953"
             ],
             [
              0.7777777777777778,
              "#fb9f3a"
             ],
             [
              0.8888888888888888,
              "#fdca26"
             ],
             [
              1,
              "#f0f921"
             ]
            ],
            "type": "histogram2d"
           }
          ],
          "histogram2dcontour": [
           {
            "colorbar": {
             "outlinewidth": 0,
             "ticks": ""
            },
            "colorscale": [
             [
              0,
              "#0d0887"
             ],
             [
              0.1111111111111111,
              "#46039f"
             ],
             [
              0.2222222222222222,
              "#7201a8"
             ],
             [
              0.3333333333333333,
              "#9c179e"
             ],
             [
              0.4444444444444444,
              "#bd3786"
             ],
             [
              0.5555555555555556,
              "#d8576b"
             ],
             [
              0.6666666666666666,
              "#ed7953"
             ],
             [
              0.7777777777777778,
              "#fb9f3a"
             ],
             [
              0.8888888888888888,
              "#fdca26"
             ],
             [
              1,
              "#f0f921"
             ]
            ],
            "type": "histogram2dcontour"
           }
          ],
          "mesh3d": [
           {
            "colorbar": {
             "outlinewidth": 0,
             "ticks": ""
            },
            "type": "mesh3d"
           }
          ],
          "parcoords": [
           {
            "line": {
             "colorbar": {
              "outlinewidth": 0,
              "ticks": ""
             }
            },
            "type": "parcoords"
           }
          ],
          "pie": [
           {
            "automargin": true,
            "type": "pie"
           }
          ],
          "scatter": [
           {
            "marker": {
             "colorbar": {
              "outlinewidth": 0,
              "ticks": ""
             }
            },
            "type": "scatter"
           }
          ],
          "scatter3d": [
           {
            "line": {
             "colorbar": {
              "outlinewidth": 0,
              "ticks": ""
             }
            },
            "marker": {
             "colorbar": {
              "outlinewidth": 0,
              "ticks": ""
             }
            },
            "type": "scatter3d"
           }
          ],
          "scattercarpet": [
           {
            "marker": {
             "colorbar": {
              "outlinewidth": 0,
              "ticks": ""
             }
            },
            "type": "scattercarpet"
           }
          ],
          "scattergeo": [
           {
            "marker": {
             "colorbar": {
              "outlinewidth": 0,
              "ticks": ""
             }
            },
            "type": "scattergeo"
           }
          ],
          "scattergl": [
           {
            "marker": {
             "colorbar": {
              "outlinewidth": 0,
              "ticks": ""
             }
            },
            "type": "scattergl"
           }
          ],
          "scattermapbox": [
           {
            "marker": {
             "colorbar": {
              "outlinewidth": 0,
              "ticks": ""
             }
            },
            "type": "scattermapbox"
           }
          ],
          "scatterpolar": [
           {
            "marker": {
             "colorbar": {
              "outlinewidth": 0,
              "ticks": ""
             }
            },
            "type": "scatterpolar"
           }
          ],
          "scatterpolargl": [
           {
            "marker": {
             "colorbar": {
              "outlinewidth": 0,
              "ticks": ""
             }
            },
            "type": "scatterpolargl"
           }
          ],
          "scatterternary": [
           {
            "marker": {
             "colorbar": {
              "outlinewidth": 0,
              "ticks": ""
             }
            },
            "type": "scatterternary"
           }
          ],
          "surface": [
           {
            "colorbar": {
             "outlinewidth": 0,
             "ticks": ""
            },
            "colorscale": [
             [
              0,
              "#0d0887"
             ],
             [
              0.1111111111111111,
              "#46039f"
             ],
             [
              0.2222222222222222,
              "#7201a8"
             ],
             [
              0.3333333333333333,
              "#9c179e"
             ],
             [
              0.4444444444444444,
              "#bd3786"
             ],
             [
              0.5555555555555556,
              "#d8576b"
             ],
             [
              0.6666666666666666,
              "#ed7953"
             ],
             [
              0.7777777777777778,
              "#fb9f3a"
             ],
             [
              0.8888888888888888,
              "#fdca26"
             ],
             [
              1,
              "#f0f921"
             ]
            ],
            "type": "surface"
           }
          ],
          "table": [
           {
            "cells": {
             "fill": {
              "color": "#EBF0F8"
             },
             "line": {
              "color": "white"
             }
            },
            "header": {
             "fill": {
              "color": "#C8D4E3"
             },
             "line": {
              "color": "white"
             }
            },
            "type": "table"
           }
          ]
         },
         "layout": {
          "annotationdefaults": {
           "arrowcolor": "#2a3f5f",
           "arrowhead": 0,
           "arrowwidth": 1
          },
          "coloraxis": {
           "colorbar": {
            "outlinewidth": 0,
            "ticks": ""
           }
          },
          "colorscale": {
           "diverging": [
            [
             0,
             "#8e0152"
            ],
            [
             0.1,
             "#c51b7d"
            ],
            [
             0.2,
             "#de77ae"
            ],
            [
             0.3,
             "#f1b6da"
            ],
            [
             0.4,
             "#fde0ef"
            ],
            [
             0.5,
             "#f7f7f7"
            ],
            [
             0.6,
             "#e6f5d0"
            ],
            [
             0.7,
             "#b8e186"
            ],
            [
             0.8,
             "#7fbc41"
            ],
            [
             0.9,
             "#4d9221"
            ],
            [
             1,
             "#276419"
            ]
           ],
           "sequential": [
            [
             0,
             "#0d0887"
            ],
            [
             0.1111111111111111,
             "#46039f"
            ],
            [
             0.2222222222222222,
             "#7201a8"
            ],
            [
             0.3333333333333333,
             "#9c179e"
            ],
            [
             0.4444444444444444,
             "#bd3786"
            ],
            [
             0.5555555555555556,
             "#d8576b"
            ],
            [
             0.6666666666666666,
             "#ed7953"
            ],
            [
             0.7777777777777778,
             "#fb9f3a"
            ],
            [
             0.8888888888888888,
             "#fdca26"
            ],
            [
             1,
             "#f0f921"
            ]
           ],
           "sequentialminus": [
            [
             0,
             "#0d0887"
            ],
            [
             0.1111111111111111,
             "#46039f"
            ],
            [
             0.2222222222222222,
             "#7201a8"
            ],
            [
             0.3333333333333333,
             "#9c179e"
            ],
            [
             0.4444444444444444,
             "#bd3786"
            ],
            [
             0.5555555555555556,
             "#d8576b"
            ],
            [
             0.6666666666666666,
             "#ed7953"
            ],
            [
             0.7777777777777778,
             "#fb9f3a"
            ],
            [
             0.8888888888888888,
             "#fdca26"
            ],
            [
             1,
             "#f0f921"
            ]
           ]
          },
          "colorway": [
           "#636efa",
           "#EF553B",
           "#00cc96",
           "#ab63fa",
           "#FFA15A",
           "#19d3f3",
           "#FF6692",
           "#B6E880",
           "#FF97FF",
           "#FECB52"
          ],
          "font": {
           "color": "#2a3f5f"
          },
          "geo": {
           "bgcolor": "white",
           "lakecolor": "white",
           "landcolor": "#E5ECF6",
           "showlakes": true,
           "showland": true,
           "subunitcolor": "white"
          },
          "hoverlabel": {
           "align": "left"
          },
          "hovermode": "closest",
          "mapbox": {
           "style": "light"
          },
          "paper_bgcolor": "white",
          "plot_bgcolor": "#E5ECF6",
          "polar": {
           "angularaxis": {
            "gridcolor": "white",
            "linecolor": "white",
            "ticks": ""
           },
           "bgcolor": "#E5ECF6",
           "radialaxis": {
            "gridcolor": "white",
            "linecolor": "white",
            "ticks": ""
           }
          },
          "scene": {
           "xaxis": {
            "backgroundcolor": "#E5ECF6",
            "gridcolor": "white",
            "gridwidth": 2,
            "linecolor": "white",
            "showbackground": true,
            "ticks": "",
            "zerolinecolor": "white"
           },
           "yaxis": {
            "backgroundcolor": "#E5ECF6",
            "gridcolor": "white",
            "gridwidth": 2,
            "linecolor": "white",
            "showbackground": true,
            "ticks": "",
            "zerolinecolor": "white"
           },
           "zaxis": {
            "backgroundcolor": "#E5ECF6",
            "gridcolor": "white",
            "gridwidth": 2,
            "linecolor": "white",
            "showbackground": true,
            "ticks": "",
            "zerolinecolor": "white"
           }
          },
          "shapedefaults": {
           "line": {
            "color": "#2a3f5f"
           }
          },
          "ternary": {
           "aaxis": {
            "gridcolor": "white",
            "linecolor": "white",
            "ticks": ""
           },
           "baxis": {
            "gridcolor": "white",
            "linecolor": "white",
            "ticks": ""
           },
           "bgcolor": "#E5ECF6",
           "caxis": {
            "gridcolor": "white",
            "linecolor": "white",
            "ticks": ""
           }
          },
          "title": {
           "x": 0.05
          },
          "xaxis": {
           "automargin": true,
           "gridcolor": "white",
           "linecolor": "white",
           "ticks": "",
           "title": {
            "standoff": 15
           },
           "zerolinecolor": "white",
           "zerolinewidth": 2
          },
          "yaxis": {
           "automargin": true,
           "gridcolor": "white",
           "linecolor": "white",
           "ticks": "",
           "title": {
            "standoff": 15
           },
           "zerolinecolor": "white",
           "zerolinewidth": 2
          }
         }
        },
        "title": {
         "font": {
          "color": "#4D5663"
         }
        },
        "xaxis": {
         "anchor": "y",
         "domain": [
          0,
          0.2125
         ],
         "gridcolor": "#E1E5ED",
         "showgrid": false,
         "tickfont": {
          "color": "#4D5663"
         },
         "title": {
          "font": {
           "color": "#4D5663"
          },
          "text": ""
         },
         "zerolinecolor": "#E1E5ED"
        },
        "xaxis10": {
         "anchor": "y10",
         "domain": [
          0.2625,
          0.475
         ],
         "gridcolor": "#E1E5ED",
         "showgrid": false,
         "tickfont": {
          "color": "#4D5663"
         },
         "title": {
          "font": {
           "color": "#4D5663"
          },
          "text": ""
         },
         "zerolinecolor": "#E1E5ED"
        },
        "xaxis11": {
         "anchor": "y11",
         "domain": [
          0.525,
          0.7375
         ],
         "gridcolor": "#E1E5ED",
         "showgrid": false,
         "tickfont": {
          "color": "#4D5663"
         },
         "title": {
          "font": {
           "color": "#4D5663"
          },
          "text": ""
         },
         "zerolinecolor": "#E1E5ED"
        },
        "xaxis12": {
         "anchor": "y12",
         "domain": [
          0.7875,
          1
         ],
         "gridcolor": "#E1E5ED",
         "showgrid": false,
         "tickfont": {
          "color": "#4D5663"
         },
         "title": {
          "font": {
           "color": "#4D5663"
          },
          "text": ""
         },
         "zerolinecolor": "#E1E5ED"
        },
        "xaxis13": {
         "anchor": "y13",
         "domain": [
          0,
          0.2125
         ],
         "gridcolor": "#E1E5ED",
         "showgrid": false,
         "tickfont": {
          "color": "#4D5663"
         },
         "title": {
          "font": {
           "color": "#4D5663"
          },
          "text": ""
         },
         "zerolinecolor": "#E1E5ED"
        },
        "xaxis14": {
         "anchor": "y14",
         "domain": [
          0.2625,
          0.475
         ],
         "gridcolor": "#E1E5ED",
         "showgrid": false,
         "tickfont": {
          "color": "#4D5663"
         },
         "title": {
          "font": {
           "color": "#4D5663"
          },
          "text": ""
         },
         "zerolinecolor": "#E1E5ED"
        },
        "xaxis15": {
         "anchor": "y15",
         "domain": [
          0.525,
          0.7375
         ],
         "gridcolor": "#E1E5ED",
         "showgrid": false,
         "tickfont": {
          "color": "#4D5663"
         },
         "title": {
          "font": {
           "color": "#4D5663"
          },
          "text": ""
         },
         "zerolinecolor": "#E1E5ED"
        },
        "xaxis16": {
         "anchor": "y16",
         "domain": [
          0.7875,
          1
         ],
         "gridcolor": "#E1E5ED",
         "showgrid": false,
         "tickfont": {
          "color": "#4D5663"
         },
         "title": {
          "font": {
           "color": "#4D5663"
          },
          "text": ""
         },
         "zerolinecolor": "#E1E5ED"
        },
        "xaxis2": {
         "anchor": "y2",
         "domain": [
          0.2625,
          0.475
         ],
         "gridcolor": "#E1E5ED",
         "showgrid": false,
         "tickfont": {
          "color": "#4D5663"
         },
         "title": {
          "font": {
           "color": "#4D5663"
          },
          "text": ""
         },
         "zerolinecolor": "#E1E5ED"
        },
        "xaxis3": {
         "anchor": "y3",
         "domain": [
          0.525,
          0.7375
         ],
         "gridcolor": "#E1E5ED",
         "showgrid": false,
         "tickfont": {
          "color": "#4D5663"
         },
         "title": {
          "font": {
           "color": "#4D5663"
          },
          "text": ""
         },
         "zerolinecolor": "#E1E5ED"
        },
        "xaxis4": {
         "anchor": "y4",
         "domain": [
          0.7875,
          1
         ],
         "gridcolor": "#E1E5ED",
         "showgrid": false,
         "tickfont": {
          "color": "#4D5663"
         },
         "title": {
          "font": {
           "color": "#4D5663"
          },
          "text": ""
         },
         "zerolinecolor": "#E1E5ED"
        },
        "xaxis5": {
         "anchor": "y5",
         "domain": [
          0,
          0.2125
         ],
         "gridcolor": "#E1E5ED",
         "showgrid": false,
         "tickfont": {
          "color": "#4D5663"
         },
         "title": {
          "font": {
           "color": "#4D5663"
          },
          "text": ""
         },
         "zerolinecolor": "#E1E5ED"
        },
        "xaxis6": {
         "anchor": "y6",
         "domain": [
          0.2625,
          0.475
         ],
         "gridcolor": "#E1E5ED",
         "showgrid": false,
         "tickfont": {
          "color": "#4D5663"
         },
         "title": {
          "font": {
           "color": "#4D5663"
          },
          "text": ""
         },
         "zerolinecolor": "#E1E5ED"
        },
        "xaxis7": {
         "anchor": "y7",
         "domain": [
          0.525,
          0.7375
         ],
         "gridcolor": "#E1E5ED",
         "showgrid": false,
         "tickfont": {
          "color": "#4D5663"
         },
         "title": {
          "font": {
           "color": "#4D5663"
          },
          "text": ""
         },
         "zerolinecolor": "#E1E5ED"
        },
        "xaxis8": {
         "anchor": "y8",
         "domain": [
          0.7875,
          1
         ],
         "gridcolor": "#E1E5ED",
         "showgrid": false,
         "tickfont": {
          "color": "#4D5663"
         },
         "title": {
          "font": {
           "color": "#4D5663"
          },
          "text": ""
         },
         "zerolinecolor": "#E1E5ED"
        },
        "xaxis9": {
         "anchor": "y9",
         "domain": [
          0,
          0.2125
         ],
         "gridcolor": "#E1E5ED",
         "showgrid": false,
         "tickfont": {
          "color": "#4D5663"
         },
         "title": {
          "font": {
           "color": "#4D5663"
          },
          "text": ""
         },
         "zerolinecolor": "#E1E5ED"
        },
        "yaxis": {
         "anchor": "x",
         "domain": [
          0.8025,
          1
         ],
         "gridcolor": "#E1E5ED",
         "showgrid": false,
         "tickfont": {
          "color": "#4D5663"
         },
         "title": {
          "font": {
           "color": "#4D5663"
          },
          "text": ""
         },
         "zerolinecolor": "#E1E5ED"
        },
        "yaxis10": {
         "anchor": "x10",
         "domain": [
          0.2675,
          0.465
         ],
         "gridcolor": "#E1E5ED",
         "showgrid": false,
         "tickfont": {
          "color": "#4D5663"
         },
         "title": {
          "font": {
           "color": "#4D5663"
          },
          "text": ""
         },
         "zerolinecolor": "#E1E5ED"
        },
        "yaxis11": {
         "anchor": "x11",
         "domain": [
          0.2675,
          0.465
         ],
         "gridcolor": "#E1E5ED",
         "showgrid": false,
         "tickfont": {
          "color": "#4D5663"
         },
         "title": {
          "font": {
           "color": "#4D5663"
          },
          "text": ""
         },
         "zerolinecolor": "#E1E5ED"
        },
        "yaxis12": {
         "anchor": "x12",
         "domain": [
          0.2675,
          0.465
         ],
         "gridcolor": "#E1E5ED",
         "showgrid": false,
         "tickfont": {
          "color": "#4D5663"
         },
         "title": {
          "font": {
           "color": "#4D5663"
          },
          "text": ""
         },
         "zerolinecolor": "#E1E5ED"
        },
        "yaxis13": {
         "anchor": "x13",
         "domain": [
          0,
          0.1975
         ],
         "gridcolor": "#E1E5ED",
         "showgrid": false,
         "tickfont": {
          "color": "#4D5663"
         },
         "title": {
          "font": {
           "color": "#4D5663"
          },
          "text": ""
         },
         "zerolinecolor": "#E1E5ED"
        },
        "yaxis14": {
         "anchor": "x14",
         "domain": [
          0,
          0.1975
         ],
         "gridcolor": "#E1E5ED",
         "showgrid": false,
         "tickfont": {
          "color": "#4D5663"
         },
         "title": {
          "font": {
           "color": "#4D5663"
          },
          "text": ""
         },
         "zerolinecolor": "#E1E5ED"
        },
        "yaxis15": {
         "anchor": "x15",
         "domain": [
          0,
          0.1975
         ],
         "gridcolor": "#E1E5ED",
         "showgrid": false,
         "tickfont": {
          "color": "#4D5663"
         },
         "title": {
          "font": {
           "color": "#4D5663"
          },
          "text": ""
         },
         "zerolinecolor": "#E1E5ED"
        },
        "yaxis16": {
         "anchor": "x16",
         "domain": [
          0,
          0.1975
         ],
         "gridcolor": "#E1E5ED",
         "showgrid": false,
         "tickfont": {
          "color": "#4D5663"
         },
         "title": {
          "font": {
           "color": "#4D5663"
          },
          "text": ""
         },
         "zerolinecolor": "#E1E5ED"
        },
        "yaxis2": {
         "anchor": "x2",
         "domain": [
          0.8025,
          1
         ],
         "gridcolor": "#E1E5ED",
         "showgrid": false,
         "tickfont": {
          "color": "#4D5663"
         },
         "title": {
          "font": {
           "color": "#4D5663"
          },
          "text": ""
         },
         "zerolinecolor": "#E1E5ED"
        },
        "yaxis3": {
         "anchor": "x3",
         "domain": [
          0.8025,
          1
         ],
         "gridcolor": "#E1E5ED",
         "showgrid": false,
         "tickfont": {
          "color": "#4D5663"
         },
         "title": {
          "font": {
           "color": "#4D5663"
          },
          "text": ""
         },
         "zerolinecolor": "#E1E5ED"
        },
        "yaxis4": {
         "anchor": "x4",
         "domain": [
          0.8025,
          1
         ],
         "gridcolor": "#E1E5ED",
         "showgrid": false,
         "tickfont": {
          "color": "#4D5663"
         },
         "title": {
          "font": {
           "color": "#4D5663"
          },
          "text": ""
         },
         "zerolinecolor": "#E1E5ED"
        },
        "yaxis5": {
         "anchor": "x5",
         "domain": [
          0.535,
          0.7325
         ],
         "gridcolor": "#E1E5ED",
         "showgrid": false,
         "tickfont": {
          "color": "#4D5663"
         },
         "title": {
          "font": {
           "color": "#4D5663"
          },
          "text": ""
         },
         "zerolinecolor": "#E1E5ED"
        },
        "yaxis6": {
         "anchor": "x6",
         "domain": [
          0.535,
          0.7325
         ],
         "gridcolor": "#E1E5ED",
         "showgrid": false,
         "tickfont": {
          "color": "#4D5663"
         },
         "title": {
          "font": {
           "color": "#4D5663"
          },
          "text": ""
         },
         "zerolinecolor": "#E1E5ED"
        },
        "yaxis7": {
         "anchor": "x7",
         "domain": [
          0.535,
          0.7325
         ],
         "gridcolor": "#E1E5ED",
         "showgrid": false,
         "tickfont": {
          "color": "#4D5663"
         },
         "title": {
          "font": {
           "color": "#4D5663"
          },
          "text": ""
         },
         "zerolinecolor": "#E1E5ED"
        },
        "yaxis8": {
         "anchor": "x8",
         "domain": [
          0.535,
          0.7325
         ],
         "gridcolor": "#E1E5ED",
         "showgrid": false,
         "tickfont": {
          "color": "#4D5663"
         },
         "title": {
          "font": {
           "color": "#4D5663"
          },
          "text": ""
         },
         "zerolinecolor": "#E1E5ED"
        },
        "yaxis9": {
         "anchor": "x9",
         "domain": [
          0.2675,
          0.465
         ],
         "gridcolor": "#E1E5ED",
         "showgrid": false,
         "tickfont": {
          "color": "#4D5663"
         },
         "title": {
          "font": {
           "color": "#4D5663"
          },
          "text": ""
         },
         "zerolinecolor": "#E1E5ED"
        }
       }
      },
      "text/html": [
       "<div>\n",
       "        \n",
       "        \n",
       "            <div id=\"e5c85abd-3b7e-4b36-b327-6df0981c292f\" class=\"plotly-graph-div\" style=\"height:525px; width:100%;\"></div>\n",
       "            <script type=\"text/javascript\">\n",
       "                require([\"plotly\"], function(Plotly) {\n",
       "                    window.PLOTLYENV=window.PLOTLYENV || {};\n",
       "                    window.PLOTLYENV.BASE_URL='https://plot.ly';\n",
       "                    \n",
       "                if (document.getElementById(\"e5c85abd-3b7e-4b36-b327-6df0981c292f\")) {\n",
       "                    Plotly.newPlot(\n",
       "                        'e5c85abd-3b7e-4b36-b327-6df0981c292f',\n",
       "                        [{\"histfunc\": \"count\", \"histnorm\": \"\", \"marker\": {\"color\": \"rgba(255, 153, 51, 1.0)\", \"line\": {\"color\": \"#4D5663\", \"width\": 1.3}}, \"name\": \"A\", \"nbinsx\": 10, \"opacity\": 0.8, \"orientation\": \"v\", \"type\": \"histogram\", \"x\": [0.8154349543945048, 1.6452615952148095, 1.4537812287057956, 0.10104178737084112, 0.5656271670462576, -0.25532938206558614, -0.4325104653515167, 1.410127965092189, 1.1470488251728317, 0.657072548948607, 0.03982381590751122, -0.21945492705686911, -0.42813566220156773, 0.06912887060307056, 0.48019535501818067, 0.7335677864552974, 1.0413248888755484, -0.5834104170250821, 1.4848271676888816, 0.7826869752115855, -0.39749806587397724, -0.4027652996072739, 0.11747667683869219, 1.238907705657658, 1.0712834977929915, -1.7600443375466999, -1.3937101578182822, -1.3249680614763732, -1.0077691729223197, -0.7584747658795038, 0.5724593892766379, 1.5492788163962405, -1.0910998243990073, 1.4290362767631684, -3.01125804668789, -0.2356489680791908, -0.3116139523330637, -0.9183548126980127, 0.7923927375118476, -1.5804414859407747, 0.7733345351849514, -1.6465243274195123, 0.27138733583592134, -0.19599767388768868, 0.08106265270112785, 0.06469965591392358, -0.43539719559085543, 1.5156592705706176, 0.38031968497822216, -1.5324652462793011, -1.3962548417854277, -1.4663549169819599, 1.9896722879077047, -0.7717337568947867, -1.13236110225189, -1.983359999513528, 1.2842340509586827, -2.0291627701880537, -0.48903035521972266, -0.5663571786022973, -1.4787610440318093, -1.3673892416503333, 0.27523611036305795, 0.3501442071324475, 1.235531610348585, 0.1314814665497779, 0.07079226273988824, 0.6346690086353665, 1.6029044452742762, 0.7958708765295324, -0.25947577521444265, 0.5375822712081678, 0.2677775263639807, 1.2943918451644172, -1.6438371037085036, 0.37032225334665586, 0.6780896656500484, -1.1068649644088242, 0.4849669680836155, -0.7702270297591995, -0.1956237096802853, -0.409540567007104, 0.9543777747548079, 0.0715623984057711, 0.4120689159764619, -0.9477583953020565, -1.2988864592853377, 2.134583178546349, 0.6607329716768912, 0.5860135769330493, -0.30059906687024285, 0.10162323095318798, 0.8690560540307614, -1.469999613146916, -0.8016006773462353, 0.7391997728218646, -0.29700677585812657, 0.3977489712256264, 1.308580860583779, 0.8677685903326755], \"xaxis\": \"x\", \"yaxis\": \"y\"}, {\"line\": {\"color\": \"rgba(128, 128, 128, 1.0)\", \"dash\": \"solid\", \"shape\": \"linear\", \"width\": 1.3}, \"marker\": {\"size\": 2, \"symbol\": \"circle\"}, \"mode\": \"markers\", \"name\": \"A\", \"text\": \"\", \"type\": \"scatter\", \"x\": [-0.6808447835617709, 0.6086340681502943, 1.7294677222632684, 1.4829871712031955, 1.1980976114694604, 1.0795709221769332, -2.047286648226565, -1.515872438409646, 0.11471042412393548, 0.019125214933381172, -0.29828557402151373, 0.6678947909266109, 0.5106155584983674, 0.7647578163776658, 1.8476202168111207, 1.565461666184497, 0.2644348097255944, -0.15408202979369123, -2.618397980162209, 1.1561649742011062, -0.10410162246810392, -1.1033110243512538, -0.27424587213996177, 0.08080606289820692, -1.0284610964640115, 1.150848640078469, -0.25638096017062206, -1.3452740294819456, -0.8726175451755096, -0.2579052619972397, -0.7474841473560414, 0.8216094650234528, -0.4691579203738452, -1.0209429509692105, -0.40491326209742795, 1.2208179000282928, 0.5494620131503947, -0.7068872181482015, -0.3339529855897427, -0.35773835515151436, 0.30747456293859887, -1.7462557392925255, -2.3433306042719826, -0.5574714680621268, 0.7125922057087234, 0.709555785308249, 1.5876508083553502, -1.0557115951468214, 0.42056797157878995, -1.6991616216509176, 0.7039003209473632, 0.14454012533595098, 1.352757377147084, -0.6035879623453446, 0.7274800691249542, -0.8983221928954063, 0.7011998235137612, -1.0469207731767092, -0.21650716957079683, -0.2288275245869777, 0.9993381258043659, -1.2311548841515694, -0.5274804076228069, -0.6877047486831002, 0.20934430042105764, 1.2564779849253123, 0.3294673953075221, 1.255900250776616, -0.5193008892325174, -0.06741165979455997, -1.0834021867660262, 1.1335311403921011, 0.7801861037662863, -0.2996263227805359, 0.7451519159275286, -0.8027114457470523, 1.2942954747888622, -0.2632261742274699, 1.5242870545704912, -0.9063535187405944, 0.07134433670959506, -0.4579896341837586, 0.7652378935287566, -1.3013707444167233, 0.9578139607872342, -0.43515395155639264, 0.44700821446023037, 0.3154919434012009, -1.3843643663770469, -0.3963047121461804, -1.1195850187543466, -0.6162495255049156, -0.16047808659235244, -0.35823082603392176, -2.83004813388019, 0.39142399755480306, 0.744533277886588, 1.4980898982513313, -0.619242852250382, -0.4117319533653246], \"xaxis\": \"x2\", \"y\": [0.8154349543945048, 1.6452615952148095, 1.4537812287057956, 0.10104178737084112, 0.5656271670462576, -0.25532938206558614, -0.4325104653515167, 1.410127965092189, 1.1470488251728317, 0.657072548948607, 0.03982381590751122, -0.21945492705686911, -0.42813566220156773, 0.06912887060307056, 0.48019535501818067, 0.7335677864552974, 1.0413248888755484, -0.5834104170250821, 1.4848271676888816, 0.7826869752115855, -0.39749806587397724, -0.4027652996072739, 0.11747667683869219, 1.238907705657658, 1.0712834977929915, -1.7600443375466999, -1.3937101578182822, -1.3249680614763732, -1.0077691729223197, -0.7584747658795038, 0.5724593892766379, 1.5492788163962405, -1.0910998243990073, 1.4290362767631684, -3.01125804668789, -0.2356489680791908, -0.3116139523330637, -0.9183548126980127, 0.7923927375118476, -1.5804414859407747, 0.7733345351849514, -1.6465243274195123, 0.27138733583592134, -0.19599767388768868, 0.08106265270112785, 0.06469965591392358, -0.43539719559085543, 1.5156592705706176, 0.38031968497822216, -1.5324652462793011, -1.3962548417854277, -1.4663549169819599, 1.9896722879077047, -0.7717337568947867, -1.13236110225189, -1.983359999513528, 1.2842340509586827, -2.0291627701880537, -0.48903035521972266, -0.5663571786022973, -1.4787610440318093, -1.3673892416503333, 0.27523611036305795, 0.3501442071324475, 1.235531610348585, 0.1314814665497779, 0.07079226273988824, 0.6346690086353665, 1.6029044452742762, 0.7958708765295324, -0.25947577521444265, 0.5375822712081678, 0.2677775263639807, 1.2943918451644172, -1.6438371037085036, 0.37032225334665586, 0.6780896656500484, -1.1068649644088242, 0.4849669680836155, -0.7702270297591995, -0.1956237096802853, -0.409540567007104, 0.9543777747548079, 0.0715623984057711, 0.4120689159764619, -0.9477583953020565, -1.2988864592853377, 2.134583178546349, 0.6607329716768912, 0.5860135769330493, -0.30059906687024285, 0.10162323095318798, 0.8690560540307614, -1.469999613146916, -0.8016006773462353, 0.7391997728218646, -0.29700677585812657, 0.3977489712256264, 1.308580860583779, 0.8677685903326755], \"yaxis\": \"y2\"}, {\"line\": {\"color\": \"rgba(128, 128, 128, 1.0)\", \"dash\": \"solid\", \"shape\": \"linear\", \"width\": 1.3}, \"marker\": {\"size\": 2, \"symbol\": \"circle\"}, \"mode\": \"markers\", \"name\": \"A\", \"text\": \"\", \"type\": \"scatter\", \"x\": [-0.19861040847960834, 0.6155622946641103, 1.2872901796916114, 1.4194891172392805, -0.9859017008147671, 0.9245224391726357, 0.6463775059900948, 1.5915671964891147, -0.8977442526038514, 0.9162690220696864, -1.2521648339035634, 0.17108313665856179, -0.8225154247380878, -1.3112593486999171, 0.7407250362390038, 1.4740674690844737, -0.6601150729713889, -0.5578375755191152, -2.1894702900780914, -0.588340431559108, 1.514080440819475, -0.7299235556020048, 0.41897279644500285, -3.4084687990672915, 0.12727543916222567, -0.30773577811794056, 1.0052274973580921, 0.1853485649185546, 0.8988088568141913, -1.1330796491736908, 0.24930224008192384, 0.26609211962146323, 0.7695454139743126, -1.1300590707791835, 0.7650521647342426, -0.24174666204703957, 0.6104774399030497, 1.1039589289977767, 0.20104749596089153, 2.054039108948895, 0.8926354968530256, -0.41355757538879107, 0.08564518468261126, -0.2950978199383714, -0.7073112898905407, -0.35243625691127667, 1.7315352966871789, -0.9251727112524073, -0.14719555622013525, 0.19692953751524125, -1.0681233122552802, 2.070898531533443, 0.5453168572689424, -0.6950352852157083, -0.29259859968830276, -0.333780746340659, 0.5769664028050115, 0.00610747840937299, -0.45505224721921106, 2.1290402969245963, 0.15264552768300563, -0.7143525324642657, 0.3462035753217853, 1.0780227242980152, 2.5649793844775965, 2.0366816733076836, -0.6846342066191933, 0.5343446687775403, 0.615899513547256, 0.9577088956877992, -1.3651264794867468, 0.15631349576486503, -0.9409451543534072, 3.154338073243348, 0.5460296499385444, -0.41687285713806893, -1.3511518821052952, 0.6911227385777586, -0.2992722490310666, 0.09222282804187809, -0.688639694569738, -1.3827311601637085, -0.2901630234637458, 0.4091294128999816, 0.27148182322355857, 0.9898224108699564, -0.04499371876859188, 0.6395090823330405, -1.5924084318925336, -1.4390899668003918, 1.3056851024901948, 0.16097649357923066, 0.7862643341566637, -1.277541998099019, -0.2692318108956053, -0.39034214588907107, -0.9913478404671141, -0.9422513414974476, -0.3527559925160878, 0.7946425075358607], \"xaxis\": \"x3\", \"y\": [0.8154349543945048, 1.6452615952148095, 1.4537812287057956, 0.10104178737084112, 0.5656271670462576, -0.25532938206558614, -0.4325104653515167, 1.410127965092189, 1.1470488251728317, 0.657072548948607, 0.03982381590751122, -0.21945492705686911, -0.42813566220156773, 0.06912887060307056, 0.48019535501818067, 0.7335677864552974, 1.0413248888755484, -0.5834104170250821, 1.4848271676888816, 0.7826869752115855, -0.39749806587397724, -0.4027652996072739, 0.11747667683869219, 1.238907705657658, 1.0712834977929915, -1.7600443375466999, -1.3937101578182822, -1.3249680614763732, -1.0077691729223197, -0.7584747658795038, 0.5724593892766379, 1.5492788163962405, -1.0910998243990073, 1.4290362767631684, -3.01125804668789, -0.2356489680791908, -0.3116139523330637, -0.9183548126980127, 0.7923927375118476, -1.5804414859407747, 0.7733345351849514, -1.6465243274195123, 0.27138733583592134, -0.19599767388768868, 0.08106265270112785, 0.06469965591392358, -0.43539719559085543, 1.5156592705706176, 0.38031968497822216, -1.5324652462793011, -1.3962548417854277, -1.4663549169819599, 1.9896722879077047, -0.7717337568947867, -1.13236110225189, -1.983359999513528, 1.2842340509586827, -2.0291627701880537, -0.48903035521972266, -0.5663571786022973, -1.4787610440318093, -1.3673892416503333, 0.27523611036305795, 0.3501442071324475, 1.235531610348585, 0.1314814665497779, 0.07079226273988824, 0.6346690086353665, 1.6029044452742762, 0.7958708765295324, -0.25947577521444265, 0.5375822712081678, 0.2677775263639807, 1.2943918451644172, -1.6438371037085036, 0.37032225334665586, 0.6780896656500484, -1.1068649644088242, 0.4849669680836155, -0.7702270297591995, -0.1956237096802853, -0.409540567007104, 0.9543777747548079, 0.0715623984057711, 0.4120689159764619, -0.9477583953020565, -1.2988864592853377, 2.134583178546349, 0.6607329716768912, 0.5860135769330493, -0.30059906687024285, 0.10162323095318798, 0.8690560540307614, -1.469999613146916, -0.8016006773462353, 0.7391997728218646, -0.29700677585812657, 0.3977489712256264, 1.308580860583779, 0.8677685903326755], \"yaxis\": \"y3\"}, {\"line\": {\"color\": \"rgba(128, 128, 128, 1.0)\", \"dash\": \"solid\", \"shape\": \"linear\", \"width\": 1.3}, \"marker\": {\"size\": 2, \"symbol\": \"circle\"}, \"mode\": \"markers\", \"name\": \"A\", \"text\": \"\", \"type\": \"scatter\", \"x\": [-0.21990703525130298, -0.049689561602856494, 1.874691874288394, -0.8344382619761017, -2.1306832166983183, 0.6265371213970423, 1.0859168659466991, -1.2275538443974425, 0.1737416706348923, 0.1313789226370697, 0.5432733139223881, -0.800923101057814, 1.069364212002665, -1.2550343787009426, -0.9693542187852816, 1.5146823301906613, -1.7440520979667784, -0.15555580838250746, -0.15357426885738384, 0.07617990754042157, 0.10211693363053963, -0.4197977904468551, 0.4204222270553229, 0.5570848522445528, -0.6302479075854474, -1.250348020882477, 0.23710551015546857, -2.0537553215504007, 1.946339661403928, 1.1816302165587953, -0.26769796940093527, 0.61345143204849, 0.6758589403903051, -0.05442261497368895, 2.383375909628837, -0.5091342041146455, 0.46046540128868396, 1.7898196664899166, 0.3748561083657561, -1.7276525793941506, -0.23782052527179362, -0.6529104499115704, 0.7514155053440179, 1.1140212156781235, 0.687490792165121, 1.084090286853055, -0.5278882089302872, 1.182936057880046, 0.2579147225302808, 1.6464562545497536, -0.7844569442251179, 0.8592546209081057, 0.4062638854490274, -1.217341280649748, 0.5117390597245324, 0.06019083280628012, 1.0719027571543804, 0.7434116572998305, 0.798271370150843, 0.7684015298205931, -0.18975300662138234, -0.11201124865727527, -0.46413736223057067, -0.3248079756849357, 1.0479414654529444, 1.0859161784001026, 0.13590614438951143, -0.55924119638295, 0.20768956589560142, -0.9412307273537324, -0.42894672147291846, -0.2785464227741624, -0.11459123362472971, 0.8827076047639845, -1.2565058546253465, -2.0131896265002966, -0.6340907842744344, 0.49928120531553427, 0.8401612251336205, 0.4921624788130426, 1.1954056514566311, -1.5175520940955796, 0.565002151832653, 0.280048758440951, 1.5753732222327776, -0.3575503125701353, -0.11413093143438113, -0.6141278598016296, -0.21688702505821683, 2.006869774143835, 0.08708816779334472, 0.4480157659652641, -0.4895023583656577, 1.1124777033166462, 0.6561082877525128, -0.7232758310728444, -0.7179877124149497, -0.15909059725174857, 0.5173572513883516, -0.8324054453144404], \"xaxis\": \"x4\", \"y\": [0.8154349543945048, 1.6452615952148095, 1.4537812287057956, 0.10104178737084112, 0.5656271670462576, -0.25532938206558614, -0.4325104653515167, 1.410127965092189, 1.1470488251728317, 0.657072548948607, 0.03982381590751122, -0.21945492705686911, -0.42813566220156773, 0.06912887060307056, 0.48019535501818067, 0.7335677864552974, 1.0413248888755484, -0.5834104170250821, 1.4848271676888816, 0.7826869752115855, -0.39749806587397724, -0.4027652996072739, 0.11747667683869219, 1.238907705657658, 1.0712834977929915, -1.7600443375466999, -1.3937101578182822, -1.3249680614763732, -1.0077691729223197, -0.7584747658795038, 0.5724593892766379, 1.5492788163962405, -1.0910998243990073, 1.4290362767631684, -3.01125804668789, -0.2356489680791908, -0.3116139523330637, -0.9183548126980127, 0.7923927375118476, -1.5804414859407747, 0.7733345351849514, -1.6465243274195123, 0.27138733583592134, -0.19599767388768868, 0.08106265270112785, 0.06469965591392358, -0.43539719559085543, 1.5156592705706176, 0.38031968497822216, -1.5324652462793011, -1.3962548417854277, -1.4663549169819599, 1.9896722879077047, -0.7717337568947867, -1.13236110225189, -1.983359999513528, 1.2842340509586827, -2.0291627701880537, -0.48903035521972266, -0.5663571786022973, -1.4787610440318093, -1.3673892416503333, 0.27523611036305795, 0.3501442071324475, 1.235531610348585, 0.1314814665497779, 0.07079226273988824, 0.6346690086353665, 1.6029044452742762, 0.7958708765295324, -0.25947577521444265, 0.5375822712081678, 0.2677775263639807, 1.2943918451644172, -1.6438371037085036, 0.37032225334665586, 0.6780896656500484, -1.1068649644088242, 0.4849669680836155, -0.7702270297591995, -0.1956237096802853, -0.409540567007104, 0.9543777747548079, 0.0715623984057711, 0.4120689159764619, -0.9477583953020565, -1.2988864592853377, 2.134583178546349, 0.6607329716768912, 0.5860135769330493, -0.30059906687024285, 0.10162323095318798, 0.8690560540307614, -1.469999613146916, -0.8016006773462353, 0.7391997728218646, -0.29700677585812657, 0.3977489712256264, 1.308580860583779, 0.8677685903326755], \"yaxis\": \"y4\"}, {\"line\": {\"color\": \"rgba(128, 128, 128, 1.0)\", \"dash\": \"solid\", \"shape\": \"linear\", \"width\": 1.3}, \"marker\": {\"size\": 2, \"symbol\": \"circle\"}, \"mode\": \"markers\", \"name\": \"B\", \"text\": \"\", \"type\": \"scatter\", \"x\": [0.8154349543945048, 1.6452615952148095, 1.4537812287057956, 0.10104178737084112, 0.5656271670462576, -0.25532938206558614, -0.4325104653515167, 1.410127965092189, 1.1470488251728317, 0.657072548948607, 0.03982381590751122, -0.21945492705686911, -0.42813566220156773, 0.06912887060307056, 0.48019535501818067, 0.7335677864552974, 1.0413248888755484, -0.5834104170250821, 1.4848271676888816, 0.7826869752115855, -0.39749806587397724, -0.4027652996072739, 0.11747667683869219, 1.238907705657658, 1.0712834977929915, -1.7600443375466999, -1.3937101578182822, -1.3249680614763732, -1.0077691729223197, -0.7584747658795038, 0.5724593892766379, 1.5492788163962405, -1.0910998243990073, 1.4290362767631684, -3.01125804668789, -0.2356489680791908, -0.3116139523330637, -0.9183548126980127, 0.7923927375118476, -1.5804414859407747, 0.7733345351849514, -1.6465243274195123, 0.27138733583592134, -0.19599767388768868, 0.08106265270112785, 0.06469965591392358, -0.43539719559085543, 1.5156592705706176, 0.38031968497822216, -1.5324652462793011, -1.3962548417854277, -1.4663549169819599, 1.9896722879077047, -0.7717337568947867, -1.13236110225189, -1.983359999513528, 1.2842340509586827, -2.0291627701880537, -0.48903035521972266, -0.5663571786022973, -1.4787610440318093, -1.3673892416503333, 0.27523611036305795, 0.3501442071324475, 1.235531610348585, 0.1314814665497779, 0.07079226273988824, 0.6346690086353665, 1.6029044452742762, 0.7958708765295324, -0.25947577521444265, 0.5375822712081678, 0.2677775263639807, 1.2943918451644172, -1.6438371037085036, 0.37032225334665586, 0.6780896656500484, -1.1068649644088242, 0.4849669680836155, -0.7702270297591995, -0.1956237096802853, -0.409540567007104, 0.9543777747548079, 0.0715623984057711, 0.4120689159764619, -0.9477583953020565, -1.2988864592853377, 2.134583178546349, 0.6607329716768912, 0.5860135769330493, -0.30059906687024285, 0.10162323095318798, 0.8690560540307614, -1.469999613146916, -0.8016006773462353, 0.7391997728218646, -0.29700677585812657, 0.3977489712256264, 1.308580860583779, 0.8677685903326755], \"xaxis\": \"x5\", \"y\": [-0.6808447835617709, 0.6086340681502943, 1.7294677222632684, 1.4829871712031955, 1.1980976114694604, 1.0795709221769332, -2.047286648226565, -1.515872438409646, 0.11471042412393548, 0.019125214933381172, -0.29828557402151373, 0.6678947909266109, 0.5106155584983674, 0.7647578163776658, 1.8476202168111207, 1.565461666184497, 0.2644348097255944, -0.15408202979369123, -2.618397980162209, 1.1561649742011062, -0.10410162246810392, -1.1033110243512538, -0.27424587213996177, 0.08080606289820692, -1.0284610964640115, 1.150848640078469, -0.25638096017062206, -1.3452740294819456, -0.8726175451755096, -0.2579052619972397, -0.7474841473560414, 0.8216094650234528, -0.4691579203738452, -1.0209429509692105, -0.40491326209742795, 1.2208179000282928, 0.5494620131503947, -0.7068872181482015, -0.3339529855897427, -0.35773835515151436, 0.30747456293859887, -1.7462557392925255, -2.3433306042719826, -0.5574714680621268, 0.7125922057087234, 0.709555785308249, 1.5876508083553502, -1.0557115951468214, 0.42056797157878995, -1.6991616216509176, 0.7039003209473632, 0.14454012533595098, 1.352757377147084, -0.6035879623453446, 0.7274800691249542, -0.8983221928954063, 0.7011998235137612, -1.0469207731767092, -0.21650716957079683, -0.2288275245869777, 0.9993381258043659, -1.2311548841515694, -0.5274804076228069, -0.6877047486831002, 0.20934430042105764, 1.2564779849253123, 0.3294673953075221, 1.255900250776616, -0.5193008892325174, -0.06741165979455997, -1.0834021867660262, 1.1335311403921011, 0.7801861037662863, -0.2996263227805359, 0.7451519159275286, -0.8027114457470523, 1.2942954747888622, -0.2632261742274699, 1.5242870545704912, -0.9063535187405944, 0.07134433670959506, -0.4579896341837586, 0.7652378935287566, -1.3013707444167233, 0.9578139607872342, -0.43515395155639264, 0.44700821446023037, 0.3154919434012009, -1.3843643663770469, -0.3963047121461804, -1.1195850187543466, -0.6162495255049156, -0.16047808659235244, -0.35823082603392176, -2.83004813388019, 0.39142399755480306, 0.744533277886588, 1.4980898982513313, -0.619242852250382, -0.4117319533653246], \"yaxis\": \"y5\"}, {\"histfunc\": \"count\", \"histnorm\": \"\", \"marker\": {\"color\": \"rgba(55, 128, 191, 1.0)\", \"line\": {\"color\": \"#4D5663\", \"width\": 1.3}}, \"name\": \"B\", \"nbinsx\": 10, \"opacity\": 0.8, \"orientation\": \"v\", \"type\": \"histogram\", \"x\": [-0.6808447835617709, 0.6086340681502943, 1.7294677222632684, 1.4829871712031955, 1.1980976114694604, 1.0795709221769332, -2.047286648226565, -1.515872438409646, 0.11471042412393548, 0.019125214933381172, -0.29828557402151373, 0.6678947909266109, 0.5106155584983674, 0.7647578163776658, 1.8476202168111207, 1.565461666184497, 0.2644348097255944, -0.15408202979369123, -2.618397980162209, 1.1561649742011062, -0.10410162246810392, -1.1033110243512538, -0.27424587213996177, 0.08080606289820692, -1.0284610964640115, 1.150848640078469, -0.25638096017062206, -1.3452740294819456, -0.8726175451755096, -0.2579052619972397, -0.7474841473560414, 0.8216094650234528, -0.4691579203738452, -1.0209429509692105, -0.40491326209742795, 1.2208179000282928, 0.5494620131503947, -0.7068872181482015, -0.3339529855897427, -0.35773835515151436, 0.30747456293859887, -1.7462557392925255, -2.3433306042719826, -0.5574714680621268, 0.7125922057087234, 0.709555785308249, 1.5876508083553502, -1.0557115951468214, 0.42056797157878995, -1.6991616216509176, 0.7039003209473632, 0.14454012533595098, 1.352757377147084, -0.6035879623453446, 0.7274800691249542, -0.8983221928954063, 0.7011998235137612, -1.0469207731767092, -0.21650716957079683, -0.2288275245869777, 0.9993381258043659, -1.2311548841515694, -0.5274804076228069, -0.6877047486831002, 0.20934430042105764, 1.2564779849253123, 0.3294673953075221, 1.255900250776616, -0.5193008892325174, -0.06741165979455997, -1.0834021867660262, 1.1335311403921011, 0.7801861037662863, -0.2996263227805359, 0.7451519159275286, -0.8027114457470523, 1.2942954747888622, -0.2632261742274699, 1.5242870545704912, -0.9063535187405944, 0.07134433670959506, -0.4579896341837586, 0.7652378935287566, -1.3013707444167233, 0.9578139607872342, -0.43515395155639264, 0.44700821446023037, 0.3154919434012009, -1.3843643663770469, -0.3963047121461804, -1.1195850187543466, -0.6162495255049156, -0.16047808659235244, -0.35823082603392176, -2.83004813388019, 0.39142399755480306, 0.744533277886588, 1.4980898982513313, -0.619242852250382, -0.4117319533653246], \"xaxis\": \"x6\", \"yaxis\": \"y6\"}, {\"line\": {\"color\": \"rgba(128, 128, 128, 1.0)\", \"dash\": \"solid\", \"shape\": \"linear\", \"width\": 1.3}, \"marker\": {\"size\": 2, \"symbol\": \"circle\"}, \"mode\": \"markers\", \"name\": \"B\", \"text\": \"\", \"type\": \"scatter\", \"x\": [-0.19861040847960834, 0.6155622946641103, 1.2872901796916114, 1.4194891172392805, -0.9859017008147671, 0.9245224391726357, 0.6463775059900948, 1.5915671964891147, -0.8977442526038514, 0.9162690220696864, -1.2521648339035634, 0.17108313665856179, -0.8225154247380878, -1.3112593486999171, 0.7407250362390038, 1.4740674690844737, -0.6601150729713889, -0.5578375755191152, -2.1894702900780914, -0.588340431559108, 1.514080440819475, -0.7299235556020048, 0.41897279644500285, -3.4084687990672915, 0.12727543916222567, -0.30773577811794056, 1.0052274973580921, 0.1853485649185546, 0.8988088568141913, -1.1330796491736908, 0.24930224008192384, 0.26609211962146323, 0.7695454139743126, -1.1300590707791835, 0.7650521647342426, -0.24174666204703957, 0.6104774399030497, 1.1039589289977767, 0.20104749596089153, 2.054039108948895, 0.8926354968530256, -0.41355757538879107, 0.08564518468261126, -0.2950978199383714, -0.7073112898905407, -0.35243625691127667, 1.7315352966871789, -0.9251727112524073, -0.14719555622013525, 0.19692953751524125, -1.0681233122552802, 2.070898531533443, 0.5453168572689424, -0.6950352852157083, -0.29259859968830276, -0.333780746340659, 0.5769664028050115, 0.00610747840937299, -0.45505224721921106, 2.1290402969245963, 0.15264552768300563, -0.7143525324642657, 0.3462035753217853, 1.0780227242980152, 2.5649793844775965, 2.0366816733076836, -0.6846342066191933, 0.5343446687775403, 0.615899513547256, 0.9577088956877992, -1.3651264794867468, 0.15631349576486503, -0.9409451543534072, 3.154338073243348, 0.5460296499385444, -0.41687285713806893, -1.3511518821052952, 0.6911227385777586, -0.2992722490310666, 0.09222282804187809, -0.688639694569738, -1.3827311601637085, -0.2901630234637458, 0.4091294128999816, 0.27148182322355857, 0.9898224108699564, -0.04499371876859188, 0.6395090823330405, -1.5924084318925336, -1.4390899668003918, 1.3056851024901948, 0.16097649357923066, 0.7862643341566637, -1.277541998099019, -0.2692318108956053, -0.39034214588907107, -0.9913478404671141, -0.9422513414974476, -0.3527559925160878, 0.7946425075358607], \"xaxis\": \"x7\", \"y\": [-0.6808447835617709, 0.6086340681502943, 1.7294677222632684, 1.4829871712031955, 1.1980976114694604, 1.0795709221769332, -2.047286648226565, -1.515872438409646, 0.11471042412393548, 0.019125214933381172, -0.29828557402151373, 0.6678947909266109, 0.5106155584983674, 0.7647578163776658, 1.8476202168111207, 1.565461666184497, 0.2644348097255944, -0.15408202979369123, -2.618397980162209, 1.1561649742011062, -0.10410162246810392, -1.1033110243512538, -0.27424587213996177, 0.08080606289820692, -1.0284610964640115, 1.150848640078469, -0.25638096017062206, -1.3452740294819456, -0.8726175451755096, -0.2579052619972397, -0.7474841473560414, 0.8216094650234528, -0.4691579203738452, -1.0209429509692105, -0.40491326209742795, 1.2208179000282928, 0.5494620131503947, -0.7068872181482015, -0.3339529855897427, -0.35773835515151436, 0.30747456293859887, -1.7462557392925255, -2.3433306042719826, -0.5574714680621268, 0.7125922057087234, 0.709555785308249, 1.5876508083553502, -1.0557115951468214, 0.42056797157878995, -1.6991616216509176, 0.7039003209473632, 0.14454012533595098, 1.352757377147084, -0.6035879623453446, 0.7274800691249542, -0.8983221928954063, 0.7011998235137612, -1.0469207731767092, -0.21650716957079683, -0.2288275245869777, 0.9993381258043659, -1.2311548841515694, -0.5274804076228069, -0.6877047486831002, 0.20934430042105764, 1.2564779849253123, 0.3294673953075221, 1.255900250776616, -0.5193008892325174, -0.06741165979455997, -1.0834021867660262, 1.1335311403921011, 0.7801861037662863, -0.2996263227805359, 0.7451519159275286, -0.8027114457470523, 1.2942954747888622, -0.2632261742274699, 1.5242870545704912, -0.9063535187405944, 0.07134433670959506, -0.4579896341837586, 0.7652378935287566, -1.3013707444167233, 0.9578139607872342, -0.43515395155639264, 0.44700821446023037, 0.3154919434012009, -1.3843643663770469, -0.3963047121461804, -1.1195850187543466, -0.6162495255049156, -0.16047808659235244, -0.35823082603392176, -2.83004813388019, 0.39142399755480306, 0.744533277886588, 1.4980898982513313, -0.619242852250382, -0.4117319533653246], \"yaxis\": \"y7\"}, {\"line\": {\"color\": \"rgba(128, 128, 128, 1.0)\", \"dash\": \"solid\", \"shape\": \"linear\", \"width\": 1.3}, \"marker\": {\"size\": 2, \"symbol\": \"circle\"}, \"mode\": \"markers\", \"name\": \"B\", \"text\": \"\", \"type\": \"scatter\", \"x\": [-0.21990703525130298, -0.049689561602856494, 1.874691874288394, -0.8344382619761017, -2.1306832166983183, 0.6265371213970423, 1.0859168659466991, -1.2275538443974425, 0.1737416706348923, 0.1313789226370697, 0.5432733139223881, -0.800923101057814, 1.069364212002665, -1.2550343787009426, -0.9693542187852816, 1.5146823301906613, -1.7440520979667784, -0.15555580838250746, -0.15357426885738384, 0.07617990754042157, 0.10211693363053963, -0.4197977904468551, 0.4204222270553229, 0.5570848522445528, -0.6302479075854474, -1.250348020882477, 0.23710551015546857, -2.0537553215504007, 1.946339661403928, 1.1816302165587953, -0.26769796940093527, 0.61345143204849, 0.6758589403903051, -0.05442261497368895, 2.383375909628837, -0.5091342041146455, 0.46046540128868396, 1.7898196664899166, 0.3748561083657561, -1.7276525793941506, -0.23782052527179362, -0.6529104499115704, 0.7514155053440179, 1.1140212156781235, 0.687490792165121, 1.084090286853055, -0.5278882089302872, 1.182936057880046, 0.2579147225302808, 1.6464562545497536, -0.7844569442251179, 0.8592546209081057, 0.4062638854490274, -1.217341280649748, 0.5117390597245324, 0.06019083280628012, 1.0719027571543804, 0.7434116572998305, 0.798271370150843, 0.7684015298205931, -0.18975300662138234, -0.11201124865727527, -0.46413736223057067, -0.3248079756849357, 1.0479414654529444, 1.0859161784001026, 0.13590614438951143, -0.55924119638295, 0.20768956589560142, -0.9412307273537324, -0.42894672147291846, -0.2785464227741624, -0.11459123362472971, 0.8827076047639845, -1.2565058546253465, -2.0131896265002966, -0.6340907842744344, 0.49928120531553427, 0.8401612251336205, 0.4921624788130426, 1.1954056514566311, -1.5175520940955796, 0.565002151832653, 0.280048758440951, 1.5753732222327776, -0.3575503125701353, -0.11413093143438113, -0.6141278598016296, -0.21688702505821683, 2.006869774143835, 0.08708816779334472, 0.4480157659652641, -0.4895023583656577, 1.1124777033166462, 0.6561082877525128, -0.7232758310728444, -0.7179877124149497, -0.15909059725174857, 0.5173572513883516, -0.8324054453144404], \"xaxis\": \"x8\", \"y\": [-0.6808447835617709, 0.6086340681502943, 1.7294677222632684, 1.4829871712031955, 1.1980976114694604, 1.0795709221769332, -2.047286648226565, -1.515872438409646, 0.11471042412393548, 0.019125214933381172, -0.29828557402151373, 0.6678947909266109, 0.5106155584983674, 0.7647578163776658, 1.8476202168111207, 1.565461666184497, 0.2644348097255944, -0.15408202979369123, -2.618397980162209, 1.1561649742011062, -0.10410162246810392, -1.1033110243512538, -0.27424587213996177, 0.08080606289820692, -1.0284610964640115, 1.150848640078469, -0.25638096017062206, -1.3452740294819456, -0.8726175451755096, -0.2579052619972397, -0.7474841473560414, 0.8216094650234528, -0.4691579203738452, -1.0209429509692105, -0.40491326209742795, 1.2208179000282928, 0.5494620131503947, -0.7068872181482015, -0.3339529855897427, -0.35773835515151436, 0.30747456293859887, -1.7462557392925255, -2.3433306042719826, -0.5574714680621268, 0.7125922057087234, 0.709555785308249, 1.5876508083553502, -1.0557115951468214, 0.42056797157878995, -1.6991616216509176, 0.7039003209473632, 0.14454012533595098, 1.352757377147084, -0.6035879623453446, 0.7274800691249542, -0.8983221928954063, 0.7011998235137612, -1.0469207731767092, -0.21650716957079683, -0.2288275245869777, 0.9993381258043659, -1.2311548841515694, -0.5274804076228069, -0.6877047486831002, 0.20934430042105764, 1.2564779849253123, 0.3294673953075221, 1.255900250776616, -0.5193008892325174, -0.06741165979455997, -1.0834021867660262, 1.1335311403921011, 0.7801861037662863, -0.2996263227805359, 0.7451519159275286, -0.8027114457470523, 1.2942954747888622, -0.2632261742274699, 1.5242870545704912, -0.9063535187405944, 0.07134433670959506, -0.4579896341837586, 0.7652378935287566, -1.3013707444167233, 0.9578139607872342, -0.43515395155639264, 0.44700821446023037, 0.3154919434012009, -1.3843643663770469, -0.3963047121461804, -1.1195850187543466, -0.6162495255049156, -0.16047808659235244, -0.35823082603392176, -2.83004813388019, 0.39142399755480306, 0.744533277886588, 1.4980898982513313, -0.619242852250382, -0.4117319533653246], \"yaxis\": \"y8\"}, {\"line\": {\"color\": \"rgba(128, 128, 128, 1.0)\", \"dash\": \"solid\", \"shape\": \"linear\", \"width\": 1.3}, \"marker\": {\"size\": 2, \"symbol\": \"circle\"}, \"mode\": \"markers\", \"name\": \"C\", \"text\": \"\", \"type\": \"scatter\", \"x\": [0.8154349543945048, 1.6452615952148095, 1.4537812287057956, 0.10104178737084112, 0.5656271670462576, -0.25532938206558614, -0.4325104653515167, 1.410127965092189, 1.1470488251728317, 0.657072548948607, 0.03982381590751122, -0.21945492705686911, -0.42813566220156773, 0.06912887060307056, 0.48019535501818067, 0.7335677864552974, 1.0413248888755484, -0.5834104170250821, 1.4848271676888816, 0.7826869752115855, -0.39749806587397724, -0.4027652996072739, 0.11747667683869219, 1.238907705657658, 1.0712834977929915, -1.7600443375466999, -1.3937101578182822, -1.3249680614763732, -1.0077691729223197, -0.7584747658795038, 0.5724593892766379, 1.5492788163962405, -1.0910998243990073, 1.4290362767631684, -3.01125804668789, -0.2356489680791908, -0.3116139523330637, -0.9183548126980127, 0.7923927375118476, -1.5804414859407747, 0.7733345351849514, -1.6465243274195123, 0.27138733583592134, -0.19599767388768868, 0.08106265270112785, 0.06469965591392358, -0.43539719559085543, 1.5156592705706176, 0.38031968497822216, -1.5324652462793011, -1.3962548417854277, -1.4663549169819599, 1.9896722879077047, -0.7717337568947867, -1.13236110225189, -1.983359999513528, 1.2842340509586827, -2.0291627701880537, -0.48903035521972266, -0.5663571786022973, -1.4787610440318093, -1.3673892416503333, 0.27523611036305795, 0.3501442071324475, 1.235531610348585, 0.1314814665497779, 0.07079226273988824, 0.6346690086353665, 1.6029044452742762, 0.7958708765295324, -0.25947577521444265, 0.5375822712081678, 0.2677775263639807, 1.2943918451644172, -1.6438371037085036, 0.37032225334665586, 0.6780896656500484, -1.1068649644088242, 0.4849669680836155, -0.7702270297591995, -0.1956237096802853, -0.409540567007104, 0.9543777747548079, 0.0715623984057711, 0.4120689159764619, -0.9477583953020565, -1.2988864592853377, 2.134583178546349, 0.6607329716768912, 0.5860135769330493, -0.30059906687024285, 0.10162323095318798, 0.8690560540307614, -1.469999613146916, -0.8016006773462353, 0.7391997728218646, -0.29700677585812657, 0.3977489712256264, 1.308580860583779, 0.8677685903326755], \"xaxis\": \"x9\", \"y\": [-0.19861040847960834, 0.6155622946641103, 1.2872901796916114, 1.4194891172392805, -0.9859017008147671, 0.9245224391726357, 0.6463775059900948, 1.5915671964891147, -0.8977442526038514, 0.9162690220696864, -1.2521648339035634, 0.17108313665856179, -0.8225154247380878, -1.3112593486999171, 0.7407250362390038, 1.4740674690844737, -0.6601150729713889, -0.5578375755191152, -2.1894702900780914, -0.588340431559108, 1.514080440819475, -0.7299235556020048, 0.41897279644500285, -3.4084687990672915, 0.12727543916222567, -0.30773577811794056, 1.0052274973580921, 0.1853485649185546, 0.8988088568141913, -1.1330796491736908, 0.24930224008192384, 0.26609211962146323, 0.7695454139743126, -1.1300590707791835, 0.7650521647342426, -0.24174666204703957, 0.6104774399030497, 1.1039589289977767, 0.20104749596089153, 2.054039108948895, 0.8926354968530256, -0.41355757538879107, 0.08564518468261126, -0.2950978199383714, -0.7073112898905407, -0.35243625691127667, 1.7315352966871789, -0.9251727112524073, -0.14719555622013525, 0.19692953751524125, -1.0681233122552802, 2.070898531533443, 0.5453168572689424, -0.6950352852157083, -0.29259859968830276, -0.333780746340659, 0.5769664028050115, 0.00610747840937299, -0.45505224721921106, 2.1290402969245963, 0.15264552768300563, -0.7143525324642657, 0.3462035753217853, 1.0780227242980152, 2.5649793844775965, 2.0366816733076836, -0.6846342066191933, 0.5343446687775403, 0.615899513547256, 0.9577088956877992, -1.3651264794867468, 0.15631349576486503, -0.9409451543534072, 3.154338073243348, 0.5460296499385444, -0.41687285713806893, -1.3511518821052952, 0.6911227385777586, -0.2992722490310666, 0.09222282804187809, -0.688639694569738, -1.3827311601637085, -0.2901630234637458, 0.4091294128999816, 0.27148182322355857, 0.9898224108699564, -0.04499371876859188, 0.6395090823330405, -1.5924084318925336, -1.4390899668003918, 1.3056851024901948, 0.16097649357923066, 0.7862643341566637, -1.277541998099019, -0.2692318108956053, -0.39034214588907107, -0.9913478404671141, -0.9422513414974476, -0.3527559925160878, 0.7946425075358607], \"yaxis\": \"y9\"}, {\"line\": {\"color\": \"rgba(128, 128, 128, 1.0)\", \"dash\": \"solid\", \"shape\": \"linear\", \"width\": 1.3}, \"marker\": {\"size\": 2, \"symbol\": \"circle\"}, \"mode\": \"markers\", \"name\": \"C\", \"text\": \"\", \"type\": \"scatter\", \"x\": [-0.6808447835617709, 0.6086340681502943, 1.7294677222632684, 1.4829871712031955, 1.1980976114694604, 1.0795709221769332, -2.047286648226565, -1.515872438409646, 0.11471042412393548, 0.019125214933381172, -0.29828557402151373, 0.6678947909266109, 0.5106155584983674, 0.7647578163776658, 1.8476202168111207, 1.565461666184497, 0.2644348097255944, -0.15408202979369123, -2.618397980162209, 1.1561649742011062, -0.10410162246810392, -1.1033110243512538, -0.27424587213996177, 0.08080606289820692, -1.0284610964640115, 1.150848640078469, -0.25638096017062206, -1.3452740294819456, -0.8726175451755096, -0.2579052619972397, -0.7474841473560414, 0.8216094650234528, -0.4691579203738452, -1.0209429509692105, -0.40491326209742795, 1.2208179000282928, 0.5494620131503947, -0.7068872181482015, -0.3339529855897427, -0.35773835515151436, 0.30747456293859887, -1.7462557392925255, -2.3433306042719826, -0.5574714680621268, 0.7125922057087234, 0.709555785308249, 1.5876508083553502, -1.0557115951468214, 0.42056797157878995, -1.6991616216509176, 0.7039003209473632, 0.14454012533595098, 1.352757377147084, -0.6035879623453446, 0.7274800691249542, -0.8983221928954063, 0.7011998235137612, -1.0469207731767092, -0.21650716957079683, -0.2288275245869777, 0.9993381258043659, -1.2311548841515694, -0.5274804076228069, -0.6877047486831002, 0.20934430042105764, 1.2564779849253123, 0.3294673953075221, 1.255900250776616, -0.5193008892325174, -0.06741165979455997, -1.0834021867660262, 1.1335311403921011, 0.7801861037662863, -0.2996263227805359, 0.7451519159275286, -0.8027114457470523, 1.2942954747888622, -0.2632261742274699, 1.5242870545704912, -0.9063535187405944, 0.07134433670959506, -0.4579896341837586, 0.7652378935287566, -1.3013707444167233, 0.9578139607872342, -0.43515395155639264, 0.44700821446023037, 0.3154919434012009, -1.3843643663770469, -0.3963047121461804, -1.1195850187543466, -0.6162495255049156, -0.16047808659235244, -0.35823082603392176, -2.83004813388019, 0.39142399755480306, 0.744533277886588, 1.4980898982513313, -0.619242852250382, -0.4117319533653246], \"xaxis\": \"x10\", \"y\": [-0.19861040847960834, 0.6155622946641103, 1.2872901796916114, 1.4194891172392805, -0.9859017008147671, 0.9245224391726357, 0.6463775059900948, 1.5915671964891147, -0.8977442526038514, 0.9162690220696864, -1.2521648339035634, 0.17108313665856179, -0.8225154247380878, -1.3112593486999171, 0.7407250362390038, 1.4740674690844737, -0.6601150729713889, -0.5578375755191152, -2.1894702900780914, -0.588340431559108, 1.514080440819475, -0.7299235556020048, 0.41897279644500285, -3.4084687990672915, 0.12727543916222567, -0.30773577811794056, 1.0052274973580921, 0.1853485649185546, 0.8988088568141913, -1.1330796491736908, 0.24930224008192384, 0.26609211962146323, 0.7695454139743126, -1.1300590707791835, 0.7650521647342426, -0.24174666204703957, 0.6104774399030497, 1.1039589289977767, 0.20104749596089153, 2.054039108948895, 0.8926354968530256, -0.41355757538879107, 0.08564518468261126, -0.2950978199383714, -0.7073112898905407, -0.35243625691127667, 1.7315352966871789, -0.9251727112524073, -0.14719555622013525, 0.19692953751524125, -1.0681233122552802, 2.070898531533443, 0.5453168572689424, -0.6950352852157083, -0.29259859968830276, -0.333780746340659, 0.5769664028050115, 0.00610747840937299, -0.45505224721921106, 2.1290402969245963, 0.15264552768300563, -0.7143525324642657, 0.3462035753217853, 1.0780227242980152, 2.5649793844775965, 2.0366816733076836, -0.6846342066191933, 0.5343446687775403, 0.615899513547256, 0.9577088956877992, -1.3651264794867468, 0.15631349576486503, -0.9409451543534072, 3.154338073243348, 0.5460296499385444, -0.41687285713806893, -1.3511518821052952, 0.6911227385777586, -0.2992722490310666, 0.09222282804187809, -0.688639694569738, -1.3827311601637085, -0.2901630234637458, 0.4091294128999816, 0.27148182322355857, 0.9898224108699564, -0.04499371876859188, 0.6395090823330405, -1.5924084318925336, -1.4390899668003918, 1.3056851024901948, 0.16097649357923066, 0.7862643341566637, -1.277541998099019, -0.2692318108956053, -0.39034214588907107, -0.9913478404671141, -0.9422513414974476, -0.3527559925160878, 0.7946425075358607], \"yaxis\": \"y10\"}, {\"histfunc\": \"count\", \"histnorm\": \"\", \"marker\": {\"color\": \"rgba(50, 171, 96, 1.0)\", \"line\": {\"color\": \"#4D5663\", \"width\": 1.3}}, \"name\": \"C\", \"nbinsx\": 10, \"opacity\": 0.8, \"orientation\": \"v\", \"type\": \"histogram\", \"x\": [-0.19861040847960834, 0.6155622946641103, 1.2872901796916114, 1.4194891172392805, -0.9859017008147671, 0.9245224391726357, 0.6463775059900948, 1.5915671964891147, -0.8977442526038514, 0.9162690220696864, -1.2521648339035634, 0.17108313665856179, -0.8225154247380878, -1.3112593486999171, 0.7407250362390038, 1.4740674690844737, -0.6601150729713889, -0.5578375755191152, -2.1894702900780914, -0.588340431559108, 1.514080440819475, -0.7299235556020048, 0.41897279644500285, -3.4084687990672915, 0.12727543916222567, -0.30773577811794056, 1.0052274973580921, 0.1853485649185546, 0.8988088568141913, -1.1330796491736908, 0.24930224008192384, 0.26609211962146323, 0.7695454139743126, -1.1300590707791835, 0.7650521647342426, -0.24174666204703957, 0.6104774399030497, 1.1039589289977767, 0.20104749596089153, 2.054039108948895, 0.8926354968530256, -0.41355757538879107, 0.08564518468261126, -0.2950978199383714, -0.7073112898905407, -0.35243625691127667, 1.7315352966871789, -0.9251727112524073, -0.14719555622013525, 0.19692953751524125, -1.0681233122552802, 2.070898531533443, 0.5453168572689424, -0.6950352852157083, -0.29259859968830276, -0.333780746340659, 0.5769664028050115, 0.00610747840937299, -0.45505224721921106, 2.1290402969245963, 0.15264552768300563, -0.7143525324642657, 0.3462035753217853, 1.0780227242980152, 2.5649793844775965, 2.0366816733076836, -0.6846342066191933, 0.5343446687775403, 0.615899513547256, 0.9577088956877992, -1.3651264794867468, 0.15631349576486503, -0.9409451543534072, 3.154338073243348, 0.5460296499385444, -0.41687285713806893, -1.3511518821052952, 0.6911227385777586, -0.2992722490310666, 0.09222282804187809, -0.688639694569738, -1.3827311601637085, -0.2901630234637458, 0.4091294128999816, 0.27148182322355857, 0.9898224108699564, -0.04499371876859188, 0.6395090823330405, -1.5924084318925336, -1.4390899668003918, 1.3056851024901948, 0.16097649357923066, 0.7862643341566637, -1.277541998099019, -0.2692318108956053, -0.39034214588907107, -0.9913478404671141, -0.9422513414974476, -0.3527559925160878, 0.7946425075358607], \"xaxis\": \"x11\", \"yaxis\": \"y11\"}, {\"line\": {\"color\": \"rgba(128, 128, 128, 1.0)\", \"dash\": \"solid\", \"shape\": \"linear\", \"width\": 1.3}, \"marker\": {\"size\": 2, \"symbol\": \"circle\"}, \"mode\": \"markers\", \"name\": \"C\", \"text\": \"\", \"type\": \"scatter\", \"x\": [-0.21990703525130298, -0.049689561602856494, 1.874691874288394, -0.8344382619761017, -2.1306832166983183, 0.6265371213970423, 1.0859168659466991, -1.2275538443974425, 0.1737416706348923, 0.1313789226370697, 0.5432733139223881, -0.800923101057814, 1.069364212002665, -1.2550343787009426, -0.9693542187852816, 1.5146823301906613, -1.7440520979667784, -0.15555580838250746, -0.15357426885738384, 0.07617990754042157, 0.10211693363053963, -0.4197977904468551, 0.4204222270553229, 0.5570848522445528, -0.6302479075854474, -1.250348020882477, 0.23710551015546857, -2.0537553215504007, 1.946339661403928, 1.1816302165587953, -0.26769796940093527, 0.61345143204849, 0.6758589403903051, -0.05442261497368895, 2.383375909628837, -0.5091342041146455, 0.46046540128868396, 1.7898196664899166, 0.3748561083657561, -1.7276525793941506, -0.23782052527179362, -0.6529104499115704, 0.7514155053440179, 1.1140212156781235, 0.687490792165121, 1.084090286853055, -0.5278882089302872, 1.182936057880046, 0.2579147225302808, 1.6464562545497536, -0.7844569442251179, 0.8592546209081057, 0.4062638854490274, -1.217341280649748, 0.5117390597245324, 0.06019083280628012, 1.0719027571543804, 0.7434116572998305, 0.798271370150843, 0.7684015298205931, -0.18975300662138234, -0.11201124865727527, -0.46413736223057067, -0.3248079756849357, 1.0479414654529444, 1.0859161784001026, 0.13590614438951143, -0.55924119638295, 0.20768956589560142, -0.9412307273537324, -0.42894672147291846, -0.2785464227741624, -0.11459123362472971, 0.8827076047639845, -1.2565058546253465, -2.0131896265002966, -0.6340907842744344, 0.49928120531553427, 0.8401612251336205, 0.4921624788130426, 1.1954056514566311, -1.5175520940955796, 0.565002151832653, 0.280048758440951, 1.5753732222327776, -0.3575503125701353, -0.11413093143438113, -0.6141278598016296, -0.21688702505821683, 2.006869774143835, 0.08708816779334472, 0.4480157659652641, -0.4895023583656577, 1.1124777033166462, 0.6561082877525128, -0.7232758310728444, -0.7179877124149497, -0.15909059725174857, 0.5173572513883516, -0.8324054453144404], \"xaxis\": \"x12\", \"y\": [-0.19861040847960834, 0.6155622946641103, 1.2872901796916114, 1.4194891172392805, -0.9859017008147671, 0.9245224391726357, 0.6463775059900948, 1.5915671964891147, -0.8977442526038514, 0.9162690220696864, -1.2521648339035634, 0.17108313665856179, -0.8225154247380878, -1.3112593486999171, 0.7407250362390038, 1.4740674690844737, -0.6601150729713889, -0.5578375755191152, -2.1894702900780914, -0.588340431559108, 1.514080440819475, -0.7299235556020048, 0.41897279644500285, -3.4084687990672915, 0.12727543916222567, -0.30773577811794056, 1.0052274973580921, 0.1853485649185546, 0.8988088568141913, -1.1330796491736908, 0.24930224008192384, 0.26609211962146323, 0.7695454139743126, -1.1300590707791835, 0.7650521647342426, -0.24174666204703957, 0.6104774399030497, 1.1039589289977767, 0.20104749596089153, 2.054039108948895, 0.8926354968530256, -0.41355757538879107, 0.08564518468261126, -0.2950978199383714, -0.7073112898905407, -0.35243625691127667, 1.7315352966871789, -0.9251727112524073, -0.14719555622013525, 0.19692953751524125, -1.0681233122552802, 2.070898531533443, 0.5453168572689424, -0.6950352852157083, -0.29259859968830276, -0.333780746340659, 0.5769664028050115, 0.00610747840937299, -0.45505224721921106, 2.1290402969245963, 0.15264552768300563, -0.7143525324642657, 0.3462035753217853, 1.0780227242980152, 2.5649793844775965, 2.0366816733076836, -0.6846342066191933, 0.5343446687775403, 0.615899513547256, 0.9577088956877992, -1.3651264794867468, 0.15631349576486503, -0.9409451543534072, 3.154338073243348, 0.5460296499385444, -0.41687285713806893, -1.3511518821052952, 0.6911227385777586, -0.2992722490310666, 0.09222282804187809, -0.688639694569738, -1.3827311601637085, -0.2901630234637458, 0.4091294128999816, 0.27148182322355857, 0.9898224108699564, -0.04499371876859188, 0.6395090823330405, -1.5924084318925336, -1.4390899668003918, 1.3056851024901948, 0.16097649357923066, 0.7862643341566637, -1.277541998099019, -0.2692318108956053, -0.39034214588907107, -0.9913478404671141, -0.9422513414974476, -0.3527559925160878, 0.7946425075358607], \"yaxis\": \"y12\"}, {\"line\": {\"color\": \"rgba(128, 128, 128, 1.0)\", \"dash\": \"solid\", \"shape\": \"linear\", \"width\": 1.3}, \"marker\": {\"size\": 2, \"symbol\": \"circle\"}, \"mode\": \"markers\", \"name\": \"D\", \"text\": \"\", \"type\": \"scatter\", \"x\": [0.8154349543945048, 1.6452615952148095, 1.4537812287057956, 0.10104178737084112, 0.5656271670462576, -0.25532938206558614, -0.4325104653515167, 1.410127965092189, 1.1470488251728317, 0.657072548948607, 0.03982381590751122, -0.21945492705686911, -0.42813566220156773, 0.06912887060307056, 0.48019535501818067, 0.7335677864552974, 1.0413248888755484, -0.5834104170250821, 1.4848271676888816, 0.7826869752115855, -0.39749806587397724, -0.4027652996072739, 0.11747667683869219, 1.238907705657658, 1.0712834977929915, -1.7600443375466999, -1.3937101578182822, -1.3249680614763732, -1.0077691729223197, -0.7584747658795038, 0.5724593892766379, 1.5492788163962405, -1.0910998243990073, 1.4290362767631684, -3.01125804668789, -0.2356489680791908, -0.3116139523330637, -0.9183548126980127, 0.7923927375118476, -1.5804414859407747, 0.7733345351849514, -1.6465243274195123, 0.27138733583592134, -0.19599767388768868, 0.08106265270112785, 0.06469965591392358, -0.43539719559085543, 1.5156592705706176, 0.38031968497822216, -1.5324652462793011, -1.3962548417854277, -1.4663549169819599, 1.9896722879077047, -0.7717337568947867, -1.13236110225189, -1.983359999513528, 1.2842340509586827, -2.0291627701880537, -0.48903035521972266, -0.5663571786022973, -1.4787610440318093, -1.3673892416503333, 0.27523611036305795, 0.3501442071324475, 1.235531610348585, 0.1314814665497779, 0.07079226273988824, 0.6346690086353665, 1.6029044452742762, 0.7958708765295324, -0.25947577521444265, 0.5375822712081678, 0.2677775263639807, 1.2943918451644172, -1.6438371037085036, 0.37032225334665586, 0.6780896656500484, -1.1068649644088242, 0.4849669680836155, -0.7702270297591995, -0.1956237096802853, -0.409540567007104, 0.9543777747548079, 0.0715623984057711, 0.4120689159764619, -0.9477583953020565, -1.2988864592853377, 2.134583178546349, 0.6607329716768912, 0.5860135769330493, -0.30059906687024285, 0.10162323095318798, 0.8690560540307614, -1.469999613146916, -0.8016006773462353, 0.7391997728218646, -0.29700677585812657, 0.3977489712256264, 1.308580860583779, 0.8677685903326755], \"xaxis\": \"x13\", \"y\": [-0.21990703525130298, -0.049689561602856494, 1.874691874288394, -0.8344382619761017, -2.1306832166983183, 0.6265371213970423, 1.0859168659466991, -1.2275538443974425, 0.1737416706348923, 0.1313789226370697, 0.5432733139223881, -0.800923101057814, 1.069364212002665, -1.2550343787009426, -0.9693542187852816, 1.5146823301906613, -1.7440520979667784, -0.15555580838250746, -0.15357426885738384, 0.07617990754042157, 0.10211693363053963, -0.4197977904468551, 0.4204222270553229, 0.5570848522445528, -0.6302479075854474, -1.250348020882477, 0.23710551015546857, -2.0537553215504007, 1.946339661403928, 1.1816302165587953, -0.26769796940093527, 0.61345143204849, 0.6758589403903051, -0.05442261497368895, 2.383375909628837, -0.5091342041146455, 0.46046540128868396, 1.7898196664899166, 0.3748561083657561, -1.7276525793941506, -0.23782052527179362, -0.6529104499115704, 0.7514155053440179, 1.1140212156781235, 0.687490792165121, 1.084090286853055, -0.5278882089302872, 1.182936057880046, 0.2579147225302808, 1.6464562545497536, -0.7844569442251179, 0.8592546209081057, 0.4062638854490274, -1.217341280649748, 0.5117390597245324, 0.06019083280628012, 1.0719027571543804, 0.7434116572998305, 0.798271370150843, 0.7684015298205931, -0.18975300662138234, -0.11201124865727527, -0.46413736223057067, -0.3248079756849357, 1.0479414654529444, 1.0859161784001026, 0.13590614438951143, -0.55924119638295, 0.20768956589560142, -0.9412307273537324, -0.42894672147291846, -0.2785464227741624, -0.11459123362472971, 0.8827076047639845, -1.2565058546253465, -2.0131896265002966, -0.6340907842744344, 0.49928120531553427, 0.8401612251336205, 0.4921624788130426, 1.1954056514566311, -1.5175520940955796, 0.565002151832653, 0.280048758440951, 1.5753732222327776, -0.3575503125701353, -0.11413093143438113, -0.6141278598016296, -0.21688702505821683, 2.006869774143835, 0.08708816779334472, 0.4480157659652641, -0.4895023583656577, 1.1124777033166462, 0.6561082877525128, -0.7232758310728444, -0.7179877124149497, -0.15909059725174857, 0.5173572513883516, -0.8324054453144404], \"yaxis\": \"y13\"}, {\"line\": {\"color\": \"rgba(128, 128, 128, 1.0)\", \"dash\": \"solid\", \"shape\": \"linear\", \"width\": 1.3}, \"marker\": {\"size\": 2, \"symbol\": \"circle\"}, \"mode\": \"markers\", \"name\": \"D\", \"text\": \"\", \"type\": \"scatter\", \"x\": [-0.6808447835617709, 0.6086340681502943, 1.7294677222632684, 1.4829871712031955, 1.1980976114694604, 1.0795709221769332, -2.047286648226565, -1.515872438409646, 0.11471042412393548, 0.019125214933381172, -0.29828557402151373, 0.6678947909266109, 0.5106155584983674, 0.7647578163776658, 1.8476202168111207, 1.565461666184497, 0.2644348097255944, -0.15408202979369123, -2.618397980162209, 1.1561649742011062, -0.10410162246810392, -1.1033110243512538, -0.27424587213996177, 0.08080606289820692, -1.0284610964640115, 1.150848640078469, -0.25638096017062206, -1.3452740294819456, -0.8726175451755096, -0.2579052619972397, -0.7474841473560414, 0.8216094650234528, -0.4691579203738452, -1.0209429509692105, -0.40491326209742795, 1.2208179000282928, 0.5494620131503947, -0.7068872181482015, -0.3339529855897427, -0.35773835515151436, 0.30747456293859887, -1.7462557392925255, -2.3433306042719826, -0.5574714680621268, 0.7125922057087234, 0.709555785308249, 1.5876508083553502, -1.0557115951468214, 0.42056797157878995, -1.6991616216509176, 0.7039003209473632, 0.14454012533595098, 1.352757377147084, -0.6035879623453446, 0.7274800691249542, -0.8983221928954063, 0.7011998235137612, -1.0469207731767092, -0.21650716957079683, -0.2288275245869777, 0.9993381258043659, -1.2311548841515694, -0.5274804076228069, -0.6877047486831002, 0.20934430042105764, 1.2564779849253123, 0.3294673953075221, 1.255900250776616, -0.5193008892325174, -0.06741165979455997, -1.0834021867660262, 1.1335311403921011, 0.7801861037662863, -0.2996263227805359, 0.7451519159275286, -0.8027114457470523, 1.2942954747888622, -0.2632261742274699, 1.5242870545704912, -0.9063535187405944, 0.07134433670959506, -0.4579896341837586, 0.7652378935287566, -1.3013707444167233, 0.9578139607872342, -0.43515395155639264, 0.44700821446023037, 0.3154919434012009, -1.3843643663770469, -0.3963047121461804, -1.1195850187543466, -0.6162495255049156, -0.16047808659235244, -0.35823082603392176, -2.83004813388019, 0.39142399755480306, 0.744533277886588, 1.4980898982513313, -0.619242852250382, -0.4117319533653246], \"xaxis\": \"x14\", \"y\": [-0.21990703525130298, -0.049689561602856494, 1.874691874288394, -0.8344382619761017, -2.1306832166983183, 0.6265371213970423, 1.0859168659466991, -1.2275538443974425, 0.1737416706348923, 0.1313789226370697, 0.5432733139223881, -0.800923101057814, 1.069364212002665, -1.2550343787009426, -0.9693542187852816, 1.5146823301906613, -1.7440520979667784, -0.15555580838250746, -0.15357426885738384, 0.07617990754042157, 0.10211693363053963, -0.4197977904468551, 0.4204222270553229, 0.5570848522445528, -0.6302479075854474, -1.250348020882477, 0.23710551015546857, -2.0537553215504007, 1.946339661403928, 1.1816302165587953, -0.26769796940093527, 0.61345143204849, 0.6758589403903051, -0.05442261497368895, 2.383375909628837, -0.5091342041146455, 0.46046540128868396, 1.7898196664899166, 0.3748561083657561, -1.7276525793941506, -0.23782052527179362, -0.6529104499115704, 0.7514155053440179, 1.1140212156781235, 0.687490792165121, 1.084090286853055, -0.5278882089302872, 1.182936057880046, 0.2579147225302808, 1.6464562545497536, -0.7844569442251179, 0.8592546209081057, 0.4062638854490274, -1.217341280649748, 0.5117390597245324, 0.06019083280628012, 1.0719027571543804, 0.7434116572998305, 0.798271370150843, 0.7684015298205931, -0.18975300662138234, -0.11201124865727527, -0.46413736223057067, -0.3248079756849357, 1.0479414654529444, 1.0859161784001026, 0.13590614438951143, -0.55924119638295, 0.20768956589560142, -0.9412307273537324, -0.42894672147291846, -0.2785464227741624, -0.11459123362472971, 0.8827076047639845, -1.2565058546253465, -2.0131896265002966, -0.6340907842744344, 0.49928120531553427, 0.8401612251336205, 0.4921624788130426, 1.1954056514566311, -1.5175520940955796, 0.565002151832653, 0.280048758440951, 1.5753732222327776, -0.3575503125701353, -0.11413093143438113, -0.6141278598016296, -0.21688702505821683, 2.006869774143835, 0.08708816779334472, 0.4480157659652641, -0.4895023583656577, 1.1124777033166462, 0.6561082877525128, -0.7232758310728444, -0.7179877124149497, -0.15909059725174857, 0.5173572513883516, -0.8324054453144404], \"yaxis\": \"y14\"}, {\"line\": {\"color\": \"rgba(128, 128, 128, 1.0)\", \"dash\": \"solid\", \"shape\": \"linear\", \"width\": 1.3}, \"marker\": {\"size\": 2, \"symbol\": \"circle\"}, \"mode\": \"markers\", \"name\": \"D\", \"text\": \"\", \"type\": \"scatter\", \"x\": [-0.19861040847960834, 0.6155622946641103, 1.2872901796916114, 1.4194891172392805, -0.9859017008147671, 0.9245224391726357, 0.6463775059900948, 1.5915671964891147, -0.8977442526038514, 0.9162690220696864, -1.2521648339035634, 0.17108313665856179, -0.8225154247380878, -1.3112593486999171, 0.7407250362390038, 1.4740674690844737, -0.6601150729713889, -0.5578375755191152, -2.1894702900780914, -0.588340431559108, 1.514080440819475, -0.7299235556020048, 0.41897279644500285, -3.4084687990672915, 0.12727543916222567, -0.30773577811794056, 1.0052274973580921, 0.1853485649185546, 0.8988088568141913, -1.1330796491736908, 0.24930224008192384, 0.26609211962146323, 0.7695454139743126, -1.1300590707791835, 0.7650521647342426, -0.24174666204703957, 0.6104774399030497, 1.1039589289977767, 0.20104749596089153, 2.054039108948895, 0.8926354968530256, -0.41355757538879107, 0.08564518468261126, -0.2950978199383714, -0.7073112898905407, -0.35243625691127667, 1.7315352966871789, -0.9251727112524073, -0.14719555622013525, 0.19692953751524125, -1.0681233122552802, 2.070898531533443, 0.5453168572689424, -0.6950352852157083, -0.29259859968830276, -0.333780746340659, 0.5769664028050115, 0.00610747840937299, -0.45505224721921106, 2.1290402969245963, 0.15264552768300563, -0.7143525324642657, 0.3462035753217853, 1.0780227242980152, 2.5649793844775965, 2.0366816733076836, -0.6846342066191933, 0.5343446687775403, 0.615899513547256, 0.9577088956877992, -1.3651264794867468, 0.15631349576486503, -0.9409451543534072, 3.154338073243348, 0.5460296499385444, -0.41687285713806893, -1.3511518821052952, 0.6911227385777586, -0.2992722490310666, 0.09222282804187809, -0.688639694569738, -1.3827311601637085, -0.2901630234637458, 0.4091294128999816, 0.27148182322355857, 0.9898224108699564, -0.04499371876859188, 0.6395090823330405, -1.5924084318925336, -1.4390899668003918, 1.3056851024901948, 0.16097649357923066, 0.7862643341566637, -1.277541998099019, -0.2692318108956053, -0.39034214588907107, -0.9913478404671141, -0.9422513414974476, -0.3527559925160878, 0.7946425075358607], \"xaxis\": \"x15\", \"y\": [-0.21990703525130298, -0.049689561602856494, 1.874691874288394, -0.8344382619761017, -2.1306832166983183, 0.6265371213970423, 1.0859168659466991, -1.2275538443974425, 0.1737416706348923, 0.1313789226370697, 0.5432733139223881, -0.800923101057814, 1.069364212002665, -1.2550343787009426, -0.9693542187852816, 1.5146823301906613, -1.7440520979667784, -0.15555580838250746, -0.15357426885738384, 0.07617990754042157, 0.10211693363053963, -0.4197977904468551, 0.4204222270553229, 0.5570848522445528, -0.6302479075854474, -1.250348020882477, 0.23710551015546857, -2.0537553215504007, 1.946339661403928, 1.1816302165587953, -0.26769796940093527, 0.61345143204849, 0.6758589403903051, -0.05442261497368895, 2.383375909628837, -0.5091342041146455, 0.46046540128868396, 1.7898196664899166, 0.3748561083657561, -1.7276525793941506, -0.23782052527179362, -0.6529104499115704, 0.7514155053440179, 1.1140212156781235, 0.687490792165121, 1.084090286853055, -0.5278882089302872, 1.182936057880046, 0.2579147225302808, 1.6464562545497536, -0.7844569442251179, 0.8592546209081057, 0.4062638854490274, -1.217341280649748, 0.5117390597245324, 0.06019083280628012, 1.0719027571543804, 0.7434116572998305, 0.798271370150843, 0.7684015298205931, -0.18975300662138234, -0.11201124865727527, -0.46413736223057067, -0.3248079756849357, 1.0479414654529444, 1.0859161784001026, 0.13590614438951143, -0.55924119638295, 0.20768956589560142, -0.9412307273537324, -0.42894672147291846, -0.2785464227741624, -0.11459123362472971, 0.8827076047639845, -1.2565058546253465, -2.0131896265002966, -0.6340907842744344, 0.49928120531553427, 0.8401612251336205, 0.4921624788130426, 1.1954056514566311, -1.5175520940955796, 0.565002151832653, 0.280048758440951, 1.5753732222327776, -0.3575503125701353, -0.11413093143438113, -0.6141278598016296, -0.21688702505821683, 2.006869774143835, 0.08708816779334472, 0.4480157659652641, -0.4895023583656577, 1.1124777033166462, 0.6561082877525128, -0.7232758310728444, -0.7179877124149497, -0.15909059725174857, 0.5173572513883516, -0.8324054453144404], \"yaxis\": \"y15\"}, {\"histfunc\": \"count\", \"histnorm\": \"\", \"marker\": {\"color\": \"rgba(128, 0, 128, 1.0)\", \"line\": {\"color\": \"#4D5663\", \"width\": 1.3}}, \"name\": \"D\", \"nbinsx\": 10, \"opacity\": 0.8, \"orientation\": \"v\", \"type\": \"histogram\", \"x\": [-0.21990703525130298, -0.049689561602856494, 1.874691874288394, -0.8344382619761017, -2.1306832166983183, 0.6265371213970423, 1.0859168659466991, -1.2275538443974425, 0.1737416706348923, 0.1313789226370697, 0.5432733139223881, -0.800923101057814, 1.069364212002665, -1.2550343787009426, -0.9693542187852816, 1.5146823301906613, -1.7440520979667784, -0.15555580838250746, -0.15357426885738384, 0.07617990754042157, 0.10211693363053963, -0.4197977904468551, 0.4204222270553229, 0.5570848522445528, -0.6302479075854474, -1.250348020882477, 0.23710551015546857, -2.0537553215504007, 1.946339661403928, 1.1816302165587953, -0.26769796940093527, 0.61345143204849, 0.6758589403903051, -0.05442261497368895, 2.383375909628837, -0.5091342041146455, 0.46046540128868396, 1.7898196664899166, 0.3748561083657561, -1.7276525793941506, -0.23782052527179362, -0.6529104499115704, 0.7514155053440179, 1.1140212156781235, 0.687490792165121, 1.084090286853055, -0.5278882089302872, 1.182936057880046, 0.2579147225302808, 1.6464562545497536, -0.7844569442251179, 0.8592546209081057, 0.4062638854490274, -1.217341280649748, 0.5117390597245324, 0.06019083280628012, 1.0719027571543804, 0.7434116572998305, 0.798271370150843, 0.7684015298205931, -0.18975300662138234, -0.11201124865727527, -0.46413736223057067, -0.3248079756849357, 1.0479414654529444, 1.0859161784001026, 0.13590614438951143, -0.55924119638295, 0.20768956589560142, -0.9412307273537324, -0.42894672147291846, -0.2785464227741624, -0.11459123362472971, 0.8827076047639845, -1.2565058546253465, -2.0131896265002966, -0.6340907842744344, 0.49928120531553427, 0.8401612251336205, 0.4921624788130426, 1.1954056514566311, -1.5175520940955796, 0.565002151832653, 0.280048758440951, 1.5753732222327776, -0.3575503125701353, -0.11413093143438113, -0.6141278598016296, -0.21688702505821683, 2.006869774143835, 0.08708816779334472, 0.4480157659652641, -0.4895023583656577, 1.1124777033166462, 0.6561082877525128, -0.7232758310728444, -0.7179877124149497, -0.15909059725174857, 0.5173572513883516, -0.8324054453144404], \"xaxis\": \"x16\", \"yaxis\": \"y16\"}],\n",
       "                        {\"bargap\": 0.02, \"legend\": {\"bgcolor\": \"#F5F6F9\", \"font\": {\"color\": \"#4D5663\"}}, \"paper_bgcolor\": \"#F5F6F9\", \"plot_bgcolor\": \"#F5F6F9\", \"showlegend\": false, \"template\": {\"data\": {\"bar\": [{\"error_x\": {\"color\": \"#2a3f5f\"}, \"error_y\": {\"color\": \"#2a3f5f\"}, \"marker\": {\"line\": {\"color\": \"#E5ECF6\", \"width\": 0.5}}, \"type\": \"bar\"}], \"barpolar\": [{\"marker\": {\"line\": {\"color\": \"#E5ECF6\", \"width\": 0.5}}, \"type\": \"barpolar\"}], \"carpet\": [{\"aaxis\": {\"endlinecolor\": \"#2a3f5f\", \"gridcolor\": \"white\", \"linecolor\": \"white\", \"minorgridcolor\": \"white\", \"startlinecolor\": \"#2a3f5f\"}, \"baxis\": {\"endlinecolor\": \"#2a3f5f\", \"gridcolor\": \"white\", \"linecolor\": \"white\", \"minorgridcolor\": \"white\", \"startlinecolor\": \"#2a3f5f\"}, \"type\": \"carpet\"}], \"choropleth\": [{\"colorbar\": {\"outlinewidth\": 0, \"ticks\": \"\"}, \"type\": \"choropleth\"}], \"contour\": [{\"colorbar\": {\"outlinewidth\": 0, \"ticks\": \"\"}, \"colorscale\": [[0.0, \"#0d0887\"], [0.1111111111111111, \"#46039f\"], [0.2222222222222222, \"#7201a8\"], [0.3333333333333333, \"#9c179e\"], [0.4444444444444444, \"#bd3786\"], [0.5555555555555556, \"#d8576b\"], [0.6666666666666666, \"#ed7953\"], [0.7777777777777778, \"#fb9f3a\"], [0.8888888888888888, \"#fdca26\"], [1.0, \"#f0f921\"]], \"type\": \"contour\"}], \"contourcarpet\": [{\"colorbar\": {\"outlinewidth\": 0, \"ticks\": \"\"}, \"type\": \"contourcarpet\"}], \"heatmap\": [{\"colorbar\": {\"outlinewidth\": 0, \"ticks\": \"\"}, \"colorscale\": [[0.0, \"#0d0887\"], [0.1111111111111111, \"#46039f\"], [0.2222222222222222, \"#7201a8\"], [0.3333333333333333, \"#9c179e\"], [0.4444444444444444, \"#bd3786\"], [0.5555555555555556, \"#d8576b\"], [0.6666666666666666, \"#ed7953\"], [0.7777777777777778, \"#fb9f3a\"], [0.8888888888888888, \"#fdca26\"], [1.0, \"#f0f921\"]], \"type\": \"heatmap\"}], \"heatmapgl\": [{\"colorbar\": {\"outlinewidth\": 0, \"ticks\": \"\"}, \"colorscale\": [[0.0, \"#0d0887\"], [0.1111111111111111, \"#46039f\"], [0.2222222222222222, \"#7201a8\"], [0.3333333333333333, \"#9c179e\"], [0.4444444444444444, \"#bd3786\"], [0.5555555555555556, \"#d8576b\"], [0.6666666666666666, \"#ed7953\"], [0.7777777777777778, \"#fb9f3a\"], [0.8888888888888888, \"#fdca26\"], [1.0, \"#f0f921\"]], \"type\": \"heatmapgl\"}], \"histogram\": [{\"marker\": {\"colorbar\": {\"outlinewidth\": 0, \"ticks\": \"\"}}, \"type\": \"histogram\"}], \"histogram2d\": [{\"colorbar\": {\"outlinewidth\": 0, \"ticks\": \"\"}, \"colorscale\": [[0.0, \"#0d0887\"], [0.1111111111111111, \"#46039f\"], [0.2222222222222222, \"#7201a8\"], [0.3333333333333333, \"#9c179e\"], [0.4444444444444444, \"#bd3786\"], [0.5555555555555556, \"#d8576b\"], [0.6666666666666666, \"#ed7953\"], [0.7777777777777778, \"#fb9f3a\"], [0.8888888888888888, \"#fdca26\"], [1.0, \"#f0f921\"]], \"type\": \"histogram2d\"}], \"histogram2dcontour\": [{\"colorbar\": {\"outlinewidth\": 0, \"ticks\": \"\"}, \"colorscale\": [[0.0, \"#0d0887\"], [0.1111111111111111, \"#46039f\"], [0.2222222222222222, \"#7201a8\"], [0.3333333333333333, \"#9c179e\"], [0.4444444444444444, \"#bd3786\"], [0.5555555555555556, \"#d8576b\"], [0.6666666666666666, \"#ed7953\"], [0.7777777777777778, \"#fb9f3a\"], [0.8888888888888888, \"#fdca26\"], [1.0, \"#f0f921\"]], \"type\": \"histogram2dcontour\"}], \"mesh3d\": [{\"colorbar\": {\"outlinewidth\": 0, \"ticks\": \"\"}, \"type\": \"mesh3d\"}], \"parcoords\": [{\"line\": {\"colorbar\": {\"outlinewidth\": 0, \"ticks\": \"\"}}, \"type\": \"parcoords\"}], \"pie\": [{\"automargin\": true, \"type\": \"pie\"}], \"scatter\": [{\"marker\": {\"colorbar\": {\"outlinewidth\": 0, \"ticks\": \"\"}}, \"type\": \"scatter\"}], \"scatter3d\": [{\"line\": {\"colorbar\": {\"outlinewidth\": 0, \"ticks\": \"\"}}, \"marker\": {\"colorbar\": {\"outlinewidth\": 0, \"ticks\": \"\"}}, \"type\": \"scatter3d\"}], \"scattercarpet\": [{\"marker\": {\"colorbar\": {\"outlinewidth\": 0, \"ticks\": \"\"}}, \"type\": \"scattercarpet\"}], \"scattergeo\": [{\"marker\": {\"colorbar\": {\"outlinewidth\": 0, \"ticks\": \"\"}}, \"type\": \"scattergeo\"}], \"scattergl\": [{\"marker\": {\"colorbar\": {\"outlinewidth\": 0, \"ticks\": \"\"}}, \"type\": \"scattergl\"}], \"scattermapbox\": [{\"marker\": {\"colorbar\": {\"outlinewidth\": 0, \"ticks\": \"\"}}, \"type\": \"scattermapbox\"}], \"scatterpolar\": [{\"marker\": {\"colorbar\": {\"outlinewidth\": 0, \"ticks\": \"\"}}, \"type\": \"scatterpolar\"}], \"scatterpolargl\": [{\"marker\": {\"colorbar\": {\"outlinewidth\": 0, \"ticks\": \"\"}}, \"type\": \"scatterpolargl\"}], \"scatterternary\": [{\"marker\": {\"colorbar\": {\"outlinewidth\": 0, \"ticks\": \"\"}}, \"type\": \"scatterternary\"}], \"surface\": [{\"colorbar\": {\"outlinewidth\": 0, \"ticks\": \"\"}, \"colorscale\": [[0.0, \"#0d0887\"], [0.1111111111111111, \"#46039f\"], [0.2222222222222222, \"#7201a8\"], [0.3333333333333333, \"#9c179e\"], [0.4444444444444444, \"#bd3786\"], [0.5555555555555556, \"#d8576b\"], [0.6666666666666666, \"#ed7953\"], [0.7777777777777778, \"#fb9f3a\"], [0.8888888888888888, \"#fdca26\"], [1.0, \"#f0f921\"]], \"type\": \"surface\"}], \"table\": [{\"cells\": {\"fill\": {\"color\": \"#EBF0F8\"}, \"line\": {\"color\": \"white\"}}, \"header\": {\"fill\": {\"color\": \"#C8D4E3\"}, \"line\": {\"color\": \"white\"}}, \"type\": \"table\"}]}, \"layout\": {\"annotationdefaults\": {\"arrowcolor\": \"#2a3f5f\", \"arrowhead\": 0, \"arrowwidth\": 1}, \"coloraxis\": {\"colorbar\": {\"outlinewidth\": 0, \"ticks\": \"\"}}, \"colorscale\": {\"diverging\": [[0, \"#8e0152\"], [0.1, \"#c51b7d\"], [0.2, \"#de77ae\"], [0.3, \"#f1b6da\"], [0.4, \"#fde0ef\"], [0.5, \"#f7f7f7\"], [0.6, \"#e6f5d0\"], [0.7, \"#b8e186\"], [0.8, \"#7fbc41\"], [0.9, \"#4d9221\"], [1, \"#276419\"]], \"sequential\": [[0.0, \"#0d0887\"], [0.1111111111111111, \"#46039f\"], [0.2222222222222222, \"#7201a8\"], [0.3333333333333333, \"#9c179e\"], [0.4444444444444444, \"#bd3786\"], [0.5555555555555556, \"#d8576b\"], [0.6666666666666666, \"#ed7953\"], [0.7777777777777778, \"#fb9f3a\"], [0.8888888888888888, \"#fdca26\"], [1.0, \"#f0f921\"]], \"sequentialminus\": [[0.0, \"#0d0887\"], [0.1111111111111111, \"#46039f\"], [0.2222222222222222, \"#7201a8\"], [0.3333333333333333, \"#9c179e\"], [0.4444444444444444, \"#bd3786\"], [0.5555555555555556, \"#d8576b\"], [0.6666666666666666, \"#ed7953\"], [0.7777777777777778, \"#fb9f3a\"], [0.8888888888888888, \"#fdca26\"], [1.0, \"#f0f921\"]]}, \"colorway\": [\"#636efa\", \"#EF553B\", \"#00cc96\", \"#ab63fa\", \"#FFA15A\", \"#19d3f3\", \"#FF6692\", \"#B6E880\", \"#FF97FF\", \"#FECB52\"], \"font\": {\"color\": \"#2a3f5f\"}, \"geo\": {\"bgcolor\": \"white\", \"lakecolor\": \"white\", \"landcolor\": \"#E5ECF6\", \"showlakes\": true, \"showland\": true, \"subunitcolor\": \"white\"}, \"hoverlabel\": {\"align\": \"left\"}, \"hovermode\": \"closest\", \"mapbox\": {\"style\": \"light\"}, \"paper_bgcolor\": \"white\", \"plot_bgcolor\": \"#E5ECF6\", \"polar\": {\"angularaxis\": {\"gridcolor\": \"white\", \"linecolor\": \"white\", \"ticks\": \"\"}, \"bgcolor\": \"#E5ECF6\", \"radialaxis\": {\"gridcolor\": \"white\", \"linecolor\": \"white\", \"ticks\": \"\"}}, \"scene\": {\"xaxis\": {\"backgroundcolor\": \"#E5ECF6\", \"gridcolor\": \"white\", \"gridwidth\": 2, \"linecolor\": \"white\", \"showbackground\": true, \"ticks\": \"\", \"zerolinecolor\": \"white\"}, \"yaxis\": {\"backgroundcolor\": \"#E5ECF6\", \"gridcolor\": \"white\", \"gridwidth\": 2, \"linecolor\": \"white\", \"showbackground\": true, \"ticks\": \"\", \"zerolinecolor\": \"white\"}, \"zaxis\": {\"backgroundcolor\": \"#E5ECF6\", \"gridcolor\": \"white\", \"gridwidth\": 2, \"linecolor\": \"white\", \"showbackground\": true, \"ticks\": \"\", \"zerolinecolor\": \"white\"}}, \"shapedefaults\": {\"line\": {\"color\": \"#2a3f5f\"}}, \"ternary\": {\"aaxis\": {\"gridcolor\": \"white\", \"linecolor\": \"white\", \"ticks\": \"\"}, \"baxis\": {\"gridcolor\": \"white\", \"linecolor\": \"white\", \"ticks\": \"\"}, \"bgcolor\": \"#E5ECF6\", \"caxis\": {\"gridcolor\": \"white\", \"linecolor\": \"white\", \"ticks\": \"\"}}, \"title\": {\"x\": 0.05}, \"xaxis\": {\"automargin\": true, \"gridcolor\": \"white\", \"linecolor\": \"white\", \"ticks\": \"\", \"title\": {\"standoff\": 15}, \"zerolinecolor\": \"white\", \"zerolinewidth\": 2}, \"yaxis\": {\"automargin\": true, \"gridcolor\": \"white\", \"linecolor\": \"white\", \"ticks\": \"\", \"title\": {\"standoff\": 15}, \"zerolinecolor\": \"white\", \"zerolinewidth\": 2}}}, \"title\": {\"font\": {\"color\": \"#4D5663\"}}, \"xaxis\": {\"anchor\": \"y\", \"domain\": [0.0, 0.2125], \"gridcolor\": \"#E1E5ED\", \"showgrid\": false, \"tickfont\": {\"color\": \"#4D5663\"}, \"title\": {\"font\": {\"color\": \"#4D5663\"}, \"text\": \"\"}, \"zerolinecolor\": \"#E1E5ED\"}, \"xaxis10\": {\"anchor\": \"y10\", \"domain\": [0.2625, 0.475], \"gridcolor\": \"#E1E5ED\", \"showgrid\": false, \"tickfont\": {\"color\": \"#4D5663\"}, \"title\": {\"font\": {\"color\": \"#4D5663\"}, \"text\": \"\"}, \"zerolinecolor\": \"#E1E5ED\"}, \"xaxis11\": {\"anchor\": \"y11\", \"domain\": [0.525, 0.7375], \"gridcolor\": \"#E1E5ED\", \"showgrid\": false, \"tickfont\": {\"color\": \"#4D5663\"}, \"title\": {\"font\": {\"color\": \"#4D5663\"}, \"text\": \"\"}, \"zerolinecolor\": \"#E1E5ED\"}, \"xaxis12\": {\"anchor\": \"y12\", \"domain\": [0.7875, 1.0], \"gridcolor\": \"#E1E5ED\", \"showgrid\": false, \"tickfont\": {\"color\": \"#4D5663\"}, \"title\": {\"font\": {\"color\": \"#4D5663\"}, \"text\": \"\"}, \"zerolinecolor\": \"#E1E5ED\"}, \"xaxis13\": {\"anchor\": \"y13\", \"domain\": [0.0, 0.2125], \"gridcolor\": \"#E1E5ED\", \"showgrid\": false, \"tickfont\": {\"color\": \"#4D5663\"}, \"title\": {\"font\": {\"color\": \"#4D5663\"}, \"text\": \"\"}, \"zerolinecolor\": \"#E1E5ED\"}, \"xaxis14\": {\"anchor\": \"y14\", \"domain\": [0.2625, 0.475], \"gridcolor\": \"#E1E5ED\", \"showgrid\": false, \"tickfont\": {\"color\": \"#4D5663\"}, \"title\": {\"font\": {\"color\": \"#4D5663\"}, \"text\": \"\"}, \"zerolinecolor\": \"#E1E5ED\"}, \"xaxis15\": {\"anchor\": \"y15\", \"domain\": [0.525, 0.7375], \"gridcolor\": \"#E1E5ED\", \"showgrid\": false, \"tickfont\": {\"color\": \"#4D5663\"}, \"title\": {\"font\": {\"color\": \"#4D5663\"}, \"text\": \"\"}, \"zerolinecolor\": \"#E1E5ED\"}, \"xaxis16\": {\"anchor\": \"y16\", \"domain\": [0.7875, 1.0], \"gridcolor\": \"#E1E5ED\", \"showgrid\": false, \"tickfont\": {\"color\": \"#4D5663\"}, \"title\": {\"font\": {\"color\": \"#4D5663\"}, \"text\": \"\"}, \"zerolinecolor\": \"#E1E5ED\"}, \"xaxis2\": {\"anchor\": \"y2\", \"domain\": [0.2625, 0.475], \"gridcolor\": \"#E1E5ED\", \"showgrid\": false, \"tickfont\": {\"color\": \"#4D5663\"}, \"title\": {\"font\": {\"color\": \"#4D5663\"}, \"text\": \"\"}, \"zerolinecolor\": \"#E1E5ED\"}, \"xaxis3\": {\"anchor\": \"y3\", \"domain\": [0.525, 0.7375], \"gridcolor\": \"#E1E5ED\", \"showgrid\": false, \"tickfont\": {\"color\": \"#4D5663\"}, \"title\": {\"font\": {\"color\": \"#4D5663\"}, \"text\": \"\"}, \"zerolinecolor\": \"#E1E5ED\"}, \"xaxis4\": {\"anchor\": \"y4\", \"domain\": [0.7875, 1.0], \"gridcolor\": \"#E1E5ED\", \"showgrid\": false, \"tickfont\": {\"color\": \"#4D5663\"}, \"title\": {\"font\": {\"color\": \"#4D5663\"}, \"text\": \"\"}, \"zerolinecolor\": \"#E1E5ED\"}, \"xaxis5\": {\"anchor\": \"y5\", \"domain\": [0.0, 0.2125], \"gridcolor\": \"#E1E5ED\", \"showgrid\": false, \"tickfont\": {\"color\": \"#4D5663\"}, \"title\": {\"font\": {\"color\": \"#4D5663\"}, \"text\": \"\"}, \"zerolinecolor\": \"#E1E5ED\"}, \"xaxis6\": {\"anchor\": \"y6\", \"domain\": [0.2625, 0.475], \"gridcolor\": \"#E1E5ED\", \"showgrid\": false, \"tickfont\": {\"color\": \"#4D5663\"}, \"title\": {\"font\": {\"color\": \"#4D5663\"}, \"text\": \"\"}, \"zerolinecolor\": \"#E1E5ED\"}, \"xaxis7\": {\"anchor\": \"y7\", \"domain\": [0.525, 0.7375], \"gridcolor\": \"#E1E5ED\", \"showgrid\": false, \"tickfont\": {\"color\": \"#4D5663\"}, \"title\": {\"font\": {\"color\": \"#4D5663\"}, \"text\": \"\"}, \"zerolinecolor\": \"#E1E5ED\"}, \"xaxis8\": {\"anchor\": \"y8\", \"domain\": [0.7875, 1.0], \"gridcolor\": \"#E1E5ED\", \"showgrid\": false, \"tickfont\": {\"color\": \"#4D5663\"}, \"title\": {\"font\": {\"color\": \"#4D5663\"}, \"text\": \"\"}, \"zerolinecolor\": \"#E1E5ED\"}, \"xaxis9\": {\"anchor\": \"y9\", \"domain\": [0.0, 0.2125], \"gridcolor\": \"#E1E5ED\", \"showgrid\": false, \"tickfont\": {\"color\": \"#4D5663\"}, \"title\": {\"font\": {\"color\": \"#4D5663\"}, \"text\": \"\"}, \"zerolinecolor\": \"#E1E5ED\"}, \"yaxis\": {\"anchor\": \"x\", \"domain\": [0.8025, 1.0], \"gridcolor\": \"#E1E5ED\", \"showgrid\": false, \"tickfont\": {\"color\": \"#4D5663\"}, \"title\": {\"font\": {\"color\": \"#4D5663\"}, \"text\": \"\"}, \"zerolinecolor\": \"#E1E5ED\"}, \"yaxis10\": {\"anchor\": \"x10\", \"domain\": [0.2675, 0.465], \"gridcolor\": \"#E1E5ED\", \"showgrid\": false, \"tickfont\": {\"color\": \"#4D5663\"}, \"title\": {\"font\": {\"color\": \"#4D5663\"}, \"text\": \"\"}, \"zerolinecolor\": \"#E1E5ED\"}, \"yaxis11\": {\"anchor\": \"x11\", \"domain\": [0.2675, 0.465], \"gridcolor\": \"#E1E5ED\", \"showgrid\": false, \"tickfont\": {\"color\": \"#4D5663\"}, \"title\": {\"font\": {\"color\": \"#4D5663\"}, \"text\": \"\"}, \"zerolinecolor\": \"#E1E5ED\"}, \"yaxis12\": {\"anchor\": \"x12\", \"domain\": [0.2675, 0.465], \"gridcolor\": \"#E1E5ED\", \"showgrid\": false, \"tickfont\": {\"color\": \"#4D5663\"}, \"title\": {\"font\": {\"color\": \"#4D5663\"}, \"text\": \"\"}, \"zerolinecolor\": \"#E1E5ED\"}, \"yaxis13\": {\"anchor\": \"x13\", \"domain\": [0.0, 0.1975], \"gridcolor\": \"#E1E5ED\", \"showgrid\": false, \"tickfont\": {\"color\": \"#4D5663\"}, \"title\": {\"font\": {\"color\": \"#4D5663\"}, \"text\": \"\"}, \"zerolinecolor\": \"#E1E5ED\"}, \"yaxis14\": {\"anchor\": \"x14\", \"domain\": [0.0, 0.1975], \"gridcolor\": \"#E1E5ED\", \"showgrid\": false, \"tickfont\": {\"color\": \"#4D5663\"}, \"title\": {\"font\": {\"color\": \"#4D5663\"}, \"text\": \"\"}, \"zerolinecolor\": \"#E1E5ED\"}, \"yaxis15\": {\"anchor\": \"x15\", \"domain\": [0.0, 0.1975], \"gridcolor\": \"#E1E5ED\", \"showgrid\": false, \"tickfont\": {\"color\": \"#4D5663\"}, \"title\": {\"font\": {\"color\": \"#4D5663\"}, \"text\": \"\"}, \"zerolinecolor\": \"#E1E5ED\"}, \"yaxis16\": {\"anchor\": \"x16\", \"domain\": [0.0, 0.1975], \"gridcolor\": \"#E1E5ED\", \"showgrid\": false, \"tickfont\": {\"color\": \"#4D5663\"}, \"title\": {\"font\": {\"color\": \"#4D5663\"}, \"text\": \"\"}, \"zerolinecolor\": \"#E1E5ED\"}, \"yaxis2\": {\"anchor\": \"x2\", \"domain\": [0.8025, 1.0], \"gridcolor\": \"#E1E5ED\", \"showgrid\": false, \"tickfont\": {\"color\": \"#4D5663\"}, \"title\": {\"font\": {\"color\": \"#4D5663\"}, \"text\": \"\"}, \"zerolinecolor\": \"#E1E5ED\"}, \"yaxis3\": {\"anchor\": \"x3\", \"domain\": [0.8025, 1.0], \"gridcolor\": \"#E1E5ED\", \"showgrid\": false, \"tickfont\": {\"color\": \"#4D5663\"}, \"title\": {\"font\": {\"color\": \"#4D5663\"}, \"text\": \"\"}, \"zerolinecolor\": \"#E1E5ED\"}, \"yaxis4\": {\"anchor\": \"x4\", \"domain\": [0.8025, 1.0], \"gridcolor\": \"#E1E5ED\", \"showgrid\": false, \"tickfont\": {\"color\": \"#4D5663\"}, \"title\": {\"font\": {\"color\": \"#4D5663\"}, \"text\": \"\"}, \"zerolinecolor\": \"#E1E5ED\"}, \"yaxis5\": {\"anchor\": \"x5\", \"domain\": [0.535, 0.7325], \"gridcolor\": \"#E1E5ED\", \"showgrid\": false, \"tickfont\": {\"color\": \"#4D5663\"}, \"title\": {\"font\": {\"color\": \"#4D5663\"}, \"text\": \"\"}, \"zerolinecolor\": \"#E1E5ED\"}, \"yaxis6\": {\"anchor\": \"x6\", \"domain\": [0.535, 0.7325], \"gridcolor\": \"#E1E5ED\", \"showgrid\": false, \"tickfont\": {\"color\": \"#4D5663\"}, \"title\": {\"font\": {\"color\": \"#4D5663\"}, \"text\": \"\"}, \"zerolinecolor\": \"#E1E5ED\"}, \"yaxis7\": {\"anchor\": \"x7\", \"domain\": [0.535, 0.7325], \"gridcolor\": \"#E1E5ED\", \"showgrid\": false, \"tickfont\": {\"color\": \"#4D5663\"}, \"title\": {\"font\": {\"color\": \"#4D5663\"}, \"text\": \"\"}, \"zerolinecolor\": \"#E1E5ED\"}, \"yaxis8\": {\"anchor\": \"x8\", \"domain\": [0.535, 0.7325], \"gridcolor\": \"#E1E5ED\", \"showgrid\": false, \"tickfont\": {\"color\": \"#4D5663\"}, \"title\": {\"font\": {\"color\": \"#4D5663\"}, \"text\": \"\"}, \"zerolinecolor\": \"#E1E5ED\"}, \"yaxis9\": {\"anchor\": \"x9\", \"domain\": [0.2675, 0.465], \"gridcolor\": \"#E1E5ED\", \"showgrid\": false, \"tickfont\": {\"color\": \"#4D5663\"}, \"title\": {\"font\": {\"color\": \"#4D5663\"}, \"text\": \"\"}, \"zerolinecolor\": \"#E1E5ED\"}},\n",
       "                        {\"showLink\": true, \"linkText\": \"Export to plot.ly\", \"plotlyServerURL\": \"https://plot.ly\", \"responsive\": true}\n",
       "                    ).then(function(){\n",
       "                            \n",
       "var gd = document.getElementById('e5c85abd-3b7e-4b36-b327-6df0981c292f');\n",
       "var x = new MutationObserver(function (mutations, observer) {{\n",
       "        var display = window.getComputedStyle(gd).display;\n",
       "        if (!display || display === 'none') {{\n",
       "            console.log([gd, 'removed!']);\n",
       "            Plotly.purge(gd);\n",
       "            observer.disconnect();\n",
       "        }}\n",
       "}});\n",
       "\n",
       "// Listen for the removal of the full notebook cells\n",
       "var notebookContainer = gd.closest('#notebook-container');\n",
       "if (notebookContainer) {{\n",
       "    x.observe(notebookContainer, {childList: true});\n",
       "}}\n",
       "\n",
       "// Listen for the clearing of the current output cell\n",
       "var outputEl = gd.closest('.output');\n",
       "if (outputEl) {{\n",
       "    x.observe(outputEl, {childList: true});\n",
       "}}\n",
       "\n",
       "                        })\n",
       "                };\n",
       "                });\n",
       "            </script>\n",
       "        </div>"
      ]
     },
     "metadata": {},
     "output_type": "display_data"
    }
   ],
   "source": [
    "df.scatter_matrix()"
   ]
  }
 ],
 "metadata": {
  "kernelspec": {
   "display_name": "Python 3",
   "language": "python",
   "name": "python3"
  },
  "language_info": {
   "codemirror_mode": {
    "name": "ipython",
    "version": 3
   },
   "file_extension": ".py",
   "mimetype": "text/x-python",
   "name": "python",
   "nbconvert_exporter": "python",
   "pygments_lexer": "ipython3",
   "version": "3.7.6"
  }
 },
 "nbformat": 4,
 "nbformat_minor": 1
}
